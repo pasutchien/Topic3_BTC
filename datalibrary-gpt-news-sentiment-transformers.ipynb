{
 "cells": [
  {
   "attachments": {},
   "cell_type": "markdown",
   "metadata": {},
   "source": [
    "# [AI-Driven Stock Insights: Analyzing Financial News with LLM](https://developers.lseg.com/en/article-catalog/article/ai-driven-stock-insights--analyzing-financial-news-with-llms)\n",
    "# Import Libraries"
   ]
  },
  {
   "cell_type": "code",
   "execution_count": 63,
   "metadata": {},
   "outputs": [
    {
     "name": "stdout",
     "output_type": "stream",
     "text": [
      "Requirement already satisfied: yfinance in c:\\users\\nitro\\appdata\\local\\programs\\python\\python310\\lib\\site-packages (0.2.55)\n",
      "Requirement already satisfied: pandas>=1.3.0 in c:\\users\\nitro\\appdata\\local\\programs\\python\\python310\\lib\\site-packages (from yfinance) (2.0.2)\n",
      "Requirement already satisfied: numpy>=1.16.5 in c:\\users\\nitro\\appdata\\local\\programs\\python\\python310\\lib\\site-packages (from yfinance) (1.23.4)\n",
      "Requirement already satisfied: requests>=2.31 in c:\\users\\nitro\\appdata\\local\\programs\\python\\python310\\lib\\site-packages (from yfinance) (2.31.0)\n",
      "Requirement already satisfied: multitasking>=0.0.7 in c:\\users\\nitro\\appdata\\local\\programs\\python\\python310\\lib\\site-packages (from yfinance) (0.0.11)\n",
      "Requirement already satisfied: platformdirs>=2.0.0 in c:\\users\\nitro\\appdata\\roaming\\python\\python310\\site-packages (from yfinance) (4.3.6)\n",
      "Requirement already satisfied: pytz>=2022.5 in c:\\users\\nitro\\appdata\\local\\programs\\python\\python310\\lib\\site-packages (from yfinance) (2024.2)\n",
      "Requirement already satisfied: frozendict>=2.3.4 in c:\\users\\nitro\\appdata\\local\\programs\\python\\python310\\lib\\site-packages (from yfinance) (2.4.6)\n",
      "Requirement already satisfied: peewee>=3.16.2 in c:\\users\\nitro\\appdata\\local\\programs\\python\\python310\\lib\\site-packages (from yfinance) (3.17.9)\n",
      "Requirement already satisfied: beautifulsoup4>=4.11.1 in c:\\users\\nitro\\appdata\\local\\programs\\python\\python310\\lib\\site-packages (from yfinance) (4.13.3)\n",
      "Requirement already satisfied: soupsieve>1.2 in c:\\users\\nitro\\appdata\\local\\programs\\python\\python310\\lib\\site-packages (from beautifulsoup4>=4.11.1->yfinance) (2.6)\n",
      "Requirement already satisfied: typing-extensions>=4.0.0 in c:\\users\\nitro\\appdata\\roaming\\python\\python310\\site-packages (from beautifulsoup4>=4.11.1->yfinance) (4.12.2)\n",
      "Requirement already satisfied: python-dateutil>=2.8.2 in c:\\users\\nitro\\appdata\\roaming\\python\\python310\\site-packages (from pandas>=1.3.0->yfinance) (2.9.0.post0)\n",
      "Requirement already satisfied: tzdata>=2022.1 in c:\\users\\nitro\\appdata\\local\\programs\\python\\python310\\lib\\site-packages (from pandas>=1.3.0->yfinance) (2024.2)\n",
      "Requirement already satisfied: charset-normalizer<4,>=2 in c:\\users\\nitro\\appdata\\local\\programs\\python\\python310\\lib\\site-packages (from requests>=2.31->yfinance) (3.3.2)\n",
      "Requirement already satisfied: idna<4,>=2.5 in c:\\users\\nitro\\appdata\\local\\programs\\python\\python310\\lib\\site-packages (from requests>=2.31->yfinance) (3.6)\n",
      "Requirement already satisfied: urllib3<3,>=1.21.1 in c:\\users\\nitro\\appdata\\local\\programs\\python\\python310\\lib\\site-packages (from requests>=2.31->yfinance) (2.1.0)\n",
      "Requirement already satisfied: certifi>=2017.4.17 in c:\\users\\nitro\\appdata\\local\\programs\\python\\python310\\lib\\site-packages (from requests>=2.31->yfinance) (2023.11.17)\n",
      "Requirement already satisfied: six>=1.5 in c:\\users\\nitro\\appdata\\roaming\\python\\python310\\site-packages (from python-dateutil>=2.8.2->pandas>=1.3.0->yfinance) (1.16.0)\n",
      "Requirement already satisfied: nbformat in c:\\users\\nitro\\appdata\\local\\programs\\python\\python310\\lib\\site-packages (5.10.4)\n",
      "Requirement already satisfied: fastjsonschema>=2.15 in c:\\users\\nitro\\appdata\\local\\programs\\python\\python310\\lib\\site-packages (from nbformat) (2.21.1)\n",
      "Requirement already satisfied: jsonschema>=2.6 in c:\\users\\nitro\\appdata\\local\\programs\\python\\python310\\lib\\site-packages (from nbformat) (4.23.0)\n",
      "Requirement already satisfied: jupyter-core!=5.0.*,>=4.12 in c:\\users\\nitro\\appdata\\roaming\\python\\python310\\site-packages (from nbformat) (5.7.2)\n",
      "Requirement already satisfied: traitlets>=5.1 in c:\\users\\nitro\\appdata\\roaming\\python\\python310\\site-packages (from nbformat) (5.14.3)\n",
      "Requirement already satisfied: attrs>=22.2.0 in c:\\users\\nitro\\appdata\\local\\programs\\python\\python310\\lib\\site-packages (from jsonschema>=2.6->nbformat) (25.3.0)\n",
      "Requirement already satisfied: jsonschema-specifications>=2023.03.6 in c:\\users\\nitro\\appdata\\local\\programs\\python\\python310\\lib\\site-packages (from jsonschema>=2.6->nbformat) (2024.10.1)\n",
      "Requirement already satisfied: referencing>=0.28.4 in c:\\users\\nitro\\appdata\\local\\programs\\python\\python310\\lib\\site-packages (from jsonschema>=2.6->nbformat) (0.36.2)\n",
      "Requirement already satisfied: rpds-py>=0.7.1 in c:\\users\\nitro\\appdata\\local\\programs\\python\\python310\\lib\\site-packages (from jsonschema>=2.6->nbformat) (0.23.1)\n",
      "Requirement already satisfied: platformdirs>=2.5 in c:\\users\\nitro\\appdata\\roaming\\python\\python310\\site-packages (from jupyter-core!=5.0.*,>=4.12->nbformat) (4.3.6)\n",
      "Requirement already satisfied: pywin32>=300 in c:\\users\\nitro\\appdata\\roaming\\python\\python310\\site-packages (from jupyter-core!=5.0.*,>=4.12->nbformat) (307)\n",
      "Requirement already satisfied: typing-extensions>=4.4.0 in c:\\users\\nitro\\appdata\\roaming\\python\\python310\\site-packages (from referencing>=0.28.4->jsonschema>=2.6->nbformat) (4.12.2)\n",
      "Requirement already satisfied: nbformat in c:\\users\\nitro\\appdata\\local\\programs\\python\\python310\\lib\\site-packages (5.10.4)\n",
      "Requirement already satisfied: fastjsonschema>=2.15 in c:\\users\\nitro\\appdata\\local\\programs\\python\\python310\\lib\\site-packages (from nbformat) (2.21.1)\n",
      "Requirement already satisfied: jsonschema>=2.6 in c:\\users\\nitro\\appdata\\local\\programs\\python\\python310\\lib\\site-packages (from nbformat) (4.23.0)\n",
      "Requirement already satisfied: jupyter-core!=5.0.*,>=4.12 in c:\\users\\nitro\\appdata\\roaming\\python\\python310\\site-packages (from nbformat) (5.7.2)\n",
      "Requirement already satisfied: traitlets>=5.1 in c:\\users\\nitro\\appdata\\roaming\\python\\python310\\site-packages (from nbformat) (5.14.3)\n",
      "Requirement already satisfied: attrs>=22.2.0 in c:\\users\\nitro\\appdata\\local\\programs\\python\\python310\\lib\\site-packages (from jsonschema>=2.6->nbformat) (25.3.0)\n",
      "Requirement already satisfied: jsonschema-specifications>=2023.03.6 in c:\\users\\nitro\\appdata\\local\\programs\\python\\python310\\lib\\site-packages (from jsonschema>=2.6->nbformat) (2024.10.1)\n",
      "Requirement already satisfied: referencing>=0.28.4 in c:\\users\\nitro\\appdata\\local\\programs\\python\\python310\\lib\\site-packages (from jsonschema>=2.6->nbformat) (0.36.2)\n",
      "Requirement already satisfied: rpds-py>=0.7.1 in c:\\users\\nitro\\appdata\\local\\programs\\python\\python310\\lib\\site-packages (from jsonschema>=2.6->nbformat) (0.23.1)\n",
      "Requirement already satisfied: platformdirs>=2.5 in c:\\users\\nitro\\appdata\\roaming\\python\\python310\\site-packages (from jupyter-core!=5.0.*,>=4.12->nbformat) (4.3.6)\n",
      "Requirement already satisfied: pywin32>=300 in c:\\users\\nitro\\appdata\\roaming\\python\\python310\\site-packages (from jupyter-core!=5.0.*,>=4.12->nbformat) (307)\n",
      "Requirement already satisfied: typing-extensions>=4.4.0 in c:\\users\\nitro\\appdata\\roaming\\python\\python310\\site-packages (from referencing>=0.28.4->jsonschema>=2.6->nbformat) (4.12.2)\n"
     ]
    }
   ],
   "source": [
    "!pip install yfinance\n",
    "!pip install nbformat\n",
    "!pip install --upgrade nbformat\n"
   ]
  },
  {
   "cell_type": "code",
   "execution_count": 1,
   "metadata": {
    "id": "WVBOqRwJ8p7Y"
   },
   "outputs": [
    {
     "name": "stderr",
     "output_type": "stream",
     "text": [
      "c:\\Users\\Nitro\\AppData\\Local\\Programs\\Python\\Python310\\lib\\site-packages\\transformers\\data\\metrics\\__init__.py:19: UserWarning: A NumPy version >=1.23.5 and <2.3.0 is required for this version of SciPy (detected version 1.23.4)\n",
      "  from scipy.stats import pearsonr, spearmanr\n"
     ]
    }
   ],
   "source": [
    "from transformers import BertTokenizer, BertForSequenceClassification\n",
    "from transformers import pipeline\n",
    "\n",
    "from datetime import datetime, timedelta\n",
    "import time\n",
    "\n",
    "import numpy as np\n",
    "import pandas as pd\n",
    "pd.set_option('display.max_colwidth', None)\n",
    "import plotly.express as px\n",
    "import tqdm\n",
    "import yfinance as yf\n",
    "tqdm.tqdm.pandas()"
   ]
  },
  {
   "cell_type": "markdown",
   "metadata": {},
   "source": [
    "# BTC Stock Price History"
   ]
  },
  {
   "cell_type": "code",
   "execution_count": 2,
   "metadata": {},
   "outputs": [
    {
     "name": "stdout",
     "output_type": "stream",
     "text": [
      "start date is: 2024-05-29\n",
      "end date is: 2025-03-25 (today)\n"
     ]
    }
   ],
   "source": [
    "d_now = datetime.now().date()\n",
    "max_end_date = d_now - timedelta(days=300) # upto months=15\n",
    "print(f'start date is: {max_end_date}\\nend date is: {d_now} (today)')"
   ]
  },
  {
   "cell_type": "code",
   "execution_count": 3,
   "metadata": {},
   "outputs": [],
   "source": [
    "\n",
    "stock = yf.Ticker('BTC-USD')\n",
    "start_date = max_end_date\n",
    "end_date = d_now\n",
    "hist = stock.history(start=start_date, end=end_date)\n",
    "hist_df = pd.DataFrame(hist)"
   ]
  },
  {
   "cell_type": "code",
   "execution_count": 4,
   "metadata": {},
   "outputs": [
    {
     "data": {
      "text/html": [
       "<div>\n",
       "<style scoped>\n",
       "    .dataframe tbody tr th:only-of-type {\n",
       "        vertical-align: middle;\n",
       "    }\n",
       "\n",
       "    .dataframe tbody tr th {\n",
       "        vertical-align: top;\n",
       "    }\n",
       "\n",
       "    .dataframe thead th {\n",
       "        text-align: right;\n",
       "    }\n",
       "</style>\n",
       "<table border=\"1\" class=\"dataframe\">\n",
       "  <thead>\n",
       "    <tr style=\"text-align: right;\">\n",
       "      <th></th>\n",
       "      <th>Open</th>\n",
       "      <th>High</th>\n",
       "      <th>Low</th>\n",
       "      <th>Close</th>\n",
       "      <th>Volume</th>\n",
       "      <th>Dividends</th>\n",
       "      <th>Stock Splits</th>\n",
       "    </tr>\n",
       "    <tr>\n",
       "      <th>Date</th>\n",
       "      <th></th>\n",
       "      <th></th>\n",
       "      <th></th>\n",
       "      <th></th>\n",
       "      <th></th>\n",
       "      <th></th>\n",
       "      <th></th>\n",
       "    </tr>\n",
       "  </thead>\n",
       "  <tbody>\n",
       "    <tr>\n",
       "      <th>2024-05-29 00:00:00+00:00</th>\n",
       "      <td>68296.351562</td>\n",
       "      <td>68852.460938</td>\n",
       "      <td>67101.492188</td>\n",
       "      <td>67578.093750</td>\n",
       "      <td>26707072906</td>\n",
       "      <td>0.0</td>\n",
       "      <td>0.0</td>\n",
       "    </tr>\n",
       "    <tr>\n",
       "      <th>2024-05-30 00:00:00+00:00</th>\n",
       "      <td>67576.085938</td>\n",
       "      <td>69500.539062</td>\n",
       "      <td>67118.078125</td>\n",
       "      <td>68364.992188</td>\n",
       "      <td>29509712534</td>\n",
       "      <td>0.0</td>\n",
       "      <td>0.0</td>\n",
       "    </tr>\n",
       "    <tr>\n",
       "      <th>2024-05-31 00:00:00+00:00</th>\n",
       "      <td>68362.515625</td>\n",
       "      <td>68999.562500</td>\n",
       "      <td>66633.421875</td>\n",
       "      <td>67491.414062</td>\n",
       "      <td>27387283769</td>\n",
       "      <td>0.0</td>\n",
       "      <td>0.0</td>\n",
       "    </tr>\n",
       "    <tr>\n",
       "      <th>2024-06-01 00:00:00+00:00</th>\n",
       "      <td>67489.609375</td>\n",
       "      <td>67839.765625</td>\n",
       "      <td>67386.195312</td>\n",
       "      <td>67706.937500</td>\n",
       "      <td>11641495604</td>\n",
       "      <td>0.0</td>\n",
       "      <td>0.0</td>\n",
       "    </tr>\n",
       "    <tr>\n",
       "      <th>2024-06-02 00:00:00+00:00</th>\n",
       "      <td>67710.273438</td>\n",
       "      <td>68409.164062</td>\n",
       "      <td>67315.523438</td>\n",
       "      <td>67751.601562</td>\n",
       "      <td>17110588415</td>\n",
       "      <td>0.0</td>\n",
       "      <td>0.0</td>\n",
       "    </tr>\n",
       "    <tr>\n",
       "      <th>...</th>\n",
       "      <td>...</td>\n",
       "      <td>...</td>\n",
       "      <td>...</td>\n",
       "      <td>...</td>\n",
       "      <td>...</td>\n",
       "      <td>...</td>\n",
       "      <td>...</td>\n",
       "    </tr>\n",
       "    <tr>\n",
       "      <th>2025-03-20 00:00:00+00:00</th>\n",
       "      <td>86872.953125</td>\n",
       "      <td>87443.265625</td>\n",
       "      <td>83647.195312</td>\n",
       "      <td>84167.195312</td>\n",
       "      <td>29028988961</td>\n",
       "      <td>0.0</td>\n",
       "      <td>0.0</td>\n",
       "    </tr>\n",
       "    <tr>\n",
       "      <th>2025-03-21 00:00:00+00:00</th>\n",
       "      <td>84164.539062</td>\n",
       "      <td>84782.273438</td>\n",
       "      <td>83171.070312</td>\n",
       "      <td>84043.242188</td>\n",
       "      <td>19030452299</td>\n",
       "      <td>0.0</td>\n",
       "      <td>0.0</td>\n",
       "    </tr>\n",
       "    <tr>\n",
       "      <th>2025-03-22 00:00:00+00:00</th>\n",
       "      <td>84046.257812</td>\n",
       "      <td>84513.875000</td>\n",
       "      <td>83674.781250</td>\n",
       "      <td>83832.484375</td>\n",
       "      <td>9863214091</td>\n",
       "      <td>0.0</td>\n",
       "      <td>0.0</td>\n",
       "    </tr>\n",
       "    <tr>\n",
       "      <th>2025-03-23 00:00:00+00:00</th>\n",
       "      <td>83831.898438</td>\n",
       "      <td>86094.781250</td>\n",
       "      <td>83794.914062</td>\n",
       "      <td>86054.375000</td>\n",
       "      <td>12594615537</td>\n",
       "      <td>0.0</td>\n",
       "      <td>0.0</td>\n",
       "    </tr>\n",
       "    <tr>\n",
       "      <th>2025-03-24 00:00:00+00:00</th>\n",
       "      <td>86070.929688</td>\n",
       "      <td>88758.726562</td>\n",
       "      <td>85541.195312</td>\n",
       "      <td>87498.914062</td>\n",
       "      <td>34582604933</td>\n",
       "      <td>0.0</td>\n",
       "      <td>0.0</td>\n",
       "    </tr>\n",
       "  </tbody>\n",
       "</table>\n",
       "<p>300 rows × 7 columns</p>\n",
       "</div>"
      ],
      "text/plain": [
       "                                   Open          High           Low  \\\n",
       "Date                                                                  \n",
       "2024-05-29 00:00:00+00:00  68296.351562  68852.460938  67101.492188   \n",
       "2024-05-30 00:00:00+00:00  67576.085938  69500.539062  67118.078125   \n",
       "2024-05-31 00:00:00+00:00  68362.515625  68999.562500  66633.421875   \n",
       "2024-06-01 00:00:00+00:00  67489.609375  67839.765625  67386.195312   \n",
       "2024-06-02 00:00:00+00:00  67710.273438  68409.164062  67315.523438   \n",
       "...                                 ...           ...           ...   \n",
       "2025-03-20 00:00:00+00:00  86872.953125  87443.265625  83647.195312   \n",
       "2025-03-21 00:00:00+00:00  84164.539062  84782.273438  83171.070312   \n",
       "2025-03-22 00:00:00+00:00  84046.257812  84513.875000  83674.781250   \n",
       "2025-03-23 00:00:00+00:00  83831.898438  86094.781250  83794.914062   \n",
       "2025-03-24 00:00:00+00:00  86070.929688  88758.726562  85541.195312   \n",
       "\n",
       "                                  Close       Volume  Dividends  Stock Splits  \n",
       "Date                                                                           \n",
       "2024-05-29 00:00:00+00:00  67578.093750  26707072906        0.0           0.0  \n",
       "2024-05-30 00:00:00+00:00  68364.992188  29509712534        0.0           0.0  \n",
       "2024-05-31 00:00:00+00:00  67491.414062  27387283769        0.0           0.0  \n",
       "2024-06-01 00:00:00+00:00  67706.937500  11641495604        0.0           0.0  \n",
       "2024-06-02 00:00:00+00:00  67751.601562  17110588415        0.0           0.0  \n",
       "...                                 ...          ...        ...           ...  \n",
       "2025-03-20 00:00:00+00:00  84167.195312  29028988961        0.0           0.0  \n",
       "2025-03-21 00:00:00+00:00  84043.242188  19030452299        0.0           0.0  \n",
       "2025-03-22 00:00:00+00:00  83832.484375   9863214091        0.0           0.0  \n",
       "2025-03-23 00:00:00+00:00  86054.375000  12594615537        0.0           0.0  \n",
       "2025-03-24 00:00:00+00:00  87498.914062  34582604933        0.0           0.0  \n",
       "\n",
       "[300 rows x 7 columns]"
      ]
     },
     "execution_count": 4,
     "metadata": {},
     "output_type": "execute_result"
    }
   ],
   "source": [
    "hist_df"
   ]
  },
  {
   "cell_type": "markdown",
   "metadata": {},
   "source": [
    "# Retrieve News Headline\n",
    "### Open File From SET_News_.csv"
   ]
  },
  {
   "cell_type": "code",
   "execution_count": 5,
   "metadata": {},
   "outputs": [
    {
     "data": {
      "text/html": [
       "<div>\n",
       "<style scoped>\n",
       "    .dataframe tbody tr th:only-of-type {\n",
       "        vertical-align: middle;\n",
       "    }\n",
       "\n",
       "    .dataframe tbody tr th {\n",
       "        vertical-align: top;\n",
       "    }\n",
       "\n",
       "    .dataframe thead th {\n",
       "        text-align: right;\n",
       "    }\n",
       "</style>\n",
       "<table border=\"1\" class=\"dataframe\">\n",
       "  <thead>\n",
       "    <tr style=\"text-align: right;\">\n",
       "      <th></th>\n",
       "      <th>Unnamed: 0</th>\n",
       "      <th>versionCreated</th>\n",
       "      <th>headline</th>\n",
       "      <th>storyId</th>\n",
       "      <th>sourceCode</th>\n",
       "    </tr>\n",
       "  </thead>\n",
       "  <tbody>\n",
       "    <tr>\n",
       "      <th>0</th>\n",
       "      <td>0</td>\n",
       "      <td>2025-03-18 23:54:08.068</td>\n",
       "      <td>Congressman Nick Begich signals growing support for The Bitcoin Act to acquire 1 million BTC</td>\n",
       "      <td>urn:link:webnews:20250318:nNRAvri2k4:0</td>\n",
       "      <td>NS:WNCOMA</td>\n",
       "    </tr>\n",
       "    <tr>\n",
       "      <th>1</th>\n",
       "      <td>1</td>\n",
       "      <td>2025-03-18 23:53:09.131</td>\n",
       "      <td>Current sentiment analysis for BNB, Chainlink, Wrapped Bitcoin, Solana. Bitcoin in only slightly positive territory</td>\n",
       "      <td>urn:newsml:newsroom:20250318:nNRAvri2jd:0</td>\n",
       "      <td>NS:CRYPEE</td>\n",
       "    </tr>\n",
       "    <tr>\n",
       "      <th>2</th>\n",
       "      <td>2</td>\n",
       "      <td>2025-03-18 23:53:06.832</td>\n",
       "      <td>Report: North Korea Quietly Becomes the Worlds 3rd-Largest Bitcoin Superpower</td>\n",
       "      <td>urn:link:webnews:20250318:nNRAvri2wu:0</td>\n",
       "      <td>NS:MSNUKA</td>\n",
       "    </tr>\n",
       "    <tr>\n",
       "      <th>3</th>\n",
       "      <td>3</td>\n",
       "      <td>2025-03-18 23:27:43.875</td>\n",
       "      <td>Congressman Nick Begich signals growing support for The Bitcoin Act to acquire 1 million BTC</td>\n",
       "      <td>urn:newsml:newsroom:20250318:nNRAvrhxuf:0</td>\n",
       "      <td>NS:CRYPTT</td>\n",
       "    </tr>\n",
       "    <tr>\n",
       "      <th>4</th>\n",
       "      <td>4</td>\n",
       "      <td>2025-03-18 23:25:06.448</td>\n",
       "      <td>Bitcoin UTXO P/L Ratio Hits 50.2 – A 30-Point Drop Could Signal the End Of This Correction</td>\n",
       "      <td>urn:link:webnews:20250318:nNRAvrhwdb:0</td>\n",
       "      <td>NS:BITCOI</td>\n",
       "    </tr>\n",
       "  </tbody>\n",
       "</table>\n",
       "</div>"
      ],
      "text/plain": [
       "   Unnamed: 0           versionCreated  \\\n",
       "0           0  2025-03-18 23:54:08.068   \n",
       "1           1  2025-03-18 23:53:09.131   \n",
       "2           2  2025-03-18 23:53:06.832   \n",
       "3           3  2025-03-18 23:27:43.875   \n",
       "4           4  2025-03-18 23:25:06.448   \n",
       "\n",
       "                                                                                                              headline  \\\n",
       "0                         Congressman Nick Begich signals growing support for The Bitcoin Act to acquire 1 million BTC   \n",
       "1  Current sentiment analysis for BNB, Chainlink, Wrapped Bitcoin, Solana. Bitcoin in only slightly positive territory   \n",
       "2                                        Report: North Korea Quietly Becomes the Worlds 3rd-Largest Bitcoin Superpower   \n",
       "3                         Congressman Nick Begich signals growing support for The Bitcoin Act to acquire 1 million BTC   \n",
       "4                           Bitcoin UTXO P/L Ratio Hits 50.2 – A 30-Point Drop Could Signal the End Of This Correction   \n",
       "\n",
       "                                     storyId sourceCode  \n",
       "0     urn:link:webnews:20250318:nNRAvri2k4:0  NS:WNCOMA  \n",
       "1  urn:newsml:newsroom:20250318:nNRAvri2jd:0  NS:CRYPEE  \n",
       "2     urn:link:webnews:20250318:nNRAvri2wu:0  NS:MSNUKA  \n",
       "3  urn:newsml:newsroom:20250318:nNRAvrhxuf:0  NS:CRYPTT  \n",
       "4     urn:link:webnews:20250318:nNRAvrhwdb:0  NS:BITCOI  "
      ]
     },
     "execution_count": 5,
     "metadata": {},
     "output_type": "execute_result"
    }
   ],
   "source": [
    "news_df = pd.read_csv(\"BTC_News_.csv\")\n",
    "news_df.head()"
   ]
  },
  {
   "cell_type": "markdown",
   "metadata": {},
   "source": [
    "# Data Preparation"
   ]
  },
  {
   "cell_type": "code",
   "execution_count": 6,
   "metadata": {},
   "outputs": [
    {
     "data": {
      "text/html": [
       "<div>\n",
       "<style scoped>\n",
       "    .dataframe tbody tr th:only-of-type {\n",
       "        vertical-align: middle;\n",
       "    }\n",
       "\n",
       "    .dataframe tbody tr th {\n",
       "        vertical-align: top;\n",
       "    }\n",
       "\n",
       "    .dataframe thead th {\n",
       "        text-align: right;\n",
       "    }\n",
       "</style>\n",
       "<table border=\"1\" class=\"dataframe\">\n",
       "  <thead>\n",
       "    <tr style=\"text-align: right;\">\n",
       "      <th></th>\n",
       "      <th>Unnamed: 0</th>\n",
       "      <th>versionCreated</th>\n",
       "      <th>headline</th>\n",
       "      <th>storyId</th>\n",
       "      <th>sourceCode</th>\n",
       "    </tr>\n",
       "  </thead>\n",
       "  <tbody>\n",
       "    <tr>\n",
       "      <th>0</th>\n",
       "      <td>0</td>\n",
       "      <td>2025-03-18 23:54:08.068</td>\n",
       "      <td>Congressman Nick Begich signals growing support for The Bitcoin Act to acquire 1 million BTC</td>\n",
       "      <td>urn:link:webnews:20250318:nNRAvri2k4:0</td>\n",
       "      <td>NS:WNCOMA</td>\n",
       "    </tr>\n",
       "    <tr>\n",
       "      <th>1</th>\n",
       "      <td>1</td>\n",
       "      <td>2025-03-18 23:53:09.131</td>\n",
       "      <td>Current sentiment analysis for BNB, Chainlink, Wrapped Bitcoin, Solana. Bitcoin in only slightly positive territory</td>\n",
       "      <td>urn:newsml:newsroom:20250318:nNRAvri2jd:0</td>\n",
       "      <td>NS:CRYPEE</td>\n",
       "    </tr>\n",
       "    <tr>\n",
       "      <th>2</th>\n",
       "      <td>2</td>\n",
       "      <td>2025-03-18 23:53:06.832</td>\n",
       "      <td>Report: North Korea Quietly Becomes the Worlds 3rd-Largest Bitcoin Superpower</td>\n",
       "      <td>urn:link:webnews:20250318:nNRAvri2wu:0</td>\n",
       "      <td>NS:MSNUKA</td>\n",
       "    </tr>\n",
       "    <tr>\n",
       "      <th>3</th>\n",
       "      <td>3</td>\n",
       "      <td>2025-03-18 23:27:43.875</td>\n",
       "      <td>Congressman Nick Begich signals growing support for The Bitcoin Act to acquire 1 million BTC</td>\n",
       "      <td>urn:newsml:newsroom:20250318:nNRAvrhxuf:0</td>\n",
       "      <td>NS:CRYPTT</td>\n",
       "    </tr>\n",
       "    <tr>\n",
       "      <th>4</th>\n",
       "      <td>4</td>\n",
       "      <td>2025-03-18 23:25:06.448</td>\n",
       "      <td>Bitcoin UTXO P/L Ratio Hits 50.2 – A 30-Point Drop Could Signal the End Of This Correction</td>\n",
       "      <td>urn:link:webnews:20250318:nNRAvrhwdb:0</td>\n",
       "      <td>NS:BITCOI</td>\n",
       "    </tr>\n",
       "  </tbody>\n",
       "</table>\n",
       "</div>"
      ],
      "text/plain": [
       "   Unnamed: 0          versionCreated  \\\n",
       "0           0 2025-03-18 23:54:08.068   \n",
       "1           1 2025-03-18 23:53:09.131   \n",
       "2           2 2025-03-18 23:53:06.832   \n",
       "3           3 2025-03-18 23:27:43.875   \n",
       "4           4 2025-03-18 23:25:06.448   \n",
       "\n",
       "                                                                                                              headline  \\\n",
       "0                         Congressman Nick Begich signals growing support for The Bitcoin Act to acquire 1 million BTC   \n",
       "1  Current sentiment analysis for BNB, Chainlink, Wrapped Bitcoin, Solana. Bitcoin in only slightly positive territory   \n",
       "2                                        Report: North Korea Quietly Becomes the Worlds 3rd-Largest Bitcoin Superpower   \n",
       "3                         Congressman Nick Begich signals growing support for The Bitcoin Act to acquire 1 million BTC   \n",
       "4                           Bitcoin UTXO P/L Ratio Hits 50.2 – A 30-Point Drop Could Signal the End Of This Correction   \n",
       "\n",
       "                                     storyId sourceCode  \n",
       "0     urn:link:webnews:20250318:nNRAvri2k4:0  NS:WNCOMA  \n",
       "1  urn:newsml:newsroom:20250318:nNRAvri2jd:0  NS:CRYPEE  \n",
       "2     urn:link:webnews:20250318:nNRAvri2wu:0  NS:MSNUKA  \n",
       "3  urn:newsml:newsroom:20250318:nNRAvrhxuf:0  NS:CRYPTT  \n",
       "4     urn:link:webnews:20250318:nNRAvrhwdb:0  NS:BITCOI  "
      ]
     },
     "execution_count": 6,
     "metadata": {},
     "output_type": "execute_result"
    }
   ],
   "source": [
    "news_df['versionCreated'] = pd.to_datetime(news_df['versionCreated'])\n",
    "\n",
    "start_date = pd.to_datetime(start_date)\n",
    "end_date = pd.to_datetime(end_date)\n",
    "\n",
    "# Filter the DataFrame\n",
    "filtered_news = news_df[(news_df['versionCreated'] >= start_date) & (news_df['versionCreated'] <= end_date)]\n",
    "filtered_news.head()"
   ]
  },
  {
   "cell_type": "code",
   "execution_count": 7,
   "metadata": {},
   "outputs": [
    {
     "data": {
      "text/plain": [
       "Index(['Unnamed: 0', 'versionCreated', 'headline', 'storyId', 'sourceCode'], dtype='object')"
      ]
     },
     "execution_count": 7,
     "metadata": {},
     "output_type": "execute_result"
    }
   ],
   "source": [
    "filtered_news.columns"
   ]
  },
  {
   "cell_type": "code",
   "execution_count": 8,
   "metadata": {},
   "outputs": [
    {
     "data": {
      "text/html": [
       "<div>\n",
       "<style scoped>\n",
       "    .dataframe tbody tr th:only-of-type {\n",
       "        vertical-align: middle;\n",
       "    }\n",
       "\n",
       "    .dataframe tbody tr th {\n",
       "        vertical-align: top;\n",
       "    }\n",
       "\n",
       "    .dataframe thead th {\n",
       "        text-align: right;\n",
       "    }\n",
       "</style>\n",
       "<table border=\"1\" class=\"dataframe\">\n",
       "  <thead>\n",
       "    <tr style=\"text-align: right;\">\n",
       "      <th></th>\n",
       "      <th>versionCreated</th>\n",
       "      <th>headline</th>\n",
       "    </tr>\n",
       "  </thead>\n",
       "  <tbody>\n",
       "    <tr>\n",
       "      <th>0</th>\n",
       "      <td>2025-03-18 23:54:08.068</td>\n",
       "      <td>Congressman Nick Begich signals growing support for The Bitcoin Act to acquire 1 million BTC</td>\n",
       "    </tr>\n",
       "    <tr>\n",
       "      <th>1</th>\n",
       "      <td>2025-03-18 23:53:09.131</td>\n",
       "      <td>Current sentiment analysis for BNB, Chainlink, Wrapped Bitcoin, Solana. Bitcoin in only slightly positive territory</td>\n",
       "    </tr>\n",
       "    <tr>\n",
       "      <th>2</th>\n",
       "      <td>2025-03-18 23:53:06.832</td>\n",
       "      <td>Report: North Korea Quietly Becomes the Worlds 3rd-Largest Bitcoin Superpower</td>\n",
       "    </tr>\n",
       "    <tr>\n",
       "      <th>3</th>\n",
       "      <td>2025-03-18 23:27:43.875</td>\n",
       "      <td>Congressman Nick Begich signals growing support for The Bitcoin Act to acquire 1 million BTC</td>\n",
       "    </tr>\n",
       "    <tr>\n",
       "      <th>4</th>\n",
       "      <td>2025-03-18 23:25:06.448</td>\n",
       "      <td>Bitcoin UTXO P/L Ratio Hits 50.2 – A 30-Point Drop Could Signal the End Of This Correction</td>\n",
       "    </tr>\n",
       "  </tbody>\n",
       "</table>\n",
       "</div>"
      ],
      "text/plain": [
       "           versionCreated  \\\n",
       "0 2025-03-18 23:54:08.068   \n",
       "1 2025-03-18 23:53:09.131   \n",
       "2 2025-03-18 23:53:06.832   \n",
       "3 2025-03-18 23:27:43.875   \n",
       "4 2025-03-18 23:25:06.448   \n",
       "\n",
       "                                                                                                              headline  \n",
       "0                         Congressman Nick Begich signals growing support for The Bitcoin Act to acquire 1 million BTC  \n",
       "1  Current sentiment analysis for BNB, Chainlink, Wrapped Bitcoin, Solana. Bitcoin in only slightly positive territory  \n",
       "2                                        Report: North Korea Quietly Becomes the Worlds 3rd-Largest Bitcoin Superpower  \n",
       "3                         Congressman Nick Begich signals growing support for The Bitcoin Act to acquire 1 million BTC  \n",
       "4                           Bitcoin UTXO P/L Ratio Hits 50.2 – A 30-Point Drop Could Signal the End Of This Correction  "
      ]
     },
     "execution_count": 8,
     "metadata": {},
     "output_type": "execute_result"
    }
   ],
   "source": [
    "filtered_news = filtered_news.drop(columns=['Unnamed: 0', 'storyId', 'sourceCode'])\n",
    "filtered_news.head()\n"
   ]
  },
  {
   "cell_type": "code",
   "execution_count": 9,
   "metadata": {},
   "outputs": [
    {
     "data": {
      "text/html": [
       "<div>\n",
       "<style scoped>\n",
       "    .dataframe tbody tr th:only-of-type {\n",
       "        vertical-align: middle;\n",
       "    }\n",
       "\n",
       "    .dataframe tbody tr th {\n",
       "        vertical-align: top;\n",
       "    }\n",
       "\n",
       "    .dataframe thead th {\n",
       "        text-align: right;\n",
       "    }\n",
       "</style>\n",
       "<table border=\"1\" class=\"dataframe\">\n",
       "  <thead>\n",
       "    <tr style=\"text-align: right;\">\n",
       "      <th></th>\n",
       "      <th>headline</th>\n",
       "      <th>date</th>\n",
       "    </tr>\n",
       "    <tr>\n",
       "      <th>versionCreated</th>\n",
       "      <th></th>\n",
       "      <th></th>\n",
       "    </tr>\n",
       "  </thead>\n",
       "  <tbody>\n",
       "    <tr>\n",
       "      <th>2025-03-18 23:54:08.068</th>\n",
       "      <td>Congressman Nick Begich signals growing support for The Bitcoin Act to acquire 1 million BTC</td>\n",
       "      <td>2025-03-18</td>\n",
       "    </tr>\n",
       "    <tr>\n",
       "      <th>2025-03-18 23:53:09.131</th>\n",
       "      <td>Current sentiment analysis for BNB, Chainlink, Wrapped Bitcoin, Solana. Bitcoin in only slightly positive territory</td>\n",
       "      <td>2025-03-18</td>\n",
       "    </tr>\n",
       "    <tr>\n",
       "      <th>2025-03-18 23:53:06.832</th>\n",
       "      <td>Report: North Korea Quietly Becomes the Worlds 3rd-Largest Bitcoin Superpower</td>\n",
       "      <td>2025-03-18</td>\n",
       "    </tr>\n",
       "    <tr>\n",
       "      <th>2025-03-18 23:27:43.875</th>\n",
       "      <td>Congressman Nick Begich signals growing support for The Bitcoin Act to acquire 1 million BTC</td>\n",
       "      <td>2025-03-18</td>\n",
       "    </tr>\n",
       "    <tr>\n",
       "      <th>2025-03-18 23:25:06.448</th>\n",
       "      <td>Bitcoin UTXO P/L Ratio Hits 50.2 – A 30-Point Drop Could Signal the End Of This Correction</td>\n",
       "      <td>2025-03-18</td>\n",
       "    </tr>\n",
       "  </tbody>\n",
       "</table>\n",
       "</div>"
      ],
      "text/plain": [
       "                                                                                                                                    headline  \\\n",
       "versionCreated                                                                                                                                 \n",
       "2025-03-18 23:54:08.068                         Congressman Nick Begich signals growing support for The Bitcoin Act to acquire 1 million BTC   \n",
       "2025-03-18 23:53:09.131  Current sentiment analysis for BNB, Chainlink, Wrapped Bitcoin, Solana. Bitcoin in only slightly positive territory   \n",
       "2025-03-18 23:53:06.832                                        Report: North Korea Quietly Becomes the Worlds 3rd-Largest Bitcoin Superpower   \n",
       "2025-03-18 23:27:43.875                         Congressman Nick Begich signals growing support for The Bitcoin Act to acquire 1 million BTC   \n",
       "2025-03-18 23:25:06.448                           Bitcoin UTXO P/L Ratio Hits 50.2 – A 30-Point Drop Could Signal the End Of This Correction   \n",
       "\n",
       "                               date  \n",
       "versionCreated                       \n",
       "2025-03-18 23:54:08.068  2025-03-18  \n",
       "2025-03-18 23:53:09.131  2025-03-18  \n",
       "2025-03-18 23:53:06.832  2025-03-18  \n",
       "2025-03-18 23:27:43.875  2025-03-18  \n",
       "2025-03-18 23:25:06.448  2025-03-18  "
      ]
     },
     "execution_count": 9,
     "metadata": {},
     "output_type": "execute_result"
    }
   ],
   "source": [
    "filtered_news.loc[:, 'date'] = pd.to_datetime(filtered_news.versionCreated, format=\"%Y-%m-%d %H:%M:%S.%f\").dt.date\n",
    "filtered_news.index = filtered_news['versionCreated']\n",
    "filtered_news = filtered_news.drop(columns=['versionCreated'])\n",
    "filtered_news.head()\n",
    "\n"
   ]
  },
  {
   "cell_type": "code",
   "execution_count": 10,
   "metadata": {},
   "outputs": [],
   "source": [
    "hist_df.to_csv('dataset/historical_pricing.csv')\n",
    "filtered_news.to_csv('dataset/news_headline.csv')"
   ]
  },
  {
   "cell_type": "markdown",
   "metadata": {},
   "source": [
    "## Select only first news each day"
   ]
  },
  {
   "cell_type": "code",
   "execution_count": 11,
   "metadata": {},
   "outputs": [
    {
     "data": {
      "text/html": [
       "<div>\n",
       "<style scoped>\n",
       "    .dataframe tbody tr th:only-of-type {\n",
       "        vertical-align: middle;\n",
       "    }\n",
       "\n",
       "    .dataframe tbody tr th {\n",
       "        vertical-align: top;\n",
       "    }\n",
       "\n",
       "    .dataframe thead th {\n",
       "        text-align: right;\n",
       "    }\n",
       "</style>\n",
       "<table border=\"1\" class=\"dataframe\">\n",
       "  <thead>\n",
       "    <tr style=\"text-align: right;\">\n",
       "      <th></th>\n",
       "      <th>headline</th>\n",
       "      <th>date</th>\n",
       "    </tr>\n",
       "    <tr>\n",
       "      <th>versionCreated</th>\n",
       "      <th></th>\n",
       "      <th></th>\n",
       "    </tr>\n",
       "  </thead>\n",
       "  <tbody>\n",
       "    <tr>\n",
       "      <th>2025-03-18 23:54:08.068</th>\n",
       "      <td>Congressman Nick Begich signals growing support for The Bitcoin Act to acquire 1 million BTC</td>\n",
       "      <td>2025-03-18</td>\n",
       "    </tr>\n",
       "    <tr>\n",
       "      <th>2025-03-17 23:38:06.756</th>\n",
       "      <td>Sentiment analysis for important coins. Bitcoin currently in negative territory</td>\n",
       "      <td>2025-03-17</td>\n",
       "    </tr>\n",
       "    <tr>\n",
       "      <th>2025-03-16 23:36:08.366</th>\n",
       "      <td>South Korean Central Bank 'Negative' About Launching Strategic Bitcoin Reserve</td>\n",
       "      <td>2025-03-16</td>\n",
       "    </tr>\n",
       "    <tr>\n",
       "      <th>2025-03-15 23:51:58.464</th>\n",
       "      <td>Elon Musk's Favorite Dogecoin Sees Massive Sell-Off-Miners Dump 65M DOGE in 48 Hours</td>\n",
       "      <td>2025-03-15</td>\n",
       "    </tr>\n",
       "    <tr>\n",
       "      <th>2025-03-14 23:37:06.978</th>\n",
       "      <td>Weekly: The Hour Glass (AGS: SGD1.58) decreases 0.6% on weak volume; -1c [0.6%]</td>\n",
       "      <td>2025-03-14</td>\n",
       "    </tr>\n",
       "    <tr>\n",
       "      <th>2025-03-13 23:58:14.660</th>\n",
       "      <td>B.C. court grants production order to man defrauded out of $26 million in bitcoin</td>\n",
       "      <td>2025-03-13</td>\n",
       "    </tr>\n",
       "    <tr>\n",
       "      <th>2025-03-12 23:46:59.468</th>\n",
       "      <td>State-backed Bolivian energy firm YPFB turns to crypto amid painful dollar shortage</td>\n",
       "      <td>2025-03-12</td>\n",
       "    </tr>\n",
       "    <tr>\n",
       "      <th>2025-03-11 23:58:40.075</th>\n",
       "      <td>Why Are Bitcoin, XRP, Dogecoin, and Cardano Prices Going Up Today?</td>\n",
       "      <td>2025-03-11</td>\n",
       "    </tr>\n",
       "    <tr>\n",
       "      <th>2025-03-10 23:56:06.291</th>\n",
       "      <td>Recession risks roil markets as investors dump stocks, bitcoin</td>\n",
       "      <td>2025-03-10</td>\n",
       "    </tr>\n",
       "    <tr>\n",
       "      <th>2025-03-09 23:49:37.903</th>\n",
       "      <td>Bitcoin Dips Again As The Market Takes Hectic Rollercoaster Ride</td>\n",
       "      <td>2025-03-09</td>\n",
       "    </tr>\n",
       "    <tr>\n",
       "      <th>2025-03-08 23:57:02.585</th>\n",
       "      <td>Mexican Billionaire Salinas Says He Has 70% Bitcoin-Related Exposure</td>\n",
       "      <td>2025-03-08</td>\n",
       "    </tr>\n",
       "    <tr>\n",
       "      <th>2025-03-07 23:56:13.410</th>\n",
       "      <td>VanEck Reveals Budget Neutral Ways for US to Expand Its Bitcoin Reserve</td>\n",
       "      <td>2025-03-07</td>\n",
       "    </tr>\n",
       "    <tr>\n",
       "      <th>2025-03-06 23:57:11.432</th>\n",
       "      <td>iShares Bitcoin Trust (NASDAQ:IBIT) Shares Gap Up - Time to Buy?</td>\n",
       "      <td>2025-03-06</td>\n",
       "    </tr>\n",
       "    <tr>\n",
       "      <th>2025-03-05 23:59:15.010</th>\n",
       "      <td>Bitcoin and the Importance of Consistent Price Analysis for Investors</td>\n",
       "      <td>2025-03-05</td>\n",
       "    </tr>\n",
       "    <tr>\n",
       "      <th>2025-03-04 23:53:10.640</th>\n",
       "      <td>Backlash to crypto-reserve plan raises doubts on its prospects</td>\n",
       "      <td>2025-03-04</td>\n",
       "    </tr>\n",
       "    <tr>\n",
       "      <th>2025-03-03 23:50:11.595</th>\n",
       "      <td>Saylor predicts Bitcoin's monumental rise under Trump's crypto initiative</td>\n",
       "      <td>2025-03-03</td>\n",
       "    </tr>\n",
       "    <tr>\n",
       "      <th>2025-03-02 23:57:08.986</th>\n",
       "      <td>Trump Announces Crypto Reserve Plan as Bitcoin Dominance Falls Below 50%</td>\n",
       "      <td>2025-03-02</td>\n",
       "    </tr>\n",
       "    <tr>\n",
       "      <th>2025-03-01 23:37:04.385</th>\n",
       "      <td>Swiss Central Bank President Declares Bitcoin Not a Reliable Reserve Asset: Report</td>\n",
       "      <td>2025-03-01</td>\n",
       "    </tr>\n",
       "    <tr>\n",
       "      <th>2025-02-28 23:57:09.143</th>\n",
       "      <td>Promising New Crypto to Buy After Michael Saylor Says Don't Sell Bitcoin</td>\n",
       "      <td>2025-02-28</td>\n",
       "    </tr>\n",
       "    <tr>\n",
       "      <th>2025-02-27 23:58:08.462</th>\n",
       "      <td>Crypto Fear and Greed Index hits three-year low as sell-off from recent buyers weighs on Bitcoin</td>\n",
       "      <td>2025-02-27</td>\n",
       "    </tr>\n",
       "    <tr>\n",
       "      <th>2025-02-26 23:54:09.530</th>\n",
       "      <td>Stock Market: The End Of A Bullish Cycle?</td>\n",
       "      <td>2025-02-26</td>\n",
       "    </tr>\n",
       "    <tr>\n",
       "      <th>2025-02-25 23:49:09.855</th>\n",
       "      <td>BTCW Bitcoin Well 742,789 shares for debt</td>\n",
       "      <td>2025-02-25</td>\n",
       "    </tr>\n",
       "    <tr>\n",
       "      <th>2025-02-24 23:50:13.611</th>\n",
       "      <td>Bitcoin Slips Under $94K as Stocks Try to Shake Last Week's Jitters</td>\n",
       "      <td>2025-02-24</td>\n",
       "    </tr>\n",
       "    <tr>\n",
       "      <th>2025-02-23 23:48:14.072</th>\n",
       "      <td>Bitcoin Stocks To Follow Now – February 23rd</td>\n",
       "      <td>2025-02-23</td>\n",
       "    </tr>\n",
       "    <tr>\n",
       "      <th>2025-02-22 23:52:39.075</th>\n",
       "      <td>South Africa's Altvest Capital Seeks Regulatory Approval to Hold Bitcoin as Primary Treasury Asset</td>\n",
       "      <td>2025-02-22</td>\n",
       "    </tr>\n",
       "    <tr>\n",
       "      <th>2025-02-21 23:54:46.649</th>\n",
       "      <td>Bitcoin and digital asset bills filed in at least 31 states</td>\n",
       "      <td>2025-02-21</td>\n",
       "    </tr>\n",
       "    <tr>\n",
       "      <th>2025-02-20 23:42:10.050</th>\n",
       "      <td>Το Bitcoin οδεύει προς τα 120.000$ – Αξίζει να επενδύσετε σε altcoins στο dip?</td>\n",
       "      <td>2025-02-20</td>\n",
       "    </tr>\n",
       "    <tr>\n",
       "      <th>2025-02-19 23:46:55.110</th>\n",
       "      <td>Athena Bitcoin Global (ABIT: 6.28c) soars 10%; +0.58c [10.2%]</td>\n",
       "      <td>2025-02-19</td>\n",
       "    </tr>\n",
       "    <tr>\n",
       "      <th>2025-02-18 23:43:08.195</th>\n",
       "      <td>GENIUS Act Vs. Waters Bill: Competing Paths For U.S. Stablecoin Regulation</td>\n",
       "      <td>2025-02-18</td>\n",
       "    </tr>\n",
       "    <tr>\n",
       "      <th>2025-02-17 23:46:08.726</th>\n",
       "      <td>Should You Buy Bitcoin If There's a Dip Soon?</td>\n",
       "      <td>2025-02-17</td>\n",
       "    </tr>\n",
       "    <tr>\n",
       "      <th>2025-02-16 23:41:56.965</th>\n",
       "      <td>Elon Musk's D.O.G.E looks to update US gold reserves with Bitcoin after Fort Knox audit</td>\n",
       "      <td>2025-02-16</td>\n",
       "    </tr>\n",
       "    <tr>\n",
       "      <th>2025-02-15 23:51:19.299</th>\n",
       "      <td>Bitcoin (BTC) and Ethereum (ETH) Whales Rapidly Accumulate $0.006 Crypto with 18,333% Growth Potential</td>\n",
       "      <td>2025-02-15</td>\n",
       "    </tr>\n",
       "    <tr>\n",
       "      <th>2025-02-14 23:48:11.195</th>\n",
       "      <td>The $800 million Bitcoin hunt: Man's final bid to retrieve lost hard drive</td>\n",
       "      <td>2025-02-14</td>\n",
       "    </tr>\n",
       "    <tr>\n",
       "      <th>2025-02-13 23:50:10.351</th>\n",
       "      <td>Man in yearslong battle to retrieve lost Bitcoin hard drive worth around $800 million offers to buy landfill</td>\n",
       "      <td>2025-02-13</td>\n",
       "    </tr>\n",
       "    <tr>\n",
       "      <th>2025-02-12 23:53:09.953</th>\n",
       "      <td>Wyoming's WHPA becomes the first law enforcement association to hold Bitcoin in the U.S.</td>\n",
       "      <td>2025-02-12</td>\n",
       "    </tr>\n",
       "    <tr>\n",
       "      <th>2025-02-11 23:53:06.668</th>\n",
       "      <td>Bitcoin today by TradeCompass</td>\n",
       "      <td>2025-02-11</td>\n",
       "    </tr>\n",
       "    <tr>\n",
       "      <th>2025-02-10 23:48:00.102</th>\n",
       "      <td>Man pleads guilty to role in SEC social media account hack that led the price of bitcoin to spike</td>\n",
       "      <td>2025-02-10</td>\n",
       "    </tr>\n",
       "    <tr>\n",
       "      <th>2025-02-09 23:26:36.262</th>\n",
       "      <td>Man wants to buy tip where he lost Bitcoin fortune 1 hour ago David Grundy BBC News What is Bitcoin?</td>\n",
       "      <td>2025-02-09</td>\n",
       "    </tr>\n",
       "    <tr>\n",
       "      <th>2025-02-08 23:39:08.380</th>\n",
       "      <td>Bitcoin Hashrate Smashes Records With 852 EH/s Frenzy—Zettahash Era Inches Closer</td>\n",
       "      <td>2025-02-08</td>\n",
       "    </tr>\n",
       "    <tr>\n",
       "      <th>2025-02-07 23:27:21.415</th>\n",
       "      <td>Weekly: The Hour Glass (AGS: SGD1.55) keeps sliding: down 2.5% in 3 weeks; -2c [1.3%]</td>\n",
       "      <td>2025-02-07</td>\n",
       "    </tr>\n",
       "    <tr>\n",
       "      <th>2025-02-06 23:59:07.626</th>\n",
       "      <td>Brazil's Galipolo sees surge in crypto use, says 90% of flow tied to stablecoins</td>\n",
       "      <td>2025-02-06</td>\n",
       "    </tr>\n",
       "    <tr>\n",
       "      <th>2025-02-05 23:59:41.239</th>\n",
       "      <td>Bitcoin Faces Weak Retail Demand As Addresses Holding 0-1 BTC Decline – Expert Reports</td>\n",
       "      <td>2025-02-05</td>\n",
       "    </tr>\n",
       "    <tr>\n",
       "      <th>2025-02-04 23:53:21.451</th>\n",
       "      <td>Semler Scientific (NASDAQ:SMLR) Announces Updates on Bitcoin Holdings and BTC Yield Performance</td>\n",
       "      <td>2025-02-04</td>\n",
       "    </tr>\n",
       "    <tr>\n",
       "      <th>2025-02-03 23:45:37.109</th>\n",
       "      <td>Bitcoin Bounces Above $100K, XRP Surges 40% as Trade War Tensions Suddenly Ease</td>\n",
       "      <td>2025-02-03</td>\n",
       "    </tr>\n",
       "    <tr>\n",
       "      <th>2025-02-02 23:59:36.952</th>\n",
       "      <td>Bitcoin slides below $100,000 as tariffs rattle markets</td>\n",
       "      <td>2025-02-02</td>\n",
       "    </tr>\n",
       "    <tr>\n",
       "      <th>2025-02-01 23:58:02.430</th>\n",
       "      <td>Bitcoin Sinks to $100K as Trump Imposes Tariffs on Canada, Mexico, China</td>\n",
       "      <td>2025-02-01</td>\n",
       "    </tr>\n",
       "  </tbody>\n",
       "</table>\n",
       "</div>"
      ],
      "text/plain": [
       "                                                                                                                             headline  \\\n",
       "versionCreated                                                                                                                          \n",
       "2025-03-18 23:54:08.068                  Congressman Nick Begich signals growing support for The Bitcoin Act to acquire 1 million BTC   \n",
       "2025-03-17 23:38:06.756                               Sentiment analysis for important coins. Bitcoin currently in negative territory   \n",
       "2025-03-16 23:36:08.366                                South Korean Central Bank 'Negative' About Launching Strategic Bitcoin Reserve   \n",
       "2025-03-15 23:51:58.464                          Elon Musk's Favorite Dogecoin Sees Massive Sell-Off-Miners Dump 65M DOGE in 48 Hours   \n",
       "2025-03-14 23:37:06.978                               Weekly: The Hour Glass (AGS: SGD1.58) decreases 0.6% on weak volume; -1c [0.6%]   \n",
       "2025-03-13 23:58:14.660                             B.C. court grants production order to man defrauded out of $26 million in bitcoin   \n",
       "2025-03-12 23:46:59.468                           State-backed Bolivian energy firm YPFB turns to crypto amid painful dollar shortage   \n",
       "2025-03-11 23:58:40.075                                            Why Are Bitcoin, XRP, Dogecoin, and Cardano Prices Going Up Today?   \n",
       "2025-03-10 23:56:06.291                                                Recession risks roil markets as investors dump stocks, bitcoin   \n",
       "2025-03-09 23:49:37.903                                              Bitcoin Dips Again As The Market Takes Hectic Rollercoaster Ride   \n",
       "2025-03-08 23:57:02.585                                          Mexican Billionaire Salinas Says He Has 70% Bitcoin-Related Exposure   \n",
       "2025-03-07 23:56:13.410                                       VanEck Reveals Budget Neutral Ways for US to Expand Its Bitcoin Reserve   \n",
       "2025-03-06 23:57:11.432                                              iShares Bitcoin Trust (NASDAQ:IBIT) Shares Gap Up - Time to Buy?   \n",
       "2025-03-05 23:59:15.010                                         Bitcoin and the Importance of Consistent Price Analysis for Investors   \n",
       "2025-03-04 23:53:10.640                                                Backlash to crypto-reserve plan raises doubts on its prospects   \n",
       "2025-03-03 23:50:11.595                                     Saylor predicts Bitcoin's monumental rise under Trump's crypto initiative   \n",
       "2025-03-02 23:57:08.986                                      Trump Announces Crypto Reserve Plan as Bitcoin Dominance Falls Below 50%   \n",
       "2025-03-01 23:37:04.385                            Swiss Central Bank President Declares Bitcoin Not a Reliable Reserve Asset: Report   \n",
       "2025-02-28 23:57:09.143                                      Promising New Crypto to Buy After Michael Saylor Says Don't Sell Bitcoin   \n",
       "2025-02-27 23:58:08.462              Crypto Fear and Greed Index hits three-year low as sell-off from recent buyers weighs on Bitcoin   \n",
       "2025-02-26 23:54:09.530                                                                     Stock Market: The End Of A Bullish Cycle?   \n",
       "2025-02-25 23:49:09.855                                                                     BTCW Bitcoin Well 742,789 shares for debt   \n",
       "2025-02-24 23:50:13.611                                           Bitcoin Slips Under $94K as Stocks Try to Shake Last Week's Jitters   \n",
       "2025-02-23 23:48:14.072                                                                  Bitcoin Stocks To Follow Now – February 23rd   \n",
       "2025-02-22 23:52:39.075            South Africa's Altvest Capital Seeks Regulatory Approval to Hold Bitcoin as Primary Treasury Asset   \n",
       "2025-02-21 23:54:46.649                                                   Bitcoin and digital asset bills filed in at least 31 states   \n",
       "2025-02-20 23:42:10.050                                Το Bitcoin οδεύει προς τα 120.000$ – Αξίζει να επενδύσετε σε altcoins στο dip?   \n",
       "2025-02-19 23:46:55.110                                                 Athena Bitcoin Global (ABIT: 6.28c) soars 10%; +0.58c [10.2%]   \n",
       "2025-02-18 23:43:08.195                                    GENIUS Act Vs. Waters Bill: Competing Paths For U.S. Stablecoin Regulation   \n",
       "2025-02-17 23:46:08.726                                                                 Should You Buy Bitcoin If There's a Dip Soon?   \n",
       "2025-02-16 23:41:56.965                       Elon Musk's D.O.G.E looks to update US gold reserves with Bitcoin after Fort Knox audit   \n",
       "2025-02-15 23:51:19.299        Bitcoin (BTC) and Ethereum (ETH) Whales Rapidly Accumulate $0.006 Crypto with 18,333% Growth Potential   \n",
       "2025-02-14 23:48:11.195                                    The $800 million Bitcoin hunt: Man's final bid to retrieve lost hard drive   \n",
       "2025-02-13 23:50:10.351  Man in yearslong battle to retrieve lost Bitcoin hard drive worth around $800 million offers to buy landfill   \n",
       "2025-02-12 23:53:09.953                      Wyoming's WHPA becomes the first law enforcement association to hold Bitcoin in the U.S.   \n",
       "2025-02-11 23:53:06.668                                                                                 Bitcoin today by TradeCompass   \n",
       "2025-02-10 23:48:00.102             Man pleads guilty to role in SEC social media account hack that led the price of bitcoin to spike   \n",
       "2025-02-09 23:26:36.262          Man wants to buy tip where he lost Bitcoin fortune 1 hour ago David Grundy BBC News What is Bitcoin?   \n",
       "2025-02-08 23:39:08.380                             Bitcoin Hashrate Smashes Records With 852 EH/s Frenzy—Zettahash Era Inches Closer   \n",
       "2025-02-07 23:27:21.415                         Weekly: The Hour Glass (AGS: SGD1.55) keeps sliding: down 2.5% in 3 weeks; -2c [1.3%]   \n",
       "2025-02-06 23:59:07.626                              Brazil's Galipolo sees surge in crypto use, says 90% of flow tied to stablecoins   \n",
       "2025-02-05 23:59:41.239                        Bitcoin Faces Weak Retail Demand As Addresses Holding 0-1 BTC Decline – Expert Reports   \n",
       "2025-02-04 23:53:21.451               Semler Scientific (NASDAQ:SMLR) Announces Updates on Bitcoin Holdings and BTC Yield Performance   \n",
       "2025-02-03 23:45:37.109                               Bitcoin Bounces Above $100K, XRP Surges 40% as Trade War Tensions Suddenly Ease   \n",
       "2025-02-02 23:59:36.952                                                       Bitcoin slides below $100,000 as tariffs rattle markets   \n",
       "2025-02-01 23:58:02.430                                      Bitcoin Sinks to $100K as Trump Imposes Tariffs on Canada, Mexico, China   \n",
       "\n",
       "                               date  \n",
       "versionCreated                       \n",
       "2025-03-18 23:54:08.068  2025-03-18  \n",
       "2025-03-17 23:38:06.756  2025-03-17  \n",
       "2025-03-16 23:36:08.366  2025-03-16  \n",
       "2025-03-15 23:51:58.464  2025-03-15  \n",
       "2025-03-14 23:37:06.978  2025-03-14  \n",
       "2025-03-13 23:58:14.660  2025-03-13  \n",
       "2025-03-12 23:46:59.468  2025-03-12  \n",
       "2025-03-11 23:58:40.075  2025-03-11  \n",
       "2025-03-10 23:56:06.291  2025-03-10  \n",
       "2025-03-09 23:49:37.903  2025-03-09  \n",
       "2025-03-08 23:57:02.585  2025-03-08  \n",
       "2025-03-07 23:56:13.410  2025-03-07  \n",
       "2025-03-06 23:57:11.432  2025-03-06  \n",
       "2025-03-05 23:59:15.010  2025-03-05  \n",
       "2025-03-04 23:53:10.640  2025-03-04  \n",
       "2025-03-03 23:50:11.595  2025-03-03  \n",
       "2025-03-02 23:57:08.986  2025-03-02  \n",
       "2025-03-01 23:37:04.385  2025-03-01  \n",
       "2025-02-28 23:57:09.143  2025-02-28  \n",
       "2025-02-27 23:58:08.462  2025-02-27  \n",
       "2025-02-26 23:54:09.530  2025-02-26  \n",
       "2025-02-25 23:49:09.855  2025-02-25  \n",
       "2025-02-24 23:50:13.611  2025-02-24  \n",
       "2025-02-23 23:48:14.072  2025-02-23  \n",
       "2025-02-22 23:52:39.075  2025-02-22  \n",
       "2025-02-21 23:54:46.649  2025-02-21  \n",
       "2025-02-20 23:42:10.050  2025-02-20  \n",
       "2025-02-19 23:46:55.110  2025-02-19  \n",
       "2025-02-18 23:43:08.195  2025-02-18  \n",
       "2025-02-17 23:46:08.726  2025-02-17  \n",
       "2025-02-16 23:41:56.965  2025-02-16  \n",
       "2025-02-15 23:51:19.299  2025-02-15  \n",
       "2025-02-14 23:48:11.195  2025-02-14  \n",
       "2025-02-13 23:50:10.351  2025-02-13  \n",
       "2025-02-12 23:53:09.953  2025-02-12  \n",
       "2025-02-11 23:53:06.668  2025-02-11  \n",
       "2025-02-10 23:48:00.102  2025-02-10  \n",
       "2025-02-09 23:26:36.262  2025-02-09  \n",
       "2025-02-08 23:39:08.380  2025-02-08  \n",
       "2025-02-07 23:27:21.415  2025-02-07  \n",
       "2025-02-06 23:59:07.626  2025-02-06  \n",
       "2025-02-05 23:59:41.239  2025-02-05  \n",
       "2025-02-04 23:53:21.451  2025-02-04  \n",
       "2025-02-03 23:45:37.109  2025-02-03  \n",
       "2025-02-02 23:59:36.952  2025-02-02  \n",
       "2025-02-01 23:58:02.430  2025-02-01  "
      ]
     },
     "execution_count": 11,
     "metadata": {},
     "output_type": "execute_result"
    }
   ],
   "source": [
    "filtered_news.drop_duplicates(subset=['date'], inplace=True)\n",
    "filtered_news"
   ]
  },
  {
   "cell_type": "markdown",
   "metadata": {},
   "source": [
    "# Sentiment Analysis using OpenAI chat completion"
   ]
  },
  {
   "cell_type": "code",
   "execution_count": 12,
   "metadata": {},
   "outputs": [
    {
     "name": "stdout",
     "output_type": "stream",
     "text": [
      "Execution time: 3.4469988346099854\n"
     ]
    }
   ],
   "source": [
    "pretrained_model = 'ahmedrachid/FinancialBERT-Sentiment-Analysis'\n",
    "model = BertForSequenceClassification.from_pretrained(pretrained_model,num_labels=3)\n",
    "tokenizer = BertTokenizer.from_pretrained(pretrained_model)\n",
    "\n",
    "nlp = pipeline(\"sentiment-analysis\", model=model, tokenizer=tokenizer)\n",
    "\n",
    "def sentiment_analysis(sentences):\n",
    "    return nlp(sentences)[0]['label']\n",
    "\n",
    "start_time = time.time()\n",
    "\n",
    "filtered_news['Good news'] = filtered_news['headline'].apply(sentiment_analysis)\n",
    "\n",
    "end_time = time.time()\n",
    "execution_time = end_time - start_time\n",
    "print(\"Execution time:\",execution_time)"
   ]
  },
  {
   "cell_type": "code",
   "execution_count": 13,
   "metadata": {},
   "outputs": [],
   "source": [
    "filtered_news['Good news'] = filtered_news['Good news'].map({'neutral': 'UNKNOWN', 'negative': 'NO', 'positive': 'YES'})"
   ]
  },
  {
   "cell_type": "code",
   "execution_count": 14,
   "metadata": {},
   "outputs": [
    {
     "data": {
      "text/html": [
       "<div>\n",
       "<style scoped>\n",
       "    .dataframe tbody tr th:only-of-type {\n",
       "        vertical-align: middle;\n",
       "    }\n",
       "\n",
       "    .dataframe tbody tr th {\n",
       "        vertical-align: top;\n",
       "    }\n",
       "\n",
       "    .dataframe thead th {\n",
       "        text-align: right;\n",
       "    }\n",
       "</style>\n",
       "<table border=\"1\" class=\"dataframe\">\n",
       "  <thead>\n",
       "    <tr style=\"text-align: right;\">\n",
       "      <th></th>\n",
       "      <th>headline</th>\n",
       "      <th>date</th>\n",
       "      <th>Good news</th>\n",
       "    </tr>\n",
       "    <tr>\n",
       "      <th>versionCreated</th>\n",
       "      <th></th>\n",
       "      <th></th>\n",
       "      <th></th>\n",
       "    </tr>\n",
       "  </thead>\n",
       "  <tbody>\n",
       "    <tr>\n",
       "      <th>2025-03-18 23:54:08.068</th>\n",
       "      <td>Congressman Nick Begich signals growing support for The Bitcoin Act to acquire 1 million BTC</td>\n",
       "      <td>2025-03-18</td>\n",
       "      <td>YES</td>\n",
       "    </tr>\n",
       "    <tr>\n",
       "      <th>2025-03-17 23:38:06.756</th>\n",
       "      <td>Sentiment analysis for important coins. Bitcoin currently in negative territory</td>\n",
       "      <td>2025-03-17</td>\n",
       "      <td>NO</td>\n",
       "    </tr>\n",
       "    <tr>\n",
       "      <th>2025-03-16 23:36:08.366</th>\n",
       "      <td>South Korean Central Bank 'Negative' About Launching Strategic Bitcoin Reserve</td>\n",
       "      <td>2025-03-16</td>\n",
       "      <td>UNKNOWN</td>\n",
       "    </tr>\n",
       "    <tr>\n",
       "      <th>2025-03-15 23:51:58.464</th>\n",
       "      <td>Elon Musk's Favorite Dogecoin Sees Massive Sell-Off-Miners Dump 65M DOGE in 48 Hours</td>\n",
       "      <td>2025-03-15</td>\n",
       "      <td>UNKNOWN</td>\n",
       "    </tr>\n",
       "    <tr>\n",
       "      <th>2025-03-14 23:37:06.978</th>\n",
       "      <td>Weekly: The Hour Glass (AGS: SGD1.58) decreases 0.6% on weak volume; -1c [0.6%]</td>\n",
       "      <td>2025-03-14</td>\n",
       "      <td>NO</td>\n",
       "    </tr>\n",
       "    <tr>\n",
       "      <th>2025-03-13 23:58:14.660</th>\n",
       "      <td>B.C. court grants production order to man defrauded out of $26 million in bitcoin</td>\n",
       "      <td>2025-03-13</td>\n",
       "      <td>NO</td>\n",
       "    </tr>\n",
       "    <tr>\n",
       "      <th>2025-03-12 23:46:59.468</th>\n",
       "      <td>State-backed Bolivian energy firm YPFB turns to crypto amid painful dollar shortage</td>\n",
       "      <td>2025-03-12</td>\n",
       "      <td>UNKNOWN</td>\n",
       "    </tr>\n",
       "    <tr>\n",
       "      <th>2025-03-11 23:58:40.075</th>\n",
       "      <td>Why Are Bitcoin, XRP, Dogecoin, and Cardano Prices Going Up Today?</td>\n",
       "      <td>2025-03-11</td>\n",
       "      <td>UNKNOWN</td>\n",
       "    </tr>\n",
       "    <tr>\n",
       "      <th>2025-03-10 23:56:06.291</th>\n",
       "      <td>Recession risks roil markets as investors dump stocks, bitcoin</td>\n",
       "      <td>2025-03-10</td>\n",
       "      <td>NO</td>\n",
       "    </tr>\n",
       "    <tr>\n",
       "      <th>2025-03-09 23:49:37.903</th>\n",
       "      <td>Bitcoin Dips Again As The Market Takes Hectic Rollercoaster Ride</td>\n",
       "      <td>2025-03-09</td>\n",
       "      <td>UNKNOWN</td>\n",
       "    </tr>\n",
       "    <tr>\n",
       "      <th>2025-03-08 23:57:02.585</th>\n",
       "      <td>Mexican Billionaire Salinas Says He Has 70% Bitcoin-Related Exposure</td>\n",
       "      <td>2025-03-08</td>\n",
       "      <td>UNKNOWN</td>\n",
       "    </tr>\n",
       "    <tr>\n",
       "      <th>2025-03-07 23:56:13.410</th>\n",
       "      <td>VanEck Reveals Budget Neutral Ways for US to Expand Its Bitcoin Reserve</td>\n",
       "      <td>2025-03-07</td>\n",
       "      <td>UNKNOWN</td>\n",
       "    </tr>\n",
       "    <tr>\n",
       "      <th>2025-03-06 23:57:11.432</th>\n",
       "      <td>iShares Bitcoin Trust (NASDAQ:IBIT) Shares Gap Up - Time to Buy?</td>\n",
       "      <td>2025-03-06</td>\n",
       "      <td>UNKNOWN</td>\n",
       "    </tr>\n",
       "    <tr>\n",
       "      <th>2025-03-05 23:59:15.010</th>\n",
       "      <td>Bitcoin and the Importance of Consistent Price Analysis for Investors</td>\n",
       "      <td>2025-03-05</td>\n",
       "      <td>UNKNOWN</td>\n",
       "    </tr>\n",
       "    <tr>\n",
       "      <th>2025-03-04 23:53:10.640</th>\n",
       "      <td>Backlash to crypto-reserve plan raises doubts on its prospects</td>\n",
       "      <td>2025-03-04</td>\n",
       "      <td>NO</td>\n",
       "    </tr>\n",
       "    <tr>\n",
       "      <th>2025-03-03 23:50:11.595</th>\n",
       "      <td>Saylor predicts Bitcoin's monumental rise under Trump's crypto initiative</td>\n",
       "      <td>2025-03-03</td>\n",
       "      <td>YES</td>\n",
       "    </tr>\n",
       "    <tr>\n",
       "      <th>2025-03-02 23:57:08.986</th>\n",
       "      <td>Trump Announces Crypto Reserve Plan as Bitcoin Dominance Falls Below 50%</td>\n",
       "      <td>2025-03-02</td>\n",
       "      <td>UNKNOWN</td>\n",
       "    </tr>\n",
       "    <tr>\n",
       "      <th>2025-03-01 23:37:04.385</th>\n",
       "      <td>Swiss Central Bank President Declares Bitcoin Not a Reliable Reserve Asset: Report</td>\n",
       "      <td>2025-03-01</td>\n",
       "      <td>UNKNOWN</td>\n",
       "    </tr>\n",
       "    <tr>\n",
       "      <th>2025-02-28 23:57:09.143</th>\n",
       "      <td>Promising New Crypto to Buy After Michael Saylor Says Don't Sell Bitcoin</td>\n",
       "      <td>2025-02-28</td>\n",
       "      <td>UNKNOWN</td>\n",
       "    </tr>\n",
       "    <tr>\n",
       "      <th>2025-02-27 23:58:08.462</th>\n",
       "      <td>Crypto Fear and Greed Index hits three-year low as sell-off from recent buyers weighs on Bitcoin</td>\n",
       "      <td>2025-02-27</td>\n",
       "      <td>NO</td>\n",
       "    </tr>\n",
       "    <tr>\n",
       "      <th>2025-02-26 23:54:09.530</th>\n",
       "      <td>Stock Market: The End Of A Bullish Cycle?</td>\n",
       "      <td>2025-02-26</td>\n",
       "      <td>UNKNOWN</td>\n",
       "    </tr>\n",
       "    <tr>\n",
       "      <th>2025-02-25 23:49:09.855</th>\n",
       "      <td>BTCW Bitcoin Well 742,789 shares for debt</td>\n",
       "      <td>2025-02-25</td>\n",
       "      <td>UNKNOWN</td>\n",
       "    </tr>\n",
       "    <tr>\n",
       "      <th>2025-02-24 23:50:13.611</th>\n",
       "      <td>Bitcoin Slips Under $94K as Stocks Try to Shake Last Week's Jitters</td>\n",
       "      <td>2025-02-24</td>\n",
       "      <td>UNKNOWN</td>\n",
       "    </tr>\n",
       "    <tr>\n",
       "      <th>2025-02-23 23:48:14.072</th>\n",
       "      <td>Bitcoin Stocks To Follow Now – February 23rd</td>\n",
       "      <td>2025-02-23</td>\n",
       "      <td>UNKNOWN</td>\n",
       "    </tr>\n",
       "    <tr>\n",
       "      <th>2025-02-22 23:52:39.075</th>\n",
       "      <td>South Africa's Altvest Capital Seeks Regulatory Approval to Hold Bitcoin as Primary Treasury Asset</td>\n",
       "      <td>2025-02-22</td>\n",
       "      <td>UNKNOWN</td>\n",
       "    </tr>\n",
       "    <tr>\n",
       "      <th>2025-02-21 23:54:46.649</th>\n",
       "      <td>Bitcoin and digital asset bills filed in at least 31 states</td>\n",
       "      <td>2025-02-21</td>\n",
       "      <td>UNKNOWN</td>\n",
       "    </tr>\n",
       "    <tr>\n",
       "      <th>2025-02-20 23:42:10.050</th>\n",
       "      <td>Το Bitcoin οδεύει προς τα 120.000$ – Αξίζει να επενδύσετε σε altcoins στο dip?</td>\n",
       "      <td>2025-02-20</td>\n",
       "      <td>UNKNOWN</td>\n",
       "    </tr>\n",
       "    <tr>\n",
       "      <th>2025-02-19 23:46:55.110</th>\n",
       "      <td>Athena Bitcoin Global (ABIT: 6.28c) soars 10%; +0.58c [10.2%]</td>\n",
       "      <td>2025-02-19</td>\n",
       "      <td>YES</td>\n",
       "    </tr>\n",
       "    <tr>\n",
       "      <th>2025-02-18 23:43:08.195</th>\n",
       "      <td>GENIUS Act Vs. Waters Bill: Competing Paths For U.S. Stablecoin Regulation</td>\n",
       "      <td>2025-02-18</td>\n",
       "      <td>UNKNOWN</td>\n",
       "    </tr>\n",
       "    <tr>\n",
       "      <th>2025-02-17 23:46:08.726</th>\n",
       "      <td>Should You Buy Bitcoin If There's a Dip Soon?</td>\n",
       "      <td>2025-02-17</td>\n",
       "      <td>UNKNOWN</td>\n",
       "    </tr>\n",
       "    <tr>\n",
       "      <th>2025-02-16 23:41:56.965</th>\n",
       "      <td>Elon Musk's D.O.G.E looks to update US gold reserves with Bitcoin after Fort Knox audit</td>\n",
       "      <td>2025-02-16</td>\n",
       "      <td>UNKNOWN</td>\n",
       "    </tr>\n",
       "    <tr>\n",
       "      <th>2025-02-15 23:51:19.299</th>\n",
       "      <td>Bitcoin (BTC) and Ethereum (ETH) Whales Rapidly Accumulate $0.006 Crypto with 18,333% Growth Potential</td>\n",
       "      <td>2025-02-15</td>\n",
       "      <td>UNKNOWN</td>\n",
       "    </tr>\n",
       "    <tr>\n",
       "      <th>2025-02-14 23:48:11.195</th>\n",
       "      <td>The $800 million Bitcoin hunt: Man's final bid to retrieve lost hard drive</td>\n",
       "      <td>2025-02-14</td>\n",
       "      <td>UNKNOWN</td>\n",
       "    </tr>\n",
       "    <tr>\n",
       "      <th>2025-02-13 23:50:10.351</th>\n",
       "      <td>Man in yearslong battle to retrieve lost Bitcoin hard drive worth around $800 million offers to buy landfill</td>\n",
       "      <td>2025-02-13</td>\n",
       "      <td>UNKNOWN</td>\n",
       "    </tr>\n",
       "    <tr>\n",
       "      <th>2025-02-12 23:53:09.953</th>\n",
       "      <td>Wyoming's WHPA becomes the first law enforcement association to hold Bitcoin in the U.S.</td>\n",
       "      <td>2025-02-12</td>\n",
       "      <td>UNKNOWN</td>\n",
       "    </tr>\n",
       "    <tr>\n",
       "      <th>2025-02-11 23:53:06.668</th>\n",
       "      <td>Bitcoin today by TradeCompass</td>\n",
       "      <td>2025-02-11</td>\n",
       "      <td>UNKNOWN</td>\n",
       "    </tr>\n",
       "    <tr>\n",
       "      <th>2025-02-10 23:48:00.102</th>\n",
       "      <td>Man pleads guilty to role in SEC social media account hack that led the price of bitcoin to spike</td>\n",
       "      <td>2025-02-10</td>\n",
       "      <td>NO</td>\n",
       "    </tr>\n",
       "    <tr>\n",
       "      <th>2025-02-09 23:26:36.262</th>\n",
       "      <td>Man wants to buy tip where he lost Bitcoin fortune 1 hour ago David Grundy BBC News What is Bitcoin?</td>\n",
       "      <td>2025-02-09</td>\n",
       "      <td>UNKNOWN</td>\n",
       "    </tr>\n",
       "    <tr>\n",
       "      <th>2025-02-08 23:39:08.380</th>\n",
       "      <td>Bitcoin Hashrate Smashes Records With 852 EH/s Frenzy—Zettahash Era Inches Closer</td>\n",
       "      <td>2025-02-08</td>\n",
       "      <td>UNKNOWN</td>\n",
       "    </tr>\n",
       "    <tr>\n",
       "      <th>2025-02-07 23:27:21.415</th>\n",
       "      <td>Weekly: The Hour Glass (AGS: SGD1.55) keeps sliding: down 2.5% in 3 weeks; -2c [1.3%]</td>\n",
       "      <td>2025-02-07</td>\n",
       "      <td>NO</td>\n",
       "    </tr>\n",
       "    <tr>\n",
       "      <th>2025-02-06 23:59:07.626</th>\n",
       "      <td>Brazil's Galipolo sees surge in crypto use, says 90% of flow tied to stablecoins</td>\n",
       "      <td>2025-02-06</td>\n",
       "      <td>YES</td>\n",
       "    </tr>\n",
       "    <tr>\n",
       "      <th>2025-02-05 23:59:41.239</th>\n",
       "      <td>Bitcoin Faces Weak Retail Demand As Addresses Holding 0-1 BTC Decline – Expert Reports</td>\n",
       "      <td>2025-02-05</td>\n",
       "      <td>UNKNOWN</td>\n",
       "    </tr>\n",
       "    <tr>\n",
       "      <th>2025-02-04 23:53:21.451</th>\n",
       "      <td>Semler Scientific (NASDAQ:SMLR) Announces Updates on Bitcoin Holdings and BTC Yield Performance</td>\n",
       "      <td>2025-02-04</td>\n",
       "      <td>UNKNOWN</td>\n",
       "    </tr>\n",
       "    <tr>\n",
       "      <th>2025-02-03 23:45:37.109</th>\n",
       "      <td>Bitcoin Bounces Above $100K, XRP Surges 40% as Trade War Tensions Suddenly Ease</td>\n",
       "      <td>2025-02-03</td>\n",
       "      <td>UNKNOWN</td>\n",
       "    </tr>\n",
       "    <tr>\n",
       "      <th>2025-02-02 23:59:36.952</th>\n",
       "      <td>Bitcoin slides below $100,000 as tariffs rattle markets</td>\n",
       "      <td>2025-02-02</td>\n",
       "      <td>UNKNOWN</td>\n",
       "    </tr>\n",
       "    <tr>\n",
       "      <th>2025-02-01 23:58:02.430</th>\n",
       "      <td>Bitcoin Sinks to $100K as Trump Imposes Tariffs on Canada, Mexico, China</td>\n",
       "      <td>2025-02-01</td>\n",
       "      <td>UNKNOWN</td>\n",
       "    </tr>\n",
       "  </tbody>\n",
       "</table>\n",
       "</div>"
      ],
      "text/plain": [
       "                                                                                                                             headline  \\\n",
       "versionCreated                                                                                                                          \n",
       "2025-03-18 23:54:08.068                  Congressman Nick Begich signals growing support for The Bitcoin Act to acquire 1 million BTC   \n",
       "2025-03-17 23:38:06.756                               Sentiment analysis for important coins. Bitcoin currently in negative territory   \n",
       "2025-03-16 23:36:08.366                                South Korean Central Bank 'Negative' About Launching Strategic Bitcoin Reserve   \n",
       "2025-03-15 23:51:58.464                          Elon Musk's Favorite Dogecoin Sees Massive Sell-Off-Miners Dump 65M DOGE in 48 Hours   \n",
       "2025-03-14 23:37:06.978                               Weekly: The Hour Glass (AGS: SGD1.58) decreases 0.6% on weak volume; -1c [0.6%]   \n",
       "2025-03-13 23:58:14.660                             B.C. court grants production order to man defrauded out of $26 million in bitcoin   \n",
       "2025-03-12 23:46:59.468                           State-backed Bolivian energy firm YPFB turns to crypto amid painful dollar shortage   \n",
       "2025-03-11 23:58:40.075                                            Why Are Bitcoin, XRP, Dogecoin, and Cardano Prices Going Up Today?   \n",
       "2025-03-10 23:56:06.291                                                Recession risks roil markets as investors dump stocks, bitcoin   \n",
       "2025-03-09 23:49:37.903                                              Bitcoin Dips Again As The Market Takes Hectic Rollercoaster Ride   \n",
       "2025-03-08 23:57:02.585                                          Mexican Billionaire Salinas Says He Has 70% Bitcoin-Related Exposure   \n",
       "2025-03-07 23:56:13.410                                       VanEck Reveals Budget Neutral Ways for US to Expand Its Bitcoin Reserve   \n",
       "2025-03-06 23:57:11.432                                              iShares Bitcoin Trust (NASDAQ:IBIT) Shares Gap Up - Time to Buy?   \n",
       "2025-03-05 23:59:15.010                                         Bitcoin and the Importance of Consistent Price Analysis for Investors   \n",
       "2025-03-04 23:53:10.640                                                Backlash to crypto-reserve plan raises doubts on its prospects   \n",
       "2025-03-03 23:50:11.595                                     Saylor predicts Bitcoin's monumental rise under Trump's crypto initiative   \n",
       "2025-03-02 23:57:08.986                                      Trump Announces Crypto Reserve Plan as Bitcoin Dominance Falls Below 50%   \n",
       "2025-03-01 23:37:04.385                            Swiss Central Bank President Declares Bitcoin Not a Reliable Reserve Asset: Report   \n",
       "2025-02-28 23:57:09.143                                      Promising New Crypto to Buy After Michael Saylor Says Don't Sell Bitcoin   \n",
       "2025-02-27 23:58:08.462              Crypto Fear and Greed Index hits three-year low as sell-off from recent buyers weighs on Bitcoin   \n",
       "2025-02-26 23:54:09.530                                                                     Stock Market: The End Of A Bullish Cycle?   \n",
       "2025-02-25 23:49:09.855                                                                     BTCW Bitcoin Well 742,789 shares for debt   \n",
       "2025-02-24 23:50:13.611                                           Bitcoin Slips Under $94K as Stocks Try to Shake Last Week's Jitters   \n",
       "2025-02-23 23:48:14.072                                                                  Bitcoin Stocks To Follow Now – February 23rd   \n",
       "2025-02-22 23:52:39.075            South Africa's Altvest Capital Seeks Regulatory Approval to Hold Bitcoin as Primary Treasury Asset   \n",
       "2025-02-21 23:54:46.649                                                   Bitcoin and digital asset bills filed in at least 31 states   \n",
       "2025-02-20 23:42:10.050                                Το Bitcoin οδεύει προς τα 120.000$ – Αξίζει να επενδύσετε σε altcoins στο dip?   \n",
       "2025-02-19 23:46:55.110                                                 Athena Bitcoin Global (ABIT: 6.28c) soars 10%; +0.58c [10.2%]   \n",
       "2025-02-18 23:43:08.195                                    GENIUS Act Vs. Waters Bill: Competing Paths For U.S. Stablecoin Regulation   \n",
       "2025-02-17 23:46:08.726                                                                 Should You Buy Bitcoin If There's a Dip Soon?   \n",
       "2025-02-16 23:41:56.965                       Elon Musk's D.O.G.E looks to update US gold reserves with Bitcoin after Fort Knox audit   \n",
       "2025-02-15 23:51:19.299        Bitcoin (BTC) and Ethereum (ETH) Whales Rapidly Accumulate $0.006 Crypto with 18,333% Growth Potential   \n",
       "2025-02-14 23:48:11.195                                    The $800 million Bitcoin hunt: Man's final bid to retrieve lost hard drive   \n",
       "2025-02-13 23:50:10.351  Man in yearslong battle to retrieve lost Bitcoin hard drive worth around $800 million offers to buy landfill   \n",
       "2025-02-12 23:53:09.953                      Wyoming's WHPA becomes the first law enforcement association to hold Bitcoin in the U.S.   \n",
       "2025-02-11 23:53:06.668                                                                                 Bitcoin today by TradeCompass   \n",
       "2025-02-10 23:48:00.102             Man pleads guilty to role in SEC social media account hack that led the price of bitcoin to spike   \n",
       "2025-02-09 23:26:36.262          Man wants to buy tip where he lost Bitcoin fortune 1 hour ago David Grundy BBC News What is Bitcoin?   \n",
       "2025-02-08 23:39:08.380                             Bitcoin Hashrate Smashes Records With 852 EH/s Frenzy—Zettahash Era Inches Closer   \n",
       "2025-02-07 23:27:21.415                         Weekly: The Hour Glass (AGS: SGD1.55) keeps sliding: down 2.5% in 3 weeks; -2c [1.3%]   \n",
       "2025-02-06 23:59:07.626                              Brazil's Galipolo sees surge in crypto use, says 90% of flow tied to stablecoins   \n",
       "2025-02-05 23:59:41.239                        Bitcoin Faces Weak Retail Demand As Addresses Holding 0-1 BTC Decline – Expert Reports   \n",
       "2025-02-04 23:53:21.451               Semler Scientific (NASDAQ:SMLR) Announces Updates on Bitcoin Holdings and BTC Yield Performance   \n",
       "2025-02-03 23:45:37.109                               Bitcoin Bounces Above $100K, XRP Surges 40% as Trade War Tensions Suddenly Ease   \n",
       "2025-02-02 23:59:36.952                                                       Bitcoin slides below $100,000 as tariffs rattle markets   \n",
       "2025-02-01 23:58:02.430                                      Bitcoin Sinks to $100K as Trump Imposes Tariffs on Canada, Mexico, China   \n",
       "\n",
       "                               date Good news  \n",
       "versionCreated                                 \n",
       "2025-03-18 23:54:08.068  2025-03-18       YES  \n",
       "2025-03-17 23:38:06.756  2025-03-17        NO  \n",
       "2025-03-16 23:36:08.366  2025-03-16   UNKNOWN  \n",
       "2025-03-15 23:51:58.464  2025-03-15   UNKNOWN  \n",
       "2025-03-14 23:37:06.978  2025-03-14        NO  \n",
       "2025-03-13 23:58:14.660  2025-03-13        NO  \n",
       "2025-03-12 23:46:59.468  2025-03-12   UNKNOWN  \n",
       "2025-03-11 23:58:40.075  2025-03-11   UNKNOWN  \n",
       "2025-03-10 23:56:06.291  2025-03-10        NO  \n",
       "2025-03-09 23:49:37.903  2025-03-09   UNKNOWN  \n",
       "2025-03-08 23:57:02.585  2025-03-08   UNKNOWN  \n",
       "2025-03-07 23:56:13.410  2025-03-07   UNKNOWN  \n",
       "2025-03-06 23:57:11.432  2025-03-06   UNKNOWN  \n",
       "2025-03-05 23:59:15.010  2025-03-05   UNKNOWN  \n",
       "2025-03-04 23:53:10.640  2025-03-04        NO  \n",
       "2025-03-03 23:50:11.595  2025-03-03       YES  \n",
       "2025-03-02 23:57:08.986  2025-03-02   UNKNOWN  \n",
       "2025-03-01 23:37:04.385  2025-03-01   UNKNOWN  \n",
       "2025-02-28 23:57:09.143  2025-02-28   UNKNOWN  \n",
       "2025-02-27 23:58:08.462  2025-02-27        NO  \n",
       "2025-02-26 23:54:09.530  2025-02-26   UNKNOWN  \n",
       "2025-02-25 23:49:09.855  2025-02-25   UNKNOWN  \n",
       "2025-02-24 23:50:13.611  2025-02-24   UNKNOWN  \n",
       "2025-02-23 23:48:14.072  2025-02-23   UNKNOWN  \n",
       "2025-02-22 23:52:39.075  2025-02-22   UNKNOWN  \n",
       "2025-02-21 23:54:46.649  2025-02-21   UNKNOWN  \n",
       "2025-02-20 23:42:10.050  2025-02-20   UNKNOWN  \n",
       "2025-02-19 23:46:55.110  2025-02-19       YES  \n",
       "2025-02-18 23:43:08.195  2025-02-18   UNKNOWN  \n",
       "2025-02-17 23:46:08.726  2025-02-17   UNKNOWN  \n",
       "2025-02-16 23:41:56.965  2025-02-16   UNKNOWN  \n",
       "2025-02-15 23:51:19.299  2025-02-15   UNKNOWN  \n",
       "2025-02-14 23:48:11.195  2025-02-14   UNKNOWN  \n",
       "2025-02-13 23:50:10.351  2025-02-13   UNKNOWN  \n",
       "2025-02-12 23:53:09.953  2025-02-12   UNKNOWN  \n",
       "2025-02-11 23:53:06.668  2025-02-11   UNKNOWN  \n",
       "2025-02-10 23:48:00.102  2025-02-10        NO  \n",
       "2025-02-09 23:26:36.262  2025-02-09   UNKNOWN  \n",
       "2025-02-08 23:39:08.380  2025-02-08   UNKNOWN  \n",
       "2025-02-07 23:27:21.415  2025-02-07        NO  \n",
       "2025-02-06 23:59:07.626  2025-02-06       YES  \n",
       "2025-02-05 23:59:41.239  2025-02-05   UNKNOWN  \n",
       "2025-02-04 23:53:21.451  2025-02-04   UNKNOWN  \n",
       "2025-02-03 23:45:37.109  2025-02-03   UNKNOWN  \n",
       "2025-02-02 23:59:36.952  2025-02-02   UNKNOWN  \n",
       "2025-02-01 23:58:02.430  2025-02-01   UNKNOWN  "
      ]
     },
     "execution_count": 14,
     "metadata": {},
     "output_type": "execute_result"
    }
   ],
   "source": [
    "pd.set_option('display.max_rows', None)\n",
    "filtered_news"
   ]
  },
  {
   "cell_type": "markdown",
   "metadata": {},
   "source": [
    "# Visualization"
   ]
  },
  {
   "cell_type": "code",
   "execution_count": 15,
   "metadata": {},
   "outputs": [
    {
     "data": {
      "text/plain": [
       "<Axes: title={'center': 'Good news vs Bad news'}, xlabel='Good news'>"
      ]
     },
     "execution_count": 15,
     "metadata": {},
     "output_type": "execute_result"
    },
    {
     "data": {
      "image/png": "[encoded data removed]",
      "text/plain": [
       "<Figure size 640x480 with 1 Axes>"
      ]
     },
     "metadata": {},
     "output_type": "display_data"
    }
   ],
   "source": [
    "filtered_news['Good news'].value_counts().plot.bar(title='Good news vs Bad news')"
   ]
  },
  {
   "cell_type": "code",
   "execution_count": 16,
   "metadata": {},
   "outputs": [],
   "source": [
    "filtered_news.to_csv('dataset/news_headline_sentiment.csv', index=False)"
   ]
  },
  {
   "cell_type": "code",
   "execution_count": 17,
   "metadata": {},
   "outputs": [
    {
     "data": {
      "text/html": [
       "<div>\n",
       "<style scoped>\n",
       "    .dataframe tbody tr th:only-of-type {\n",
       "        vertical-align: middle;\n",
       "    }\n",
       "\n",
       "    .dataframe tbody tr th {\n",
       "        vertical-align: top;\n",
       "    }\n",
       "\n",
       "    .dataframe thead th {\n",
       "        text-align: right;\n",
       "    }\n",
       "</style>\n",
       "<table border=\"1\" class=\"dataframe\">\n",
       "  <thead>\n",
       "    <tr style=\"text-align: right;\">\n",
       "      <th></th>\n",
       "      <th>headline</th>\n",
       "      <th>date</th>\n",
       "      <th>Good news</th>\n",
       "    </tr>\n",
       "  </thead>\n",
       "  <tbody>\n",
       "    <tr>\n",
       "      <th>0</th>\n",
       "      <td>Congressman Nick Begich signals growing support for The Bitcoin Act to acquire 1 million BTC</td>\n",
       "      <td>2025-03-18</td>\n",
       "      <td>YES</td>\n",
       "    </tr>\n",
       "    <tr>\n",
       "      <th>1</th>\n",
       "      <td>Sentiment analysis for important coins. Bitcoin currently in negative territory</td>\n",
       "      <td>2025-03-17</td>\n",
       "      <td>NO</td>\n",
       "    </tr>\n",
       "    <tr>\n",
       "      <th>2</th>\n",
       "      <td>South Korean Central Bank 'Negative' About Launching Strategic Bitcoin Reserve</td>\n",
       "      <td>2025-03-16</td>\n",
       "      <td>UNKNOWN</td>\n",
       "    </tr>\n",
       "    <tr>\n",
       "      <th>3</th>\n",
       "      <td>Elon Musk's Favorite Dogecoin Sees Massive Sell-Off-Miners Dump 65M DOGE in 48 Hours</td>\n",
       "      <td>2025-03-15</td>\n",
       "      <td>UNKNOWN</td>\n",
       "    </tr>\n",
       "    <tr>\n",
       "      <th>4</th>\n",
       "      <td>Weekly: The Hour Glass (AGS: SGD1.58) decreases 0.6% on weak volume; -1c [0.6%]</td>\n",
       "      <td>2025-03-14</td>\n",
       "      <td>NO</td>\n",
       "    </tr>\n",
       "    <tr>\n",
       "      <th>5</th>\n",
       "      <td>B.C. court grants production order to man defrauded out of $26 million in bitcoin</td>\n",
       "      <td>2025-03-13</td>\n",
       "      <td>NO</td>\n",
       "    </tr>\n",
       "    <tr>\n",
       "      <th>6</th>\n",
       "      <td>State-backed Bolivian energy firm YPFB turns to crypto amid painful dollar shortage</td>\n",
       "      <td>2025-03-12</td>\n",
       "      <td>UNKNOWN</td>\n",
       "    </tr>\n",
       "    <tr>\n",
       "      <th>7</th>\n",
       "      <td>Why Are Bitcoin, XRP, Dogecoin, and Cardano Prices Going Up Today?</td>\n",
       "      <td>2025-03-11</td>\n",
       "      <td>UNKNOWN</td>\n",
       "    </tr>\n",
       "    <tr>\n",
       "      <th>8</th>\n",
       "      <td>Recession risks roil markets as investors dump stocks, bitcoin</td>\n",
       "      <td>2025-03-10</td>\n",
       "      <td>NO</td>\n",
       "    </tr>\n",
       "    <tr>\n",
       "      <th>9</th>\n",
       "      <td>Bitcoin Dips Again As The Market Takes Hectic Rollercoaster Ride</td>\n",
       "      <td>2025-03-09</td>\n",
       "      <td>UNKNOWN</td>\n",
       "    </tr>\n",
       "    <tr>\n",
       "      <th>10</th>\n",
       "      <td>Mexican Billionaire Salinas Says He Has 70% Bitcoin-Related Exposure</td>\n",
       "      <td>2025-03-08</td>\n",
       "      <td>UNKNOWN</td>\n",
       "    </tr>\n",
       "    <tr>\n",
       "      <th>11</th>\n",
       "      <td>VanEck Reveals Budget Neutral Ways for US to Expand Its Bitcoin Reserve</td>\n",
       "      <td>2025-03-07</td>\n",
       "      <td>UNKNOWN</td>\n",
       "    </tr>\n",
       "    <tr>\n",
       "      <th>12</th>\n",
       "      <td>iShares Bitcoin Trust (NASDAQ:IBIT) Shares Gap Up - Time to Buy?</td>\n",
       "      <td>2025-03-06</td>\n",
       "      <td>UNKNOWN</td>\n",
       "    </tr>\n",
       "    <tr>\n",
       "      <th>13</th>\n",
       "      <td>Bitcoin and the Importance of Consistent Price Analysis for Investors</td>\n",
       "      <td>2025-03-05</td>\n",
       "      <td>UNKNOWN</td>\n",
       "    </tr>\n",
       "    <tr>\n",
       "      <th>14</th>\n",
       "      <td>Backlash to crypto-reserve plan raises doubts on its prospects</td>\n",
       "      <td>2025-03-04</td>\n",
       "      <td>NO</td>\n",
       "    </tr>\n",
       "    <tr>\n",
       "      <th>15</th>\n",
       "      <td>Saylor predicts Bitcoin's monumental rise under Trump's crypto initiative</td>\n",
       "      <td>2025-03-03</td>\n",
       "      <td>YES</td>\n",
       "    </tr>\n",
       "    <tr>\n",
       "      <th>16</th>\n",
       "      <td>Trump Announces Crypto Reserve Plan as Bitcoin Dominance Falls Below 50%</td>\n",
       "      <td>2025-03-02</td>\n",
       "      <td>UNKNOWN</td>\n",
       "    </tr>\n",
       "    <tr>\n",
       "      <th>17</th>\n",
       "      <td>Swiss Central Bank President Declares Bitcoin Not a Reliable Reserve Asset: Report</td>\n",
       "      <td>2025-03-01</td>\n",
       "      <td>UNKNOWN</td>\n",
       "    </tr>\n",
       "    <tr>\n",
       "      <th>18</th>\n",
       "      <td>Promising New Crypto to Buy After Michael Saylor Says Don't Sell Bitcoin</td>\n",
       "      <td>2025-02-28</td>\n",
       "      <td>UNKNOWN</td>\n",
       "    </tr>\n",
       "    <tr>\n",
       "      <th>19</th>\n",
       "      <td>Crypto Fear and Greed Index hits three-year low as sell-off from recent buyers weighs on Bitcoin</td>\n",
       "      <td>2025-02-27</td>\n",
       "      <td>NO</td>\n",
       "    </tr>\n",
       "    <tr>\n",
       "      <th>20</th>\n",
       "      <td>Stock Market: The End Of A Bullish Cycle?</td>\n",
       "      <td>2025-02-26</td>\n",
       "      <td>UNKNOWN</td>\n",
       "    </tr>\n",
       "    <tr>\n",
       "      <th>21</th>\n",
       "      <td>BTCW Bitcoin Well 742,789 shares for debt</td>\n",
       "      <td>2025-02-25</td>\n",
       "      <td>UNKNOWN</td>\n",
       "    </tr>\n",
       "    <tr>\n",
       "      <th>22</th>\n",
       "      <td>Bitcoin Slips Under $94K as Stocks Try to Shake Last Week's Jitters</td>\n",
       "      <td>2025-02-24</td>\n",
       "      <td>UNKNOWN</td>\n",
       "    </tr>\n",
       "    <tr>\n",
       "      <th>23</th>\n",
       "      <td>Bitcoin Stocks To Follow Now – February 23rd</td>\n",
       "      <td>2025-02-23</td>\n",
       "      <td>UNKNOWN</td>\n",
       "    </tr>\n",
       "    <tr>\n",
       "      <th>24</th>\n",
       "      <td>South Africa's Altvest Capital Seeks Regulatory Approval to Hold Bitcoin as Primary Treasury Asset</td>\n",
       "      <td>2025-02-22</td>\n",
       "      <td>UNKNOWN</td>\n",
       "    </tr>\n",
       "    <tr>\n",
       "      <th>25</th>\n",
       "      <td>Bitcoin and digital asset bills filed in at least 31 states</td>\n",
       "      <td>2025-02-21</td>\n",
       "      <td>UNKNOWN</td>\n",
       "    </tr>\n",
       "    <tr>\n",
       "      <th>26</th>\n",
       "      <td>Το Bitcoin οδεύει προς τα 120.000$ – Αξίζει να επενδύσετε σε altcoins στο dip?</td>\n",
       "      <td>2025-02-20</td>\n",
       "      <td>UNKNOWN</td>\n",
       "    </tr>\n",
       "    <tr>\n",
       "      <th>27</th>\n",
       "      <td>Athena Bitcoin Global (ABIT: 6.28c) soars 10%; +0.58c [10.2%]</td>\n",
       "      <td>2025-02-19</td>\n",
       "      <td>YES</td>\n",
       "    </tr>\n",
       "    <tr>\n",
       "      <th>28</th>\n",
       "      <td>GENIUS Act Vs. Waters Bill: Competing Paths For U.S. Stablecoin Regulation</td>\n",
       "      <td>2025-02-18</td>\n",
       "      <td>UNKNOWN</td>\n",
       "    </tr>\n",
       "    <tr>\n",
       "      <th>29</th>\n",
       "      <td>Should You Buy Bitcoin If There's a Dip Soon?</td>\n",
       "      <td>2025-02-17</td>\n",
       "      <td>UNKNOWN</td>\n",
       "    </tr>\n",
       "    <tr>\n",
       "      <th>30</th>\n",
       "      <td>Elon Musk's D.O.G.E looks to update US gold reserves with Bitcoin after Fort Knox audit</td>\n",
       "      <td>2025-02-16</td>\n",
       "      <td>UNKNOWN</td>\n",
       "    </tr>\n",
       "    <tr>\n",
       "      <th>31</th>\n",
       "      <td>Bitcoin (BTC) and Ethereum (ETH) Whales Rapidly Accumulate $0.006 Crypto with 18,333% Growth Potential</td>\n",
       "      <td>2025-02-15</td>\n",
       "      <td>UNKNOWN</td>\n",
       "    </tr>\n",
       "    <tr>\n",
       "      <th>32</th>\n",
       "      <td>The $800 million Bitcoin hunt: Man's final bid to retrieve lost hard drive</td>\n",
       "      <td>2025-02-14</td>\n",
       "      <td>UNKNOWN</td>\n",
       "    </tr>\n",
       "    <tr>\n",
       "      <th>33</th>\n",
       "      <td>Man in yearslong battle to retrieve lost Bitcoin hard drive worth around $800 million offers to buy landfill</td>\n",
       "      <td>2025-02-13</td>\n",
       "      <td>UNKNOWN</td>\n",
       "    </tr>\n",
       "    <tr>\n",
       "      <th>34</th>\n",
       "      <td>Wyoming's WHPA becomes the first law enforcement association to hold Bitcoin in the U.S.</td>\n",
       "      <td>2025-02-12</td>\n",
       "      <td>UNKNOWN</td>\n",
       "    </tr>\n",
       "    <tr>\n",
       "      <th>35</th>\n",
       "      <td>Bitcoin today by TradeCompass</td>\n",
       "      <td>2025-02-11</td>\n",
       "      <td>UNKNOWN</td>\n",
       "    </tr>\n",
       "    <tr>\n",
       "      <th>36</th>\n",
       "      <td>Man pleads guilty to role in SEC social media account hack that led the price of bitcoin to spike</td>\n",
       "      <td>2025-02-10</td>\n",
       "      <td>NO</td>\n",
       "    </tr>\n",
       "    <tr>\n",
       "      <th>37</th>\n",
       "      <td>Man wants to buy tip where he lost Bitcoin fortune 1 hour ago David Grundy BBC News What is Bitcoin?</td>\n",
       "      <td>2025-02-09</td>\n",
       "      <td>UNKNOWN</td>\n",
       "    </tr>\n",
       "    <tr>\n",
       "      <th>38</th>\n",
       "      <td>Bitcoin Hashrate Smashes Records With 852 EH/s Frenzy—Zettahash Era Inches Closer</td>\n",
       "      <td>2025-02-08</td>\n",
       "      <td>UNKNOWN</td>\n",
       "    </tr>\n",
       "    <tr>\n",
       "      <th>39</th>\n",
       "      <td>Weekly: The Hour Glass (AGS: SGD1.55) keeps sliding: down 2.5% in 3 weeks; -2c [1.3%]</td>\n",
       "      <td>2025-02-07</td>\n",
       "      <td>NO</td>\n",
       "    </tr>\n",
       "    <tr>\n",
       "      <th>40</th>\n",
       "      <td>Brazil's Galipolo sees surge in crypto use, says 90% of flow tied to stablecoins</td>\n",
       "      <td>2025-02-06</td>\n",
       "      <td>YES</td>\n",
       "    </tr>\n",
       "    <tr>\n",
       "      <th>41</th>\n",
       "      <td>Bitcoin Faces Weak Retail Demand As Addresses Holding 0-1 BTC Decline – Expert Reports</td>\n",
       "      <td>2025-02-05</td>\n",
       "      <td>UNKNOWN</td>\n",
       "    </tr>\n",
       "    <tr>\n",
       "      <th>42</th>\n",
       "      <td>Semler Scientific (NASDAQ:SMLR) Announces Updates on Bitcoin Holdings and BTC Yield Performance</td>\n",
       "      <td>2025-02-04</td>\n",
       "      <td>UNKNOWN</td>\n",
       "    </tr>\n",
       "    <tr>\n",
       "      <th>43</th>\n",
       "      <td>Bitcoin Bounces Above $100K, XRP Surges 40% as Trade War Tensions Suddenly Ease</td>\n",
       "      <td>2025-02-03</td>\n",
       "      <td>UNKNOWN</td>\n",
       "    </tr>\n",
       "    <tr>\n",
       "      <th>44</th>\n",
       "      <td>Bitcoin slides below $100,000 as tariffs rattle markets</td>\n",
       "      <td>2025-02-02</td>\n",
       "      <td>UNKNOWN</td>\n",
       "    </tr>\n",
       "    <tr>\n",
       "      <th>45</th>\n",
       "      <td>Bitcoin Sinks to $100K as Trump Imposes Tariffs on Canada, Mexico, China</td>\n",
       "      <td>2025-02-01</td>\n",
       "      <td>UNKNOWN</td>\n",
       "    </tr>\n",
       "  </tbody>\n",
       "</table>\n",
       "</div>"
      ],
      "text/plain": [
       "                                                                                                        headline  \\\n",
       "0                   Congressman Nick Begich signals growing support for The Bitcoin Act to acquire 1 million BTC   \n",
       "1                                Sentiment analysis for important coins. Bitcoin currently in negative territory   \n",
       "2                                 South Korean Central Bank 'Negative' About Launching Strategic Bitcoin Reserve   \n",
       "3                           Elon Musk's Favorite Dogecoin Sees Massive Sell-Off-Miners Dump 65M DOGE in 48 Hours   \n",
       "4                                Weekly: The Hour Glass (AGS: SGD1.58) decreases 0.6% on weak volume; -1c [0.6%]   \n",
       "5                              B.C. court grants production order to man defrauded out of $26 million in bitcoin   \n",
       "6                            State-backed Bolivian energy firm YPFB turns to crypto amid painful dollar shortage   \n",
       "7                                             Why Are Bitcoin, XRP, Dogecoin, and Cardano Prices Going Up Today?   \n",
       "8                                                 Recession risks roil markets as investors dump stocks, bitcoin   \n",
       "9                                               Bitcoin Dips Again As The Market Takes Hectic Rollercoaster Ride   \n",
       "10                                          Mexican Billionaire Salinas Says He Has 70% Bitcoin-Related Exposure   \n",
       "11                                       VanEck Reveals Budget Neutral Ways for US to Expand Its Bitcoin Reserve   \n",
       "12                                              iShares Bitcoin Trust (NASDAQ:IBIT) Shares Gap Up - Time to Buy?   \n",
       "13                                         Bitcoin and the Importance of Consistent Price Analysis for Investors   \n",
       "14                                                Backlash to crypto-reserve plan raises doubts on its prospects   \n",
       "15                                     Saylor predicts Bitcoin's monumental rise under Trump's crypto initiative   \n",
       "16                                      Trump Announces Crypto Reserve Plan as Bitcoin Dominance Falls Below 50%   \n",
       "17                            Swiss Central Bank President Declares Bitcoin Not a Reliable Reserve Asset: Report   \n",
       "18                                      Promising New Crypto to Buy After Michael Saylor Says Don't Sell Bitcoin   \n",
       "19              Crypto Fear and Greed Index hits three-year low as sell-off from recent buyers weighs on Bitcoin   \n",
       "20                                                                     Stock Market: The End Of A Bullish Cycle?   \n",
       "21                                                                     BTCW Bitcoin Well 742,789 shares for debt   \n",
       "22                                           Bitcoin Slips Under $94K as Stocks Try to Shake Last Week's Jitters   \n",
       "23                                                                  Bitcoin Stocks To Follow Now – February 23rd   \n",
       "24            South Africa's Altvest Capital Seeks Regulatory Approval to Hold Bitcoin as Primary Treasury Asset   \n",
       "25                                                   Bitcoin and digital asset bills filed in at least 31 states   \n",
       "26                                Το Bitcoin οδεύει προς τα 120.000$ – Αξίζει να επενδύσετε σε altcoins στο dip?   \n",
       "27                                                 Athena Bitcoin Global (ABIT: 6.28c) soars 10%; +0.58c [10.2%]   \n",
       "28                                    GENIUS Act Vs. Waters Bill: Competing Paths For U.S. Stablecoin Regulation   \n",
       "29                                                                 Should You Buy Bitcoin If There's a Dip Soon?   \n",
       "30                       Elon Musk's D.O.G.E looks to update US gold reserves with Bitcoin after Fort Knox audit   \n",
       "31        Bitcoin (BTC) and Ethereum (ETH) Whales Rapidly Accumulate $0.006 Crypto with 18,333% Growth Potential   \n",
       "32                                    The $800 million Bitcoin hunt: Man's final bid to retrieve lost hard drive   \n",
       "33  Man in yearslong battle to retrieve lost Bitcoin hard drive worth around $800 million offers to buy landfill   \n",
       "34                      Wyoming's WHPA becomes the first law enforcement association to hold Bitcoin in the U.S.   \n",
       "35                                                                                 Bitcoin today by TradeCompass   \n",
       "36             Man pleads guilty to role in SEC social media account hack that led the price of bitcoin to spike   \n",
       "37          Man wants to buy tip where he lost Bitcoin fortune 1 hour ago David Grundy BBC News What is Bitcoin?   \n",
       "38                             Bitcoin Hashrate Smashes Records With 852 EH/s Frenzy—Zettahash Era Inches Closer   \n",
       "39                         Weekly: The Hour Glass (AGS: SGD1.55) keeps sliding: down 2.5% in 3 weeks; -2c [1.3%]   \n",
       "40                              Brazil's Galipolo sees surge in crypto use, says 90% of flow tied to stablecoins   \n",
       "41                        Bitcoin Faces Weak Retail Demand As Addresses Holding 0-1 BTC Decline – Expert Reports   \n",
       "42               Semler Scientific (NASDAQ:SMLR) Announces Updates on Bitcoin Holdings and BTC Yield Performance   \n",
       "43                               Bitcoin Bounces Above $100K, XRP Surges 40% as Trade War Tensions Suddenly Ease   \n",
       "44                                                       Bitcoin slides below $100,000 as tariffs rattle markets   \n",
       "45                                      Bitcoin Sinks to $100K as Trump Imposes Tariffs on Canada, Mexico, China   \n",
       "\n",
       "         date Good news  \n",
       "0  2025-03-18       YES  \n",
       "1  2025-03-17        NO  \n",
       "2  2025-03-16   UNKNOWN  \n",
       "3  2025-03-15   UNKNOWN  \n",
       "4  2025-03-14        NO  \n",
       "5  2025-03-13        NO  \n",
       "6  2025-03-12   UNKNOWN  \n",
       "7  2025-03-11   UNKNOWN  \n",
       "8  2025-03-10        NO  \n",
       "9  2025-03-09   UNKNOWN  \n",
       "10 2025-03-08   UNKNOWN  \n",
       "11 2025-03-07   UNKNOWN  \n",
       "12 2025-03-06   UNKNOWN  \n",
       "13 2025-03-05   UNKNOWN  \n",
       "14 2025-03-04        NO  \n",
       "15 2025-03-03       YES  \n",
       "16 2025-03-02   UNKNOWN  \n",
       "17 2025-03-01   UNKNOWN  \n",
       "18 2025-02-28   UNKNOWN  \n",
       "19 2025-02-27        NO  \n",
       "20 2025-02-26   UNKNOWN  \n",
       "21 2025-02-25   UNKNOWN  \n",
       "22 2025-02-24   UNKNOWN  \n",
       "23 2025-02-23   UNKNOWN  \n",
       "24 2025-02-22   UNKNOWN  \n",
       "25 2025-02-21   UNKNOWN  \n",
       "26 2025-02-20   UNKNOWN  \n",
       "27 2025-02-19       YES  \n",
       "28 2025-02-18   UNKNOWN  \n",
       "29 2025-02-17   UNKNOWN  \n",
       "30 2025-02-16   UNKNOWN  \n",
       "31 2025-02-15   UNKNOWN  \n",
       "32 2025-02-14   UNKNOWN  \n",
       "33 2025-02-13   UNKNOWN  \n",
       "34 2025-02-12   UNKNOWN  \n",
       "35 2025-02-11   UNKNOWN  \n",
       "36 2025-02-10        NO  \n",
       "37 2025-02-09   UNKNOWN  \n",
       "38 2025-02-08   UNKNOWN  \n",
       "39 2025-02-07        NO  \n",
       "40 2025-02-06       YES  \n",
       "41 2025-02-05   UNKNOWN  \n",
       "42 2025-02-04   UNKNOWN  \n",
       "43 2025-02-03   UNKNOWN  \n",
       "44 2025-02-02   UNKNOWN  \n",
       "45 2025-02-01   UNKNOWN  "
      ]
     },
     "execution_count": 17,
     "metadata": {},
     "output_type": "execute_result"
    }
   ],
   "source": [
    "news_headlines_df = pd.read_csv('dataset/news_headline_sentiment.csv', parse_dates=['date'])\n",
    "news_headlines_df"
   ]
  },
  {
   "cell_type": "code",
   "execution_count": 6,
   "metadata": {},
   "outputs": [
    {
     "data": {
      "text/html": [
       "<div>\n",
       "<style scoped>\n",
       "    .dataframe tbody tr th:only-of-type {\n",
       "        vertical-align: middle;\n",
       "    }\n",
       "\n",
       "    .dataframe tbody tr th {\n",
       "        vertical-align: top;\n",
       "    }\n",
       "\n",
       "    .dataframe thead th {\n",
       "        text-align: right;\n",
       "    }\n",
       "</style>\n",
       "<table border=\"1\" class=\"dataframe\">\n",
       "  <thead>\n",
       "    <tr style=\"text-align: right;\">\n",
       "      <th></th>\n",
       "      <th>Date</th>\n",
       "      <th>Open</th>\n",
       "      <th>High</th>\n",
       "      <th>Low</th>\n",
       "      <th>Close</th>\n",
       "      <th>Volume</th>\n",
       "      <th>Dividends</th>\n",
       "      <th>Stock Splits</th>\n",
       "    </tr>\n",
       "  </thead>\n",
       "  <tbody>\n",
       "    <tr>\n",
       "      <th>0</th>\n",
       "      <td>2024-05-29 00:00:00+07:00</td>\n",
       "      <td>1360.579956</td>\n",
       "      <td>1363.959961</td>\n",
       "      <td>1349.829956</td>\n",
       "      <td>1349.829956</td>\n",
       "      <td>3286600</td>\n",
       "      <td>0.0</td>\n",
       "      <td>0.0</td>\n",
       "    </tr>\n",
       "    <tr>\n",
       "      <th>1</th>\n",
       "      <td>2024-05-30 00:00:00+07:00</td>\n",
       "      <td>1345.709961</td>\n",
       "      <td>1353.500000</td>\n",
       "      <td>1340.829956</td>\n",
       "      <td>1351.520020</td>\n",
       "      <td>3355200</td>\n",
       "      <td>0.0</td>\n",
       "      <td>0.0</td>\n",
       "    </tr>\n",
       "    <tr>\n",
       "      <th>2</th>\n",
       "      <td>2024-05-31 00:00:00+07:00</td>\n",
       "      <td>1353.939941</td>\n",
       "      <td>1359.250000</td>\n",
       "      <td>1342.619995</td>\n",
       "      <td>1345.660034</td>\n",
       "      <td>6489700</td>\n",
       "      <td>0.0</td>\n",
       "      <td>0.0</td>\n",
       "    </tr>\n",
       "    <tr>\n",
       "      <th>3</th>\n",
       "      <td>2024-06-04 00:00:00+07:00</td>\n",
       "      <td>1350.900024</td>\n",
       "      <td>1354.750000</td>\n",
       "      <td>1336.069946</td>\n",
       "      <td>1337.319946</td>\n",
       "      <td>4742200</td>\n",
       "      <td>0.0</td>\n",
       "      <td>0.0</td>\n",
       "    </tr>\n",
       "    <tr>\n",
       "      <th>4</th>\n",
       "      <td>2024-06-05 00:00:00+07:00</td>\n",
       "      <td>1339.579956</td>\n",
       "      <td>1344.390015</td>\n",
       "      <td>1333.969971</td>\n",
       "      <td>1338.319946</td>\n",
       "      <td>4143800</td>\n",
       "      <td>0.0</td>\n",
       "      <td>0.0</td>\n",
       "    </tr>\n",
       "    <tr>\n",
       "      <th>5</th>\n",
       "      <td>2024-06-06 00:00:00+07:00</td>\n",
       "      <td>1341.739990</td>\n",
       "      <td>1344.479980</td>\n",
       "      <td>1325.709961</td>\n",
       "      <td>1328.410034</td>\n",
       "      <td>3771900</td>\n",
       "      <td>0.0</td>\n",
       "      <td>0.0</td>\n",
       "    </tr>\n",
       "    <tr>\n",
       "      <th>6</th>\n",
       "      <td>2024-06-07 00:00:00+07:00</td>\n",
       "      <td>1327.300049</td>\n",
       "      <td>1334.119995</td>\n",
       "      <td>1325.949951</td>\n",
       "      <td>1332.739990</td>\n",
       "      <td>3533600</td>\n",
       "      <td>0.0</td>\n",
       "      <td>0.0</td>\n",
       "    </tr>\n",
       "    <tr>\n",
       "      <th>7</th>\n",
       "      <td>2024-06-10 00:00:00+07:00</td>\n",
       "      <td>1328.900024</td>\n",
       "      <td>1329.810059</td>\n",
       "      <td>1313.260010</td>\n",
       "      <td>1318.569946</td>\n",
       "      <td>3844900</td>\n",
       "      <td>0.0</td>\n",
       "      <td>0.0</td>\n",
       "    </tr>\n",
       "    <tr>\n",
       "      <th>8</th>\n",
       "      <td>2024-06-11 00:00:00+07:00</td>\n",
       "      <td>1318.680054</td>\n",
       "      <td>1325.520020</td>\n",
       "      <td>1314.349976</td>\n",
       "      <td>1316.099976</td>\n",
       "      <td>4585800</td>\n",
       "      <td>0.0</td>\n",
       "      <td>0.0</td>\n",
       "    </tr>\n",
       "    <tr>\n",
       "      <th>9</th>\n",
       "      <td>2024-06-12 00:00:00+07:00</td>\n",
       "      <td>1316.619995</td>\n",
       "      <td>1320.510010</td>\n",
       "      <td>1311.040039</td>\n",
       "      <td>1316.689941</td>\n",
       "      <td>3829400</td>\n",
       "      <td>0.0</td>\n",
       "      <td>0.0</td>\n",
       "    </tr>\n",
       "    <tr>\n",
       "      <th>10</th>\n",
       "      <td>2024-06-13 00:00:00+07:00</td>\n",
       "      <td>1320.589966</td>\n",
       "      <td>1323.329956</td>\n",
       "      <td>1310.400024</td>\n",
       "      <td>1311.780029</td>\n",
       "      <td>3599400</td>\n",
       "      <td>0.0</td>\n",
       "      <td>0.0</td>\n",
       "    </tr>\n",
       "    <tr>\n",
       "      <th>11</th>\n",
       "      <td>2024-06-14 00:00:00+07:00</td>\n",
       "      <td>1311.380005</td>\n",
       "      <td>1315.699951</td>\n",
       "      <td>1304.310059</td>\n",
       "      <td>1306.560059</td>\n",
       "      <td>3368400</td>\n",
       "      <td>0.0</td>\n",
       "      <td>0.0</td>\n",
       "    </tr>\n",
       "    <tr>\n",
       "      <th>12</th>\n",
       "      <td>2024-06-17 00:00:00+07:00</td>\n",
       "      <td>1305.130005</td>\n",
       "      <td>1305.199951</td>\n",
       "      <td>1288.579956</td>\n",
       "      <td>1296.589966</td>\n",
       "      <td>3922800</td>\n",
       "      <td>0.0</td>\n",
       "      <td>0.0</td>\n",
       "    </tr>\n",
       "    <tr>\n",
       "      <th>13</th>\n",
       "      <td>2024-06-18 00:00:00+07:00</td>\n",
       "      <td>1300.209961</td>\n",
       "      <td>1310.760010</td>\n",
       "      <td>1296.180054</td>\n",
       "      <td>1297.410034</td>\n",
       "      <td>3602100</td>\n",
       "      <td>0.0</td>\n",
       "      <td>0.0</td>\n",
       "    </tr>\n",
       "    <tr>\n",
       "      <th>14</th>\n",
       "      <td>2024-06-19 00:00:00+07:00</td>\n",
       "      <td>1300.969971</td>\n",
       "      <td>1304.150024</td>\n",
       "      <td>1281.869995</td>\n",
       "      <td>1303.819946</td>\n",
       "      <td>6281200</td>\n",
       "      <td>0.0</td>\n",
       "      <td>0.0</td>\n",
       "    </tr>\n",
       "    <tr>\n",
       "      <th>15</th>\n",
       "      <td>2024-06-20 00:00:00+07:00</td>\n",
       "      <td>1302.449951</td>\n",
       "      <td>1304.239990</td>\n",
       "      <td>1293.689941</td>\n",
       "      <td>1298.290039</td>\n",
       "      <td>3836000</td>\n",
       "      <td>0.0</td>\n",
       "      <td>0.0</td>\n",
       "    </tr>\n",
       "    <tr>\n",
       "      <th>16</th>\n",
       "      <td>2024-06-21 00:00:00+07:00</td>\n",
       "      <td>1295.099976</td>\n",
       "      <td>1311.310059</td>\n",
       "      <td>1289.209961</td>\n",
       "      <td>1306.410034</td>\n",
       "      <td>6508800</td>\n",
       "      <td>0.0</td>\n",
       "      <td>0.0</td>\n",
       "    </tr>\n",
       "    <tr>\n",
       "      <th>17</th>\n",
       "      <td>2024-06-24 00:00:00+07:00</td>\n",
       "      <td>1302.619995</td>\n",
       "      <td>1317.630005</td>\n",
       "      <td>1300.359985</td>\n",
       "      <td>1316.729980</td>\n",
       "      <td>4298300</td>\n",
       "      <td>0.0</td>\n",
       "      <td>0.0</td>\n",
       "    </tr>\n",
       "    <tr>\n",
       "      <th>18</th>\n",
       "      <td>2024-06-25 00:00:00+07:00</td>\n",
       "      <td>1318.180054</td>\n",
       "      <td>1323.729980</td>\n",
       "      <td>1315.640015</td>\n",
       "      <td>1319.140015</td>\n",
       "      <td>4360600</td>\n",
       "      <td>0.0</td>\n",
       "      <td>0.0</td>\n",
       "    </tr>\n",
       "    <tr>\n",
       "      <th>19</th>\n",
       "      <td>2024-06-26 00:00:00+07:00</td>\n",
       "      <td>1322.719971</td>\n",
       "      <td>1324.479980</td>\n",
       "      <td>1315.500000</td>\n",
       "      <td>1319.150024</td>\n",
       "      <td>3308700</td>\n",
       "      <td>0.0</td>\n",
       "      <td>0.0</td>\n",
       "    </tr>\n",
       "    <tr>\n",
       "      <th>20</th>\n",
       "      <td>2024-06-27 00:00:00+07:00</td>\n",
       "      <td>1315.609985</td>\n",
       "      <td>1316.579956</td>\n",
       "      <td>1307.670044</td>\n",
       "      <td>1309.459961</td>\n",
       "      <td>3575800</td>\n",
       "      <td>0.0</td>\n",
       "      <td>0.0</td>\n",
       "    </tr>\n",
       "    <tr>\n",
       "      <th>21</th>\n",
       "      <td>2024-06-28 00:00:00+07:00</td>\n",
       "      <td>1311.420044</td>\n",
       "      <td>1311.729980</td>\n",
       "      <td>1296.670044</td>\n",
       "      <td>1300.959961</td>\n",
       "      <td>5350900</td>\n",
       "      <td>0.0</td>\n",
       "      <td>0.0</td>\n",
       "    </tr>\n",
       "    <tr>\n",
       "      <th>22</th>\n",
       "      <td>2024-07-01 00:00:00+07:00</td>\n",
       "      <td>1301.959961</td>\n",
       "      <td>1306.280029</td>\n",
       "      <td>1296.109985</td>\n",
       "      <td>1299.349976</td>\n",
       "      <td>3175800</td>\n",
       "      <td>0.0</td>\n",
       "      <td>0.0</td>\n",
       "    </tr>\n",
       "    <tr>\n",
       "      <th>23</th>\n",
       "      <td>2024-07-02 00:00:00+07:00</td>\n",
       "      <td>1297.479980</td>\n",
       "      <td>1297.849976</td>\n",
       "      <td>1286.829956</td>\n",
       "      <td>1288.579956</td>\n",
       "      <td>3567000</td>\n",
       "      <td>0.0</td>\n",
       "      <td>0.0</td>\n",
       "    </tr>\n",
       "    <tr>\n",
       "      <th>24</th>\n",
       "      <td>2024-07-03 00:00:00+07:00</td>\n",
       "      <td>1289.569946</td>\n",
       "      <td>1296.130005</td>\n",
       "      <td>1286.790039</td>\n",
       "      <td>1294.699951</td>\n",
       "      <td>2527300</td>\n",
       "      <td>0.0</td>\n",
       "      <td>0.0</td>\n",
       "    </tr>\n",
       "    <tr>\n",
       "      <th>25</th>\n",
       "      <td>2024-07-04 00:00:00+07:00</td>\n",
       "      <td>1300.619995</td>\n",
       "      <td>1309.459961</td>\n",
       "      <td>1300.260010</td>\n",
       "      <td>1301.040039</td>\n",
       "      <td>2517400</td>\n",
       "      <td>0.0</td>\n",
       "      <td>0.0</td>\n",
       "    </tr>\n",
       "    <tr>\n",
       "      <th>26</th>\n",
       "      <td>2024-07-05 00:00:00+07:00</td>\n",
       "      <td>1303.060059</td>\n",
       "      <td>1312.750000</td>\n",
       "      <td>1298.430054</td>\n",
       "      <td>1311.989990</td>\n",
       "      <td>3588200</td>\n",
       "      <td>0.0</td>\n",
       "      <td>0.0</td>\n",
       "    </tr>\n",
       "    <tr>\n",
       "      <th>27</th>\n",
       "      <td>2024-07-08 00:00:00+07:00</td>\n",
       "      <td>1311.699951</td>\n",
       "      <td>1322.500000</td>\n",
       "      <td>1311.050049</td>\n",
       "      <td>1322.500000</td>\n",
       "      <td>3271700</td>\n",
       "      <td>0.0</td>\n",
       "      <td>0.0</td>\n",
       "    </tr>\n",
       "    <tr>\n",
       "      <th>28</th>\n",
       "      <td>2024-07-09 00:00:00+07:00</td>\n",
       "      <td>1323.810059</td>\n",
       "      <td>1325.180054</td>\n",
       "      <td>1317.020020</td>\n",
       "      <td>1319.920044</td>\n",
       "      <td>3207500</td>\n",
       "      <td>0.0</td>\n",
       "      <td>0.0</td>\n",
       "    </tr>\n",
       "    <tr>\n",
       "      <th>29</th>\n",
       "      <td>2024-07-10 00:00:00+07:00</td>\n",
       "      <td>1320.680054</td>\n",
       "      <td>1327.160034</td>\n",
       "      <td>1318.719971</td>\n",
       "      <td>1323.280029</td>\n",
       "      <td>3122300</td>\n",
       "      <td>0.0</td>\n",
       "      <td>0.0</td>\n",
       "    </tr>\n",
       "    <tr>\n",
       "      <th>30</th>\n",
       "      <td>2024-07-11 00:00:00+07:00</td>\n",
       "      <td>1326.199951</td>\n",
       "      <td>1330.010010</td>\n",
       "      <td>1320.000000</td>\n",
       "      <td>1329.369995</td>\n",
       "      <td>3313000</td>\n",
       "      <td>0.0</td>\n",
       "      <td>0.0</td>\n",
       "    </tr>\n",
       "    <tr>\n",
       "      <th>31</th>\n",
       "      <td>2024-07-12 00:00:00+07:00</td>\n",
       "      <td>1327.780029</td>\n",
       "      <td>1332.760010</td>\n",
       "      <td>1325.640015</td>\n",
       "      <td>1332.040039</td>\n",
       "      <td>3686600</td>\n",
       "      <td>0.0</td>\n",
       "      <td>0.0</td>\n",
       "    </tr>\n",
       "    <tr>\n",
       "      <th>32</th>\n",
       "      <td>2024-07-15 00:00:00+07:00</td>\n",
       "      <td>1326.060059</td>\n",
       "      <td>1328.510010</td>\n",
       "      <td>1320.560059</td>\n",
       "      <td>1327.430054</td>\n",
       "      <td>3734500</td>\n",
       "      <td>0.0</td>\n",
       "      <td>0.0</td>\n",
       "    </tr>\n",
       "    <tr>\n",
       "      <th>33</th>\n",
       "      <td>2024-07-16 00:00:00+07:00</td>\n",
       "      <td>1327.770020</td>\n",
       "      <td>1330.839966</td>\n",
       "      <td>1320.079956</td>\n",
       "      <td>1321.310059</td>\n",
       "      <td>3561600</td>\n",
       "      <td>0.0</td>\n",
       "      <td>0.0</td>\n",
       "    </tr>\n",
       "    <tr>\n",
       "      <th>34</th>\n",
       "      <td>2024-07-17 00:00:00+07:00</td>\n",
       "      <td>1325.390015</td>\n",
       "      <td>1330.219971</td>\n",
       "      <td>1318.410034</td>\n",
       "      <td>1319.790039</td>\n",
       "      <td>3704600</td>\n",
       "      <td>0.0</td>\n",
       "      <td>0.0</td>\n",
       "    </tr>\n",
       "    <tr>\n",
       "      <th>35</th>\n",
       "      <td>2024-07-18 00:00:00+07:00</td>\n",
       "      <td>1318.459961</td>\n",
       "      <td>1327.020020</td>\n",
       "      <td>1317.890015</td>\n",
       "      <td>1324.760010</td>\n",
       "      <td>4251100</td>\n",
       "      <td>0.0</td>\n",
       "      <td>0.0</td>\n",
       "    </tr>\n",
       "    <tr>\n",
       "      <th>36</th>\n",
       "      <td>2024-07-19 00:00:00+07:00</td>\n",
       "      <td>1321.300049</td>\n",
       "      <td>1324.569946</td>\n",
       "      <td>1317.140015</td>\n",
       "      <td>1317.140015</td>\n",
       "      <td>2799800</td>\n",
       "      <td>0.0</td>\n",
       "      <td>0.0</td>\n",
       "    </tr>\n",
       "    <tr>\n",
       "      <th>37</th>\n",
       "      <td>2024-07-23 00:00:00+07:00</td>\n",
       "      <td>1318.810059</td>\n",
       "      <td>1321.209961</td>\n",
       "      <td>1300.040039</td>\n",
       "      <td>1301.540039</td>\n",
       "      <td>4110900</td>\n",
       "      <td>0.0</td>\n",
       "      <td>0.0</td>\n",
       "    </tr>\n",
       "    <tr>\n",
       "      <th>38</th>\n",
       "      <td>2024-07-24 00:00:00+07:00</td>\n",
       "      <td>1299.640015</td>\n",
       "      <td>1301.550049</td>\n",
       "      <td>1293.949951</td>\n",
       "      <td>1298.079956</td>\n",
       "      <td>3665700</td>\n",
       "      <td>0.0</td>\n",
       "      <td>0.0</td>\n",
       "    </tr>\n",
       "    <tr>\n",
       "      <th>39</th>\n",
       "      <td>2024-07-25 00:00:00+07:00</td>\n",
       "      <td>1289.979980</td>\n",
       "      <td>1295.880005</td>\n",
       "      <td>1288.219971</td>\n",
       "      <td>1291.579956</td>\n",
       "      <td>3611800</td>\n",
       "      <td>0.0</td>\n",
       "      <td>0.0</td>\n",
       "    </tr>\n",
       "    <tr>\n",
       "      <th>40</th>\n",
       "      <td>2024-07-26 00:00:00+07:00</td>\n",
       "      <td>1292.640015</td>\n",
       "      <td>1307.209961</td>\n",
       "      <td>1290.479980</td>\n",
       "      <td>1307.209961</td>\n",
       "      <td>3753100</td>\n",
       "      <td>0.0</td>\n",
       "      <td>0.0</td>\n",
       "    </tr>\n",
       "    <tr>\n",
       "      <th>41</th>\n",
       "      <td>2024-07-30 00:00:00+07:00</td>\n",
       "      <td>1311.949951</td>\n",
       "      <td>1315.780029</td>\n",
       "      <td>1306.219971</td>\n",
       "      <td>1308.089966</td>\n",
       "      <td>4129200</td>\n",
       "      <td>0.0</td>\n",
       "      <td>0.0</td>\n",
       "    </tr>\n",
       "    <tr>\n",
       "      <th>42</th>\n",
       "      <td>2024-07-31 00:00:00+07:00</td>\n",
       "      <td>1312.689941</td>\n",
       "      <td>1322.079956</td>\n",
       "      <td>1311.930054</td>\n",
       "      <td>1320.859985</td>\n",
       "      <td>3642300</td>\n",
       "      <td>0.0</td>\n",
       "      <td>0.0</td>\n",
       "    </tr>\n",
       "    <tr>\n",
       "      <th>43</th>\n",
       "      <td>2024-08-01 00:00:00+07:00</td>\n",
       "      <td>1322.510010</td>\n",
       "      <td>1329.760010</td>\n",
       "      <td>1319.290039</td>\n",
       "      <td>1322.750000</td>\n",
       "      <td>3794000</td>\n",
       "      <td>0.0</td>\n",
       "      <td>0.0</td>\n",
       "    </tr>\n",
       "    <tr>\n",
       "      <th>44</th>\n",
       "      <td>2024-08-02 00:00:00+07:00</td>\n",
       "      <td>1315.069946</td>\n",
       "      <td>1318.260010</td>\n",
       "      <td>1310.520020</td>\n",
       "      <td>1313.079956</td>\n",
       "      <td>3147200</td>\n",
       "      <td>0.0</td>\n",
       "      <td>0.0</td>\n",
       "    </tr>\n",
       "    <tr>\n",
       "      <th>45</th>\n",
       "      <td>2024-08-05 00:00:00+07:00</td>\n",
       "      <td>1295.650024</td>\n",
       "      <td>1296.109985</td>\n",
       "      <td>1273.170044</td>\n",
       "      <td>1274.670044</td>\n",
       "      <td>5238700</td>\n",
       "      <td>0.0</td>\n",
       "      <td>0.0</td>\n",
       "    </tr>\n",
       "    <tr>\n",
       "      <th>46</th>\n",
       "      <td>2024-08-06 00:00:00+07:00</td>\n",
       "      <td>1285.619995</td>\n",
       "      <td>1289.239990</td>\n",
       "      <td>1274.010010</td>\n",
       "      <td>1274.010010</td>\n",
       "      <td>3247700</td>\n",
       "      <td>0.0</td>\n",
       "      <td>0.0</td>\n",
       "    </tr>\n",
       "    <tr>\n",
       "      <th>47</th>\n",
       "      <td>2024-08-07 00:00:00+07:00</td>\n",
       "      <td>1282.050049</td>\n",
       "      <td>1293.939941</td>\n",
       "      <td>1282.050049</td>\n",
       "      <td>1290.550049</td>\n",
       "      <td>4038200</td>\n",
       "      <td>0.0</td>\n",
       "      <td>0.0</td>\n",
       "    </tr>\n",
       "    <tr>\n",
       "      <th>48</th>\n",
       "      <td>2024-08-08 00:00:00+07:00</td>\n",
       "      <td>1287.530029</td>\n",
       "      <td>1299.140015</td>\n",
       "      <td>1287.140015</td>\n",
       "      <td>1296.250000</td>\n",
       "      <td>3635700</td>\n",
       "      <td>0.0</td>\n",
       "      <td>0.0</td>\n",
       "    </tr>\n",
       "    <tr>\n",
       "      <th>49</th>\n",
       "      <td>2024-08-09 00:00:00+07:00</td>\n",
       "      <td>1305.880005</td>\n",
       "      <td>1309.660034</td>\n",
       "      <td>1292.800049</td>\n",
       "      <td>1297.069946</td>\n",
       "      <td>3821200</td>\n",
       "      <td>0.0</td>\n",
       "      <td>0.0</td>\n",
       "    </tr>\n",
       "    <tr>\n",
       "      <th>50</th>\n",
       "      <td>2024-08-13 00:00:00+07:00</td>\n",
       "      <td>1299.729980</td>\n",
       "      <td>1300.829956</td>\n",
       "      <td>1292.410034</td>\n",
       "      <td>1297.790039</td>\n",
       "      <td>3792500</td>\n",
       "      <td>0.0</td>\n",
       "      <td>0.0</td>\n",
       "    </tr>\n",
       "    <tr>\n",
       "      <th>51</th>\n",
       "      <td>2024-08-14 00:00:00+07:00</td>\n",
       "      <td>1300.589966</td>\n",
       "      <td>1306.880005</td>\n",
       "      <td>1280.989990</td>\n",
       "      <td>1292.689941</td>\n",
       "      <td>5413800</td>\n",
       "      <td>0.0</td>\n",
       "      <td>0.0</td>\n",
       "    </tr>\n",
       "    <tr>\n",
       "      <th>52</th>\n",
       "      <td>2024-08-15 00:00:00+07:00</td>\n",
       "      <td>1291.890015</td>\n",
       "      <td>1293.099976</td>\n",
       "      <td>1279.339966</td>\n",
       "      <td>1289.839966</td>\n",
       "      <td>3870500</td>\n",
       "      <td>0.0</td>\n",
       "      <td>0.0</td>\n",
       "    </tr>\n",
       "    <tr>\n",
       "      <th>53</th>\n",
       "      <td>2024-08-16 00:00:00+07:00</td>\n",
       "      <td>1295.949951</td>\n",
       "      <td>1305.030029</td>\n",
       "      <td>1295.349976</td>\n",
       "      <td>1303.000000</td>\n",
       "      <td>3503400</td>\n",
       "      <td>0.0</td>\n",
       "      <td>0.0</td>\n",
       "    </tr>\n",
       "    <tr>\n",
       "      <th>54</th>\n",
       "      <td>2024-08-19 00:00:00+07:00</td>\n",
       "      <td>1305.890015</td>\n",
       "      <td>1323.380005</td>\n",
       "      <td>1302.969971</td>\n",
       "      <td>1323.380005</td>\n",
       "      <td>5146100</td>\n",
       "      <td>0.0</td>\n",
       "      <td>0.0</td>\n",
       "    </tr>\n",
       "    <tr>\n",
       "      <th>55</th>\n",
       "      <td>2024-08-20 00:00:00+07:00</td>\n",
       "      <td>1327.250000</td>\n",
       "      <td>1337.349976</td>\n",
       "      <td>1323.939941</td>\n",
       "      <td>1328.119995</td>\n",
       "      <td>4341200</td>\n",
       "      <td>0.0</td>\n",
       "      <td>0.0</td>\n",
       "    </tr>\n",
       "    <tr>\n",
       "      <th>56</th>\n",
       "      <td>2024-08-21 00:00:00+07:00</td>\n",
       "      <td>1328.500000</td>\n",
       "      <td>1339.609985</td>\n",
       "      <td>1327.119995</td>\n",
       "      <td>1337.829956</td>\n",
       "      <td>4990900</td>\n",
       "      <td>0.0</td>\n",
       "      <td>0.0</td>\n",
       "    </tr>\n",
       "    <tr>\n",
       "      <th>57</th>\n",
       "      <td>2024-08-22 00:00:00+07:00</td>\n",
       "      <td>1338.839966</td>\n",
       "      <td>1343.349976</td>\n",
       "      <td>1334.790039</td>\n",
       "      <td>1341.030029</td>\n",
       "      <td>4055400</td>\n",
       "      <td>0.0</td>\n",
       "      <td>0.0</td>\n",
       "    </tr>\n",
       "    <tr>\n",
       "      <th>58</th>\n",
       "      <td>2024-08-23 00:00:00+07:00</td>\n",
       "      <td>1341.530029</td>\n",
       "      <td>1355.520020</td>\n",
       "      <td>1340.589966</td>\n",
       "      <td>1354.869995</td>\n",
       "      <td>6408000</td>\n",
       "      <td>0.0</td>\n",
       "      <td>0.0</td>\n",
       "    </tr>\n",
       "    <tr>\n",
       "      <th>59</th>\n",
       "      <td>2024-08-26 00:00:00+07:00</td>\n",
       "      <td>1356.109985</td>\n",
       "      <td>1366.760010</td>\n",
       "      <td>1351.329956</td>\n",
       "      <td>1364.810059</td>\n",
       "      <td>5902000</td>\n",
       "      <td>0.0</td>\n",
       "      <td>0.0</td>\n",
       "    </tr>\n",
       "    <tr>\n",
       "      <th>60</th>\n",
       "      <td>2024-08-27 00:00:00+07:00</td>\n",
       "      <td>1365.640015</td>\n",
       "      <td>1368.550049</td>\n",
       "      <td>1360.739990</td>\n",
       "      <td>1364.310059</td>\n",
       "      <td>4895000</td>\n",
       "      <td>0.0</td>\n",
       "      <td>0.0</td>\n",
       "    </tr>\n",
       "    <tr>\n",
       "      <th>61</th>\n",
       "      <td>2024-08-28 00:00:00+07:00</td>\n",
       "      <td>1361.589966</td>\n",
       "      <td>1370.670044</td>\n",
       "      <td>1356.510010</td>\n",
       "      <td>1365.719971</td>\n",
       "      <td>4050200</td>\n",
       "      <td>0.0</td>\n",
       "      <td>0.0</td>\n",
       "    </tr>\n",
       "    <tr>\n",
       "      <th>62</th>\n",
       "      <td>2024-08-29 00:00:00+07:00</td>\n",
       "      <td>1361.339966</td>\n",
       "      <td>1366.760010</td>\n",
       "      <td>1355.989990</td>\n",
       "      <td>1357.410034</td>\n",
       "      <td>3321900</td>\n",
       "      <td>0.0</td>\n",
       "      <td>0.0</td>\n",
       "    </tr>\n",
       "    <tr>\n",
       "      <th>63</th>\n",
       "      <td>2024-08-30 00:00:00+07:00</td>\n",
       "      <td>1360.160034</td>\n",
       "      <td>1367.089966</td>\n",
       "      <td>1355.459961</td>\n",
       "      <td>1359.069946</td>\n",
       "      <td>5566400</td>\n",
       "      <td>0.0</td>\n",
       "      <td>0.0</td>\n",
       "    </tr>\n",
       "    <tr>\n",
       "      <th>64</th>\n",
       "      <td>2024-09-02 00:00:00+07:00</td>\n",
       "      <td>1353.640015</td>\n",
       "      <td>1353.640015</td>\n",
       "      <td>1353.640015</td>\n",
       "      <td>1353.640015</td>\n",
       "      <td>0</td>\n",
       "      <td>0.0</td>\n",
       "      <td>0.0</td>\n",
       "    </tr>\n",
       "    <tr>\n",
       "      <th>65</th>\n",
       "      <td>2024-09-03 00:00:00+07:00</td>\n",
       "      <td>1354.260010</td>\n",
       "      <td>1370.040039</td>\n",
       "      <td>1354.260010</td>\n",
       "      <td>1364.599976</td>\n",
       "      <td>3945000</td>\n",
       "      <td>0.0</td>\n",
       "      <td>0.0</td>\n",
       "    </tr>\n",
       "    <tr>\n",
       "      <th>66</th>\n",
       "      <td>2024-09-04 00:00:00+07:00</td>\n",
       "      <td>1355.310059</td>\n",
       "      <td>1367.880005</td>\n",
       "      <td>1355.310059</td>\n",
       "      <td>1365.489990</td>\n",
       "      <td>3522800</td>\n",
       "      <td>0.0</td>\n",
       "      <td>0.0</td>\n",
       "    </tr>\n",
       "    <tr>\n",
       "      <th>67</th>\n",
       "      <td>2024-09-05 00:00:00+07:00</td>\n",
       "      <td>1372.290039</td>\n",
       "      <td>1406.489990</td>\n",
       "      <td>1371.489990</td>\n",
       "      <td>1404.280029</td>\n",
       "      <td>6841900</td>\n",
       "      <td>0.0</td>\n",
       "      <td>0.0</td>\n",
       "    </tr>\n",
       "    <tr>\n",
       "      <th>68</th>\n",
       "      <td>2024-09-06 00:00:00+07:00</td>\n",
       "      <td>1413.939941</td>\n",
       "      <td>1431.239990</td>\n",
       "      <td>1412.760010</td>\n",
       "      <td>1427.640015</td>\n",
       "      <td>8722900</td>\n",
       "      <td>0.0</td>\n",
       "      <td>0.0</td>\n",
       "    </tr>\n",
       "    <tr>\n",
       "      <th>69</th>\n",
       "      <td>2024-09-09 00:00:00+07:00</td>\n",
       "      <td>1429.160034</td>\n",
       "      <td>1438.310059</td>\n",
       "      <td>1417.680054</td>\n",
       "      <td>1431.130005</td>\n",
       "      <td>7500300</td>\n",
       "      <td>0.0</td>\n",
       "      <td>0.0</td>\n",
       "    </tr>\n",
       "    <tr>\n",
       "      <th>70</th>\n",
       "      <td>2024-09-10 00:00:00+07:00</td>\n",
       "      <td>1431.910034</td>\n",
       "      <td>1434.680054</td>\n",
       "      <td>1422.630005</td>\n",
       "      <td>1428.030029</td>\n",
       "      <td>6123800</td>\n",
       "      <td>0.0</td>\n",
       "      <td>0.0</td>\n",
       "    </tr>\n",
       "    <tr>\n",
       "      <th>71</th>\n",
       "      <td>2024-09-11 00:00:00+07:00</td>\n",
       "      <td>1424.689941</td>\n",
       "      <td>1428.130005</td>\n",
       "      <td>1405.300049</td>\n",
       "      <td>1415.410034</td>\n",
       "      <td>5734400</td>\n",
       "      <td>0.0</td>\n",
       "      <td>0.0</td>\n",
       "    </tr>\n",
       "    <tr>\n",
       "      <th>72</th>\n",
       "      <td>2024-09-12 00:00:00+07:00</td>\n",
       "      <td>1422.420044</td>\n",
       "      <td>1429.449951</td>\n",
       "      <td>1419.939941</td>\n",
       "      <td>1421.579956</td>\n",
       "      <td>4569400</td>\n",
       "      <td>0.0</td>\n",
       "      <td>0.0</td>\n",
       "    </tr>\n",
       "    <tr>\n",
       "      <th>73</th>\n",
       "      <td>2024-09-13 00:00:00+07:00</td>\n",
       "      <td>1428.150024</td>\n",
       "      <td>1433.660034</td>\n",
       "      <td>1421.469971</td>\n",
       "      <td>1424.390015</td>\n",
       "      <td>5600100</td>\n",
       "      <td>0.0</td>\n",
       "      <td>0.0</td>\n",
       "    </tr>\n",
       "    <tr>\n",
       "      <th>74</th>\n",
       "      <td>2024-09-16 00:00:00+07:00</td>\n",
       "      <td>1425.890015</td>\n",
       "      <td>1436.800049</td>\n",
       "      <td>1423.199951</td>\n",
       "      <td>1435.530029</td>\n",
       "      <td>8451200</td>\n",
       "      <td>0.0</td>\n",
       "      <td>0.0</td>\n",
       "    </tr>\n",
       "    <tr>\n",
       "      <th>75</th>\n",
       "      <td>2024-09-17 00:00:00+07:00</td>\n",
       "      <td>1437.469971</td>\n",
       "      <td>1439.349976</td>\n",
       "      <td>1431.560059</td>\n",
       "      <td>1436.599976</td>\n",
       "      <td>7316600</td>\n",
       "      <td>0.0</td>\n",
       "      <td>0.0</td>\n",
       "    </tr>\n",
       "    <tr>\n",
       "      <th>76</th>\n",
       "      <td>2024-09-18 00:00:00+07:00</td>\n",
       "      <td>1437.689941</td>\n",
       "      <td>1446.520020</td>\n",
       "      <td>1432.910034</td>\n",
       "      <td>1435.770020</td>\n",
       "      <td>6480100</td>\n",
       "      <td>0.0</td>\n",
       "      <td>0.0</td>\n",
       "    </tr>\n",
       "    <tr>\n",
       "      <th>77</th>\n",
       "      <td>2024-09-19 00:00:00+07:00</td>\n",
       "      <td>1440.349976</td>\n",
       "      <td>1454.839966</td>\n",
       "      <td>1436.140015</td>\n",
       "      <td>1454.839966</td>\n",
       "      <td>6953900</td>\n",
       "      <td>0.0</td>\n",
       "      <td>0.0</td>\n",
       "    </tr>\n",
       "    <tr>\n",
       "      <th>78</th>\n",
       "      <td>2024-09-20 00:00:00+07:00</td>\n",
       "      <td>1458.209961</td>\n",
       "      <td>1462.349976</td>\n",
       "      <td>1451.689941</td>\n",
       "      <td>1451.689941</td>\n",
       "      <td>7876100</td>\n",
       "      <td>0.0</td>\n",
       "      <td>0.0</td>\n",
       "    </tr>\n",
       "    <tr>\n",
       "      <th>79</th>\n",
       "      <td>2024-09-23 00:00:00+07:00</td>\n",
       "      <td>1454.189941</td>\n",
       "      <td>1455.439941</td>\n",
       "      <td>1442.020020</td>\n",
       "      <td>1447.900024</td>\n",
       "      <td>4849300</td>\n",
       "      <td>0.0</td>\n",
       "      <td>0.0</td>\n",
       "    </tr>\n",
       "    <tr>\n",
       "      <th>80</th>\n",
       "      <td>2024-09-24 00:00:00+07:00</td>\n",
       "      <td>1451.670044</td>\n",
       "      <td>1463.310059</td>\n",
       "      <td>1447.589966</td>\n",
       "      <td>1462.099976</td>\n",
       "      <td>4468100</td>\n",
       "      <td>0.0</td>\n",
       "      <td>0.0</td>\n",
       "    </tr>\n",
       "    <tr>\n",
       "      <th>81</th>\n",
       "      <td>2024-09-25 00:00:00+07:00</td>\n",
       "      <td>1466.369995</td>\n",
       "      <td>1471.689941</td>\n",
       "      <td>1460.229980</td>\n",
       "      <td>1461.579956</td>\n",
       "      <td>6325300</td>\n",
       "      <td>0.0</td>\n",
       "      <td>0.0</td>\n",
       "    </tr>\n",
       "    <tr>\n",
       "      <th>82</th>\n",
       "      <td>2024-09-26 00:00:00+07:00</td>\n",
       "      <td>1463.369995</td>\n",
       "      <td>1464.810059</td>\n",
       "      <td>1449.680054</td>\n",
       "      <td>1455.030029</td>\n",
       "      <td>5682300</td>\n",
       "      <td>0.0</td>\n",
       "      <td>0.0</td>\n",
       "    </tr>\n",
       "    <tr>\n",
       "      <th>83</th>\n",
       "      <td>2024-09-27 00:00:00+07:00</td>\n",
       "      <td>1453.979980</td>\n",
       "      <td>1460.550049</td>\n",
       "      <td>1446.599976</td>\n",
       "      <td>1450.150024</td>\n",
       "      <td>5389900</td>\n",
       "      <td>0.0</td>\n",
       "      <td>0.0</td>\n",
       "    </tr>\n",
       "    <tr>\n",
       "      <th>84</th>\n",
       "      <td>2024-09-30 00:00:00+07:00</td>\n",
       "      <td>1445.180054</td>\n",
       "      <td>1453.540039</td>\n",
       "      <td>1444.109985</td>\n",
       "      <td>1448.829956</td>\n",
       "      <td>4717400</td>\n",
       "      <td>0.0</td>\n",
       "      <td>0.0</td>\n",
       "    </tr>\n",
       "    <tr>\n",
       "      <th>85</th>\n",
       "      <td>2024-10-01 00:00:00+07:00</td>\n",
       "      <td>1449.810059</td>\n",
       "      <td>1468.140015</td>\n",
       "      <td>1449.640015</td>\n",
       "      <td>1464.660034</td>\n",
       "      <td>4035900</td>\n",
       "      <td>0.0</td>\n",
       "      <td>0.0</td>\n",
       "    </tr>\n",
       "    <tr>\n",
       "      <th>86</th>\n",
       "      <td>2024-10-02 00:00:00+07:00</td>\n",
       "      <td>1461.709961</td>\n",
       "      <td>1464.270020</td>\n",
       "      <td>1447.400024</td>\n",
       "      <td>1451.400024</td>\n",
       "      <td>5561800</td>\n",
       "      <td>0.0</td>\n",
       "      <td>0.0</td>\n",
       "    </tr>\n",
       "    <tr>\n",
       "      <th>87</th>\n",
       "      <td>2024-10-03 00:00:00+07:00</td>\n",
       "      <td>1446.650024</td>\n",
       "      <td>1452.000000</td>\n",
       "      <td>1440.310059</td>\n",
       "      <td>1442.729980</td>\n",
       "      <td>4205800</td>\n",
       "      <td>0.0</td>\n",
       "      <td>0.0</td>\n",
       "    </tr>\n",
       "    <tr>\n",
       "      <th>88</th>\n",
       "      <td>2024-10-04 00:00:00+07:00</td>\n",
       "      <td>1441.839966</td>\n",
       "      <td>1447.650024</td>\n",
       "      <td>1432.219971</td>\n",
       "      <td>1444.250000</td>\n",
       "      <td>4571900</td>\n",
       "      <td>0.0</td>\n",
       "      <td>0.0</td>\n",
       "    </tr>\n",
       "    <tr>\n",
       "      <th>89</th>\n",
       "      <td>2024-10-07 00:00:00+07:00</td>\n",
       "      <td>1444.270020</td>\n",
       "      <td>1453.699951</td>\n",
       "      <td>1443.560059</td>\n",
       "      <td>1452.199951</td>\n",
       "      <td>3779000</td>\n",
       "      <td>0.0</td>\n",
       "      <td>0.0</td>\n",
       "    </tr>\n",
       "    <tr>\n",
       "      <th>90</th>\n",
       "      <td>2024-10-08 00:00:00+07:00</td>\n",
       "      <td>1448.270020</td>\n",
       "      <td>1459.640015</td>\n",
       "      <td>1447.349976</td>\n",
       "      <td>1452.800049</td>\n",
       "      <td>3988000</td>\n",
       "      <td>0.0</td>\n",
       "      <td>0.0</td>\n",
       "    </tr>\n",
       "    <tr>\n",
       "      <th>91</th>\n",
       "      <td>2024-10-09 00:00:00+07:00</td>\n",
       "      <td>1454.780029</td>\n",
       "      <td>1460.329956</td>\n",
       "      <td>1453.329956</td>\n",
       "      <td>1456.969971</td>\n",
       "      <td>4474300</td>\n",
       "      <td>0.0</td>\n",
       "      <td>0.0</td>\n",
       "    </tr>\n",
       "    <tr>\n",
       "      <th>92</th>\n",
       "      <td>2024-10-10 00:00:00+07:00</td>\n",
       "      <td>1462.469971</td>\n",
       "      <td>1474.510010</td>\n",
       "      <td>1458.589966</td>\n",
       "      <td>1468.520020</td>\n",
       "      <td>4199400</td>\n",
       "      <td>0.0</td>\n",
       "      <td>0.0</td>\n",
       "    </tr>\n",
       "    <tr>\n",
       "      <th>93</th>\n",
       "      <td>2024-10-11 00:00:00+07:00</td>\n",
       "      <td>1471.930054</td>\n",
       "      <td>1482.020020</td>\n",
       "      <td>1470.099976</td>\n",
       "      <td>1470.099976</td>\n",
       "      <td>4214800</td>\n",
       "      <td>0.0</td>\n",
       "      <td>0.0</td>\n",
       "    </tr>\n",
       "    <tr>\n",
       "      <th>94</th>\n",
       "      <td>2024-10-15 00:00:00+07:00</td>\n",
       "      <td>1472.689941</td>\n",
       "      <td>1478.369995</td>\n",
       "      <td>1463.319946</td>\n",
       "      <td>1465.030029</td>\n",
       "      <td>4542000</td>\n",
       "      <td>0.0</td>\n",
       "      <td>0.0</td>\n",
       "    </tr>\n",
       "    <tr>\n",
       "      <th>95</th>\n",
       "      <td>2024-10-16 00:00:00+07:00</td>\n",
       "      <td>1462.650024</td>\n",
       "      <td>1488.589966</td>\n",
       "      <td>1461.119995</td>\n",
       "      <td>1485.010010</td>\n",
       "      <td>5744400</td>\n",
       "      <td>0.0</td>\n",
       "      <td>0.0</td>\n",
       "    </tr>\n",
       "    <tr>\n",
       "      <th>96</th>\n",
       "      <td>2024-10-17 00:00:00+07:00</td>\n",
       "      <td>1490.099976</td>\n",
       "      <td>1498.609985</td>\n",
       "      <td>1489.719971</td>\n",
       "      <td>1495.020020</td>\n",
       "      <td>4485000</td>\n",
       "      <td>0.0</td>\n",
       "      <td>0.0</td>\n",
       "    </tr>\n",
       "    <tr>\n",
       "      <th>97</th>\n",
       "      <td>2024-10-18 00:00:00+07:00</td>\n",
       "      <td>1493.979980</td>\n",
       "      <td>1506.819946</td>\n",
       "      <td>1488.609985</td>\n",
       "      <td>1489.819946</td>\n",
       "      <td>4687400</td>\n",
       "      <td>0.0</td>\n",
       "      <td>0.0</td>\n",
       "    </tr>\n",
       "    <tr>\n",
       "      <th>98</th>\n",
       "      <td>2024-10-21 00:00:00+07:00</td>\n",
       "      <td>1493.079956</td>\n",
       "      <td>1494.670044</td>\n",
       "      <td>1482.750000</td>\n",
       "      <td>1488.739990</td>\n",
       "      <td>3366700</td>\n",
       "      <td>0.0</td>\n",
       "      <td>0.0</td>\n",
       "    </tr>\n",
       "    <tr>\n",
       "      <th>99</th>\n",
       "      <td>2024-10-22 00:00:00+07:00</td>\n",
       "      <td>1485.810059</td>\n",
       "      <td>1487.800049</td>\n",
       "      <td>1467.770020</td>\n",
       "      <td>1470.319946</td>\n",
       "      <td>3560700</td>\n",
       "      <td>0.0</td>\n",
       "      <td>0.0</td>\n",
       "    </tr>\n",
       "    <tr>\n",
       "      <th>100</th>\n",
       "      <td>2024-10-24 00:00:00+07:00</td>\n",
       "      <td>1466.270020</td>\n",
       "      <td>1476.579956</td>\n",
       "      <td>1458.670044</td>\n",
       "      <td>1460.640015</td>\n",
       "      <td>4476700</td>\n",
       "      <td>0.0</td>\n",
       "      <td>0.0</td>\n",
       "    </tr>\n",
       "    <tr>\n",
       "      <th>101</th>\n",
       "      <td>2024-10-25 00:00:00+07:00</td>\n",
       "      <td>1463.770020</td>\n",
       "      <td>1468.790039</td>\n",
       "      <td>1456.589966</td>\n",
       "      <td>1463.420044</td>\n",
       "      <td>3036300</td>\n",
       "      <td>0.0</td>\n",
       "      <td>0.0</td>\n",
       "    </tr>\n",
       "    <tr>\n",
       "      <th>102</th>\n",
       "      <td>2024-10-28 00:00:00+07:00</td>\n",
       "      <td>1464.119995</td>\n",
       "      <td>1465.859985</td>\n",
       "      <td>1449.729980</td>\n",
       "      <td>1453.030029</td>\n",
       "      <td>3841100</td>\n",
       "      <td>0.0</td>\n",
       "      <td>0.0</td>\n",
       "    </tr>\n",
       "    <tr>\n",
       "      <th>103</th>\n",
       "      <td>2024-10-29 00:00:00+07:00</td>\n",
       "      <td>1453.900024</td>\n",
       "      <td>1461.930054</td>\n",
       "      <td>1449.239990</td>\n",
       "      <td>1451.160034</td>\n",
       "      <td>2987100</td>\n",
       "      <td>0.0</td>\n",
       "      <td>0.0</td>\n",
       "    </tr>\n",
       "    <tr>\n",
       "      <th>104</th>\n",
       "      <td>2024-10-30 00:00:00+07:00</td>\n",
       "      <td>1448.949951</td>\n",
       "      <td>1456.020020</td>\n",
       "      <td>1443.209961</td>\n",
       "      <td>1447.199951</td>\n",
       "      <td>3285000</td>\n",
       "      <td>0.0</td>\n",
       "      <td>0.0</td>\n",
       "    </tr>\n",
       "    <tr>\n",
       "      <th>105</th>\n",
       "      <td>2024-10-31 00:00:00+07:00</td>\n",
       "      <td>1446.260010</td>\n",
       "      <td>1468.449951</td>\n",
       "      <td>1446.260010</td>\n",
       "      <td>1466.040039</td>\n",
       "      <td>3140900</td>\n",
       "      <td>0.0</td>\n",
       "      <td>0.0</td>\n",
       "    </tr>\n",
       "    <tr>\n",
       "      <th>106</th>\n",
       "      <td>2024-11-01 00:00:00+07:00</td>\n",
       "      <td>1464.170044</td>\n",
       "      <td>1466.910034</td>\n",
       "      <td>1459.260010</td>\n",
       "      <td>1464.170044</td>\n",
       "      <td>3002600</td>\n",
       "      <td>0.0</td>\n",
       "      <td>0.0</td>\n",
       "    </tr>\n",
       "    <tr>\n",
       "      <th>107</th>\n",
       "      <td>2024-11-04 00:00:00+07:00</td>\n",
       "      <td>1467.969971</td>\n",
       "      <td>1473.280029</td>\n",
       "      <td>1461.459961</td>\n",
       "      <td>1462.949951</td>\n",
       "      <td>2647900</td>\n",
       "      <td>0.0</td>\n",
       "      <td>0.0</td>\n",
       "    </tr>\n",
       "    <tr>\n",
       "      <th>108</th>\n",
       "      <td>2024-11-05 00:00:00+07:00</td>\n",
       "      <td>1464.550049</td>\n",
       "      <td>1486.550049</td>\n",
       "      <td>1462.630005</td>\n",
       "      <td>1481.670044</td>\n",
       "      <td>2650200</td>\n",
       "      <td>0.0</td>\n",
       "      <td>0.0</td>\n",
       "    </tr>\n",
       "    <tr>\n",
       "      <th>109</th>\n",
       "      <td>2024-11-06 00:00:00+07:00</td>\n",
       "      <td>1484.380005</td>\n",
       "      <td>1487.579956</td>\n",
       "      <td>1463.060059</td>\n",
       "      <td>1467.420044</td>\n",
       "      <td>4411100</td>\n",
       "      <td>0.0</td>\n",
       "      <td>0.0</td>\n",
       "    </tr>\n",
       "    <tr>\n",
       "      <th>110</th>\n",
       "      <td>2024-11-07 00:00:00+07:00</td>\n",
       "      <td>1469.709961</td>\n",
       "      <td>1478.770020</td>\n",
       "      <td>1468.560059</td>\n",
       "      <td>1469.719971</td>\n",
       "      <td>3442000</td>\n",
       "      <td>0.0</td>\n",
       "      <td>0.0</td>\n",
       "    </tr>\n",
       "    <tr>\n",
       "      <th>111</th>\n",
       "      <td>2024-11-08 00:00:00+07:00</td>\n",
       "      <td>1473.189941</td>\n",
       "      <td>1474.589966</td>\n",
       "      <td>1458.339966</td>\n",
       "      <td>1464.689941</td>\n",
       "      <td>2914200</td>\n",
       "      <td>0.0</td>\n",
       "      <td>0.0</td>\n",
       "    </tr>\n",
       "    <tr>\n",
       "      <th>112</th>\n",
       "      <td>2024-11-11 00:00:00+07:00</td>\n",
       "      <td>1463.750000</td>\n",
       "      <td>1465.290039</td>\n",
       "      <td>1452.810059</td>\n",
       "      <td>1456.469971</td>\n",
       "      <td>3667100</td>\n",
       "      <td>0.0</td>\n",
       "      <td>0.0</td>\n",
       "    </tr>\n",
       "    <tr>\n",
       "      <th>113</th>\n",
       "      <td>2024-11-12 00:00:00+07:00</td>\n",
       "      <td>1455.900024</td>\n",
       "      <td>1460.130005</td>\n",
       "      <td>1443.150024</td>\n",
       "      <td>1445.069946</td>\n",
       "      <td>3755000</td>\n",
       "      <td>0.0</td>\n",
       "      <td>0.0</td>\n",
       "    </tr>\n",
       "    <tr>\n",
       "      <th>114</th>\n",
       "      <td>2024-11-13 00:00:00+07:00</td>\n",
       "      <td>1447.819946</td>\n",
       "      <td>1463.310059</td>\n",
       "      <td>1447.819946</td>\n",
       "      <td>1451.469971</td>\n",
       "      <td>3086500</td>\n",
       "      <td>0.0</td>\n",
       "      <td>0.0</td>\n",
       "    </tr>\n",
       "    <tr>\n",
       "      <th>115</th>\n",
       "      <td>2024-11-14 00:00:00+07:00</td>\n",
       "      <td>1450.010010</td>\n",
       "      <td>1461.989990</td>\n",
       "      <td>1441.150024</td>\n",
       "      <td>1450.119995</td>\n",
       "      <td>3902000</td>\n",
       "      <td>0.0</td>\n",
       "      <td>0.0</td>\n",
       "    </tr>\n",
       "    <tr>\n",
       "      <th>116</th>\n",
       "      <td>2024-11-15 00:00:00+07:00</td>\n",
       "      <td>1455.810059</td>\n",
       "      <td>1458.319946</td>\n",
       "      <td>1436.790039</td>\n",
       "      <td>1442.630005</td>\n",
       "      <td>3556700</td>\n",
       "      <td>0.0</td>\n",
       "      <td>0.0</td>\n",
       "    </tr>\n",
       "    <tr>\n",
       "      <th>117</th>\n",
       "      <td>2024-11-18 00:00:00+07:00</td>\n",
       "      <td>1448.300049</td>\n",
       "      <td>1456.569946</td>\n",
       "      <td>1442.160034</td>\n",
       "      <td>1452.780029</td>\n",
       "      <td>2898900</td>\n",
       "      <td>0.0</td>\n",
       "      <td>0.0</td>\n",
       "    </tr>\n",
       "    <tr>\n",
       "      <th>118</th>\n",
       "      <td>2024-11-19 00:00:00+07:00</td>\n",
       "      <td>1460.250000</td>\n",
       "      <td>1471.479980</td>\n",
       "      <td>1458.910034</td>\n",
       "      <td>1460.109985</td>\n",
       "      <td>3280400</td>\n",
       "      <td>0.0</td>\n",
       "      <td>0.0</td>\n",
       "    </tr>\n",
       "    <tr>\n",
       "      <th>119</th>\n",
       "      <td>2024-11-20 00:00:00+07:00</td>\n",
       "      <td>1462.650024</td>\n",
       "      <td>1462.770020</td>\n",
       "      <td>1454.689941</td>\n",
       "      <td>1462.479980</td>\n",
       "      <td>2411000</td>\n",
       "      <td>0.0</td>\n",
       "      <td>0.0</td>\n",
       "    </tr>\n",
       "    <tr>\n",
       "      <th>120</th>\n",
       "      <td>2024-11-21 00:00:00+07:00</td>\n",
       "      <td>1442.729980</td>\n",
       "      <td>1453.119995</td>\n",
       "      <td>1436.729980</td>\n",
       "      <td>1440.459961</td>\n",
       "      <td>2693000</td>\n",
       "      <td>0.0</td>\n",
       "      <td>0.0</td>\n",
       "    </tr>\n",
       "    <tr>\n",
       "      <th>121</th>\n",
       "      <td>2024-11-22 00:00:00+07:00</td>\n",
       "      <td>1445.170044</td>\n",
       "      <td>1451.520020</td>\n",
       "      <td>1435.780029</td>\n",
       "      <td>1446.300049</td>\n",
       "      <td>3417900</td>\n",
       "      <td>0.0</td>\n",
       "      <td>0.0</td>\n",
       "    </tr>\n",
       "    <tr>\n",
       "      <th>122</th>\n",
       "      <td>2024-11-25 00:00:00+07:00</td>\n",
       "      <td>1452.770020</td>\n",
       "      <td>1455.390015</td>\n",
       "      <td>1441.859985</td>\n",
       "      <td>1443.310059</td>\n",
       "      <td>3001900</td>\n",
       "      <td>0.0</td>\n",
       "      <td>0.0</td>\n",
       "    </tr>\n",
       "    <tr>\n",
       "      <th>123</th>\n",
       "      <td>2024-11-26 00:00:00+07:00</td>\n",
       "      <td>1442.270020</td>\n",
       "      <td>1448.589966</td>\n",
       "      <td>1435.540039</td>\n",
       "      <td>1438.250000</td>\n",
       "      <td>2837600</td>\n",
       "      <td>0.0</td>\n",
       "      <td>0.0</td>\n",
       "    </tr>\n",
       "    <tr>\n",
       "      <th>124</th>\n",
       "      <td>2024-11-27 00:00:00+07:00</td>\n",
       "      <td>1436.319946</td>\n",
       "      <td>1437.270020</td>\n",
       "      <td>1425.930054</td>\n",
       "      <td>1430.400024</td>\n",
       "      <td>2759400</td>\n",
       "      <td>0.0</td>\n",
       "      <td>0.0</td>\n",
       "    </tr>\n",
       "    <tr>\n",
       "      <th>125</th>\n",
       "      <td>2024-11-28 00:00:00+07:00</td>\n",
       "      <td>1430.310059</td>\n",
       "      <td>1433.609985</td>\n",
       "      <td>1421.959961</td>\n",
       "      <td>1428.010010</td>\n",
       "      <td>2938900</td>\n",
       "      <td>0.0</td>\n",
       "      <td>0.0</td>\n",
       "    </tr>\n",
       "    <tr>\n",
       "      <th>126</th>\n",
       "      <td>2024-11-29 00:00:00+07:00</td>\n",
       "      <td>1429.020020</td>\n",
       "      <td>1433.030029</td>\n",
       "      <td>1422.880005</td>\n",
       "      <td>1427.540039</td>\n",
       "      <td>3437200</td>\n",
       "      <td>0.0</td>\n",
       "      <td>0.0</td>\n",
       "    </tr>\n",
       "    <tr>\n",
       "      <th>127</th>\n",
       "      <td>2024-12-02 00:00:00+07:00</td>\n",
       "      <td>1430.550049</td>\n",
       "      <td>1437.109985</td>\n",
       "      <td>1421.180054</td>\n",
       "      <td>1437.109985</td>\n",
       "      <td>2991100</td>\n",
       "      <td>0.0</td>\n",
       "      <td>0.0</td>\n",
       "    </tr>\n",
       "    <tr>\n",
       "      <th>128</th>\n",
       "      <td>2024-12-03 00:00:00+07:00</td>\n",
       "      <td>1441.430054</td>\n",
       "      <td>1455.839966</td>\n",
       "      <td>1441.430054</td>\n",
       "      <td>1454.760010</td>\n",
       "      <td>3795700</td>\n",
       "      <td>0.0</td>\n",
       "      <td>0.0</td>\n",
       "    </tr>\n",
       "    <tr>\n",
       "      <th>129</th>\n",
       "      <td>2024-12-04 00:00:00+07:00</td>\n",
       "      <td>1455.160034</td>\n",
       "      <td>1457.709961</td>\n",
       "      <td>1448.540039</td>\n",
       "      <td>1450.819946</td>\n",
       "      <td>4401300</td>\n",
       "      <td>0.0</td>\n",
       "      <td>0.0</td>\n",
       "    </tr>\n",
       "    <tr>\n",
       "      <th>130</th>\n",
       "      <td>2024-12-06 00:00:00+07:00</td>\n",
       "      <td>1450.050049</td>\n",
       "      <td>1454.969971</td>\n",
       "      <td>1448.209961</td>\n",
       "      <td>1451.959961</td>\n",
       "      <td>2915600</td>\n",
       "      <td>0.0</td>\n",
       "      <td>0.0</td>\n",
       "    </tr>\n",
       "    <tr>\n",
       "      <th>131</th>\n",
       "      <td>2024-12-09 00:00:00+07:00</td>\n",
       "      <td>1448.939941</td>\n",
       "      <td>1450.410034</td>\n",
       "      <td>1441.989990</td>\n",
       "      <td>1447.530029</td>\n",
       "      <td>2570700</td>\n",
       "      <td>0.0</td>\n",
       "      <td>0.0</td>\n",
       "    </tr>\n",
       "    <tr>\n",
       "      <th>132</th>\n",
       "      <td>2024-12-11 00:00:00+07:00</td>\n",
       "      <td>1444.949951</td>\n",
       "      <td>1454.319946</td>\n",
       "      <td>1441.680054</td>\n",
       "      <td>1443.050049</td>\n",
       "      <td>2647400</td>\n",
       "      <td>0.0</td>\n",
       "      <td>0.0</td>\n",
       "    </tr>\n",
       "    <tr>\n",
       "      <th>133</th>\n",
       "      <td>2024-12-12 00:00:00+07:00</td>\n",
       "      <td>1448.589966</td>\n",
       "      <td>1456.920044</td>\n",
       "      <td>1439.010010</td>\n",
       "      <td>1439.890015</td>\n",
       "      <td>3080000</td>\n",
       "      <td>0.0</td>\n",
       "      <td>0.0</td>\n",
       "    </tr>\n",
       "    <tr>\n",
       "      <th>134</th>\n",
       "      <td>2024-12-13 00:00:00+07:00</td>\n",
       "      <td>1435.310059</td>\n",
       "      <td>1438.670044</td>\n",
       "      <td>1429.680054</td>\n",
       "      <td>1431.670044</td>\n",
       "      <td>3648100</td>\n",
       "      <td>0.0</td>\n",
       "      <td>0.0</td>\n",
       "    </tr>\n",
       "    <tr>\n",
       "      <th>135</th>\n",
       "      <td>2024-12-16 00:00:00+07:00</td>\n",
       "      <td>1422.800049</td>\n",
       "      <td>1424.680054</td>\n",
       "      <td>1414.859985</td>\n",
       "      <td>1419.719971</td>\n",
       "      <td>3076000</td>\n",
       "      <td>0.0</td>\n",
       "      <td>0.0</td>\n",
       "    </tr>\n",
       "    <tr>\n",
       "      <th>136</th>\n",
       "      <td>2024-12-17 00:00:00+07:00</td>\n",
       "      <td>1418.020020</td>\n",
       "      <td>1421.650024</td>\n",
       "      <td>1393.939941</td>\n",
       "      <td>1395.569946</td>\n",
       "      <td>4249900</td>\n",
       "      <td>0.0</td>\n",
       "      <td>0.0</td>\n",
       "    </tr>\n",
       "    <tr>\n",
       "      <th>137</th>\n",
       "      <td>2024-12-18 00:00:00+07:00</td>\n",
       "      <td>1399.280029</td>\n",
       "      <td>1404.479980</td>\n",
       "      <td>1389.239990</td>\n",
       "      <td>1398.949951</td>\n",
       "      <td>3363700</td>\n",
       "      <td>0.0</td>\n",
       "      <td>0.0</td>\n",
       "    </tr>\n",
       "    <tr>\n",
       "      <th>138</th>\n",
       "      <td>2024-12-19 00:00:00+07:00</td>\n",
       "      <td>1384.239990</td>\n",
       "      <td>1394.260010</td>\n",
       "      <td>1374.329956</td>\n",
       "      <td>1377.530029</td>\n",
       "      <td>3597200</td>\n",
       "      <td>0.0</td>\n",
       "      <td>0.0</td>\n",
       "    </tr>\n",
       "    <tr>\n",
       "      <th>139</th>\n",
       "      <td>2024-12-20 00:00:00+07:00</td>\n",
       "      <td>1375.829956</td>\n",
       "      <td>1379.910034</td>\n",
       "      <td>1361.339966</td>\n",
       "      <td>1365.069946</td>\n",
       "      <td>4330100</td>\n",
       "      <td>0.0</td>\n",
       "      <td>0.0</td>\n",
       "    </tr>\n",
       "    <tr>\n",
       "      <th>140</th>\n",
       "      <td>2024-12-23 00:00:00+07:00</td>\n",
       "      <td>1374.060059</td>\n",
       "      <td>1386.930054</td>\n",
       "      <td>1366.709961</td>\n",
       "      <td>1386.910034</td>\n",
       "      <td>4369500</td>\n",
       "      <td>0.0</td>\n",
       "      <td>0.0</td>\n",
       "    </tr>\n",
       "    <tr>\n",
       "      <th>141</th>\n",
       "      <td>2024-12-24 00:00:00+07:00</td>\n",
       "      <td>1390.160034</td>\n",
       "      <td>1397.510010</td>\n",
       "      <td>1388.219971</td>\n",
       "      <td>1394.670044</td>\n",
       "      <td>2174600</td>\n",
       "      <td>0.0</td>\n",
       "      <td>0.0</td>\n",
       "    </tr>\n",
       "    <tr>\n",
       "      <th>142</th>\n",
       "      <td>2024-12-26 00:00:00+07:00</td>\n",
       "      <td>1400.599976</td>\n",
       "      <td>1403.449951</td>\n",
       "      <td>1395.400024</td>\n",
       "      <td>1397.800049</td>\n",
       "      <td>2432200</td>\n",
       "      <td>0.0</td>\n",
       "      <td>0.0</td>\n",
       "    </tr>\n",
       "    <tr>\n",
       "      <th>143</th>\n",
       "      <td>2024-12-27 00:00:00+07:00</td>\n",
       "      <td>1398.130005</td>\n",
       "      <td>1410.020020</td>\n",
       "      <td>1395.150024</td>\n",
       "      <td>1401.459961</td>\n",
       "      <td>3608700</td>\n",
       "      <td>0.0</td>\n",
       "      <td>0.0</td>\n",
       "    </tr>\n",
       "    <tr>\n",
       "      <th>144</th>\n",
       "      <td>2024-12-30 00:00:00+07:00</td>\n",
       "      <td>1403.270020</td>\n",
       "      <td>1409.130005</td>\n",
       "      <td>1398.390015</td>\n",
       "      <td>1400.209961</td>\n",
       "      <td>2930700</td>\n",
       "      <td>0.0</td>\n",
       "      <td>0.0</td>\n",
       "    </tr>\n",
       "    <tr>\n",
       "      <th>145</th>\n",
       "      <td>2025-01-02 00:00:00+07:00</td>\n",
       "      <td>1397.930054</td>\n",
       "      <td>1399.349976</td>\n",
       "      <td>1378.439941</td>\n",
       "      <td>1379.849976</td>\n",
       "      <td>2817600</td>\n",
       "      <td>0.0</td>\n",
       "      <td>0.0</td>\n",
       "    </tr>\n",
       "    <tr>\n",
       "      <th>146</th>\n",
       "      <td>2025-01-03 00:00:00+07:00</td>\n",
       "      <td>1383.280029</td>\n",
       "      <td>1390.270020</td>\n",
       "      <td>1379.089966</td>\n",
       "      <td>1384.760010</td>\n",
       "      <td>2416300</td>\n",
       "      <td>0.0</td>\n",
       "      <td>0.0</td>\n",
       "    </tr>\n",
       "    <tr>\n",
       "      <th>147</th>\n",
       "      <td>2025-01-06 00:00:00+07:00</td>\n",
       "      <td>1388.640015</td>\n",
       "      <td>1390.839966</td>\n",
       "      <td>1370.689941</td>\n",
       "      <td>1372.650024</td>\n",
       "      <td>2888400</td>\n",
       "      <td>0.0</td>\n",
       "      <td>0.0</td>\n",
       "    </tr>\n",
       "    <tr>\n",
       "      <th>148</th>\n",
       "      <td>2025-01-07 00:00:00+07:00</td>\n",
       "      <td>1375.290039</td>\n",
       "      <td>1395.699951</td>\n",
       "      <td>1375.290039</td>\n",
       "      <td>1390.880005</td>\n",
       "      <td>2979100</td>\n",
       "      <td>0.0</td>\n",
       "      <td>0.0</td>\n",
       "    </tr>\n",
       "    <tr>\n",
       "      <th>149</th>\n",
       "      <td>2025-01-08 00:00:00+07:00</td>\n",
       "      <td>1390.810059</td>\n",
       "      <td>1392.430054</td>\n",
       "      <td>1381.719971</td>\n",
       "      <td>1387.719971</td>\n",
       "      <td>2625900</td>\n",
       "      <td>0.0</td>\n",
       "      <td>0.0</td>\n",
       "    </tr>\n",
       "    <tr>\n",
       "      <th>150</th>\n",
       "      <td>2025-01-09 00:00:00+07:00</td>\n",
       "      <td>1385.339966</td>\n",
       "      <td>1385.339966</td>\n",
       "      <td>1360.270020</td>\n",
       "      <td>1362.969971</td>\n",
       "      <td>4249300</td>\n",
       "      <td>0.0</td>\n",
       "      <td>0.0</td>\n",
       "    </tr>\n",
       "    <tr>\n",
       "      <th>151</th>\n",
       "      <td>2025-01-10 00:00:00+07:00</td>\n",
       "      <td>1362.910034</td>\n",
       "      <td>1371.099976</td>\n",
       "      <td>1352.329956</td>\n",
       "      <td>1367.989990</td>\n",
       "      <td>4870500</td>\n",
       "      <td>0.0</td>\n",
       "      <td>0.0</td>\n",
       "    </tr>\n",
       "    <tr>\n",
       "      <th>152</th>\n",
       "      <td>2025-01-13 00:00:00+07:00</td>\n",
       "      <td>1359.209961</td>\n",
       "      <td>1362.140015</td>\n",
       "      <td>1349.020020</td>\n",
       "      <td>1354.339966</td>\n",
       "      <td>3911000</td>\n",
       "      <td>0.0</td>\n",
       "      <td>0.0</td>\n",
       "    </tr>\n",
       "    <tr>\n",
       "      <th>153</th>\n",
       "      <td>2025-01-14 00:00:00+07:00</td>\n",
       "      <td>1363.859985</td>\n",
       "      <td>1363.859985</td>\n",
       "      <td>1340.250000</td>\n",
       "      <td>1340.250000</td>\n",
       "      <td>3743900</td>\n",
       "      <td>0.0</td>\n",
       "      <td>0.0</td>\n",
       "    </tr>\n",
       "    <tr>\n",
       "      <th>154</th>\n",
       "      <td>2025-01-15 00:00:00+07:00</td>\n",
       "      <td>1343.189941</td>\n",
       "      <td>1353.170044</td>\n",
       "      <td>1334.790039</td>\n",
       "      <td>1353.170044</td>\n",
       "      <td>3352600</td>\n",
       "      <td>0.0</td>\n",
       "      <td>0.0</td>\n",
       "    </tr>\n",
       "    <tr>\n",
       "      <th>155</th>\n",
       "      <td>2025-01-16 00:00:00+07:00</td>\n",
       "      <td>1362.140015</td>\n",
       "      <td>1363.550049</td>\n",
       "      <td>1346.449951</td>\n",
       "      <td>1352.560059</td>\n",
       "      <td>3080800</td>\n",
       "      <td>0.0</td>\n",
       "      <td>0.0</td>\n",
       "    </tr>\n",
       "    <tr>\n",
       "      <th>156</th>\n",
       "      <td>2025-01-17 00:00:00+07:00</td>\n",
       "      <td>1348.060059</td>\n",
       "      <td>1356.329956</td>\n",
       "      <td>1338.839966</td>\n",
       "      <td>1340.630005</td>\n",
       "      <td>3204600</td>\n",
       "      <td>0.0</td>\n",
       "      <td>0.0</td>\n",
       "    </tr>\n",
       "    <tr>\n",
       "      <th>157</th>\n",
       "      <td>2025-01-20 00:00:00+07:00</td>\n",
       "      <td>1344.530029</td>\n",
       "      <td>1350.410034</td>\n",
       "      <td>1338.290039</td>\n",
       "      <td>1340.500000</td>\n",
       "      <td>2099600</td>\n",
       "      <td>0.0</td>\n",
       "      <td>0.0</td>\n",
       "    </tr>\n",
       "    <tr>\n",
       "      <th>158</th>\n",
       "      <td>2025-01-21 00:00:00+07:00</td>\n",
       "      <td>1346.589966</td>\n",
       "      <td>1357.500000</td>\n",
       "      <td>1343.229980</td>\n",
       "      <td>1352.530029</td>\n",
       "      <td>2975000</td>\n",
       "      <td>0.0</td>\n",
       "      <td>0.0</td>\n",
       "    </tr>\n",
       "    <tr>\n",
       "      <th>159</th>\n",
       "      <td>2025-01-22 00:00:00+07:00</td>\n",
       "      <td>1355.219971</td>\n",
       "      <td>1363.920044</td>\n",
       "      <td>1355.219971</td>\n",
       "      <td>1361.770020</td>\n",
       "      <td>3528000</td>\n",
       "      <td>0.0</td>\n",
       "      <td>0.0</td>\n",
       "    </tr>\n",
       "    <tr>\n",
       "      <th>160</th>\n",
       "      <td>2025-01-23 00:00:00+07:00</td>\n",
       "      <td>1359.869995</td>\n",
       "      <td>1362.000000</td>\n",
       "      <td>1344.170044</td>\n",
       "      <td>1344.170044</td>\n",
       "      <td>2948600</td>\n",
       "      <td>0.0</td>\n",
       "      <td>0.0</td>\n",
       "    </tr>\n",
       "    <tr>\n",
       "      <th>161</th>\n",
       "      <td>2025-01-24 00:00:00+07:00</td>\n",
       "      <td>1350.030029</td>\n",
       "      <td>1354.069946</td>\n",
       "      <td>1344.619995</td>\n",
       "      <td>1354.069946</td>\n",
       "      <td>2532500</td>\n",
       "      <td>0.0</td>\n",
       "      <td>0.0</td>\n",
       "    </tr>\n",
       "    <tr>\n",
       "      <th>162</th>\n",
       "      <td>2025-01-27 00:00:00+07:00</td>\n",
       "      <td>1349.050049</td>\n",
       "      <td>1354.739990</td>\n",
       "      <td>1340.589966</td>\n",
       "      <td>1340.939941</td>\n",
       "      <td>2806500</td>\n",
       "      <td>0.0</td>\n",
       "      <td>0.0</td>\n",
       "    </tr>\n",
       "    <tr>\n",
       "      <th>163</th>\n",
       "      <td>2025-01-28 00:00:00+07:00</td>\n",
       "      <td>1334.260010</td>\n",
       "      <td>1347.540039</td>\n",
       "      <td>1334.260010</td>\n",
       "      <td>1345.770020</td>\n",
       "      <td>2821000</td>\n",
       "      <td>0.0</td>\n",
       "      <td>0.0</td>\n",
       "    </tr>\n",
       "    <tr>\n",
       "      <th>164</th>\n",
       "      <td>2025-01-29 00:00:00+07:00</td>\n",
       "      <td>1350.729980</td>\n",
       "      <td>1351.680054</td>\n",
       "      <td>1341.319946</td>\n",
       "      <td>1343.189941</td>\n",
       "      <td>2867400</td>\n",
       "      <td>0.0</td>\n",
       "      <td>0.0</td>\n",
       "    </tr>\n",
       "    <tr>\n",
       "      <th>165</th>\n",
       "      <td>2025-01-30 00:00:00+07:00</td>\n",
       "      <td>1342.719971</td>\n",
       "      <td>1345.760010</td>\n",
       "      <td>1333.270020</td>\n",
       "      <td>1335.640015</td>\n",
       "      <td>2803900</td>\n",
       "      <td>0.0</td>\n",
       "      <td>0.0</td>\n",
       "    </tr>\n",
       "    <tr>\n",
       "      <th>166</th>\n",
       "      <td>2025-01-31 00:00:00+07:00</td>\n",
       "      <td>1336.420044</td>\n",
       "      <td>1337.800049</td>\n",
       "      <td>1310.719971</td>\n",
       "      <td>1314.500000</td>\n",
       "      <td>3630700</td>\n",
       "      <td>0.0</td>\n",
       "      <td>0.0</td>\n",
       "    </tr>\n",
       "    <tr>\n",
       "      <th>167</th>\n",
       "      <td>2025-02-03 00:00:00+07:00</td>\n",
       "      <td>1276.910034</td>\n",
       "      <td>1304.390015</td>\n",
       "      <td>1270.869995</td>\n",
       "      <td>1304.390015</td>\n",
       "      <td>4144800</td>\n",
       "      <td>0.0</td>\n",
       "      <td>0.0</td>\n",
       "    </tr>\n",
       "    <tr>\n",
       "      <th>168</th>\n",
       "      <td>2025-02-04 00:00:00+07:00</td>\n",
       "      <td>1310.750000</td>\n",
       "      <td>1316.410034</td>\n",
       "      <td>1300.109985</td>\n",
       "      <td>1301.020020</td>\n",
       "      <td>3015100</td>\n",
       "      <td>0.0</td>\n",
       "      <td>0.0</td>\n",
       "    </tr>\n",
       "    <tr>\n",
       "      <th>169</th>\n",
       "      <td>2025-02-05 00:00:00+07:00</td>\n",
       "      <td>1300.739990</td>\n",
       "      <td>1305.170044</td>\n",
       "      <td>1282.040039</td>\n",
       "      <td>1286.739990</td>\n",
       "      <td>3179300</td>\n",
       "      <td>0.0</td>\n",
       "      <td>0.0</td>\n",
       "    </tr>\n",
       "    <tr>\n",
       "      <th>170</th>\n",
       "      <td>2025-02-06 00:00:00+07:00</td>\n",
       "      <td>1289.000000</td>\n",
       "      <td>1290.260010</td>\n",
       "      <td>1260.020020</td>\n",
       "      <td>1262.069946</td>\n",
       "      <td>3586600</td>\n",
       "      <td>0.0</td>\n",
       "      <td>0.0</td>\n",
       "    </tr>\n",
       "    <tr>\n",
       "      <th>171</th>\n",
       "      <td>2025-02-07 00:00:00+07:00</td>\n",
       "      <td>1266.349976</td>\n",
       "      <td>1282.089966</td>\n",
       "      <td>1252.260010</td>\n",
       "      <td>1282.089966</td>\n",
       "      <td>4205200</td>\n",
       "      <td>0.0</td>\n",
       "      <td>0.0</td>\n",
       "    </tr>\n",
       "    <tr>\n",
       "      <th>172</th>\n",
       "      <td>2025-02-10 00:00:00+07:00</td>\n",
       "      <td>1273.949951</td>\n",
       "      <td>1275.880005</td>\n",
       "      <td>1262.410034</td>\n",
       "      <td>1270.489990</td>\n",
       "      <td>3040700</td>\n",
       "      <td>0.0</td>\n",
       "      <td>0.0</td>\n",
       "    </tr>\n",
       "    <tr>\n",
       "      <th>173</th>\n",
       "      <td>2025-02-11 00:00:00+07:00</td>\n",
       "      <td>1272.910034</td>\n",
       "      <td>1285.979980</td>\n",
       "      <td>1269.579956</td>\n",
       "      <td>1283.969971</td>\n",
       "      <td>2678300</td>\n",
       "      <td>0.0</td>\n",
       "      <td>0.0</td>\n",
       "    </tr>\n",
       "    <tr>\n",
       "      <th>174</th>\n",
       "      <td>2025-02-13 00:00:00+07:00</td>\n",
       "      <td>1287.160034</td>\n",
       "      <td>1298.719971</td>\n",
       "      <td>1281.160034</td>\n",
       "      <td>1284.109985</td>\n",
       "      <td>2844400</td>\n",
       "      <td>0.0</td>\n",
       "      <td>0.0</td>\n",
       "    </tr>\n",
       "    <tr>\n",
       "      <th>175</th>\n",
       "      <td>2025-02-14 00:00:00+07:00</td>\n",
       "      <td>1286.569946</td>\n",
       "      <td>1287.660034</td>\n",
       "      <td>1269.810059</td>\n",
       "      <td>1272.099976</td>\n",
       "      <td>2792100</td>\n",
       "      <td>0.0</td>\n",
       "      <td>0.0</td>\n",
       "    </tr>\n",
       "    <tr>\n",
       "      <th>176</th>\n",
       "      <td>2025-02-17 00:00:00+07:00</td>\n",
       "      <td>1244.560059</td>\n",
       "      <td>1256.479980</td>\n",
       "      <td>1236.800049</td>\n",
       "      <td>1256.479980</td>\n",
       "      <td>9807200</td>\n",
       "      <td>0.0</td>\n",
       "      <td>0.0</td>\n",
       "    </tr>\n",
       "    <tr>\n",
       "      <th>177</th>\n",
       "      <td>2025-02-18 00:00:00+07:00</td>\n",
       "      <td>1257.680054</td>\n",
       "      <td>1263.010010</td>\n",
       "      <td>1252.729980</td>\n",
       "      <td>1257.479980</td>\n",
       "      <td>3459300</td>\n",
       "      <td>0.0</td>\n",
       "      <td>0.0</td>\n",
       "    </tr>\n",
       "    <tr>\n",
       "      <th>178</th>\n",
       "      <td>2025-02-19 00:00:00+07:00</td>\n",
       "      <td>1255.150024</td>\n",
       "      <td>1267.719971</td>\n",
       "      <td>1254.180054</td>\n",
       "      <td>1262.270020</td>\n",
       "      <td>4125100</td>\n",
       "      <td>0.0</td>\n",
       "      <td>0.0</td>\n",
       "    </tr>\n",
       "    <tr>\n",
       "      <th>179</th>\n",
       "      <td>2025-02-20 00:00:00+07:00</td>\n",
       "      <td>1255.250000</td>\n",
       "      <td>1261.410034</td>\n",
       "      <td>1240.560059</td>\n",
       "      <td>1245.609985</td>\n",
       "      <td>4252900</td>\n",
       "      <td>0.0</td>\n",
       "      <td>0.0</td>\n",
       "    </tr>\n",
       "    <tr>\n",
       "      <th>180</th>\n",
       "      <td>2025-02-21 00:00:00+07:00</td>\n",
       "      <td>1243.890015</td>\n",
       "      <td>1252.500000</td>\n",
       "      <td>1240.670044</td>\n",
       "      <td>1246.209961</td>\n",
       "      <td>3227700</td>\n",
       "      <td>0.0</td>\n",
       "      <td>0.0</td>\n",
       "    </tr>\n",
       "    <tr>\n",
       "      <th>181</th>\n",
       "      <td>2025-02-24 00:00:00+07:00</td>\n",
       "      <td>1242.500000</td>\n",
       "      <td>1242.500000</td>\n",
       "      <td>1227.420044</td>\n",
       "      <td>1235.849976</td>\n",
       "      <td>3715400</td>\n",
       "      <td>0.0</td>\n",
       "      <td>0.0</td>\n",
       "    </tr>\n",
       "    <tr>\n",
       "      <th>182</th>\n",
       "      <td>2025-02-25 00:00:00+07:00</td>\n",
       "      <td>1231.479980</td>\n",
       "      <td>1231.479980</td>\n",
       "      <td>1206.390015</td>\n",
       "      <td>1206.390015</td>\n",
       "      <td>4213000</td>\n",
       "      <td>0.0</td>\n",
       "      <td>0.0</td>\n",
       "    </tr>\n",
       "    <tr>\n",
       "      <th>183</th>\n",
       "      <td>2025-02-26 00:00:00+07:00</td>\n",
       "      <td>1209.719971</td>\n",
       "      <td>1233.349976</td>\n",
       "      <td>1208.910034</td>\n",
       "      <td>1231.140015</td>\n",
       "      <td>4527000</td>\n",
       "      <td>0.0</td>\n",
       "      <td>0.0</td>\n",
       "    </tr>\n",
       "    <tr>\n",
       "      <th>184</th>\n",
       "      <td>2025-02-27 00:00:00+07:00</td>\n",
       "      <td>1228.650024</td>\n",
       "      <td>1235.109985</td>\n",
       "      <td>1212.540039</td>\n",
       "      <td>1215.729980</td>\n",
       "      <td>3389300</td>\n",
       "      <td>0.0</td>\n",
       "      <td>0.0</td>\n",
       "    </tr>\n",
       "    <tr>\n",
       "      <th>185</th>\n",
       "      <td>2025-02-28 00:00:00+07:00</td>\n",
       "      <td>1192.430054</td>\n",
       "      <td>1206.579956</td>\n",
       "      <td>1186.359985</td>\n",
       "      <td>1203.719971</td>\n",
       "      <td>5262600</td>\n",
       "      <td>0.0</td>\n",
       "      <td>0.0</td>\n",
       "    </tr>\n",
       "    <tr>\n",
       "      <th>186</th>\n",
       "      <td>2025-03-03 00:00:00+07:00</td>\n",
       "      <td>1207.270020</td>\n",
       "      <td>1211.209961</td>\n",
       "      <td>1185.729980</td>\n",
       "      <td>1188.410034</td>\n",
       "      <td>3541700</td>\n",
       "      <td>0.0</td>\n",
       "      <td>0.0</td>\n",
       "    </tr>\n",
       "    <tr>\n",
       "      <th>187</th>\n",
       "      <td>2025-03-04 00:00:00+07:00</td>\n",
       "      <td>1182.319946</td>\n",
       "      <td>1195.660034</td>\n",
       "      <td>1173.130005</td>\n",
       "      <td>1177.640015</td>\n",
       "      <td>3815800</td>\n",
       "      <td>0.0</td>\n",
       "      <td>0.0</td>\n",
       "    </tr>\n",
       "    <tr>\n",
       "      <th>188</th>\n",
       "      <td>2025-03-05 00:00:00+07:00</td>\n",
       "      <td>1185.359985</td>\n",
       "      <td>1208.760010</td>\n",
       "      <td>1183.209961</td>\n",
       "      <td>1206.959961</td>\n",
       "      <td>3760200</td>\n",
       "      <td>0.0</td>\n",
       "      <td>0.0</td>\n",
       "    </tr>\n",
       "    <tr>\n",
       "      <th>189</th>\n",
       "      <td>2025-03-06 00:00:00+07:00</td>\n",
       "      <td>1206.859985</td>\n",
       "      <td>1207.040039</td>\n",
       "      <td>1186.910034</td>\n",
       "      <td>1189.550049</td>\n",
       "      <td>3430500</td>\n",
       "      <td>0.0</td>\n",
       "      <td>0.0</td>\n",
       "    </tr>\n",
       "    <tr>\n",
       "      <th>190</th>\n",
       "      <td>2025-03-07 00:00:00+07:00</td>\n",
       "      <td>1188.660034</td>\n",
       "      <td>1202.030029</td>\n",
       "      <td>1186.930054</td>\n",
       "      <td>1202.030029</td>\n",
       "      <td>3046800</td>\n",
       "      <td>0.0</td>\n",
       "      <td>0.0</td>\n",
       "    </tr>\n",
       "    <tr>\n",
       "      <th>191</th>\n",
       "      <td>2025-03-10 00:00:00+07:00</td>\n",
       "      <td>1195.369995</td>\n",
       "      <td>1196.520020</td>\n",
       "      <td>1177.439941</td>\n",
       "      <td>1177.439941</td>\n",
       "      <td>3122200</td>\n",
       "      <td>0.0</td>\n",
       "      <td>0.0</td>\n",
       "    </tr>\n",
       "    <tr>\n",
       "      <th>192</th>\n",
       "      <td>2025-03-11 00:00:00+07:00</td>\n",
       "      <td>1167.189941</td>\n",
       "      <td>1189.400024</td>\n",
       "      <td>1160.989990</td>\n",
       "      <td>1187.630005</td>\n",
       "      <td>3629200</td>\n",
       "      <td>0.0</td>\n",
       "      <td>0.0</td>\n",
       "    </tr>\n",
       "    <tr>\n",
       "      <th>193</th>\n",
       "      <td>2025-03-12 00:00:00+07:00</td>\n",
       "      <td>1184.859985</td>\n",
       "      <td>1186.569946</td>\n",
       "      <td>1158.170044</td>\n",
       "      <td>1160.060059</td>\n",
       "      <td>3572400</td>\n",
       "      <td>0.0</td>\n",
       "      <td>0.0</td>\n",
       "    </tr>\n",
       "    <tr>\n",
       "      <th>194</th>\n",
       "      <td>2025-03-13 00:00:00+07:00</td>\n",
       "      <td>1164.180054</td>\n",
       "      <td>1168.729980</td>\n",
       "      <td>1157.959961</td>\n",
       "      <td>1159.640015</td>\n",
       "      <td>2448200</td>\n",
       "      <td>0.0</td>\n",
       "      <td>0.0</td>\n",
       "    </tr>\n",
       "    <tr>\n",
       "      <th>195</th>\n",
       "      <td>2025-03-14 00:00:00+07:00</td>\n",
       "      <td>1162.550049</td>\n",
       "      <td>1176.920044</td>\n",
       "      <td>1160.130005</td>\n",
       "      <td>1173.760010</td>\n",
       "      <td>2850100</td>\n",
       "      <td>0.0</td>\n",
       "      <td>0.0</td>\n",
       "    </tr>\n",
       "    <tr>\n",
       "      <th>196</th>\n",
       "      <td>2025-03-17 00:00:00+07:00</td>\n",
       "      <td>1175.739990</td>\n",
       "      <td>1178.510010</td>\n",
       "      <td>1165.459961</td>\n",
       "      <td>1170.199951</td>\n",
       "      <td>2642800</td>\n",
       "      <td>0.0</td>\n",
       "      <td>0.0</td>\n",
       "    </tr>\n",
       "    <tr>\n",
       "      <th>197</th>\n",
       "      <td>2025-03-18 00:00:00+07:00</td>\n",
       "      <td>1177.680054</td>\n",
       "      <td>1181.310059</td>\n",
       "      <td>1165.989990</td>\n",
       "      <td>1176.170044</td>\n",
       "      <td>2778800</td>\n",
       "      <td>0.0</td>\n",
       "      <td>0.0</td>\n",
       "    </tr>\n",
       "    <tr>\n",
       "      <th>198</th>\n",
       "      <td>2025-03-19 00:00:00+07:00</td>\n",
       "      <td>1177.369995</td>\n",
       "      <td>1195.560059</td>\n",
       "      <td>1174.619995</td>\n",
       "      <td>1189.660034</td>\n",
       "      <td>3380500</td>\n",
       "      <td>0.0</td>\n",
       "      <td>0.0</td>\n",
       "    </tr>\n",
       "    <tr>\n",
       "      <th>199</th>\n",
       "      <td>2025-03-20 00:00:00+07:00</td>\n",
       "      <td>1192.280029</td>\n",
       "      <td>1200.089966</td>\n",
       "      <td>1181.709961</td>\n",
       "      <td>1181.709961</td>\n",
       "      <td>3300200</td>\n",
       "      <td>0.0</td>\n",
       "      <td>0.0</td>\n",
       "    </tr>\n",
       "    <tr>\n",
       "      <th>200</th>\n",
       "      <td>2025-03-21 00:00:00+07:00</td>\n",
       "      <td>1187.060059</td>\n",
       "      <td>1190.619995</td>\n",
       "      <td>1180.489990</td>\n",
       "      <td>1186.609985</td>\n",
       "      <td>4732000</td>\n",
       "      <td>0.0</td>\n",
       "      <td>0.0</td>\n",
       "    </tr>\n",
       "    <tr>\n",
       "      <th>201</th>\n",
       "      <td>2025-03-24 00:00:00+07:00</td>\n",
       "      <td>1188.199951</td>\n",
       "      <td>1192.589966</td>\n",
       "      <td>1182.599976</td>\n",
       "      <td>1190.060059</td>\n",
       "      <td>2365600</td>\n",
       "      <td>0.0</td>\n",
       "      <td>0.0</td>\n",
       "    </tr>\n",
       "  </tbody>\n",
       "</table>\n",
       "</div>"
      ],
      "text/plain": [
       "                         Date         Open         High          Low  \\\n",
       "0   2024-05-29 00:00:00+07:00  1360.579956  1363.959961  1349.829956   \n",
       "1   2024-05-30 00:00:00+07:00  1345.709961  1353.500000  1340.829956   \n",
       "2   2024-05-31 00:00:00+07:00  1353.939941  1359.250000  1342.619995   \n",
       "3   2024-06-04 00:00:00+07:00  1350.900024  1354.750000  1336.069946   \n",
       "4   2024-06-05 00:00:00+07:00  1339.579956  1344.390015  1333.969971   \n",
       "5   2024-06-06 00:00:00+07:00  1341.739990  1344.479980  1325.709961   \n",
       "6   2024-06-07 00:00:00+07:00  1327.300049  1334.119995  1325.949951   \n",
       "7   2024-06-10 00:00:00+07:00  1328.900024  1329.810059  1313.260010   \n",
       "8   2024-06-11 00:00:00+07:00  1318.680054  1325.520020  1314.349976   \n",
       "9   2024-06-12 00:00:00+07:00  1316.619995  1320.510010  1311.040039   \n",
       "10  2024-06-13 00:00:00+07:00  1320.589966  1323.329956  1310.400024   \n",
       "11  2024-06-14 00:00:00+07:00  1311.380005  1315.699951  1304.310059   \n",
       "12  2024-06-17 00:00:00+07:00  1305.130005  1305.199951  1288.579956   \n",
       "13  2024-06-18 00:00:00+07:00  1300.209961  1310.760010  1296.180054   \n",
       "14  2024-06-19 00:00:00+07:00  1300.969971  1304.150024  1281.869995   \n",
       "15  2024-06-20 00:00:00+07:00  1302.449951  1304.239990  1293.689941   \n",
       "16  2024-06-21 00:00:00+07:00  1295.099976  1311.310059  1289.209961   \n",
       "17  2024-06-24 00:00:00+07:00  1302.619995  1317.630005  1300.359985   \n",
       "18  2024-06-25 00:00:00+07:00  1318.180054  1323.729980  1315.640015   \n",
       "19  2024-06-26 00:00:00+07:00  1322.719971  1324.479980  1315.500000   \n",
       "20  2024-06-27 00:00:00+07:00  1315.609985  1316.579956  1307.670044   \n",
       "21  2024-06-28 00:00:00+07:00  1311.420044  1311.729980  1296.670044   \n",
       "22  2024-07-01 00:00:00+07:00  1301.959961  1306.280029  1296.109985   \n",
       "23  2024-07-02 00:00:00+07:00  1297.479980  1297.849976  1286.829956   \n",
       "24  2024-07-03 00:00:00+07:00  1289.569946  1296.130005  1286.790039   \n",
       "25  2024-07-04 00:00:00+07:00  1300.619995  1309.459961  1300.260010   \n",
       "26  2024-07-05 00:00:00+07:00  1303.060059  1312.750000  1298.430054   \n",
       "27  2024-07-08 00:00:00+07:00  1311.699951  1322.500000  1311.050049   \n",
       "28  2024-07-09 00:00:00+07:00  1323.810059  1325.180054  1317.020020   \n",
       "29  2024-07-10 00:00:00+07:00  1320.680054  1327.160034  1318.719971   \n",
       "30  2024-07-11 00:00:00+07:00  1326.199951  1330.010010  1320.000000   \n",
       "31  2024-07-12 00:00:00+07:00  1327.780029  1332.760010  1325.640015   \n",
       "32  2024-07-15 00:00:00+07:00  1326.060059  1328.510010  1320.560059   \n",
       "33  2024-07-16 00:00:00+07:00  1327.770020  1330.839966  1320.079956   \n",
       "34  2024-07-17 00:00:00+07:00  1325.390015  1330.219971  1318.410034   \n",
       "35  2024-07-18 00:00:00+07:00  1318.459961  1327.020020  1317.890015   \n",
       "36  2024-07-19 00:00:00+07:00  1321.300049  1324.569946  1317.140015   \n",
       "37  2024-07-23 00:00:00+07:00  1318.810059  1321.209961  1300.040039   \n",
       "38  2024-07-24 00:00:00+07:00  1299.640015  1301.550049  1293.949951   \n",
       "39  2024-07-25 00:00:00+07:00  1289.979980  1295.880005  1288.219971   \n",
       "40  2024-07-26 00:00:00+07:00  1292.640015  1307.209961  1290.479980   \n",
       "41  2024-07-30 00:00:00+07:00  1311.949951  1315.780029  1306.219971   \n",
       "42  2024-07-31 00:00:00+07:00  1312.689941  1322.079956  1311.930054   \n",
       "43  2024-08-01 00:00:00+07:00  1322.510010  1329.760010  1319.290039   \n",
       "44  2024-08-02 00:00:00+07:00  1315.069946  1318.260010  1310.520020   \n",
       "45  2024-08-05 00:00:00+07:00  1295.650024  1296.109985  1273.170044   \n",
       "46  2024-08-06 00:00:00+07:00  1285.619995  1289.239990  1274.010010   \n",
       "47  2024-08-07 00:00:00+07:00  1282.050049  1293.939941  1282.050049   \n",
       "48  2024-08-08 00:00:00+07:00  1287.530029  1299.140015  1287.140015   \n",
       "49  2024-08-09 00:00:00+07:00  1305.880005  1309.660034  1292.800049   \n",
       "50  2024-08-13 00:00:00+07:00  1299.729980  1300.829956  1292.410034   \n",
       "51  2024-08-14 00:00:00+07:00  1300.589966  1306.880005  1280.989990   \n",
       "52  2024-08-15 00:00:00+07:00  1291.890015  1293.099976  1279.339966   \n",
       "53  2024-08-16 00:00:00+07:00  1295.949951  1305.030029  1295.349976   \n",
       "54  2024-08-19 00:00:00+07:00  1305.890015  1323.380005  1302.969971   \n",
       "55  2024-08-20 00:00:00+07:00  1327.250000  1337.349976  1323.939941   \n",
       "56  2024-08-21 00:00:00+07:00  1328.500000  1339.609985  1327.119995   \n",
       "57  2024-08-22 00:00:00+07:00  1338.839966  1343.349976  1334.790039   \n",
       "58  2024-08-23 00:00:00+07:00  1341.530029  1355.520020  1340.589966   \n",
       "59  2024-08-26 00:00:00+07:00  1356.109985  1366.760010  1351.329956   \n",
       "60  2024-08-27 00:00:00+07:00  1365.640015  1368.550049  1360.739990   \n",
       "61  2024-08-28 00:00:00+07:00  1361.589966  1370.670044  1356.510010   \n",
       "62  2024-08-29 00:00:00+07:00  1361.339966  1366.760010  1355.989990   \n",
       "63  2024-08-30 00:00:00+07:00  1360.160034  1367.089966  1355.459961   \n",
       "64  2024-09-02 00:00:00+07:00  1353.640015  1353.640015  1353.640015   \n",
       "65  2024-09-03 00:00:00+07:00  1354.260010  1370.040039  1354.260010   \n",
       "66  2024-09-04 00:00:00+07:00  1355.310059  1367.880005  1355.310059   \n",
       "67  2024-09-05 00:00:00+07:00  1372.290039  1406.489990  1371.489990   \n",
       "68  2024-09-06 00:00:00+07:00  1413.939941  1431.239990  1412.760010   \n",
       "69  2024-09-09 00:00:00+07:00  1429.160034  1438.310059  1417.680054   \n",
       "70  2024-09-10 00:00:00+07:00  1431.910034  1434.680054  1422.630005   \n",
       "71  2024-09-11 00:00:00+07:00  1424.689941  1428.130005  1405.300049   \n",
       "72  2024-09-12 00:00:00+07:00  1422.420044  1429.449951  1419.939941   \n",
       "73  2024-09-13 00:00:00+07:00  1428.150024  1433.660034  1421.469971   \n",
       "74  2024-09-16 00:00:00+07:00  1425.890015  1436.800049  1423.199951   \n",
       "75  2024-09-17 00:00:00+07:00  1437.469971  1439.349976  1431.560059   \n",
       "76  2024-09-18 00:00:00+07:00  1437.689941  1446.520020  1432.910034   \n",
       "77  2024-09-19 00:00:00+07:00  1440.349976  1454.839966  1436.140015   \n",
       "78  2024-09-20 00:00:00+07:00  1458.209961  1462.349976  1451.689941   \n",
       "79  2024-09-23 00:00:00+07:00  1454.189941  1455.439941  1442.020020   \n",
       "80  2024-09-24 00:00:00+07:00  1451.670044  1463.310059  1447.589966   \n",
       "81  2024-09-25 00:00:00+07:00  1466.369995  1471.689941  1460.229980   \n",
       "82  2024-09-26 00:00:00+07:00  1463.369995  1464.810059  1449.680054   \n",
       "83  2024-09-27 00:00:00+07:00  1453.979980  1460.550049  1446.599976   \n",
       "84  2024-09-30 00:00:00+07:00  1445.180054  1453.540039  1444.109985   \n",
       "85  2024-10-01 00:00:00+07:00  1449.810059  1468.140015  1449.640015   \n",
       "86  2024-10-02 00:00:00+07:00  1461.709961  1464.270020  1447.400024   \n",
       "87  2024-10-03 00:00:00+07:00  1446.650024  1452.000000  1440.310059   \n",
       "88  2024-10-04 00:00:00+07:00  1441.839966  1447.650024  1432.219971   \n",
       "89  2024-10-07 00:00:00+07:00  1444.270020  1453.699951  1443.560059   \n",
       "90  2024-10-08 00:00:00+07:00  1448.270020  1459.640015  1447.349976   \n",
       "91  2024-10-09 00:00:00+07:00  1454.780029  1460.329956  1453.329956   \n",
       "92  2024-10-10 00:00:00+07:00  1462.469971  1474.510010  1458.589966   \n",
       "93  2024-10-11 00:00:00+07:00  1471.930054  1482.020020  1470.099976   \n",
       "94  2024-10-15 00:00:00+07:00  1472.689941  1478.369995  1463.319946   \n",
       "95  2024-10-16 00:00:00+07:00  1462.650024  1488.589966  1461.119995   \n",
       "96  2024-10-17 00:00:00+07:00  1490.099976  1498.609985  1489.719971   \n",
       "97  2024-10-18 00:00:00+07:00  1493.979980  1506.819946  1488.609985   \n",
       "98  2024-10-21 00:00:00+07:00  1493.079956  1494.670044  1482.750000   \n",
       "99  2024-10-22 00:00:00+07:00  1485.810059  1487.800049  1467.770020   \n",
       "100 2024-10-24 00:00:00+07:00  1466.270020  1476.579956  1458.670044   \n",
       "101 2024-10-25 00:00:00+07:00  1463.770020  1468.790039  1456.589966   \n",
       "102 2024-10-28 00:00:00+07:00  1464.119995  1465.859985  1449.729980   \n",
       "103 2024-10-29 00:00:00+07:00  1453.900024  1461.930054  1449.239990   \n",
       "104 2024-10-30 00:00:00+07:00  1448.949951  1456.020020  1443.209961   \n",
       "105 2024-10-31 00:00:00+07:00  1446.260010  1468.449951  1446.260010   \n",
       "106 2024-11-01 00:00:00+07:00  1464.170044  1466.910034  1459.260010   \n",
       "107 2024-11-04 00:00:00+07:00  1467.969971  1473.280029  1461.459961   \n",
       "108 2024-11-05 00:00:00+07:00  1464.550049  1486.550049  1462.630005   \n",
       "109 2024-11-06 00:00:00+07:00  1484.380005  1487.579956  1463.060059   \n",
       "110 2024-11-07 00:00:00+07:00  1469.709961  1478.770020  1468.560059   \n",
       "111 2024-11-08 00:00:00+07:00  1473.189941  1474.589966  1458.339966   \n",
       "112 2024-11-11 00:00:00+07:00  1463.750000  1465.290039  1452.810059   \n",
       "113 2024-11-12 00:00:00+07:00  1455.900024  1460.130005  1443.150024   \n",
       "114 2024-11-13 00:00:00+07:00  1447.819946  1463.310059  1447.819946   \n",
       "115 2024-11-14 00:00:00+07:00  1450.010010  1461.989990  1441.150024   \n",
       "116 2024-11-15 00:00:00+07:00  1455.810059  1458.319946  1436.790039   \n",
       "117 2024-11-18 00:00:00+07:00  1448.300049  1456.569946  1442.160034   \n",
       "118 2024-11-19 00:00:00+07:00  1460.250000  1471.479980  1458.910034   \n",
       "119 2024-11-20 00:00:00+07:00  1462.650024  1462.770020  1454.689941   \n",
       "120 2024-11-21 00:00:00+07:00  1442.729980  1453.119995  1436.729980   \n",
       "121 2024-11-22 00:00:00+07:00  1445.170044  1451.520020  1435.780029   \n",
       "122 2024-11-25 00:00:00+07:00  1452.770020  1455.390015  1441.859985   \n",
       "123 2024-11-26 00:00:00+07:00  1442.270020  1448.589966  1435.540039   \n",
       "124 2024-11-27 00:00:00+07:00  1436.319946  1437.270020  1425.930054   \n",
       "125 2024-11-28 00:00:00+07:00  1430.310059  1433.609985  1421.959961   \n",
       "126 2024-11-29 00:00:00+07:00  1429.020020  1433.030029  1422.880005   \n",
       "127 2024-12-02 00:00:00+07:00  1430.550049  1437.109985  1421.180054   \n",
       "128 2024-12-03 00:00:00+07:00  1441.430054  1455.839966  1441.430054   \n",
       "129 2024-12-04 00:00:00+07:00  1455.160034  1457.709961  1448.540039   \n",
       "130 2024-12-06 00:00:00+07:00  1450.050049  1454.969971  1448.209961   \n",
       "131 2024-12-09 00:00:00+07:00  1448.939941  1450.410034  1441.989990   \n",
       "132 2024-12-11 00:00:00+07:00  1444.949951  1454.319946  1441.680054   \n",
       "133 2024-12-12 00:00:00+07:00  1448.589966  1456.920044  1439.010010   \n",
       "134 2024-12-13 00:00:00+07:00  1435.310059  1438.670044  1429.680054   \n",
       "135 2024-12-16 00:00:00+07:00  1422.800049  1424.680054  1414.859985   \n",
       "136 2024-12-17 00:00:00+07:00  1418.020020  1421.650024  1393.939941   \n",
       "137 2024-12-18 00:00:00+07:00  1399.280029  1404.479980  1389.239990   \n",
       "138 2024-12-19 00:00:00+07:00  1384.239990  1394.260010  1374.329956   \n",
       "139 2024-12-20 00:00:00+07:00  1375.829956  1379.910034  1361.339966   \n",
       "140 2024-12-23 00:00:00+07:00  1374.060059  1386.930054  1366.709961   \n",
       "141 2024-12-24 00:00:00+07:00  1390.160034  1397.510010  1388.219971   \n",
       "142 2024-12-26 00:00:00+07:00  1400.599976  1403.449951  1395.400024   \n",
       "143 2024-12-27 00:00:00+07:00  1398.130005  1410.020020  1395.150024   \n",
       "144 2024-12-30 00:00:00+07:00  1403.270020  1409.130005  1398.390015   \n",
       "145 2025-01-02 00:00:00+07:00  1397.930054  1399.349976  1378.439941   \n",
       "146 2025-01-03 00:00:00+07:00  1383.280029  1390.270020  1379.089966   \n",
       "147 2025-01-06 00:00:00+07:00  1388.640015  1390.839966  1370.689941   \n",
       "148 2025-01-07 00:00:00+07:00  1375.290039  1395.699951  1375.290039   \n",
       "149 2025-01-08 00:00:00+07:00  1390.810059  1392.430054  1381.719971   \n",
       "150 2025-01-09 00:00:00+07:00  1385.339966  1385.339966  1360.270020   \n",
       "151 2025-01-10 00:00:00+07:00  1362.910034  1371.099976  1352.329956   \n",
       "152 2025-01-13 00:00:00+07:00  1359.209961  1362.140015  1349.020020   \n",
       "153 2025-01-14 00:00:00+07:00  1363.859985  1363.859985  1340.250000   \n",
       "154 2025-01-15 00:00:00+07:00  1343.189941  1353.170044  1334.790039   \n",
       "155 2025-01-16 00:00:00+07:00  1362.140015  1363.550049  1346.449951   \n",
       "156 2025-01-17 00:00:00+07:00  1348.060059  1356.329956  1338.839966   \n",
       "157 2025-01-20 00:00:00+07:00  1344.530029  1350.410034  1338.290039   \n",
       "158 2025-01-21 00:00:00+07:00  1346.589966  1357.500000  1343.229980   \n",
       "159 2025-01-22 00:00:00+07:00  1355.219971  1363.920044  1355.219971   \n",
       "160 2025-01-23 00:00:00+07:00  1359.869995  1362.000000  1344.170044   \n",
       "161 2025-01-24 00:00:00+07:00  1350.030029  1354.069946  1344.619995   \n",
       "162 2025-01-27 00:00:00+07:00  1349.050049  1354.739990  1340.589966   \n",
       "163 2025-01-28 00:00:00+07:00  1334.260010  1347.540039  1334.260010   \n",
       "164 2025-01-29 00:00:00+07:00  1350.729980  1351.680054  1341.319946   \n",
       "165 2025-01-30 00:00:00+07:00  1342.719971  1345.760010  1333.270020   \n",
       "166 2025-01-31 00:00:00+07:00  1336.420044  1337.800049  1310.719971   \n",
       "167 2025-02-03 00:00:00+07:00  1276.910034  1304.390015  1270.869995   \n",
       "168 2025-02-04 00:00:00+07:00  1310.750000  1316.410034  1300.109985   \n",
       "169 2025-02-05 00:00:00+07:00  1300.739990  1305.170044  1282.040039   \n",
       "170 2025-02-06 00:00:00+07:00  1289.000000  1290.260010  1260.020020   \n",
       "171 2025-02-07 00:00:00+07:00  1266.349976  1282.089966  1252.260010   \n",
       "172 2025-02-10 00:00:00+07:00  1273.949951  1275.880005  1262.410034   \n",
       "173 2025-02-11 00:00:00+07:00  1272.910034  1285.979980  1269.579956   \n",
       "174 2025-02-13 00:00:00+07:00  1287.160034  1298.719971  1281.160034   \n",
       "175 2025-02-14 00:00:00+07:00  1286.569946  1287.660034  1269.810059   \n",
       "176 2025-02-17 00:00:00+07:00  1244.560059  1256.479980  1236.800049   \n",
       "177 2025-02-18 00:00:00+07:00  1257.680054  1263.010010  1252.729980   \n",
       "178 2025-02-19 00:00:00+07:00  1255.150024  1267.719971  1254.180054   \n",
       "179 2025-02-20 00:00:00+07:00  1255.250000  1261.410034  1240.560059   \n",
       "180 2025-02-21 00:00:00+07:00  1243.890015  1252.500000  1240.670044   \n",
       "181 2025-02-24 00:00:00+07:00  1242.500000  1242.500000  1227.420044   \n",
       "182 2025-02-25 00:00:00+07:00  1231.479980  1231.479980  1206.390015   \n",
       "183 2025-02-26 00:00:00+07:00  1209.719971  1233.349976  1208.910034   \n",
       "184 2025-02-27 00:00:00+07:00  1228.650024  1235.109985  1212.540039   \n",
       "185 2025-02-28 00:00:00+07:00  1192.430054  1206.579956  1186.359985   \n",
       "186 2025-03-03 00:00:00+07:00  1207.270020  1211.209961  1185.729980   \n",
       "187 2025-03-04 00:00:00+07:00  1182.319946  1195.660034  1173.130005   \n",
       "188 2025-03-05 00:00:00+07:00  1185.359985  1208.760010  1183.209961   \n",
       "189 2025-03-06 00:00:00+07:00  1206.859985  1207.040039  1186.910034   \n",
       "190 2025-03-07 00:00:00+07:00  1188.660034  1202.030029  1186.930054   \n",
       "191 2025-03-10 00:00:00+07:00  1195.369995  1196.520020  1177.439941   \n",
       "192 2025-03-11 00:00:00+07:00  1167.189941  1189.400024  1160.989990   \n",
       "193 2025-03-12 00:00:00+07:00  1184.859985  1186.569946  1158.170044   \n",
       "194 2025-03-13 00:00:00+07:00  1164.180054  1168.729980  1157.959961   \n",
       "195 2025-03-14 00:00:00+07:00  1162.550049  1176.920044  1160.130005   \n",
       "196 2025-03-17 00:00:00+07:00  1175.739990  1178.510010  1165.459961   \n",
       "197 2025-03-18 00:00:00+07:00  1177.680054  1181.310059  1165.989990   \n",
       "198 2025-03-19 00:00:00+07:00  1177.369995  1195.560059  1174.619995   \n",
       "199 2025-03-20 00:00:00+07:00  1192.280029  1200.089966  1181.709961   \n",
       "200 2025-03-21 00:00:00+07:00  1187.060059  1190.619995  1180.489990   \n",
       "201 2025-03-24 00:00:00+07:00  1188.199951  1192.589966  1182.599976   \n",
       "\n",
       "           Close   Volume  Dividends  Stock Splits  \n",
       "0    1349.829956  3286600        0.0           0.0  \n",
       "1    1351.520020  3355200        0.0           0.0  \n",
       "2    1345.660034  6489700        0.0           0.0  \n",
       "3    1337.319946  4742200        0.0           0.0  \n",
       "4    1338.319946  4143800        0.0           0.0  \n",
       "5    1328.410034  3771900        0.0           0.0  \n",
       "6    1332.739990  3533600        0.0           0.0  \n",
       "7    1318.569946  3844900        0.0           0.0  \n",
       "8    1316.099976  4585800        0.0           0.0  \n",
       "9    1316.689941  3829400        0.0           0.0  \n",
       "10   1311.780029  3599400        0.0           0.0  \n",
       "11   1306.560059  3368400        0.0           0.0  \n",
       "12   1296.589966  3922800        0.0           0.0  \n",
       "13   1297.410034  3602100        0.0           0.0  \n",
       "14   1303.819946  6281200        0.0           0.0  \n",
       "15   1298.290039  3836000        0.0           0.0  \n",
       "16   1306.410034  6508800        0.0           0.0  \n",
       "17   1316.729980  4298300        0.0           0.0  \n",
       "18   1319.140015  4360600        0.0           0.0  \n",
       "19   1319.150024  3308700        0.0           0.0  \n",
       "20   1309.459961  3575800        0.0           0.0  \n",
       "21   1300.959961  5350900        0.0           0.0  \n",
       "22   1299.349976  3175800        0.0           0.0  \n",
       "23   1288.579956  3567000        0.0           0.0  \n",
       "24   1294.699951  2527300        0.0           0.0  \n",
       "25   1301.040039  2517400        0.0           0.0  \n",
       "26   1311.989990  3588200        0.0           0.0  \n",
       "27   1322.500000  3271700        0.0           0.0  \n",
       "28   1319.920044  3207500        0.0           0.0  \n",
       "29   1323.280029  3122300        0.0           0.0  \n",
       "30   1329.369995  3313000        0.0           0.0  \n",
       "31   1332.040039  3686600        0.0           0.0  \n",
       "32   1327.430054  3734500        0.0           0.0  \n",
       "33   1321.310059  3561600        0.0           0.0  \n",
       "34   1319.790039  3704600        0.0           0.0  \n",
       "35   1324.760010  4251100        0.0           0.0  \n",
       "36   1317.140015  2799800        0.0           0.0  \n",
       "37   1301.540039  4110900        0.0           0.0  \n",
       "38   1298.079956  3665700        0.0           0.0  \n",
       "39   1291.579956  3611800        0.0           0.0  \n",
       "40   1307.209961  3753100        0.0           0.0  \n",
       "41   1308.089966  4129200        0.0           0.0  \n",
       "42   1320.859985  3642300        0.0           0.0  \n",
       "43   1322.750000  3794000        0.0           0.0  \n",
       "44   1313.079956  3147200        0.0           0.0  \n",
       "45   1274.670044  5238700        0.0           0.0  \n",
       "46   1274.010010  3247700        0.0           0.0  \n",
       "47   1290.550049  4038200        0.0           0.0  \n",
       "48   1296.250000  3635700        0.0           0.0  \n",
       "49   1297.069946  3821200        0.0           0.0  \n",
       "50   1297.790039  3792500        0.0           0.0  \n",
       "51   1292.689941  5413800        0.0           0.0  \n",
       "52   1289.839966  3870500        0.0           0.0  \n",
       "53   1303.000000  3503400        0.0           0.0  \n",
       "54   1323.380005  5146100        0.0           0.0  \n",
       "55   1328.119995  4341200        0.0           0.0  \n",
       "56   1337.829956  4990900        0.0           0.0  \n",
       "57   1341.030029  4055400        0.0           0.0  \n",
       "58   1354.869995  6408000        0.0           0.0  \n",
       "59   1364.810059  5902000        0.0           0.0  \n",
       "60   1364.310059  4895000        0.0           0.0  \n",
       "61   1365.719971  4050200        0.0           0.0  \n",
       "62   1357.410034  3321900        0.0           0.0  \n",
       "63   1359.069946  5566400        0.0           0.0  \n",
       "64   1353.640015        0        0.0           0.0  \n",
       "65   1364.599976  3945000        0.0           0.0  \n",
       "66   1365.489990  3522800        0.0           0.0  \n",
       "67   1404.280029  6841900        0.0           0.0  \n",
       "68   1427.640015  8722900        0.0           0.0  \n",
       "69   1431.130005  7500300        0.0           0.0  \n",
       "70   1428.030029  6123800        0.0           0.0  \n",
       "71   1415.410034  5734400        0.0           0.0  \n",
       "72   1421.579956  4569400        0.0           0.0  \n",
       "73   1424.390015  5600100        0.0           0.0  \n",
       "74   1435.530029  8451200        0.0           0.0  \n",
       "75   1436.599976  7316600        0.0           0.0  \n",
       "76   1435.770020  6480100        0.0           0.0  \n",
       "77   1454.839966  6953900        0.0           0.0  \n",
       "78   1451.689941  7876100        0.0           0.0  \n",
       "79   1447.900024  4849300        0.0           0.0  \n",
       "80   1462.099976  4468100        0.0           0.0  \n",
       "81   1461.579956  6325300        0.0           0.0  \n",
       "82   1455.030029  5682300        0.0           0.0  \n",
       "83   1450.150024  5389900        0.0           0.0  \n",
       "84   1448.829956  4717400        0.0           0.0  \n",
       "85   1464.660034  4035900        0.0           0.0  \n",
       "86   1451.400024  5561800        0.0           0.0  \n",
       "87   1442.729980  4205800        0.0           0.0  \n",
       "88   1444.250000  4571900        0.0           0.0  \n",
       "89   1452.199951  3779000        0.0           0.0  \n",
       "90   1452.800049  3988000        0.0           0.0  \n",
       "91   1456.969971  4474300        0.0           0.0  \n",
       "92   1468.520020  4199400        0.0           0.0  \n",
       "93   1470.099976  4214800        0.0           0.0  \n",
       "94   1465.030029  4542000        0.0           0.0  \n",
       "95   1485.010010  5744400        0.0           0.0  \n",
       "96   1495.020020  4485000        0.0           0.0  \n",
       "97   1489.819946  4687400        0.0           0.0  \n",
       "98   1488.739990  3366700        0.0           0.0  \n",
       "99   1470.319946  3560700        0.0           0.0  \n",
       "100  1460.640015  4476700        0.0           0.0  \n",
       "101  1463.420044  3036300        0.0           0.0  \n",
       "102  1453.030029  3841100        0.0           0.0  \n",
       "103  1451.160034  2987100        0.0           0.0  \n",
       "104  1447.199951  3285000        0.0           0.0  \n",
       "105  1466.040039  3140900        0.0           0.0  \n",
       "106  1464.170044  3002600        0.0           0.0  \n",
       "107  1462.949951  2647900        0.0           0.0  \n",
       "108  1481.670044  2650200        0.0           0.0  \n",
       "109  1467.420044  4411100        0.0           0.0  \n",
       "110  1469.719971  3442000        0.0           0.0  \n",
       "111  1464.689941  2914200        0.0           0.0  \n",
       "112  1456.469971  3667100        0.0           0.0  \n",
       "113  1445.069946  3755000        0.0           0.0  \n",
       "114  1451.469971  3086500        0.0           0.0  \n",
       "115  1450.119995  3902000        0.0           0.0  \n",
       "116  1442.630005  3556700        0.0           0.0  \n",
       "117  1452.780029  2898900        0.0           0.0  \n",
       "118  1460.109985  3280400        0.0           0.0  \n",
       "119  1462.479980  2411000        0.0           0.0  \n",
       "120  1440.459961  2693000        0.0           0.0  \n",
       "121  1446.300049  3417900        0.0           0.0  \n",
       "122  1443.310059  3001900        0.0           0.0  \n",
       "123  1438.250000  2837600        0.0           0.0  \n",
       "124  1430.400024  2759400        0.0           0.0  \n",
       "125  1428.010010  2938900        0.0           0.0  \n",
       "126  1427.540039  3437200        0.0           0.0  \n",
       "127  1437.109985  2991100        0.0           0.0  \n",
       "128  1454.760010  3795700        0.0           0.0  \n",
       "129  1450.819946  4401300        0.0           0.0  \n",
       "130  1451.959961  2915600        0.0           0.0  \n",
       "131  1447.530029  2570700        0.0           0.0  \n",
       "132  1443.050049  2647400        0.0           0.0  \n",
       "133  1439.890015  3080000        0.0           0.0  \n",
       "134  1431.670044  3648100        0.0           0.0  \n",
       "135  1419.719971  3076000        0.0           0.0  \n",
       "136  1395.569946  4249900        0.0           0.0  \n",
       "137  1398.949951  3363700        0.0           0.0  \n",
       "138  1377.530029  3597200        0.0           0.0  \n",
       "139  1365.069946  4330100        0.0           0.0  \n",
       "140  1386.910034  4369500        0.0           0.0  \n",
       "141  1394.670044  2174600        0.0           0.0  \n",
       "142  1397.800049  2432200        0.0           0.0  \n",
       "143  1401.459961  3608700        0.0           0.0  \n",
       "144  1400.209961  2930700        0.0           0.0  \n",
       "145  1379.849976  2817600        0.0           0.0  \n",
       "146  1384.760010  2416300        0.0           0.0  \n",
       "147  1372.650024  2888400        0.0           0.0  \n",
       "148  1390.880005  2979100        0.0           0.0  \n",
       "149  1387.719971  2625900        0.0           0.0  \n",
       "150  1362.969971  4249300        0.0           0.0  \n",
       "151  1367.989990  4870500        0.0           0.0  \n",
       "152  1354.339966  3911000        0.0           0.0  \n",
       "153  1340.250000  3743900        0.0           0.0  \n",
       "154  1353.170044  3352600        0.0           0.0  \n",
       "155  1352.560059  3080800        0.0           0.0  \n",
       "156  1340.630005  3204600        0.0           0.0  \n",
       "157  1340.500000  2099600        0.0           0.0  \n",
       "158  1352.530029  2975000        0.0           0.0  \n",
       "159  1361.770020  3528000        0.0           0.0  \n",
       "160  1344.170044  2948600        0.0           0.0  \n",
       "161  1354.069946  2532500        0.0           0.0  \n",
       "162  1340.939941  2806500        0.0           0.0  \n",
       "163  1345.770020  2821000        0.0           0.0  \n",
       "164  1343.189941  2867400        0.0           0.0  \n",
       "165  1335.640015  2803900        0.0           0.0  \n",
       "166  1314.500000  3630700        0.0           0.0  \n",
       "167  1304.390015  4144800        0.0           0.0  \n",
       "168  1301.020020  3015100        0.0           0.0  \n",
       "169  1286.739990  3179300        0.0           0.0  \n",
       "170  1262.069946  3586600        0.0           0.0  \n",
       "171  1282.089966  4205200        0.0           0.0  \n",
       "172  1270.489990  3040700        0.0           0.0  \n",
       "173  1283.969971  2678300        0.0           0.0  \n",
       "174  1284.109985  2844400        0.0           0.0  \n",
       "175  1272.099976  2792100        0.0           0.0  \n",
       "176  1256.479980  9807200        0.0           0.0  \n",
       "177  1257.479980  3459300        0.0           0.0  \n",
       "178  1262.270020  4125100        0.0           0.0  \n",
       "179  1245.609985  4252900        0.0           0.0  \n",
       "180  1246.209961  3227700        0.0           0.0  \n",
       "181  1235.849976  3715400        0.0           0.0  \n",
       "182  1206.390015  4213000        0.0           0.0  \n",
       "183  1231.140015  4527000        0.0           0.0  \n",
       "184  1215.729980  3389300        0.0           0.0  \n",
       "185  1203.719971  5262600        0.0           0.0  \n",
       "186  1188.410034  3541700        0.0           0.0  \n",
       "187  1177.640015  3815800        0.0           0.0  \n",
       "188  1206.959961  3760200        0.0           0.0  \n",
       "189  1189.550049  3430500        0.0           0.0  \n",
       "190  1202.030029  3046800        0.0           0.0  \n",
       "191  1177.439941  3122200        0.0           0.0  \n",
       "192  1187.630005  3629200        0.0           0.0  \n",
       "193  1160.060059  3572400        0.0           0.0  \n",
       "194  1159.640015  2448200        0.0           0.0  \n",
       "195  1173.760010  2850100        0.0           0.0  \n",
       "196  1170.199951  2642800        0.0           0.0  \n",
       "197  1176.170044  2778800        0.0           0.0  \n",
       "198  1189.660034  3380500        0.0           0.0  \n",
       "199  1181.709961  3300200        0.0           0.0  \n",
       "200  1186.609985  4732000        0.0           0.0  \n",
       "201  1190.060059  2365600        0.0           0.0  "
      ]
     },
     "execution_count": 6,
     "metadata": {},
     "output_type": "execute_result"
    }
   ],
   "source": [
    "price_df = pd.read_csv('dataset/historical_pricing.csv', parse_dates=['Date'])\n",
    "price_df"
   ]
  },
  {
   "cell_type": "markdown",
   "metadata": {},
   "source": [
    "# Plot price with News sentiment"
   ]
  },
  {
   "cell_type": "code",
   "execution_count": 11,
   "metadata": {},
   "outputs": [
    {
     "data": {
      "application/vnd.plotly.v1+json": {
       "config": {
        "plotlyServerURL": "https://plot.ly"
       },
       "data": [
        {
         "hovertemplate": "Date=%{x}<br>Close=%{y}<extra></extra>",
         "legendgroup": "",
         "line": {
          "color": "#636efa",
          "dash": "solid"
         },
         "marker": {
          "symbol": "circle"
         },
         "mode": "lines",
         "name": "",
         "orientation": "v",
         "showlegend": false,
         "type": "scatter",
         "x": [
          "2024-05-29T00:00:00.000000000",
          "2024-05-30T00:00:00.000000000",
          "2024-05-31T00:00:00.000000000",
          "2024-06-04T00:00:00.000000000",
          "2024-06-05T00:00:00.000000000",
          "2024-06-06T00:00:00.000000000",
          "2024-06-07T00:00:00.000000000",
          "2024-06-10T00:00:00.000000000",
          "2024-06-11T00:00:00.000000000",
          "2024-06-12T00:00:00.000000000",
          "2024-06-13T00:00:00.000000000",
          "2024-06-14T00:00:00.000000000",
          "2024-06-17T00:00:00.000000000",
          "2024-06-18T00:00:00.000000000",
          "2024-06-19T00:00:00.000000000",
          "2024-06-20T00:00:00.000000000",
          "2024-06-21T00:00:00.000000000",
          "2024-06-24T00:00:00.000000000",
          "2024-06-25T00:00:00.000000000",
          "2024-06-26T00:00:00.000000000",
          "2024-06-27T00:00:00.000000000",
          "2024-06-28T00:00:00.000000000",
          "2024-07-01T00:00:00.000000000",
          "2024-07-02T00:00:00.000000000",
          "2024-07-03T00:00:00.000000000",
          "2024-07-04T00:00:00.000000000",
          "2024-07-05T00:00:00.000000000",
          "2024-07-08T00:00:00.000000000",
          "2024-07-09T00:00:00.000000000",
          "2024-07-10T00:00:00.000000000",
          "2024-07-11T00:00:00.000000000",
          "2024-07-12T00:00:00.000000000",
          "2024-07-15T00:00:00.000000000",
          "2024-07-16T00:00:00.000000000",
          "2024-07-17T00:00:00.000000000",
          "2024-07-18T00:00:00.000000000",
          "2024-07-19T00:00:00.000000000",
          "2024-07-23T00:00:00.000000000",
          "2024-07-24T00:00:00.000000000",
          "2024-07-25T00:00:00.000000000",
          "2024-07-26T00:00:00.000000000",
          "2024-07-30T00:00:00.000000000",
          "2024-07-31T00:00:00.000000000",
          "2024-08-01T00:00:00.000000000",
          "2024-08-02T00:00:00.000000000",
          "2024-08-05T00:00:00.000000000",
          "2024-08-06T00:00:00.000000000",
          "2024-08-07T00:00:00.000000000",
          "2024-08-08T00:00:00.000000000",
          "2024-08-09T00:00:00.000000000",
          "2024-08-13T00:00:00.000000000",
          "2024-08-14T00:00:00.000000000",
          "2024-08-15T00:00:00.000000000",
          "2024-08-16T00:00:00.000000000",
          "2024-08-19T00:00:00.000000000",
          "2024-08-20T00:00:00.000000000",
          "2024-08-21T00:00:00.000000000",
          "2024-08-22T00:00:00.000000000",
          "2024-08-23T00:00:00.000000000",
          "2024-08-26T00:00:00.000000000",
          "2024-08-27T00:00:00.000000000",
          "2024-08-28T00:00:00.000000000",
          "2024-08-29T00:00:00.000000000",
          "2024-08-30T00:00:00.000000000",
          "2024-09-02T00:00:00.000000000",
          "2024-09-03T00:00:00.000000000",
          "2024-09-04T00:00:00.000000000",
          "2024-09-05T00:00:00.000000000",
          "2024-09-06T00:00:00.000000000",
          "2024-09-09T00:00:00.000000000",
          "2024-09-10T00:00:00.000000000",
          "2024-09-11T00:00:00.000000000",
          "2024-09-12T00:00:00.000000000",
          "2024-09-13T00:00:00.000000000",
          "2024-09-16T00:00:00.000000000",
          "2024-09-17T00:00:00.000000000",
          "2024-09-18T00:00:00.000000000",
          "2024-09-19T00:00:00.000000000",
          "2024-09-20T00:00:00.000000000",
          "2024-09-23T00:00:00.000000000",
          "2024-09-24T00:00:00.000000000",
          "2024-09-25T00:00:00.000000000",
          "2024-09-26T00:00:00.000000000",
          "2024-09-27T00:00:00.000000000",
          "2024-09-30T00:00:00.000000000",
          "2024-10-01T00:00:00.000000000",
          "2024-10-02T00:00:00.000000000",
          "2024-10-03T00:00:00.000000000",
          "2024-10-04T00:00:00.000000000",
          "2024-10-07T00:00:00.000000000",
          "2024-10-08T00:00:00.000000000",
          "2024-10-09T00:00:00.000000000",
          "2024-10-10T00:00:00.000000000",
          "2024-10-11T00:00:00.000000000",
          "2024-10-15T00:00:00.000000000",
          "2024-10-16T00:00:00.000000000",
          "2024-10-17T00:00:00.000000000",
          "2024-10-18T00:00:00.000000000",
          "2024-10-21T00:00:00.000000000",
          "2024-10-22T00:00:00.000000000",
          "2024-10-24T00:00:00.000000000",
          "2024-10-25T00:00:00.000000000",
          "2024-10-28T00:00:00.000000000",
          "2024-10-29T00:00:00.000000000",
          "2024-10-30T00:00:00.000000000",
          "2024-10-31T00:00:00.000000000",
          "2024-11-01T00:00:00.000000000",
          "2024-11-04T00:00:00.000000000",
          "2024-11-05T00:00:00.000000000",
          "2024-11-06T00:00:00.000000000",
          "2024-11-07T00:00:00.000000000",
          "2024-11-08T00:00:00.000000000",
          "2024-11-11T00:00:00.000000000",
          "2024-11-12T00:00:00.000000000",
          "2024-11-13T00:00:00.000000000",
          "2024-11-14T00:00:00.000000000",
          "2024-11-15T00:00:00.000000000",
          "2024-11-18T00:00:00.000000000",
          "2024-11-19T00:00:00.000000000",
          "2024-11-20T00:00:00.000000000",
          "2024-11-21T00:00:00.000000000",
          "2024-11-22T00:00:00.000000000",
          "2024-11-25T00:00:00.000000000",
          "2024-11-26T00:00:00.000000000",
          "2024-11-27T00:00:00.000000000",
          "2024-11-28T00:00:00.000000000",
          "2024-11-29T00:00:00.000000000",
          "2024-12-02T00:00:00.000000000",
          "2024-12-03T00:00:00.000000000",
          "2024-12-04T00:00:00.000000000",
          "2024-12-06T00:00:00.000000000",
          "2024-12-09T00:00:00.000000000",
          "2024-12-11T00:00:00.000000000",
          "2024-12-12T00:00:00.000000000",
          "2024-12-13T00:00:00.000000000",
          "2024-12-16T00:00:00.000000000",
          "2024-12-17T00:00:00.000000000",
          "2024-12-18T00:00:00.000000000",
          "2024-12-19T00:00:00.000000000",
          "2024-12-20T00:00:00.000000000",
          "2024-12-23T00:00:00.000000000",
          "2024-12-24T00:00:00.000000000",
          "2024-12-26T00:00:00.000000000",
          "2024-12-27T00:00:00.000000000",
          "2024-12-30T00:00:00.000000000",
          "2025-01-02T00:00:00.000000000",
          "2025-01-03T00:00:00.000000000",
          "2025-01-06T00:00:00.000000000",
          "2025-01-07T00:00:00.000000000",
          "2025-01-08T00:00:00.000000000",
          "2025-01-09T00:00:00.000000000",
          "2025-01-10T00:00:00.000000000",
          "2025-01-13T00:00:00.000000000",
          "2025-01-14T00:00:00.000000000",
          "2025-01-15T00:00:00.000000000",
          "2025-01-16T00:00:00.000000000",
          "2025-01-17T00:00:00.000000000",
          "2025-01-20T00:00:00.000000000",
          "2025-01-21T00:00:00.000000000",
          "2025-01-22T00:00:00.000000000",
          "2025-01-23T00:00:00.000000000",
          "2025-01-24T00:00:00.000000000",
          "2025-01-27T00:00:00.000000000",
          "2025-01-28T00:00:00.000000000",
          "2025-01-29T00:00:00.000000000",
          "2025-01-30T00:00:00.000000000",
          "2025-01-31T00:00:00.000000000",
          "2025-02-03T00:00:00.000000000",
          "2025-02-04T00:00:00.000000000",
          "2025-02-05T00:00:00.000000000",
          "2025-02-06T00:00:00.000000000",
          "2025-02-07T00:00:00.000000000",
          "2025-02-10T00:00:00.000000000",
          "2025-02-11T00:00:00.000000000",
          "2025-02-13T00:00:00.000000000",
          "2025-02-14T00:00:00.000000000",
          "2025-02-17T00:00:00.000000000",
          "2025-02-18T00:00:00.000000000",
          "2025-02-19T00:00:00.000000000",
          "2025-02-20T00:00:00.000000000",
          "2025-02-21T00:00:00.000000000",
          "2025-02-24T00:00:00.000000000",
          "2025-02-25T00:00:00.000000000",
          "2025-02-26T00:00:00.000000000",
          "2025-02-27T00:00:00.000000000",
          "2025-02-28T00:00:00.000000000",
          "2025-03-03T00:00:00.000000000",
          "2025-03-04T00:00:00.000000000",
          "2025-03-05T00:00:00.000000000",
          "2025-03-06T00:00:00.000000000",
          "2025-03-07T00:00:00.000000000",
          "2025-03-10T00:00:00.000000000",
          "2025-03-11T00:00:00.000000000",
          "2025-03-12T00:00:00.000000000",
          "2025-03-13T00:00:00.000000000",
          "2025-03-14T00:00:00.000000000",
          "2025-03-17T00:00:00.000000000",
          "2025-03-18T00:00:00.000000000",
          "2025-03-19T00:00:00.000000000",
          "2025-03-20T00:00:00.000000000",
          "2025-03-21T00:00:00.000000000",
          "2025-03-24T00:00:00.000000000"
         ],
         "xaxis": "x",
         "y": {
          "bdata": "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",
          "dtype": "f8"
         },
         "yaxis": "y"
        }
       ],
       "layout": {
        "annotations": [
         {
          "align": "left",
          "arrowhead": 1,
          "bgcolor": "lightgreen",
          "hovertext": "China optimism<br />gives lift to<br />Asian equities",
          "showarrow": true,
          "text": "Positive",
          "x": "2024-11-30T00:00:00",
          "xref": "x",
          "y": 1,
          "yref": "paper"
         },
         {
          "align": "left",
          "arrowhead": 1,
          "bgcolor": "lightgreen",
          "hovertext": "EMERGING<br />MARKETS-Asian FX<br />rallies as US<br />tariffs woes<br />ebb; Singapore<br />stocks defy<br />peers to hit<br />record high",
          "showarrow": true,
          "text": "Positive",
          "x": "2025-02-24T00:00:00",
          "xref": "x",
          "y": 1,
          "yref": "paper"
         },
         {
          "align": "left",
          "arrowhead": 1,
          "bgcolor": "lightgreen",
          "hovertext": "Stocks stage<br />relief rally but<br />trade tensions<br />persist",
          "showarrow": true,
          "text": "Positive",
          "x": "2025-03-16T00:00:00",
          "xref": "x",
          "y": 1,
          "yref": "paper"
         },
         {
          "align": "left",
          "arrowhead": 1,
          "bgcolor": "pink",
          "hovertext": "Thai firms wary<br />of Trump impact",
          "showarrow": true,
          "text": "Negative",
          "x": "2024-11-08T00:00:00",
          "xref": "x",
          "y": 1,
          "yref": "paper"
         },
         {
          "align": "left",
          "arrowhead": 1,
          "bgcolor": "pink",
          "hovertext": "SET closed at<br />1,435.77 down<br />0.83%",
          "showarrow": true,
          "text": "Negative",
          "x": "2024-09-18T00:00:00",
          "xref": "x",
          "y": 1,
          "yref": "paper"
         },
         {
          "align": "left",
          "arrowhead": 1,
          "bgcolor": "lightgreen",
          "hovertext": "Bank of Ayudhya<br />(BAY: THB24.70)<br />offers earnings<br />yield of 18.1%;<br />-10 satang<br />[0.4%]",
          "showarrow": true,
          "text": "Positive",
          "x": "2024-07-15T00:00:00",
          "xref": "x",
          "y": 1,
          "yref": "paper"
         },
         {
          "align": "left",
          "arrowhead": 1,
          "bgcolor": "lightgreen",
          "hovertext": "EMERGING<br />MARKETS-Most<br />Asian<br />currencies,<br />stocks rise<br />ahead of Fed<br />decision",
          "showarrow": true,
          "text": "Positive",
          "x": "2024-07-31T00:00:00",
          "xref": "x",
          "y": 1,
          "yref": "paper"
         },
         {
          "align": "left",
          "arrowhead": 1,
          "bgcolor": "pink",
          "hovertext": "Asian equities<br />retreat as China<br />disappoints",
          "showarrow": true,
          "text": "Negative",
          "x": "2024-12-14T00:00:00",
          "xref": "x",
          "y": 1,
          "yref": "paper"
         },
         {
          "align": "left",
          "arrowhead": 1,
          "bgcolor": "lightgreen",
          "hovertext": "Vayupak Fund<br />enjoys<br />optimistic<br />launch",
          "showarrow": true,
          "text": "Positive",
          "x": "2024-10-08T00:00:00",
          "xref": "x",
          "y": 1,
          "yref": "paper"
         },
         {
          "align": "left",
          "arrowhead": 1,
          "bgcolor": "pink",
          "hovertext": "Surprise rate<br />cut sets tone<br />for Q4",
          "showarrow": true,
          "text": "Negative",
          "x": "2024-10-19T00:00:00",
          "xref": "x",
          "y": 1,
          "yref": "paper"
         },
         {
          "align": "left",
          "arrowhead": 1,
          "bgcolor": "lightgreen",
          "hovertext": "SET eyes long-<br />term savings to<br />boost Thailand's<br />stock market",
          "showarrow": true,
          "text": "Positive",
          "x": "2025-03-10T00:00:00",
          "xref": "x",
          "y": 1,
          "yref": "paper"
         },
         {
          "align": "left",
          "arrowhead": 1,
          "bgcolor": "pink",
          "hovertext": "Thai stock index<br />continues its<br />downward trend",
          "showarrow": true,
          "text": "Negative",
          "x": "2024-12-10T00:00:00",
          "xref": "x",
          "y": 1,
          "yref": "paper"
         },
         {
          "align": "left",
          "arrowhead": 1,
          "bgcolor": "lightgreen",
          "hovertext": "Look for strong<br />earnings growth<br />stories",
          "showarrow": true,
          "text": "Positive",
          "x": "2024-08-04T00:00:00",
          "xref": "x",
          "y": 1,
          "yref": "paper"
         },
         {
          "align": "left",
          "arrowhead": 1,
          "bgcolor": "lightgreen",
          "hovertext": "EMERGING<br />MARKETS-Asian FX<br />steady, stocks<br />jump on firmer<br />US rate cut bets",
          "showarrow": true,
          "text": "Positive",
          "x": "2024-06-03T00:00:00",
          "xref": "x",
          "y": 1,
          "yref": "paper"
         },
         {
          "align": "left",
          "arrowhead": 1,
          "bgcolor": "pink",
          "hovertext": "Korean turmoil<br />dents equity<br />trading<br />sentiment",
          "showarrow": true,
          "text": "Negative",
          "x": "2024-12-07T00:00:00",
          "xref": "x",
          "y": 1,
          "yref": "paper"
         },
         {
          "align": "left",
          "arrowhead": 1,
          "bgcolor": "lightgreen",
          "hovertext": "SCB CIO<br />advocates for<br />Thai stock<br />investment,<br />predicts over 40<br />billion baht<br />inflows annually<br />with LTF<br />reinstatement to<br />promote long-<br />term savings<br />dis...",
          "showarrow": true,
          "text": "Positive",
          "x": "2024-05-31T00:00:00",
          "xref": "x",
          "y": 1,
          "yref": "paper"
         },
         {
          "align": "left",
          "arrowhead": 1,
          "bgcolor": "pink",
          "hovertext": "SET closed at<br />1,447.90 down<br />3.79 points,<br />with a trading<br />volume of<br />9,675,591 shares",
          "showarrow": true,
          "text": "Negative",
          "x": "2024-09-23T00:00:00",
          "xref": "x",
          "y": 1,
          "yref": "paper"
         },
         {
          "align": "left",
          "arrowhead": 1,
          "bgcolor": "pink",
          "hovertext": "EMERGING<br />MARKETS-Asian<br />currencies<br />extend losses on<br />US election<br />bets; rupiah,<br />ringgit lead<br />declines",
          "showarrow": true,
          "text": "Negative",
          "x": "2024-10-23T00:00:00",
          "xref": "x",
          "y": 1,
          "yref": "paper"
         },
         {
          "align": "left",
          "arrowhead": 1,
          "bgcolor": "lightgreen",
          "hovertext": "SC Asset (SC:<br />THB3.02) offers<br />earnings yield<br />of 19.3%; -4<br />satang [1.3%]",
          "showarrow": true,
          "text": "Positive",
          "x": "2024-10-18T00:00:00",
          "xref": "x",
          "y": 1,
          "yref": "paper"
         },
         {
          "align": "left",
          "arrowhead": 1,
          "bgcolor": "lightgreen",
          "hovertext": "UPDATE 1-Thai<br />finmin says<br />economic growth<br />to be driven to<br />3% this year",
          "showarrow": true,
          "text": "Positive",
          "x": "2024-06-24T00:00:00",
          "xref": "x",
          "y": 1,
          "yref": "paper"
         },
         {
          "align": "left",
          "arrowhead": 1,
          "bgcolor": "lightgreen",
          "hovertext": "SET closed at<br />1,435.53, up<br />11.14 points",
          "showarrow": true,
          "text": "Positive",
          "x": "2024-09-16T00:00:00",
          "xref": "x",
          "y": 1,
          "yref": "paper"
         },
         {
          "align": "left",
          "arrowhead": 1,
          "bgcolor": "pink",
          "hovertext": "As of February<br />6, 2025, SET<br />index closed at<br />1,262.07, down<br />24.67 points",
          "showarrow": true,
          "text": "Negative",
          "x": "2025-02-06T00:00:00",
          "xref": "x",
          "y": 1,
          "yref": "paper"
         }
        ],
        "legend": {
         "tracegroupgap": 0
        },
        "shapes": [
         {
          "line": {
           "color": "lightgrey"
          },
          "type": "line",
          "x0": "2024-11-30T00:00:00",
          "x1": "2024-11-30T00:00:00",
          "xref": "x",
          "y0": 0,
          "y1": 1,
          "yref": "y domain"
         },
         {
          "line": {
           "color": "lightgrey"
          },
          "type": "line",
          "x0": "2025-02-24T00:00:00",
          "x1": "2025-02-24T00:00:00",
          "xref": "x",
          "y0": 0,
          "y1": 1,
          "yref": "y domain"
         },
         {
          "line": {
           "color": "lightgrey"
          },
          "type": "line",
          "x0": "2025-03-16T00:00:00",
          "x1": "2025-03-16T00:00:00",
          "xref": "x",
          "y0": 0,
          "y1": 1,
          "yref": "y domain"
         },
         {
          "line": {
           "color": "lightgrey"
          },
          "type": "line",
          "x0": "2024-11-08T00:00:00",
          "x1": "2024-11-08T00:00:00",
          "xref": "x",
          "y0": 0,
          "y1": 1,
          "yref": "y domain"
         },
         {
          "line": {
           "color": "lightgrey"
          },
          "type": "line",
          "x0": "2024-09-18T00:00:00",
          "x1": "2024-09-18T00:00:00",
          "xref": "x",
          "y0": 0,
          "y1": 1,
          "yref": "y domain"
         },
         {
          "line": {
           "color": "lightgrey"
          },
          "type": "line",
          "x0": "2024-07-15T00:00:00",
          "x1": "2024-07-15T00:00:00",
          "xref": "x",
          "y0": 0,
          "y1": 1,
          "yref": "y domain"
         },
         {
          "line": {
           "color": "lightgrey"
          },
          "type": "line",
          "x0": "2024-07-31T00:00:00",
          "x1": "2024-07-31T00:00:00",
          "xref": "x",
          "y0": 0,
          "y1": 1,
          "yref": "y domain"
         },
         {
          "line": {
           "color": "lightgrey"
          },
          "type": "line",
          "x0": "2024-12-14T00:00:00",
          "x1": "2024-12-14T00:00:00",
          "xref": "x",
          "y0": 0,
          "y1": 1,
          "yref": "y domain"
         },
         {
          "line": {
           "color": "lightgrey"
          },
          "type": "line",
          "x0": "2024-10-08T00:00:00",
          "x1": "2024-10-08T00:00:00",
          "xref": "x",
          "y0": 0,
          "y1": 1,
          "yref": "y domain"
         },
         {
          "line": {
           "color": "lightgrey"
          },
          "type": "line",
          "x0": "2024-10-19T00:00:00",
          "x1": "2024-10-19T00:00:00",
          "xref": "x",
          "y0": 0,
          "y1": 1,
          "yref": "y domain"
         },
         {
          "line": {
           "color": "lightgrey"
          },
          "type": "line",
          "x0": "2025-03-10T00:00:00",
          "x1": "2025-03-10T00:00:00",
          "xref": "x",
          "y0": 0,
          "y1": 1,
          "yref": "y domain"
         },
         {
          "line": {
           "color": "lightgrey"
          },
          "type": "line",
          "x0": "2024-12-10T00:00:00",
          "x1": "2024-12-10T00:00:00",
          "xref": "x",
          "y0": 0,
          "y1": 1,
          "yref": "y domain"
         },
         {
          "line": {
           "color": "lightgrey"
          },
          "type": "line",
          "x0": "2024-08-04T00:00:00",
          "x1": "2024-08-04T00:00:00",
          "xref": "x",
          "y0": 0,
          "y1": 1,
          "yref": "y domain"
         },
         {
          "line": {
           "color": "lightgrey"
          },
          "type": "line",
          "x0": "2024-06-03T00:00:00",
          "x1": "2024-06-03T00:00:00",
          "xref": "x",
          "y0": 0,
          "y1": 1,
          "yref": "y domain"
         },
         {
          "line": {
           "color": "lightgrey"
          },
          "type": "line",
          "x0": "2024-12-07T00:00:00",
          "x1": "2024-12-07T00:00:00",
          "xref": "x",
          "y0": 0,
          "y1": 1,
          "yref": "y domain"
         },
         {
          "line": {
           "color": "lightgrey"
          },
          "type": "line",
          "x0": "2024-05-31T00:00:00",
          "x1": "2024-05-31T00:00:00",
          "xref": "x",
          "y0": 0,
          "y1": 1,
          "yref": "y domain"
         },
         {
          "line": {
           "color": "lightgrey"
          },
          "type": "line",
          "x0": "2024-09-23T00:00:00",
          "x1": "2024-09-23T00:00:00",
          "xref": "x",
          "y0": 0,
          "y1": 1,
          "yref": "y domain"
         },
         {
          "line": {
           "color": "lightgrey"
          },
          "type": "line",
          "x0": "2024-10-23T00:00:00",
          "x1": "2024-10-23T00:00:00",
          "xref": "x",
          "y0": 0,
          "y1": 1,
          "yref": "y domain"
         },
         {
          "line": {
           "color": "lightgrey"
          },
          "type": "line",
          "x0": "2024-10-18T00:00:00",
          "x1": "2024-10-18T00:00:00",
          "xref": "x",
          "y0": 0,
          "y1": 1,
          "yref": "y domain"
         },
         {
          "line": {
           "color": "lightgrey"
          },
          "type": "line",
          "x0": "2024-06-24T00:00:00",
          "x1": "2024-06-24T00:00:00",
          "xref": "x",
          "y0": 0,
          "y1": 1,
          "yref": "y domain"
         },
         {
          "line": {
           "color": "lightgrey"
          },
          "type": "line",
          "x0": "2024-09-16T00:00:00",
          "x1": "2024-09-16T00:00:00",
          "xref": "x",
          "y0": 0,
          "y1": 1,
          "yref": "y domain"
         },
         {
          "line": {
           "color": "lightgrey"
          },
          "type": "line",
          "x0": "2025-02-06T00:00:00",
          "x1": "2025-02-06T00:00:00",
          "xref": "x",
          "y0": 0,
          "y1": 1,
          "yref": "y domain"
         }
        ],
        "template": {
         "data": {
          "bar": [
           {
            "error_x": {
             "color": "#2a3f5f"
            },
            "error_y": {
             "color": "#2a3f5f"
            },
            "marker": {
             "line": {
              "color": "#E5ECF6",
              "width": 0.5
             },
             "pattern": {
              "fillmode": "overlay",
              "size": 10,
              "solidity": 0.2
             }
            },
            "type": "bar"
           }
          ],
          "barpolar": [
           {
            "marker": {
             "line": {
              "color": "#E5ECF6",
              "width": 0.5
             },
             "pattern": {
              "fillmode": "overlay",
              "size": 10,
              "solidity": 0.2
             }
            },
            "type": "barpolar"
           }
          ],
          "carpet": [
           {
            "aaxis": {
             "endlinecolor": "#2a3f5f",
             "gridcolor": "white",
             "linecolor": "white",
             "minorgridcolor": "white",
             "startlinecolor": "#2a3f5f"
            },
            "baxis": {
             "endlinecolor": "#2a3f5f",
             "gridcolor": "white",
             "linecolor": "white",
             "minorgridcolor": "white",
             "startlinecolor": "#2a3f5f"
            },
            "type": "carpet"
           }
          ],
          "choropleth": [
           {
            "colorbar": {
             "outlinewidth": 0,
             "ticks": ""
            },
            "type": "choropleth"
           }
          ],
          "contour": [
           {
            "colorbar": {
             "outlinewidth": 0,
             "ticks": ""
            },
            "colorscale": [
             [
              0,
              "#0d0887"
             ],
             [
              0.1111111111111111,
              "#46039f"
             ],
             [
              0.2222222222222222,
              "#7201a8"
             ],
             [
              0.3333333333333333,
              "#9c179e"
             ],
             [
              0.4444444444444444,
              "#bd3786"
             ],
             [
              0.5555555555555556,
              "#d8576b"
             ],
             [
              0.6666666666666666,
              "#ed7953"
             ],
             [
              0.7777777777777778,
              "#fb9f3a"
             ],
             [
              0.8888888888888888,
              "#fdca26"
             ],
             [
              1,
              "#f0f921"
             ]
            ],
            "type": "contour"
           }
          ],
          "contourcarpet": [
           {
            "colorbar": {
             "outlinewidth": 0,
             "ticks": ""
            },
            "type": "contourcarpet"
           }
          ],
          "heatmap": [
           {
            "colorbar": {
             "outlinewidth": 0,
             "ticks": ""
            },
            "colorscale": [
             [
              0,
              "#0d0887"
             ],
             [
              0.1111111111111111,
              "#46039f"
             ],
             [
              0.2222222222222222,
              "#7201a8"
             ],
             [
              0.3333333333333333,
              "#9c179e"
             ],
             [
              0.4444444444444444,
              "#bd3786"
             ],
             [
              0.5555555555555556,
              "#d8576b"
             ],
             [
              0.6666666666666666,
              "#ed7953"
             ],
             [
              0.7777777777777778,
              "#fb9f3a"
             ],
             [
              0.8888888888888888,
              "#fdca26"
             ],
             [
              1,
              "#f0f921"
             ]
            ],
            "type": "heatmap"
           }
          ],
          "histogram": [
           {
            "marker": {
             "pattern": {
              "fillmode": "overlay",
              "size": 10,
              "solidity": 0.2
             }
            },
            "type": "histogram"
           }
          ],
          "histogram2d": [
           {
            "colorbar": {
             "outlinewidth": 0,
             "ticks": ""
            },
            "colorscale": [
             [
              0,
              "#0d0887"
             ],
             [
              0.1111111111111111,
              "#46039f"
             ],
             [
              0.2222222222222222,
              "#7201a8"
             ],
             [
              0.3333333333333333,
              "#9c179e"
             ],
             [
              0.4444444444444444,
              "#bd3786"
             ],
             [
              0.5555555555555556,
              "#d8576b"
             ],
             [
              0.6666666666666666,
              "#ed7953"
             ],
             [
              0.7777777777777778,
              "#fb9f3a"
             ],
             [
              0.8888888888888888,
              "#fdca26"
             ],
             [
              1,
              "#f0f921"
             ]
            ],
            "type": "histogram2d"
           }
          ],
          "histogram2dcontour": [
           {
            "colorbar": {
             "outlinewidth": 0,
             "ticks": ""
            },
            "colorscale": [
             [
              0,
              "#0d0887"
             ],
             [
              0.1111111111111111,
              "#46039f"
             ],
             [
              0.2222222222222222,
              "#7201a8"
             ],
             [
              0.3333333333333333,
              "#9c179e"
             ],
             [
              0.4444444444444444,
              "#bd3786"
             ],
             [
              0.5555555555555556,
              "#d8576b"
             ],
             [
              0.6666666666666666,
              "#ed7953"
             ],
             [
              0.7777777777777778,
              "#fb9f3a"
             ],
             [
              0.8888888888888888,
              "#fdca26"
             ],
             [
              1,
              "#f0f921"
             ]
            ],
            "type": "histogram2dcontour"
           }
          ],
          "mesh3d": [
           {
            "colorbar": {
             "outlinewidth": 0,
             "ticks": ""
            },
            "type": "mesh3d"
           }
          ],
          "parcoords": [
           {
            "line": {
             "colorbar": {
              "outlinewidth": 0,
              "ticks": ""
             }
            },
            "type": "parcoords"
           }
          ],
          "pie": [
           {
            "automargin": true,
            "type": "pie"
           }
          ],
          "scatter": [
           {
            "fillpattern": {
             "fillmode": "overlay",
             "size": 10,
             "solidity": 0.2
            },
            "type": "scatter"
           }
          ],
          "scatter3d": [
           {
            "line": {
             "colorbar": {
              "outlinewidth": 0,
              "ticks": ""
             }
            },
            "marker": {
             "colorbar": {
              "outlinewidth": 0,
              "ticks": ""
             }
            },
            "type": "scatter3d"
           }
          ],
          "scattercarpet": [
           {
            "marker": {
             "colorbar": {
              "outlinewidth": 0,
              "ticks": ""
             }
            },
            "type": "scattercarpet"
           }
          ],
          "scattergeo": [
           {
            "marker": {
             "colorbar": {
              "outlinewidth": 0,
              "ticks": ""
             }
            },
            "type": "scattergeo"
           }
          ],
          "scattergl": [
           {
            "marker": {
             "colorbar": {
              "outlinewidth": 0,
              "ticks": ""
             }
            },
            "type": "scattergl"
           }
          ],
          "scattermap": [
           {
            "marker": {
             "colorbar": {
              "outlinewidth": 0,
              "ticks": ""
             }
            },
            "type": "scattermap"
           }
          ],
          "scattermapbox": [
           {
            "marker": {
             "colorbar": {
              "outlinewidth": 0,
              "ticks": ""
             }
            },
            "type": "scattermapbox"
           }
          ],
          "scatterpolar": [
           {
            "marker": {
             "colorbar": {
              "outlinewidth": 0,
              "ticks": ""
             }
            },
            "type": "scatterpolar"
           }
          ],
          "scatterpolargl": [
           {
            "marker": {
             "colorbar": {
              "outlinewidth": 0,
              "ticks": ""
             }
            },
            "type": "scatterpolargl"
           }
          ],
          "scatterternary": [
           {
            "marker": {
             "colorbar": {
              "outlinewidth": 0,
              "ticks": ""
             }
            },
            "type": "scatterternary"
           }
          ],
          "surface": [
           {
            "colorbar": {
             "outlinewidth": 0,
             "ticks": ""
            },
            "colorscale": [
             [
              0,
              "#0d0887"
             ],
             [
              0.1111111111111111,
              "#46039f"
             ],
             [
              0.2222222222222222,
              "#7201a8"
             ],
             [
              0.3333333333333333,
              "#9c179e"
             ],
             [
              0.4444444444444444,
              "#bd3786"
             ],
             [
              0.5555555555555556,
              "#d8576b"
             ],
             [
              0.6666666666666666,
              "#ed7953"
             ],
             [
              0.7777777777777778,
              "#fb9f3a"
             ],
             [
              0.8888888888888888,
              "#fdca26"
             ],
             [
              1,
              "#f0f921"
             ]
            ],
            "type": "surface"
           }
          ],
          "table": [
           {
            "cells": {
             "fill": {
              "color": "#EBF0F8"
             },
             "line": {
              "color": "white"
             }
            },
            "header": {
             "fill": {
              "color": "#C8D4E3"
             },
             "line": {
              "color": "white"
             }
            },
            "type": "table"
           }
          ]
         },
         "layout": {
          "annotationdefaults": {
           "arrowcolor": "#2a3f5f",
           "arrowhead": 0,
           "arrowwidth": 1
          },
          "autotypenumbers": "strict",
          "coloraxis": {
           "colorbar": {
            "outlinewidth": 0,
            "ticks": ""
           }
          },
          "colorscale": {
           "diverging": [
            [
             0,
             "#8e0152"
            ],
            [
             0.1,
             "#c51b7d"
            ],
            [
             0.2,
             "#de77ae"
            ],
            [
             0.3,
             "#f1b6da"
            ],
            [
             0.4,
             "#fde0ef"
            ],
            [
             0.5,
             "#f7f7f7"
            ],
            [
             0.6,
             "#e6f5d0"
            ],
            [
             0.7,
             "#b8e186"
            ],
            [
             0.8,
             "#7fbc41"
            ],
            [
             0.9,
             "#4d9221"
            ],
            [
             1,
             "#276419"
            ]
           ],
           "sequential": [
            [
             0,
             "#0d0887"
            ],
            [
             0.1111111111111111,
             "#46039f"
            ],
            [
             0.2222222222222222,
             "#7201a8"
            ],
            [
             0.3333333333333333,
             "#9c179e"
            ],
            [
             0.4444444444444444,
             "#bd3786"
            ],
            [
             0.5555555555555556,
             "#d8576b"
            ],
            [
             0.6666666666666666,
             "#ed7953"
            ],
            [
             0.7777777777777778,
             "#fb9f3a"
            ],
            [
             0.8888888888888888,
             "#fdca26"
            ],
            [
             1,
             "#f0f921"
            ]
           ],
           "sequentialminus": [
            [
             0,
             "#0d0887"
            ],
            [
             0.1111111111111111,
             "#46039f"
            ],
            [
             0.2222222222222222,
             "#7201a8"
            ],
            [
             0.3333333333333333,
             "#9c179e"
            ],
            [
             0.4444444444444444,
             "#bd3786"
            ],
            [
             0.5555555555555556,
             "#d8576b"
            ],
            [
             0.6666666666666666,
             "#ed7953"
            ],
            [
             0.7777777777777778,
             "#fb9f3a"
            ],
            [
             0.8888888888888888,
             "#fdca26"
            ],
            [
             1,
             "#f0f921"
            ]
           ]
          },
          "colorway": [
           "#636efa",
           "#EF553B",
           "#00cc96",
           "#ab63fa",
           "#FFA15A",
           "#19d3f3",
           "#FF6692",
           "#B6E880",
           "#FF97FF",
           "#FECB52"
          ],
          "font": {
           "color": "#2a3f5f"
          },
          "geo": {
           "bgcolor": "white",
           "lakecolor": "white",
           "landcolor": "#E5ECF6",
           "showlakes": true,
           "showland": true,
           "subunitcolor": "white"
          },
          "hoverlabel": {
           "align": "left"
          },
          "hovermode": "closest",
          "mapbox": {
           "style": "light"
          },
          "paper_bgcolor": "white",
          "plot_bgcolor": "#E5ECF6",
          "polar": {
           "angularaxis": {
            "gridcolor": "white",
            "linecolor": "white",
            "ticks": ""
           },
           "bgcolor": "#E5ECF6",
           "radialaxis": {
            "gridcolor": "white",
            "linecolor": "white",
            "ticks": ""
           }
          },
          "scene": {
           "xaxis": {
            "backgroundcolor": "#E5ECF6",
            "gridcolor": "white",
            "gridwidth": 2,
            "linecolor": "white",
            "showbackground": true,
            "ticks": "",
            "zerolinecolor": "white"
           },
           "yaxis": {
            "backgroundcolor": "#E5ECF6",
            "gridcolor": "white",
            "gridwidth": 2,
            "linecolor": "white",
            "showbackground": true,
            "ticks": "",
            "zerolinecolor": "white"
           },
           "zaxis": {
            "backgroundcolor": "#E5ECF6",
            "gridcolor": "white",
            "gridwidth": 2,
            "linecolor": "white",
            "showbackground": true,
            "ticks": "",
            "zerolinecolor": "white"
           }
          },
          "shapedefaults": {
           "line": {
            "color": "#2a3f5f"
           }
          },
          "ternary": {
           "aaxis": {
            "gridcolor": "white",
            "linecolor": "white",
            "ticks": ""
           },
           "baxis": {
            "gridcolor": "white",
            "linecolor": "white",
            "ticks": ""
           },
           "bgcolor": "#E5ECF6",
           "caxis": {
            "gridcolor": "white",
            "linecolor": "white",
            "ticks": ""
           }
          },
          "title": {
           "x": 0.05
          },
          "xaxis": {
           "automargin": true,
           "gridcolor": "white",
           "linecolor": "white",
           "ticks": "",
           "title": {
            "standoff": 15
           },
           "zerolinecolor": "white",
           "zerolinewidth": 2
          },
          "yaxis": {
           "automargin": true,
           "gridcolor": "white",
           "linecolor": "white",
           "ticks": "",
           "title": {
            "standoff": 15
           },
           "zerolinecolor": "white",
           "zerolinewidth": 2
          }
         }
        },
        "title": {
         "text": "Stock price"
        },
        "width": 1200,
        "xaxis": {
         "anchor": "y",
         "domain": [
          0,
          1
         ],
         "title": {
          "text": "Date"
         }
        },
        "yaxis": {
         "anchor": "x",
         "domain": [
          0,
          1
         ],
         "title": {
          "text": "Close"
         }
        }
       }
      }
     },
     "metadata": {},
     "output_type": "display_data"
    }
   ],
   "source": [
    "from visualization import plot_price_with_news\n",
    "plot_price_with_news(price_df, news_headlines_df.sample(frac=0.5, random_state=7)).show()"
   ]
  },
  {
   "cell_type": "code",
   "execution_count": 8,
   "metadata": {},
   "outputs": [
    {
     "data": {
      "application/vnd.plotly.v1+json": {
       "config": {
        "plotlyServerURL": "https://plot.ly"
       },
       "data": [
        {
         "hovertemplate": "Date=%{x}<br>Close=%{y}<extra></extra>",
         "legendgroup": "",
         "line": {
          "color": "#636efa",
          "dash": "solid"
         },
         "marker": {
          "symbol": "circle"
         },
         "mode": "lines",
         "name": "",
         "orientation": "v",
         "showlegend": false,
         "type": "scatter",
         "x": [
          "2024-05-29T00:00:00.000000000",
          "2024-05-30T00:00:00.000000000",
          "2024-05-31T00:00:00.000000000",
          "2024-06-04T00:00:00.000000000",
          "2024-06-05T00:00:00.000000000",
          "2024-06-06T00:00:00.000000000",
          "2024-06-07T00:00:00.000000000",
          "2024-06-10T00:00:00.000000000",
          "2024-06-11T00:00:00.000000000",
          "2024-06-12T00:00:00.000000000",
          "2024-06-13T00:00:00.000000000",
          "2024-06-14T00:00:00.000000000",
          "2024-06-17T00:00:00.000000000",
          "2024-06-18T00:00:00.000000000",
          "2024-06-19T00:00:00.000000000",
          "2024-06-20T00:00:00.000000000",
          "2024-06-21T00:00:00.000000000",
          "2024-06-24T00:00:00.000000000",
          "2024-06-25T00:00:00.000000000",
          "2024-06-26T00:00:00.000000000",
          "2024-06-27T00:00:00.000000000",
          "2024-06-28T00:00:00.000000000",
          "2024-07-01T00:00:00.000000000",
          "2024-07-02T00:00:00.000000000",
          "2024-07-03T00:00:00.000000000",
          "2024-07-04T00:00:00.000000000",
          "2024-07-05T00:00:00.000000000",
          "2024-07-08T00:00:00.000000000",
          "2024-07-09T00:00:00.000000000",
          "2024-07-10T00:00:00.000000000",
          "2024-07-11T00:00:00.000000000",
          "2024-07-12T00:00:00.000000000",
          "2024-07-15T00:00:00.000000000",
          "2024-07-16T00:00:00.000000000",
          "2024-07-17T00:00:00.000000000",
          "2024-07-18T00:00:00.000000000",
          "2024-07-19T00:00:00.000000000",
          "2024-07-23T00:00:00.000000000",
          "2024-07-24T00:00:00.000000000",
          "2024-07-25T00:00:00.000000000",
          "2024-07-26T00:00:00.000000000",
          "2024-07-30T00:00:00.000000000",
          "2024-07-31T00:00:00.000000000",
          "2024-08-01T00:00:00.000000000",
          "2024-08-02T00:00:00.000000000",
          "2024-08-05T00:00:00.000000000",
          "2024-08-06T00:00:00.000000000",
          "2024-08-07T00:00:00.000000000",
          "2024-08-08T00:00:00.000000000",
          "2024-08-09T00:00:00.000000000",
          "2024-08-13T00:00:00.000000000",
          "2024-08-14T00:00:00.000000000",
          "2024-08-15T00:00:00.000000000",
          "2024-08-16T00:00:00.000000000",
          "2024-08-19T00:00:00.000000000",
          "2024-08-20T00:00:00.000000000",
          "2024-08-21T00:00:00.000000000",
          "2024-08-22T00:00:00.000000000",
          "2024-08-23T00:00:00.000000000",
          "2024-08-26T00:00:00.000000000",
          "2024-08-27T00:00:00.000000000",
          "2024-08-28T00:00:00.000000000",
          "2024-08-29T00:00:00.000000000",
          "2024-08-30T00:00:00.000000000",
          "2024-09-02T00:00:00.000000000",
          "2024-09-03T00:00:00.000000000",
          "2024-09-04T00:00:00.000000000",
          "2024-09-05T00:00:00.000000000",
          "2024-09-06T00:00:00.000000000",
          "2024-09-09T00:00:00.000000000",
          "2024-09-10T00:00:00.000000000",
          "2024-09-11T00:00:00.000000000",
          "2024-09-12T00:00:00.000000000",
          "2024-09-13T00:00:00.000000000",
          "2024-09-16T00:00:00.000000000",
          "2024-09-17T00:00:00.000000000",
          "2024-09-18T00:00:00.000000000",
          "2024-09-19T00:00:00.000000000",
          "2024-09-20T00:00:00.000000000",
          "2024-09-23T00:00:00.000000000",
          "2024-09-24T00:00:00.000000000",
          "2024-09-25T00:00:00.000000000",
          "2024-09-26T00:00:00.000000000",
          "2024-09-27T00:00:00.000000000",
          "2024-09-30T00:00:00.000000000",
          "2024-10-01T00:00:00.000000000",
          "2024-10-02T00:00:00.000000000",
          "2024-10-03T00:00:00.000000000",
          "2024-10-04T00:00:00.000000000",
          "2024-10-07T00:00:00.000000000",
          "2024-10-08T00:00:00.000000000",
          "2024-10-09T00:00:00.000000000",
          "2024-10-10T00:00:00.000000000",
          "2024-10-11T00:00:00.000000000",
          "2024-10-15T00:00:00.000000000",
          "2024-10-16T00:00:00.000000000",
          "2024-10-17T00:00:00.000000000",
          "2024-10-18T00:00:00.000000000",
          "2024-10-21T00:00:00.000000000",
          "2024-10-22T00:00:00.000000000",
          "2024-10-24T00:00:00.000000000",
          "2024-10-25T00:00:00.000000000",
          "2024-10-28T00:00:00.000000000",
          "2024-10-29T00:00:00.000000000",
          "2024-10-30T00:00:00.000000000",
          "2024-10-31T00:00:00.000000000",
          "2024-11-01T00:00:00.000000000",
          "2024-11-04T00:00:00.000000000",
          "2024-11-05T00:00:00.000000000",
          "2024-11-06T00:00:00.000000000",
          "2024-11-07T00:00:00.000000000",
          "2024-11-08T00:00:00.000000000",
          "2024-11-11T00:00:00.000000000",
          "2024-11-12T00:00:00.000000000",
          "2024-11-13T00:00:00.000000000",
          "2024-11-14T00:00:00.000000000",
          "2024-11-15T00:00:00.000000000",
          "2024-11-18T00:00:00.000000000",
          "2024-11-19T00:00:00.000000000",
          "2024-11-20T00:00:00.000000000",
          "2024-11-21T00:00:00.000000000",
          "2024-11-22T00:00:00.000000000",
          "2024-11-25T00:00:00.000000000",
          "2024-11-26T00:00:00.000000000",
          "2024-11-27T00:00:00.000000000",
          "2024-11-28T00:00:00.000000000",
          "2024-11-29T00:00:00.000000000",
          "2024-12-02T00:00:00.000000000",
          "2024-12-03T00:00:00.000000000",
          "2024-12-04T00:00:00.000000000",
          "2024-12-06T00:00:00.000000000",
          "2024-12-09T00:00:00.000000000",
          "2024-12-11T00:00:00.000000000",
          "2024-12-12T00:00:00.000000000",
          "2024-12-13T00:00:00.000000000",
          "2024-12-16T00:00:00.000000000",
          "2024-12-17T00:00:00.000000000",
          "2024-12-18T00:00:00.000000000",
          "2024-12-19T00:00:00.000000000",
          "2024-12-20T00:00:00.000000000",
          "2024-12-23T00:00:00.000000000",
          "2024-12-24T00:00:00.000000000",
          "2024-12-26T00:00:00.000000000",
          "2024-12-27T00:00:00.000000000",
          "2024-12-30T00:00:00.000000000",
          "2025-01-02T00:00:00.000000000",
          "2025-01-03T00:00:00.000000000",
          "2025-01-06T00:00:00.000000000",
          "2025-01-07T00:00:00.000000000",
          "2025-01-08T00:00:00.000000000",
          "2025-01-09T00:00:00.000000000",
          "2025-01-10T00:00:00.000000000",
          "2025-01-13T00:00:00.000000000",
          "2025-01-14T00:00:00.000000000",
          "2025-01-15T00:00:00.000000000",
          "2025-01-16T00:00:00.000000000",
          "2025-01-17T00:00:00.000000000",
          "2025-01-20T00:00:00.000000000",
          "2025-01-21T00:00:00.000000000",
          "2025-01-22T00:00:00.000000000",
          "2025-01-23T00:00:00.000000000",
          "2025-01-24T00:00:00.000000000",
          "2025-01-27T00:00:00.000000000",
          "2025-01-28T00:00:00.000000000",
          "2025-01-29T00:00:00.000000000",
          "2025-01-30T00:00:00.000000000",
          "2025-01-31T00:00:00.000000000",
          "2025-02-03T00:00:00.000000000",
          "2025-02-04T00:00:00.000000000",
          "2025-02-05T00:00:00.000000000",
          "2025-02-06T00:00:00.000000000",
          "2025-02-07T00:00:00.000000000",
          "2025-02-10T00:00:00.000000000",
          "2025-02-11T00:00:00.000000000",
          "2025-02-13T00:00:00.000000000",
          "2025-02-14T00:00:00.000000000",
          "2025-02-17T00:00:00.000000000",
          "2025-02-18T00:00:00.000000000",
          "2025-02-19T00:00:00.000000000",
          "2025-02-20T00:00:00.000000000",
          "2025-02-21T00:00:00.000000000",
          "2025-02-24T00:00:00.000000000",
          "2025-02-25T00:00:00.000000000",
          "2025-02-26T00:00:00.000000000",
          "2025-02-27T00:00:00.000000000",
          "2025-02-28T00:00:00.000000000",
          "2025-03-03T00:00:00.000000000",
          "2025-03-04T00:00:00.000000000",
          "2025-03-05T00:00:00.000000000",
          "2025-03-06T00:00:00.000000000",
          "2025-03-07T00:00:00.000000000",
          "2025-03-10T00:00:00.000000000",
          "2025-03-11T00:00:00.000000000",
          "2025-03-12T00:00:00.000000000",
          "2025-03-13T00:00:00.000000000",
          "2025-03-14T00:00:00.000000000",
          "2025-03-17T00:00:00.000000000",
          "2025-03-18T00:00:00.000000000",
          "2025-03-19T00:00:00.000000000",
          "2025-03-20T00:00:00.000000000",
          "2025-03-21T00:00:00.000000000",
          "2025-03-24T00:00:00.000000000"
         ],
         "xaxis": "x",
         "y": {
          "bdata": "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",
          "dtype": "f8"
         },
         "yaxis": "y"
        }
       ],
       "layout": {
        "annotations": [
         {
          "align": "left",
          "arrowhead": 1,
          "bgcolor": "lightgreen",
          "hovertext": "China optimism<br />gives lift to<br />Asian equities",
          "showarrow": true,
          "text": "Positive",
          "x": "2024-11-30T00:00:00",
          "xref": "x",
          "y": 1,
          "yref": "paper"
         },
         {
          "align": "left",
          "arrowhead": 1,
          "bgcolor": "lightgreen",
          "hovertext": "EMERGING<br />MARKETS-Asian FX<br />rallies as US<br />tariffs woes<br />ebb; Singapore<br />stocks defy<br />peers to hit<br />record high",
          "showarrow": true,
          "text": "Positive",
          "x": "2025-02-24T00:00:00",
          "xref": "x",
          "y": 1,
          "yref": "paper"
         },
         {
          "align": "left",
          "arrowhead": 1,
          "bgcolor": "lightgreen",
          "hovertext": "Stocks stage<br />relief rally but<br />trade tensions<br />persist",
          "showarrow": true,
          "text": "Positive",
          "x": "2025-03-16T00:00:00",
          "xref": "x",
          "y": 1,
          "yref": "paper"
         },
         {
          "align": "left",
          "arrowhead": 1,
          "bgcolor": "pink",
          "hovertext": "Thai firms wary<br />of Trump impact",
          "showarrow": true,
          "text": "Negative",
          "x": "2024-11-08T00:00:00",
          "xref": "x",
          "y": 1,
          "yref": "paper"
         },
         {
          "align": "left",
          "arrowhead": 1,
          "bgcolor": "pink",
          "hovertext": "SET closed at<br />1,435.77 down<br />0.83%",
          "showarrow": true,
          "text": "Negative",
          "x": "2024-09-18T00:00:00",
          "xref": "x",
          "y": 1,
          "yref": "paper"
         },
         {
          "align": "left",
          "arrowhead": 1,
          "bgcolor": "lightgreen",
          "hovertext": "Bank of Ayudhya<br />(BAY: THB24.70)<br />offers earnings<br />yield of 18.1%;<br />-10 satang<br />[0.4%]",
          "showarrow": true,
          "text": "Positive",
          "x": "2024-07-15T00:00:00",
          "xref": "x",
          "y": 1,
          "yref": "paper"
         },
         {
          "align": "left",
          "arrowhead": 1,
          "bgcolor": "lightgreen",
          "hovertext": "EMERGING<br />MARKETS-Most<br />Asian<br />currencies,<br />stocks rise<br />ahead of Fed<br />decision",
          "showarrow": true,
          "text": "Positive",
          "x": "2024-07-31T00:00:00",
          "xref": "x",
          "y": 1,
          "yref": "paper"
         },
         {
          "align": "left",
          "arrowhead": 1,
          "bgcolor": "pink",
          "hovertext": "Asian equities<br />retreat as China<br />disappoints",
          "showarrow": true,
          "text": "Negative",
          "x": "2024-12-14T00:00:00",
          "xref": "x",
          "y": 1,
          "yref": "paper"
         },
         {
          "align": "left",
          "arrowhead": 1,
          "bgcolor": "lightgreen",
          "hovertext": "Vayupak Fund<br />enjoys<br />optimistic<br />launch",
          "showarrow": true,
          "text": "Positive",
          "x": "2024-10-08T00:00:00",
          "xref": "x",
          "y": 1,
          "yref": "paper"
         }
        ],
        "legend": {
         "tracegroupgap": 0
        },
        "shapes": [
         {
          "line": {
           "color": "lightgrey"
          },
          "type": "line",
          "x0": "2024-11-30T00:00:00",
          "x1": "2024-11-30T00:00:00",
          "xref": "x",
          "y0": 0,
          "y1": 1,
          "yref": "y domain"
         },
         {
          "line": {
           "color": "lightgrey"
          },
          "type": "line",
          "x0": "2025-02-24T00:00:00",
          "x1": "2025-02-24T00:00:00",
          "xref": "x",
          "y0": 0,
          "y1": 1,
          "yref": "y domain"
         },
         {
          "line": {
           "color": "lightgrey"
          },
          "type": "line",
          "x0": "2025-03-16T00:00:00",
          "x1": "2025-03-16T00:00:00",
          "xref": "x",
          "y0": 0,
          "y1": 1,
          "yref": "y domain"
         },
         {
          "line": {
           "color": "lightgrey"
          },
          "type": "line",
          "x0": "2024-11-08T00:00:00",
          "x1": "2024-11-08T00:00:00",
          "xref": "x",
          "y0": 0,
          "y1": 1,
          "yref": "y domain"
         },
         {
          "line": {
           "color": "lightgrey"
          },
          "type": "line",
          "x0": "2024-09-18T00:00:00",
          "x1": "2024-09-18T00:00:00",
          "xref": "x",
          "y0": 0,
          "y1": 1,
          "yref": "y domain"
         },
         {
          "line": {
           "color": "lightgrey"
          },
          "type": "line",
          "x0": "2024-07-15T00:00:00",
          "x1": "2024-07-15T00:00:00",
          "xref": "x",
          "y0": 0,
          "y1": 1,
          "yref": "y domain"
         },
         {
          "line": {
           "color": "lightgrey"
          },
          "type": "line",
          "x0": "2024-07-31T00:00:00",
          "x1": "2024-07-31T00:00:00",
          "xref": "x",
          "y0": 0,
          "y1": 1,
          "yref": "y domain"
         },
         {
          "line": {
           "color": "lightgrey"
          },
          "type": "line",
          "x0": "2024-12-14T00:00:00",
          "x1": "2024-12-14T00:00:00",
          "xref": "x",
          "y0": 0,
          "y1": 1,
          "yref": "y domain"
         },
         {
          "line": {
           "color": "lightgrey"
          },
          "type": "line",
          "x0": "2024-10-08T00:00:00",
          "x1": "2024-10-08T00:00:00",
          "xref": "x",
          "y0": 0,
          "y1": 1,
          "yref": "y domain"
         }
        ],
        "template": {
         "data": {
          "bar": [
           {
            "error_x": {
             "color": "#2a3f5f"
            },
            "error_y": {
             "color": "#2a3f5f"
            },
            "marker": {
             "line": {
              "color": "#E5ECF6",
              "width": 0.5
             },
             "pattern": {
              "fillmode": "overlay",
              "size": 10,
              "solidity": 0.2
             }
            },
            "type": "bar"
           }
          ],
          "barpolar": [
           {
            "marker": {
             "line": {
              "color": "#E5ECF6",
              "width": 0.5
             },
             "pattern": {
              "fillmode": "overlay",
              "size": 10,
              "solidity": 0.2
             }
            },
            "type": "barpolar"
           }
          ],
          "carpet": [
           {
            "aaxis": {
             "endlinecolor": "#2a3f5f",
             "gridcolor": "white",
             "linecolor": "white",
             "minorgridcolor": "white",
             "startlinecolor": "#2a3f5f"
            },
            "baxis": {
             "endlinecolor": "#2a3f5f",
             "gridcolor": "white",
             "linecolor": "white",
             "minorgridcolor": "white",
             "startlinecolor": "#2a3f5f"
            },
            "type": "carpet"
           }
          ],
          "choropleth": [
           {
            "colorbar": {
             "outlinewidth": 0,
             "ticks": ""
            },
            "type": "choropleth"
           }
          ],
          "contour": [
           {
            "colorbar": {
             "outlinewidth": 0,
             "ticks": ""
            },
            "colorscale": [
             [
              0,
              "#0d0887"
             ],
             [
              0.1111111111111111,
              "#46039f"
             ],
             [
              0.2222222222222222,
              "#7201a8"
             ],
             [
              0.3333333333333333,
              "#9c179e"
             ],
             [
              0.4444444444444444,
              "#bd3786"
             ],
             [
              0.5555555555555556,
              "#d8576b"
             ],
             [
              0.6666666666666666,
              "#ed7953"
             ],
             [
              0.7777777777777778,
              "#fb9f3a"
             ],
             [
              0.8888888888888888,
              "#fdca26"
             ],
             [
              1,
              "#f0f921"
             ]
            ],
            "type": "contour"
           }
          ],
          "contourcarpet": [
           {
            "colorbar": {
             "outlinewidth": 0,
             "ticks": ""
            },
            "type": "contourcarpet"
           }
          ],
          "heatmap": [
           {
            "colorbar": {
             "outlinewidth": 0,
             "ticks": ""
            },
            "colorscale": [
             [
              0,
              "#0d0887"
             ],
             [
              0.1111111111111111,
              "#46039f"
             ],
             [
              0.2222222222222222,
              "#7201a8"
             ],
             [
              0.3333333333333333,
              "#9c179e"
             ],
             [
              0.4444444444444444,
              "#bd3786"
             ],
             [
              0.5555555555555556,
              "#d8576b"
             ],
             [
              0.6666666666666666,
              "#ed7953"
             ],
             [
              0.7777777777777778,
              "#fb9f3a"
             ],
             [
              0.8888888888888888,
              "#fdca26"
             ],
             [
              1,
              "#f0f921"
             ]
            ],
            "type": "heatmap"
           }
          ],
          "histogram": [
           {
            "marker": {
             "pattern": {
              "fillmode": "overlay",
              "size": 10,
              "solidity": 0.2
             }
            },
            "type": "histogram"
           }
          ],
          "histogram2d": [
           {
            "colorbar": {
             "outlinewidth": 0,
             "ticks": ""
            },
            "colorscale": [
             [
              0,
              "#0d0887"
             ],
             [
              0.1111111111111111,
              "#46039f"
             ],
             [
              0.2222222222222222,
              "#7201a8"
             ],
             [
              0.3333333333333333,
              "#9c179e"
             ],
             [
              0.4444444444444444,
              "#bd3786"
             ],
             [
              0.5555555555555556,
              "#d8576b"
             ],
             [
              0.6666666666666666,
              "#ed7953"
             ],
             [
              0.7777777777777778,
              "#fb9f3a"
             ],
             [
              0.8888888888888888,
              "#fdca26"
             ],
             [
              1,
              "#f0f921"
             ]
            ],
            "type": "histogram2d"
           }
          ],
          "histogram2dcontour": [
           {
            "colorbar": {
             "outlinewidth": 0,
             "ticks": ""
            },
            "colorscale": [
             [
              0,
              "#0d0887"
             ],
             [
              0.1111111111111111,
              "#46039f"
             ],
             [
              0.2222222222222222,
              "#7201a8"
             ],
             [
              0.3333333333333333,
              "#9c179e"
             ],
             [
              0.4444444444444444,
              "#bd3786"
             ],
             [
              0.5555555555555556,
              "#d8576b"
             ],
             [
              0.6666666666666666,
              "#ed7953"
             ],
             [
              0.7777777777777778,
              "#fb9f3a"
             ],
             [
              0.8888888888888888,
              "#fdca26"
             ],
             [
              1,
              "#f0f921"
             ]
            ],
            "type": "histogram2dcontour"
           }
          ],
          "mesh3d": [
           {
            "colorbar": {
             "outlinewidth": 0,
             "ticks": ""
            },
            "type": "mesh3d"
           }
          ],
          "parcoords": [
           {
            "line": {
             "colorbar": {
              "outlinewidth": 0,
              "ticks": ""
             }
            },
            "type": "parcoords"
           }
          ],
          "pie": [
           {
            "automargin": true,
            "type": "pie"
           }
          ],
          "scatter": [
           {
            "fillpattern": {
             "fillmode": "overlay",
             "size": 10,
             "solidity": 0.2
            },
            "type": "scatter"
           }
          ],
          "scatter3d": [
           {
            "line": {
             "colorbar": {
              "outlinewidth": 0,
              "ticks": ""
             }
            },
            "marker": {
             "colorbar": {
              "outlinewidth": 0,
              "ticks": ""
             }
            },
            "type": "scatter3d"
           }
          ],
          "scattercarpet": [
           {
            "marker": {
             "colorbar": {
              "outlinewidth": 0,
              "ticks": ""
             }
            },
            "type": "scattercarpet"
           }
          ],
          "scattergeo": [
           {
            "marker": {
             "colorbar": {
              "outlinewidth": 0,
              "ticks": ""
             }
            },
            "type": "scattergeo"
           }
          ],
          "scattergl": [
           {
            "marker": {
             "colorbar": {
              "outlinewidth": 0,
              "ticks": ""
             }
            },
            "type": "scattergl"
           }
          ],
          "scattermap": [
           {
            "marker": {
             "colorbar": {
              "outlinewidth": 0,
              "ticks": ""
             }
            },
            "type": "scattermap"
           }
          ],
          "scattermapbox": [
           {
            "marker": {
             "colorbar": {
              "outlinewidth": 0,
              "ticks": ""
             }
            },
            "type": "scattermapbox"
           }
          ],
          "scatterpolar": [
           {
            "marker": {
             "colorbar": {
              "outlinewidth": 0,
              "ticks": ""
             }
            },
            "type": "scatterpolar"
           }
          ],
          "scatterpolargl": [
           {
            "marker": {
             "colorbar": {
              "outlinewidth": 0,
              "ticks": ""
             }
            },
            "type": "scatterpolargl"
           }
          ],
          "scatterternary": [
           {
            "marker": {
             "colorbar": {
              "outlinewidth": 0,
              "ticks": ""
             }
            },
            "type": "scatterternary"
           }
          ],
          "surface": [
           {
            "colorbar": {
             "outlinewidth": 0,
             "ticks": ""
            },
            "colorscale": [
             [
              0,
              "#0d0887"
             ],
             [
              0.1111111111111111,
              "#46039f"
             ],
             [
              0.2222222222222222,
              "#7201a8"
             ],
             [
              0.3333333333333333,
              "#9c179e"
             ],
             [
              0.4444444444444444,
              "#bd3786"
             ],
             [
              0.5555555555555556,
              "#d8576b"
             ],
             [
              0.6666666666666666,
              "#ed7953"
             ],
             [
              0.7777777777777778,
              "#fb9f3a"
             ],
             [
              0.8888888888888888,
              "#fdca26"
             ],
             [
              1,
              "#f0f921"
             ]
            ],
            "type": "surface"
           }
          ],
          "table": [
           {
            "cells": {
             "fill": {
              "color": "#EBF0F8"
             },
             "line": {
              "color": "white"
             }
            },
            "header": {
             "fill": {
              "color": "#C8D4E3"
             },
             "line": {
              "color": "white"
             }
            },
            "type": "table"
           }
          ]
         },
         "layout": {
          "annotationdefaults": {
           "arrowcolor": "#2a3f5f",
           "arrowhead": 0,
           "arrowwidth": 1
          },
          "autotypenumbers": "strict",
          "coloraxis": {
           "colorbar": {
            "outlinewidth": 0,
            "ticks": ""
           }
          },
          "colorscale": {
           "diverging": [
            [
             0,
             "#8e0152"
            ],
            [
             0.1,
             "#c51b7d"
            ],
            [
             0.2,
             "#de77ae"
            ],
            [
             0.3,
             "#f1b6da"
            ],
            [
             0.4,
             "#fde0ef"
            ],
            [
             0.5,
             "#f7f7f7"
            ],
            [
             0.6,
             "#e6f5d0"
            ],
            [
             0.7,
             "#b8e186"
            ],
            [
             0.8,
             "#7fbc41"
            ],
            [
             0.9,
             "#4d9221"
            ],
            [
             1,
             "#276419"
            ]
           ],
           "sequential": [
            [
             0,
             "#0d0887"
            ],
            [
             0.1111111111111111,
             "#46039f"
            ],
            [
             0.2222222222222222,
             "#7201a8"
            ],
            [
             0.3333333333333333,
             "#9c179e"
            ],
            [
             0.4444444444444444,
             "#bd3786"
            ],
            [
             0.5555555555555556,
             "#d8576b"
            ],
            [
             0.6666666666666666,
             "#ed7953"
            ],
            [
             0.7777777777777778,
             "#fb9f3a"
            ],
            [
             0.8888888888888888,
             "#fdca26"
            ],
            [
             1,
             "#f0f921"
            ]
           ],
           "sequentialminus": [
            [
             0,
             "#0d0887"
            ],
            [
             0.1111111111111111,
             "#46039f"
            ],
            [
             0.2222222222222222,
             "#7201a8"
            ],
            [
             0.3333333333333333,
             "#9c179e"
            ],
            [
             0.4444444444444444,
             "#bd3786"
            ],
            [
             0.5555555555555556,
             "#d8576b"
            ],
            [
             0.6666666666666666,
             "#ed7953"
            ],
            [
             0.7777777777777778,
             "#fb9f3a"
            ],
            [
             0.8888888888888888,
             "#fdca26"
            ],
            [
             1,
             "#f0f921"
            ]
           ]
          },
          "colorway": [
           "#636efa",
           "#EF553B",
           "#00cc96",
           "#ab63fa",
           "#FFA15A",
           "#19d3f3",
           "#FF6692",
           "#B6E880",
           "#FF97FF",
           "#FECB52"
          ],
          "font": {
           "color": "#2a3f5f"
          },
          "geo": {
           "bgcolor": "white",
           "lakecolor": "white",
           "landcolor": "#E5ECF6",
           "showlakes": true,
           "showland": true,
           "subunitcolor": "white"
          },
          "hoverlabel": {
           "align": "left"
          },
          "hovermode": "closest",
          "mapbox": {
           "style": "light"
          },
          "paper_bgcolor": "white",
          "plot_bgcolor": "#E5ECF6",
          "polar": {
           "angularaxis": {
            "gridcolor": "white",
            "linecolor": "white",
            "ticks": ""
           },
           "bgcolor": "#E5ECF6",
           "radialaxis": {
            "gridcolor": "white",
            "linecolor": "white",
            "ticks": ""
           }
          },
          "scene": {
           "xaxis": {
            "backgroundcolor": "#E5ECF6",
            "gridcolor": "white",
            "gridwidth": 2,
            "linecolor": "white",
            "showbackground": true,
            "ticks": "",
            "zerolinecolor": "white"
           },
           "yaxis": {
            "backgroundcolor": "#E5ECF6",
            "gridcolor": "white",
            "gridwidth": 2,
            "linecolor": "white",
            "showbackground": true,
            "ticks": "",
            "zerolinecolor": "white"
           },
           "zaxis": {
            "backgroundcolor": "#E5ECF6",
            "gridcolor": "white",
            "gridwidth": 2,
            "linecolor": "white",
            "showbackground": true,
            "ticks": "",
            "zerolinecolor": "white"
           }
          },
          "shapedefaults": {
           "line": {
            "color": "#2a3f5f"
           }
          },
          "ternary": {
           "aaxis": {
            "gridcolor": "white",
            "linecolor": "white",
            "ticks": ""
           },
           "baxis": {
            "gridcolor": "white",
            "linecolor": "white",
            "ticks": ""
           },
           "bgcolor": "#E5ECF6",
           "caxis": {
            "gridcolor": "white",
            "linecolor": "white",
            "ticks": ""
           }
          },
          "title": {
           "x": 0.05
          },
          "xaxis": {
           "automargin": true,
           "gridcolor": "white",
           "linecolor": "white",
           "ticks": "",
           "title": {
            "standoff": 15
           },
           "zerolinecolor": "white",
           "zerolinewidth": 2
          },
          "yaxis": {
           "automargin": true,
           "gridcolor": "white",
           "linecolor": "white",
           "ticks": "",
           "title": {
            "standoff": 15
           },
           "zerolinecolor": "white",
           "zerolinewidth": 2
          }
         }
        },
        "title": {
         "text": "Stock price"
        },
        "width": 1200,
        "xaxis": {
         "anchor": "y",
         "domain": [
          0,
          1
         ],
         "title": {
          "text": "Date"
         }
        },
        "yaxis": {
         "anchor": "x",
         "domain": [
          0,
          1
         ],
         "title": {
          "text": "Close"
         }
        }
       }
      }
     },
     "metadata": {},
     "output_type": "display_data"
    }
   ],
   "source": [
    "plot_price_with_news(price_df, news_headlines_df.sample(frac=0.2, random_state=7)).show()"
   ]
  },
  {
   "cell_type": "code",
   "execution_count": 9,
   "metadata": {},
   "outputs": [
    {
     "data": {
      "application/vnd.plotly.v1+json": {
       "config": {
        "plotlyServerURL": "https://plot.ly"
       },
       "data": [
        {
         "hovertemplate": "Date=%{x}<br>Close=%{y}<extra></extra>",
         "legendgroup": "",
         "line": {
          "color": "#636efa",
          "dash": "solid"
         },
         "marker": {
          "symbol": "circle"
         },
         "mode": "lines",
         "name": "",
         "orientation": "v",
         "showlegend": false,
         "type": "scatter",
         "x": [
          "2024-05-29T00:00:00.000000000",
          "2024-05-30T00:00:00.000000000",
          "2024-05-31T00:00:00.000000000",
          "2024-06-04T00:00:00.000000000",
          "2024-06-05T00:00:00.000000000",
          "2024-06-06T00:00:00.000000000",
          "2024-06-07T00:00:00.000000000",
          "2024-06-10T00:00:00.000000000",
          "2024-06-11T00:00:00.000000000",
          "2024-06-12T00:00:00.000000000",
          "2024-06-13T00:00:00.000000000",
          "2024-06-14T00:00:00.000000000",
          "2024-06-17T00:00:00.000000000",
          "2024-06-18T00:00:00.000000000",
          "2024-06-19T00:00:00.000000000",
          "2024-06-20T00:00:00.000000000",
          "2024-06-21T00:00:00.000000000",
          "2024-06-24T00:00:00.000000000",
          "2024-06-25T00:00:00.000000000",
          "2024-06-26T00:00:00.000000000",
          "2024-06-27T00:00:00.000000000",
          "2024-06-28T00:00:00.000000000",
          "2024-07-01T00:00:00.000000000",
          "2024-07-02T00:00:00.000000000",
          "2024-07-03T00:00:00.000000000",
          "2024-07-04T00:00:00.000000000",
          "2024-07-05T00:00:00.000000000",
          "2024-07-08T00:00:00.000000000",
          "2024-07-09T00:00:00.000000000",
          "2024-07-10T00:00:00.000000000",
          "2024-07-11T00:00:00.000000000",
          "2024-07-12T00:00:00.000000000",
          "2024-07-15T00:00:00.000000000",
          "2024-07-16T00:00:00.000000000",
          "2024-07-17T00:00:00.000000000",
          "2024-07-18T00:00:00.000000000",
          "2024-07-19T00:00:00.000000000",
          "2024-07-23T00:00:00.000000000",
          "2024-07-24T00:00:00.000000000",
          "2024-07-25T00:00:00.000000000",
          "2024-07-26T00:00:00.000000000",
          "2024-07-30T00:00:00.000000000",
          "2024-07-31T00:00:00.000000000",
          "2024-08-01T00:00:00.000000000",
          "2024-08-02T00:00:00.000000000",
          "2024-08-05T00:00:00.000000000",
          "2024-08-06T00:00:00.000000000",
          "2024-08-07T00:00:00.000000000",
          "2024-08-08T00:00:00.000000000",
          "2024-08-09T00:00:00.000000000",
          "2024-08-13T00:00:00.000000000",
          "2024-08-14T00:00:00.000000000",
          "2024-08-15T00:00:00.000000000",
          "2024-08-16T00:00:00.000000000",
          "2024-08-19T00:00:00.000000000",
          "2024-08-20T00:00:00.000000000",
          "2024-08-21T00:00:00.000000000",
          "2024-08-22T00:00:00.000000000",
          "2024-08-23T00:00:00.000000000",
          "2024-08-26T00:00:00.000000000",
          "2024-08-27T00:00:00.000000000",
          "2024-08-28T00:00:00.000000000",
          "2024-08-29T00:00:00.000000000",
          "2024-08-30T00:00:00.000000000",
          "2024-09-02T00:00:00.000000000",
          "2024-09-03T00:00:00.000000000",
          "2024-09-04T00:00:00.000000000",
          "2024-09-05T00:00:00.000000000",
          "2024-09-06T00:00:00.000000000",
          "2024-09-09T00:00:00.000000000",
          "2024-09-10T00:00:00.000000000",
          "2024-09-11T00:00:00.000000000",
          "2024-09-12T00:00:00.000000000",
          "2024-09-13T00:00:00.000000000",
          "2024-09-16T00:00:00.000000000",
          "2024-09-17T00:00:00.000000000",
          "2024-09-18T00:00:00.000000000",
          "2024-09-19T00:00:00.000000000",
          "2024-09-20T00:00:00.000000000",
          "2024-09-23T00:00:00.000000000",
          "2024-09-24T00:00:00.000000000",
          "2024-09-25T00:00:00.000000000",
          "2024-09-26T00:00:00.000000000",
          "2024-09-27T00:00:00.000000000",
          "2024-09-30T00:00:00.000000000",
          "2024-10-01T00:00:00.000000000",
          "2024-10-02T00:00:00.000000000",
          "2024-10-03T00:00:00.000000000",
          "2024-10-04T00:00:00.000000000",
          "2024-10-07T00:00:00.000000000",
          "2024-10-08T00:00:00.000000000",
          "2024-10-09T00:00:00.000000000",
          "2024-10-10T00:00:00.000000000",
          "2024-10-11T00:00:00.000000000",
          "2024-10-15T00:00:00.000000000",
          "2024-10-16T00:00:00.000000000",
          "2024-10-17T00:00:00.000000000",
          "2024-10-18T00:00:00.000000000",
          "2024-10-21T00:00:00.000000000",
          "2024-10-22T00:00:00.000000000",
          "2024-10-24T00:00:00.000000000",
          "2024-10-25T00:00:00.000000000",
          "2024-10-28T00:00:00.000000000",
          "2024-10-29T00:00:00.000000000",
          "2024-10-30T00:00:00.000000000",
          "2024-10-31T00:00:00.000000000",
          "2024-11-01T00:00:00.000000000",
          "2024-11-04T00:00:00.000000000",
          "2024-11-05T00:00:00.000000000",
          "2024-11-06T00:00:00.000000000",
          "2024-11-07T00:00:00.000000000",
          "2024-11-08T00:00:00.000000000",
          "2024-11-11T00:00:00.000000000",
          "2024-11-12T00:00:00.000000000",
          "2024-11-13T00:00:00.000000000",
          "2024-11-14T00:00:00.000000000",
          "2024-11-15T00:00:00.000000000",
          "2024-11-18T00:00:00.000000000",
          "2024-11-19T00:00:00.000000000",
          "2024-11-20T00:00:00.000000000",
          "2024-11-21T00:00:00.000000000",
          "2024-11-22T00:00:00.000000000",
          "2024-11-25T00:00:00.000000000",
          "2024-11-26T00:00:00.000000000",
          "2024-11-27T00:00:00.000000000",
          "2024-11-28T00:00:00.000000000",
          "2024-11-29T00:00:00.000000000",
          "2024-12-02T00:00:00.000000000",
          "2024-12-03T00:00:00.000000000",
          "2024-12-04T00:00:00.000000000",
          "2024-12-06T00:00:00.000000000",
          "2024-12-09T00:00:00.000000000",
          "2024-12-11T00:00:00.000000000",
          "2024-12-12T00:00:00.000000000",
          "2024-12-13T00:00:00.000000000",
          "2024-12-16T00:00:00.000000000",
          "2024-12-17T00:00:00.000000000",
          "2024-12-18T00:00:00.000000000",
          "2024-12-19T00:00:00.000000000",
          "2024-12-20T00:00:00.000000000",
          "2024-12-23T00:00:00.000000000",
          "2024-12-24T00:00:00.000000000",
          "2024-12-26T00:00:00.000000000",
          "2024-12-27T00:00:00.000000000",
          "2024-12-30T00:00:00.000000000",
          "2025-01-02T00:00:00.000000000",
          "2025-01-03T00:00:00.000000000",
          "2025-01-06T00:00:00.000000000",
          "2025-01-07T00:00:00.000000000",
          "2025-01-08T00:00:00.000000000",
          "2025-01-09T00:00:00.000000000",
          "2025-01-10T00:00:00.000000000",
          "2025-01-13T00:00:00.000000000",
          "2025-01-14T00:00:00.000000000",
          "2025-01-15T00:00:00.000000000",
          "2025-01-16T00:00:00.000000000",
          "2025-01-17T00:00:00.000000000",
          "2025-01-20T00:00:00.000000000",
          "2025-01-21T00:00:00.000000000",
          "2025-01-22T00:00:00.000000000",
          "2025-01-23T00:00:00.000000000",
          "2025-01-24T00:00:00.000000000",
          "2025-01-27T00:00:00.000000000",
          "2025-01-28T00:00:00.000000000",
          "2025-01-29T00:00:00.000000000",
          "2025-01-30T00:00:00.000000000",
          "2025-01-31T00:00:00.000000000",
          "2025-02-03T00:00:00.000000000",
          "2025-02-04T00:00:00.000000000",
          "2025-02-05T00:00:00.000000000",
          "2025-02-06T00:00:00.000000000",
          "2025-02-07T00:00:00.000000000",
          "2025-02-10T00:00:00.000000000",
          "2025-02-11T00:00:00.000000000",
          "2025-02-13T00:00:00.000000000",
          "2025-02-14T00:00:00.000000000",
          "2025-02-17T00:00:00.000000000",
          "2025-02-18T00:00:00.000000000",
          "2025-02-19T00:00:00.000000000",
          "2025-02-20T00:00:00.000000000",
          "2025-02-21T00:00:00.000000000",
          "2025-02-24T00:00:00.000000000",
          "2025-02-25T00:00:00.000000000",
          "2025-02-26T00:00:00.000000000",
          "2025-02-27T00:00:00.000000000",
          "2025-02-28T00:00:00.000000000",
          "2025-03-03T00:00:00.000000000",
          "2025-03-04T00:00:00.000000000",
          "2025-03-05T00:00:00.000000000",
          "2025-03-06T00:00:00.000000000",
          "2025-03-07T00:00:00.000000000",
          "2025-03-10T00:00:00.000000000",
          "2025-03-11T00:00:00.000000000",
          "2025-03-12T00:00:00.000000000",
          "2025-03-13T00:00:00.000000000",
          "2025-03-14T00:00:00.000000000",
          "2025-03-17T00:00:00.000000000",
          "2025-03-18T00:00:00.000000000",
          "2025-03-19T00:00:00.000000000",
          "2025-03-20T00:00:00.000000000",
          "2025-03-21T00:00:00.000000000",
          "2025-03-24T00:00:00.000000000"
         ],
         "xaxis": "x",
         "y": {
          "bdata": "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",
          "dtype": "f8"
         },
         "yaxis": "y"
        }
       ],
       "layout": {
        "annotations": [
         {
          "align": "left",
          "arrowhead": 1,
          "bgcolor": "lightgreen",
          "hovertext": "China optimism<br />gives lift to<br />Asian equities",
          "showarrow": true,
          "text": "Positive",
          "x": "2024-11-30T00:00:00",
          "xref": "x",
          "y": 1,
          "yref": "paper"
         },
         {
          "align": "left",
          "arrowhead": 1,
          "bgcolor": "lightgreen",
          "hovertext": "EMERGING<br />MARKETS-Asian FX<br />rallies as US<br />tariffs woes<br />ebb; Singapore<br />stocks defy<br />peers to hit<br />record high",
          "showarrow": true,
          "text": "Positive",
          "x": "2025-02-24T00:00:00",
          "xref": "x",
          "y": 1,
          "yref": "paper"
         },
         {
          "align": "left",
          "arrowhead": 1,
          "bgcolor": "lightgreen",
          "hovertext": "Stocks stage<br />relief rally but<br />trade tensions<br />persist",
          "showarrow": true,
          "text": "Positive",
          "x": "2025-03-16T00:00:00",
          "xref": "x",
          "y": 1,
          "yref": "paper"
         },
         {
          "align": "left",
          "arrowhead": 1,
          "bgcolor": "pink",
          "hovertext": "Thai firms wary<br />of Trump impact",
          "showarrow": true,
          "text": "Negative",
          "x": "2024-11-08T00:00:00",
          "xref": "x",
          "y": 1,
          "yref": "paper"
         },
         {
          "align": "left",
          "arrowhead": 1,
          "bgcolor": "pink",
          "hovertext": "SET closed at<br />1,435.77 down<br />0.83%",
          "showarrow": true,
          "text": "Negative",
          "x": "2024-09-18T00:00:00",
          "xref": "x",
          "y": 1,
          "yref": "paper"
         }
        ],
        "legend": {
         "tracegroupgap": 0
        },
        "shapes": [
         {
          "line": {
           "color": "lightgrey"
          },
          "type": "line",
          "x0": "2024-11-30T00:00:00",
          "x1": "2024-11-30T00:00:00",
          "xref": "x",
          "y0": 0,
          "y1": 1,
          "yref": "y domain"
         },
         {
          "line": {
           "color": "lightgrey"
          },
          "type": "line",
          "x0": "2025-02-24T00:00:00",
          "x1": "2025-02-24T00:00:00",
          "xref": "x",
          "y0": 0,
          "y1": 1,
          "yref": "y domain"
         },
         {
          "line": {
           "color": "lightgrey"
          },
          "type": "line",
          "x0": "2025-03-16T00:00:00",
          "x1": "2025-03-16T00:00:00",
          "xref": "x",
          "y0": 0,
          "y1": 1,
          "yref": "y domain"
         },
         {
          "line": {
           "color": "lightgrey"
          },
          "type": "line",
          "x0": "2024-11-08T00:00:00",
          "x1": "2024-11-08T00:00:00",
          "xref": "x",
          "y0": 0,
          "y1": 1,
          "yref": "y domain"
         },
         {
          "line": {
           "color": "lightgrey"
          },
          "type": "line",
          "x0": "2024-09-18T00:00:00",
          "x1": "2024-09-18T00:00:00",
          "xref": "x",
          "y0": 0,
          "y1": 1,
          "yref": "y domain"
         }
        ],
        "template": {
         "data": {
          "bar": [
           {
            "error_x": {
             "color": "#2a3f5f"
            },
            "error_y": {
             "color": "#2a3f5f"
            },
            "marker": {
             "line": {
              "color": "#E5ECF6",
              "width": 0.5
             },
             "pattern": {
              "fillmode": "overlay",
              "size": 10,
              "solidity": 0.2
             }
            },
            "type": "bar"
           }
          ],
          "barpolar": [
           {
            "marker": {
             "line": {
              "color": "#E5ECF6",
              "width": 0.5
             },
             "pattern": {
              "fillmode": "overlay",
              "size": 10,
              "solidity": 0.2
             }
            },
            "type": "barpolar"
           }
          ],
          "carpet": [
           {
            "aaxis": {
             "endlinecolor": "#2a3f5f",
             "gridcolor": "white",
             "linecolor": "white",
             "minorgridcolor": "white",
             "startlinecolor": "#2a3f5f"
            },
            "baxis": {
             "endlinecolor": "#2a3f5f",
             "gridcolor": "white",
             "linecolor": "white",
             "minorgridcolor": "white",
             "startlinecolor": "#2a3f5f"
            },
            "type": "carpet"
           }
          ],
          "choropleth": [
           {
            "colorbar": {
             "outlinewidth": 0,
             "ticks": ""
            },
            "type": "choropleth"
           }
          ],
          "contour": [
           {
            "colorbar": {
             "outlinewidth": 0,
             "ticks": ""
            },
            "colorscale": [
             [
              0,
              "#0d0887"
             ],
             [
              0.1111111111111111,
              "#46039f"
             ],
             [
              0.2222222222222222,
              "#7201a8"
             ],
             [
              0.3333333333333333,
              "#9c179e"
             ],
             [
              0.4444444444444444,
              "#bd3786"
             ],
             [
              0.5555555555555556,
              "#d8576b"
             ],
             [
              0.6666666666666666,
              "#ed7953"
             ],
             [
              0.7777777777777778,
              "#fb9f3a"
             ],
             [
              0.8888888888888888,
              "#fdca26"
             ],
             [
              1,
              "#f0f921"
             ]
            ],
            "type": "contour"
           }
          ],
          "contourcarpet": [
           {
            "colorbar": {
             "outlinewidth": 0,
             "ticks": ""
            },
            "type": "contourcarpet"
           }
          ],
          "heatmap": [
           {
            "colorbar": {
             "outlinewidth": 0,
             "ticks": ""
            },
            "colorscale": [
             [
              0,
              "#0d0887"
             ],
             [
              0.1111111111111111,
              "#46039f"
             ],
             [
              0.2222222222222222,
              "#7201a8"
             ],
             [
              0.3333333333333333,
              "#9c179e"
             ],
             [
              0.4444444444444444,
              "#bd3786"
             ],
             [
              0.5555555555555556,
              "#d8576b"
             ],
             [
              0.6666666666666666,
              "#ed7953"
             ],
             [
              0.7777777777777778,
              "#fb9f3a"
             ],
             [
              0.8888888888888888,
              "#fdca26"
             ],
             [
              1,
              "#f0f921"
             ]
            ],
            "type": "heatmap"
           }
          ],
          "histogram": [
           {
            "marker": {
             "pattern": {
              "fillmode": "overlay",
              "size": 10,
              "solidity": 0.2
             }
            },
            "type": "histogram"
           }
          ],
          "histogram2d": [
           {
            "colorbar": {
             "outlinewidth": 0,
             "ticks": ""
            },
            "colorscale": [
             [
              0,
              "#0d0887"
             ],
             [
              0.1111111111111111,
              "#46039f"
             ],
             [
              0.2222222222222222,
              "#7201a8"
             ],
             [
              0.3333333333333333,
              "#9c179e"
             ],
             [
              0.4444444444444444,
              "#bd3786"
             ],
             [
              0.5555555555555556,
              "#d8576b"
             ],
             [
              0.6666666666666666,
              "#ed7953"
             ],
             [
              0.7777777777777778,
              "#fb9f3a"
             ],
             [
              0.8888888888888888,
              "#fdca26"
             ],
             [
              1,
              "#f0f921"
             ]
            ],
            "type": "histogram2d"
           }
          ],
          "histogram2dcontour": [
           {
            "colorbar": {
             "outlinewidth": 0,
             "ticks": ""
            },
            "colorscale": [
             [
              0,
              "#0d0887"
             ],
             [
              0.1111111111111111,
              "#46039f"
             ],
             [
              0.2222222222222222,
              "#7201a8"
             ],
             [
              0.3333333333333333,
              "#9c179e"
             ],
             [
              0.4444444444444444,
              "#bd3786"
             ],
             [
              0.5555555555555556,
              "#d8576b"
             ],
             [
              0.6666666666666666,
              "#ed7953"
             ],
             [
              0.7777777777777778,
              "#fb9f3a"
             ],
             [
              0.8888888888888888,
              "#fdca26"
             ],
             [
              1,
              "#f0f921"
             ]
            ],
            "type": "histogram2dcontour"
           }
          ],
          "mesh3d": [
           {
            "colorbar": {
             "outlinewidth": 0,
             "ticks": ""
            },
            "type": "mesh3d"
           }
          ],
          "parcoords": [
           {
            "line": {
             "colorbar": {
              "outlinewidth": 0,
              "ticks": ""
             }
            },
            "type": "parcoords"
           }
          ],
          "pie": [
           {
            "automargin": true,
            "type": "pie"
           }
          ],
          "scatter": [
           {
            "fillpattern": {
             "fillmode": "overlay",
             "size": 10,
             "solidity": 0.2
            },
            "type": "scatter"
           }
          ],
          "scatter3d": [
           {
            "line": {
             "colorbar": {
              "outlinewidth": 0,
              "ticks": ""
             }
            },
            "marker": {
             "colorbar": {
              "outlinewidth": 0,
              "ticks": ""
             }
            },
            "type": "scatter3d"
           }
          ],
          "scattercarpet": [
           {
            "marker": {
             "colorbar": {
              "outlinewidth": 0,
              "ticks": ""
             }
            },
            "type": "scattercarpet"
           }
          ],
          "scattergeo": [
           {
            "marker": {
             "colorbar": {
              "outlinewidth": 0,
              "ticks": ""
             }
            },
            "type": "scattergeo"
           }
          ],
          "scattergl": [
           {
            "marker": {
             "colorbar": {
              "outlinewidth": 0,
              "ticks": ""
             }
            },
            "type": "scattergl"
           }
          ],
          "scattermap": [
           {
            "marker": {
             "colorbar": {
              "outlinewidth": 0,
              "ticks": ""
             }
            },
            "type": "scattermap"
           }
          ],
          "scattermapbox": [
           {
            "marker": {
             "colorbar": {
              "outlinewidth": 0,
              "ticks": ""
             }
            },
            "type": "scattermapbox"
           }
          ],
          "scatterpolar": [
           {
            "marker": {
             "colorbar": {
              "outlinewidth": 0,
              "ticks": ""
             }
            },
            "type": "scatterpolar"
           }
          ],
          "scatterpolargl": [
           {
            "marker": {
             "colorbar": {
              "outlinewidth": 0,
              "ticks": ""
             }
            },
            "type": "scatterpolargl"
           }
          ],
          "scatterternary": [
           {
            "marker": {
             "colorbar": {
              "outlinewidth": 0,
              "ticks": ""
             }
            },
            "type": "scatterternary"
           }
          ],
          "surface": [
           {
            "colorbar": {
             "outlinewidth": 0,
             "ticks": ""
            },
            "colorscale": [
             [
              0,
              "#0d0887"
             ],
             [
              0.1111111111111111,
              "#46039f"
             ],
             [
              0.2222222222222222,
              "#7201a8"
             ],
             [
              0.3333333333333333,
              "#9c179e"
             ],
             [
              0.4444444444444444,
              "#bd3786"
             ],
             [
              0.5555555555555556,
              "#d8576b"
             ],
             [
              0.6666666666666666,
              "#ed7953"
             ],
             [
              0.7777777777777778,
              "#fb9f3a"
             ],
             [
              0.8888888888888888,
              "#fdca26"
             ],
             [
              1,
              "#f0f921"
             ]
            ],
            "type": "surface"
           }
          ],
          "table": [
           {
            "cells": {
             "fill": {
              "color": "#EBF0F8"
             },
             "line": {
              "color": "white"
             }
            },
            "header": {
             "fill": {
              "color": "#C8D4E3"
             },
             "line": {
              "color": "white"
             }
            },
            "type": "table"
           }
          ]
         },
         "layout": {
          "annotationdefaults": {
           "arrowcolor": "#2a3f5f",
           "arrowhead": 0,
           "arrowwidth": 1
          },
          "autotypenumbers": "strict",
          "coloraxis": {
           "colorbar": {
            "outlinewidth": 0,
            "ticks": ""
           }
          },
          "colorscale": {
           "diverging": [
            [
             0,
             "#8e0152"
            ],
            [
             0.1,
             "#c51b7d"
            ],
            [
             0.2,
             "#de77ae"
            ],
            [
             0.3,
             "#f1b6da"
            ],
            [
             0.4,
             "#fde0ef"
            ],
            [
             0.5,
             "#f7f7f7"
            ],
            [
             0.6,
             "#e6f5d0"
            ],
            [
             0.7,
             "#b8e186"
            ],
            [
             0.8,
             "#7fbc41"
            ],
            [
             0.9,
             "#4d9221"
            ],
            [
             1,
             "#276419"
            ]
           ],
           "sequential": [
            [
             0,
             "#0d0887"
            ],
            [
             0.1111111111111111,
             "#46039f"
            ],
            [
             0.2222222222222222,
             "#7201a8"
            ],
            [
             0.3333333333333333,
             "#9c179e"
            ],
            [
             0.4444444444444444,
             "#bd3786"
            ],
            [
             0.5555555555555556,
             "#d8576b"
            ],
            [
             0.6666666666666666,
             "#ed7953"
            ],
            [
             0.7777777777777778,
             "#fb9f3a"
            ],
            [
             0.8888888888888888,
             "#fdca26"
            ],
            [
             1,
             "#f0f921"
            ]
           ],
           "sequentialminus": [
            [
             0,
             "#0d0887"
            ],
            [
             0.1111111111111111,
             "#46039f"
            ],
            [
             0.2222222222222222,
             "#7201a8"
            ],
            [
             0.3333333333333333,
             "#9c179e"
            ],
            [
             0.4444444444444444,
             "#bd3786"
            ],
            [
             0.5555555555555556,
             "#d8576b"
            ],
            [
             0.6666666666666666,
             "#ed7953"
            ],
            [
             0.7777777777777778,
             "#fb9f3a"
            ],
            [
             0.8888888888888888,
             "#fdca26"
            ],
            [
             1,
             "#f0f921"
            ]
           ]
          },
          "colorway": [
           "#636efa",
           "#EF553B",
           "#00cc96",
           "#ab63fa",
           "#FFA15A",
           "#19d3f3",
           "#FF6692",
           "#B6E880",
           "#FF97FF",
           "#FECB52"
          ],
          "font": {
           "color": "#2a3f5f"
          },
          "geo": {
           "bgcolor": "white",
           "lakecolor": "white",
           "landcolor": "#E5ECF6",
           "showlakes": true,
           "showland": true,
           "subunitcolor": "white"
          },
          "hoverlabel": {
           "align": "left"
          },
          "hovermode": "closest",
          "mapbox": {
           "style": "light"
          },
          "paper_bgcolor": "white",
          "plot_bgcolor": "#E5ECF6",
          "polar": {
           "angularaxis": {
            "gridcolor": "white",
            "linecolor": "white",
            "ticks": ""
           },
           "bgcolor": "#E5ECF6",
           "radialaxis": {
            "gridcolor": "white",
            "linecolor": "white",
            "ticks": ""
           }
          },
          "scene": {
           "xaxis": {
            "backgroundcolor": "#E5ECF6",
            "gridcolor": "white",
            "gridwidth": 2,
            "linecolor": "white",
            "showbackground": true,
            "ticks": "",
            "zerolinecolor": "white"
           },
           "yaxis": {
            "backgroundcolor": "#E5ECF6",
            "gridcolor": "white",
            "gridwidth": 2,
            "linecolor": "white",
            "showbackground": true,
            "ticks": "",
            "zerolinecolor": "white"
           },
           "zaxis": {
            "backgroundcolor": "#E5ECF6",
            "gridcolor": "white",
            "gridwidth": 2,
            "linecolor": "white",
            "showbackground": true,
            "ticks": "",
            "zerolinecolor": "white"
           }
          },
          "shapedefaults": {
           "line": {
            "color": "#2a3f5f"
           }
          },
          "ternary": {
           "aaxis": {
            "gridcolor": "white",
            "linecolor": "white",
            "ticks": ""
           },
           "baxis": {
            "gridcolor": "white",
            "linecolor": "white",
            "ticks": ""
           },
           "bgcolor": "#E5ECF6",
           "caxis": {
            "gridcolor": "white",
            "linecolor": "white",
            "ticks": ""
           }
          },
          "title": {
           "x": 0.05
          },
          "xaxis": {
           "automargin": true,
           "gridcolor": "white",
           "linecolor": "white",
           "ticks": "",
           "title": {
            "standoff": 15
           },
           "zerolinecolor": "white",
           "zerolinewidth": 2
          },
          "yaxis": {
           "automargin": true,
           "gridcolor": "white",
           "linecolor": "white",
           "ticks": "",
           "title": {
            "standoff": 15
           },
           "zerolinecolor": "white",
           "zerolinewidth": 2
          }
         }
        },
        "title": {
         "text": "Stock price"
        },
        "width": 1200,
        "xaxis": {
         "anchor": "y",
         "domain": [
          0,
          1
         ],
         "title": {
          "text": "Date"
         }
        },
        "yaxis": {
         "anchor": "x",
         "domain": [
          0,
          1
         ],
         "title": {
          "text": "Close"
         }
        }
       }
      }
     },
     "metadata": {},
     "output_type": "display_data"
    }
   ],
   "source": [
    "plot_price_with_news(price_df, news_headlines_df.sample(frac=0.1, random_state=7)).show()"
   ]
  }
 ],
 "metadata": {
  "colab": {
   "provenance": []
  },
  "kernelspec": {
   "display_name": "Python 3",
   "language": "python",
   "name": "python3"
  },
  "language_info": {
   "codemirror_mode": {
    "name": "ipython",
    "version": 3
   },
   "file_extension": ".py",
   "mimetype": "text/x-python",
   "name": "python",
   "nbconvert_exporter": "python",
   "pygments_lexer": "ipython3",
   "version": "3.10.6"
  }
 },
 "nbformat": 4,
 "nbformat_minor": 4
}
