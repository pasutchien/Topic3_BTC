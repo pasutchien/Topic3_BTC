{
 "cells": [
  {
   "attachments": {},
   "cell_type": "markdown",
   "metadata": {},
   "source": [
    "# [AI-Driven Stock Insights: Analyzing Financial News with LLM](https://developers.lseg.com/en/article-catalog/article/ai-driven-stock-insights--analyzing-financial-news-with-llms)\n",
    "# Import Libraries"
   ]
  },
  {
   "cell_type": "code",
   "execution_count": 63,
   "metadata": {},
   "outputs": [
    {
     "name": "stdout",
     "output_type": "stream",
     "text": [
      "Requirement already satisfied: yfinance in c:\\users\\nitro\\appdata\\local\\programs\\python\\python310\\lib\\site-packages (0.2.55)\n",
      "Requirement already satisfied: pandas>=1.3.0 in c:\\users\\nitro\\appdata\\local\\programs\\python\\python310\\lib\\site-packages (from yfinance) (2.0.2)\n",
      "Requirement already satisfied: numpy>=1.16.5 in c:\\users\\nitro\\appdata\\local\\programs\\python\\python310\\lib\\site-packages (from yfinance) (1.23.4)\n",
      "Requirement already satisfied: requests>=2.31 in c:\\users\\nitro\\appdata\\local\\programs\\python\\python310\\lib\\site-packages (from yfinance) (2.31.0)\n",
      "Requirement already satisfied: multitasking>=0.0.7 in c:\\users\\nitro\\appdata\\local\\programs\\python\\python310\\lib\\site-packages (from yfinance) (0.0.11)\n",
      "Requirement already satisfied: platformdirs>=2.0.0 in c:\\users\\nitro\\appdata\\roaming\\python\\python310\\site-packages (from yfinance) (4.3.6)\n",
      "Requirement already satisfied: pytz>=2022.5 in c:\\users\\nitro\\appdata\\local\\programs\\python\\python310\\lib\\site-packages (from yfinance) (2024.2)\n",
      "Requirement already satisfied: frozendict>=2.3.4 in c:\\users\\nitro\\appdata\\local\\programs\\python\\python310\\lib\\site-packages (from yfinance) (2.4.6)\n",
      "Requirement already satisfied: peewee>=3.16.2 in c:\\users\\nitro\\appdata\\local\\programs\\python\\python310\\lib\\site-packages (from yfinance) (3.17.9)\n",
      "Requirement already satisfied: beautifulsoup4>=4.11.1 in c:\\users\\nitro\\appdata\\local\\programs\\python\\python310\\lib\\site-packages (from yfinance) (4.13.3)\n",
      "Requirement already satisfied: soupsieve>1.2 in c:\\users\\nitro\\appdata\\local\\programs\\python\\python310\\lib\\site-packages (from beautifulsoup4>=4.11.1->yfinance) (2.6)\n",
      "Requirement already satisfied: typing-extensions>=4.0.0 in c:\\users\\nitro\\appdata\\roaming\\python\\python310\\site-packages (from beautifulsoup4>=4.11.1->yfinance) (4.12.2)\n",
      "Requirement already satisfied: python-dateutil>=2.8.2 in c:\\users\\nitro\\appdata\\roaming\\python\\python310\\site-packages (from pandas>=1.3.0->yfinance) (2.9.0.post0)\n",
      "Requirement already satisfied: tzdata>=2022.1 in c:\\users\\nitro\\appdata\\local\\programs\\python\\python310\\lib\\site-packages (from pandas>=1.3.0->yfinance) (2024.2)\n",
      "Requirement already satisfied: charset-normalizer<4,>=2 in c:\\users\\nitro\\appdata\\local\\programs\\python\\python310\\lib\\site-packages (from requests>=2.31->yfinance) (3.3.2)\n",
      "Requirement already satisfied: idna<4,>=2.5 in c:\\users\\nitro\\appdata\\local\\programs\\python\\python310\\lib\\site-packages (from requests>=2.31->yfinance) (3.6)\n",
      "Requirement already satisfied: urllib3<3,>=1.21.1 in c:\\users\\nitro\\appdata\\local\\programs\\python\\python310\\lib\\site-packages (from requests>=2.31->yfinance) (2.1.0)\n",
      "Requirement already satisfied: certifi>=2017.4.17 in c:\\users\\nitro\\appdata\\local\\programs\\python\\python310\\lib\\site-packages (from requests>=2.31->yfinance) (2023.11.17)\n",
      "Requirement already satisfied: six>=1.5 in c:\\users\\nitro\\appdata\\roaming\\python\\python310\\site-packages (from python-dateutil>=2.8.2->pandas>=1.3.0->yfinance) (1.16.0)\n",
      "Requirement already satisfied: nbformat in c:\\users\\nitro\\appdata\\local\\programs\\python\\python310\\lib\\site-packages (5.10.4)\n",
      "Requirement already satisfied: fastjsonschema>=2.15 in c:\\users\\nitro\\appdata\\local\\programs\\python\\python310\\lib\\site-packages (from nbformat) (2.21.1)\n",
      "Requirement already satisfied: jsonschema>=2.6 in c:\\users\\nitro\\appdata\\local\\programs\\python\\python310\\lib\\site-packages (from nbformat) (4.23.0)\n",
      "Requirement already satisfied: jupyter-core!=5.0.*,>=4.12 in c:\\users\\nitro\\appdata\\roaming\\python\\python310\\site-packages (from nbformat) (5.7.2)\n",
      "Requirement already satisfied: traitlets>=5.1 in c:\\users\\nitro\\appdata\\roaming\\python\\python310\\site-packages (from nbformat) (5.14.3)\n",
      "Requirement already satisfied: attrs>=22.2.0 in c:\\users\\nitro\\appdata\\local\\programs\\python\\python310\\lib\\site-packages (from jsonschema>=2.6->nbformat) (25.3.0)\n",
      "Requirement already satisfied: jsonschema-specifications>=2023.03.6 in c:\\users\\nitro\\appdata\\local\\programs\\python\\python310\\lib\\site-packages (from jsonschema>=2.6->nbformat) (2024.10.1)\n",
      "Requirement already satisfied: referencing>=0.28.4 in c:\\users\\nitro\\appdata\\local\\programs\\python\\python310\\lib\\site-packages (from jsonschema>=2.6->nbformat) (0.36.2)\n",
      "Requirement already satisfied: rpds-py>=0.7.1 in c:\\users\\nitro\\appdata\\local\\programs\\python\\python310\\lib\\site-packages (from jsonschema>=2.6->nbformat) (0.23.1)\n",
      "Requirement already satisfied: platformdirs>=2.5 in c:\\users\\nitro\\appdata\\roaming\\python\\python310\\site-packages (from jupyter-core!=5.0.*,>=4.12->nbformat) (4.3.6)\n",
      "Requirement already satisfied: pywin32>=300 in c:\\users\\nitro\\appdata\\roaming\\python\\python310\\site-packages (from jupyter-core!=5.0.*,>=4.12->nbformat) (307)\n",
      "Requirement already satisfied: typing-extensions>=4.4.0 in c:\\users\\nitro\\appdata\\roaming\\python\\python310\\site-packages (from referencing>=0.28.4->jsonschema>=2.6->nbformat) (4.12.2)\n",
      "Requirement already satisfied: nbformat in c:\\users\\nitro\\appdata\\local\\programs\\python\\python310\\lib\\site-packages (5.10.4)\n",
      "Requirement already satisfied: fastjsonschema>=2.15 in c:\\users\\nitro\\appdata\\local\\programs\\python\\python310\\lib\\site-packages (from nbformat) (2.21.1)\n",
      "Requirement already satisfied: jsonschema>=2.6 in c:\\users\\nitro\\appdata\\local\\programs\\python\\python310\\lib\\site-packages (from nbformat) (4.23.0)\n",
      "Requirement already satisfied: jupyter-core!=5.0.*,>=4.12 in c:\\users\\nitro\\appdata\\roaming\\python\\python310\\site-packages (from nbformat) (5.7.2)\n",
      "Requirement already satisfied: traitlets>=5.1 in c:\\users\\nitro\\appdata\\roaming\\python\\python310\\site-packages (from nbformat) (5.14.3)\n",
      "Requirement already satisfied: attrs>=22.2.0 in c:\\users\\nitro\\appdata\\local\\programs\\python\\python310\\lib\\site-packages (from jsonschema>=2.6->nbformat) (25.3.0)\n",
      "Requirement already satisfied: jsonschema-specifications>=2023.03.6 in c:\\users\\nitro\\appdata\\local\\programs\\python\\python310\\lib\\site-packages (from jsonschema>=2.6->nbformat) (2024.10.1)\n",
      "Requirement already satisfied: referencing>=0.28.4 in c:\\users\\nitro\\appdata\\local\\programs\\python\\python310\\lib\\site-packages (from jsonschema>=2.6->nbformat) (0.36.2)\n",
      "Requirement already satisfied: rpds-py>=0.7.1 in c:\\users\\nitro\\appdata\\local\\programs\\python\\python310\\lib\\site-packages (from jsonschema>=2.6->nbformat) (0.23.1)\n",
      "Requirement already satisfied: platformdirs>=2.5 in c:\\users\\nitro\\appdata\\roaming\\python\\python310\\site-packages (from jupyter-core!=5.0.*,>=4.12->nbformat) (4.3.6)\n",
      "Requirement already satisfied: pywin32>=300 in c:\\users\\nitro\\appdata\\roaming\\python\\python310\\site-packages (from jupyter-core!=5.0.*,>=4.12->nbformat) (307)\n",
      "Requirement already satisfied: typing-extensions>=4.4.0 in c:\\users\\nitro\\appdata\\roaming\\python\\python310\\site-packages (from referencing>=0.28.4->jsonschema>=2.6->nbformat) (4.12.2)\n"
     ]
    }
   ],
   "source": [
    "!pip install yfinance\n",
    "!pip install nbformat\n",
    "!pip install --upgrade nbformat\n"
   ]
  },
  {
   "cell_type": "code",
   "execution_count": 1,
   "metadata": {
    "id": "WVBOqRwJ8p7Y"
   },
   "outputs": [
    {
     "name": "stderr",
     "output_type": "stream",
     "text": [
      "c:\\Users\\Nitro\\AppData\\Local\\Programs\\Python\\Python310\\lib\\site-packages\\transformers\\data\\metrics\\__init__.py:19: UserWarning: A NumPy version >=1.23.5 and <2.3.0 is required for this version of SciPy (detected version 1.23.4)\n",
      "  from scipy.stats import pearsonr, spearmanr\n"
     ]
    }
   ],
   "source": [
    "from transformers import BertTokenizer, BertForSequenceClassification\n",
    "from transformers import pipeline\n",
    "\n",
    "from datetime import datetime, timedelta\n",
    "import time\n",
    "\n",
    "import numpy as np\n",
    "import pandas as pd\n",
    "pd.set_option('display.max_colwidth', None)\n",
    "import plotly.express as px\n",
    "import tqdm\n",
    "import yfinance as yf\n",
    "tqdm.tqdm.pandas()"
   ]
  },
  {
   "cell_type": "markdown",
   "metadata": {},
   "source": [
    "# BTC Stock Price History"
   ]
  },
  {
   "cell_type": "code",
   "execution_count": 2,
   "metadata": {},
   "outputs": [
    {
     "name": "stdout",
     "output_type": "stream",
     "text": [
      "start date is: 2024-05-29\n",
      "end date is: 2025-03-25 (today)\n"
     ]
    }
   ],
   "source": [
    "d_now = datetime.now().date()\n",
    "max_end_date = d_now - timedelta(days=300) # upto months=15\n",
    "print(f'start date is: {max_end_date}\\nend date is: {d_now} (today)')"
   ]
  },
  {
   "cell_type": "code",
   "execution_count": 3,
   "metadata": {},
   "outputs": [],
   "source": [
    "\n",
    "stock = yf.Ticker('BTC-USD')\n",
    "start_date = max_end_date\n",
    "end_date = d_now\n",
    "hist = stock.history(start=start_date, end=end_date)\n",
    "hist_df = pd.DataFrame(hist)"
   ]
  },
  {
   "cell_type": "code",
   "execution_count": 4,
   "metadata": {},
   "outputs": [
    {
     "data": {
      "text/html": [
       "<div>\n",
       "<style scoped>\n",
       "    .dataframe tbody tr th:only-of-type {\n",
       "        vertical-align: middle;\n",
       "    }\n",
       "\n",
       "    .dataframe tbody tr th {\n",
       "        vertical-align: top;\n",
       "    }\n",
       "\n",
       "    .dataframe thead th {\n",
       "        text-align: right;\n",
       "    }\n",
       "</style>\n",
       "<table border=\"1\" class=\"dataframe\">\n",
       "  <thead>\n",
       "    <tr style=\"text-align: right;\">\n",
       "      <th></th>\n",
       "      <th>Open</th>\n",
       "      <th>High</th>\n",
       "      <th>Low</th>\n",
       "      <th>Close</th>\n",
       "      <th>Volume</th>\n",
       "      <th>Dividends</th>\n",
       "      <th>Stock Splits</th>\n",
       "    </tr>\n",
       "    <tr>\n",
       "      <th>Date</th>\n",
       "      <th></th>\n",
       "      <th></th>\n",
       "      <th></th>\n",
       "      <th></th>\n",
       "      <th></th>\n",
       "      <th></th>\n",
       "      <th></th>\n",
       "    </tr>\n",
       "  </thead>\n",
       "  <tbody>\n",
       "    <tr>\n",
       "      <th>2024-05-29 00:00:00+00:00</th>\n",
       "      <td>68296.351562</td>\n",
       "      <td>68852.460938</td>\n",
       "      <td>67101.492188</td>\n",
       "      <td>67578.093750</td>\n",
       "      <td>26707072906</td>\n",
       "      <td>0.0</td>\n",
       "      <td>0.0</td>\n",
       "    </tr>\n",
       "    <tr>\n",
       "      <th>2024-05-30 00:00:00+00:00</th>\n",
       "      <td>67576.085938</td>\n",
       "      <td>69500.539062</td>\n",
       "      <td>67118.078125</td>\n",
       "      <td>68364.992188</td>\n",
       "      <td>29509712534</td>\n",
       "      <td>0.0</td>\n",
       "      <td>0.0</td>\n",
       "    </tr>\n",
       "    <tr>\n",
       "      <th>2024-05-31 00:00:00+00:00</th>\n",
       "      <td>68362.515625</td>\n",
       "      <td>68999.562500</td>\n",
       "      <td>66633.421875</td>\n",
       "      <td>67491.414062</td>\n",
       "      <td>27387283769</td>\n",
       "      <td>0.0</td>\n",
       "      <td>0.0</td>\n",
       "    </tr>\n",
       "    <tr>\n",
       "      <th>2024-06-01 00:00:00+00:00</th>\n",
       "      <td>67489.609375</td>\n",
       "      <td>67839.765625</td>\n",
       "      <td>67386.195312</td>\n",
       "      <td>67706.937500</td>\n",
       "      <td>11641495604</td>\n",
       "      <td>0.0</td>\n",
       "      <td>0.0</td>\n",
       "    </tr>\n",
       "    <tr>\n",
       "      <th>2024-06-02 00:00:00+00:00</th>\n",
       "      <td>67710.273438</td>\n",
       "      <td>68409.164062</td>\n",
       "      <td>67315.523438</td>\n",
       "      <td>67751.601562</td>\n",
       "      <td>17110588415</td>\n",
       "      <td>0.0</td>\n",
       "      <td>0.0</td>\n",
       "    </tr>\n",
       "    <tr>\n",
       "      <th>...</th>\n",
       "      <td>...</td>\n",
       "      <td>...</td>\n",
       "      <td>...</td>\n",
       "      <td>...</td>\n",
       "      <td>...</td>\n",
       "      <td>...</td>\n",
       "      <td>...</td>\n",
       "    </tr>\n",
       "    <tr>\n",
       "      <th>2025-03-20 00:00:00+00:00</th>\n",
       "      <td>86872.953125</td>\n",
       "      <td>87443.265625</td>\n",
       "      <td>83647.195312</td>\n",
       "      <td>84167.195312</td>\n",
       "      <td>29028988961</td>\n",
       "      <td>0.0</td>\n",
       "      <td>0.0</td>\n",
       "    </tr>\n",
       "    <tr>\n",
       "      <th>2025-03-21 00:00:00+00:00</th>\n",
       "      <td>84164.539062</td>\n",
       "      <td>84782.273438</td>\n",
       "      <td>83171.070312</td>\n",
       "      <td>84043.242188</td>\n",
       "      <td>19030452299</td>\n",
       "      <td>0.0</td>\n",
       "      <td>0.0</td>\n",
       "    </tr>\n",
       "    <tr>\n",
       "      <th>2025-03-22 00:00:00+00:00</th>\n",
       "      <td>84046.257812</td>\n",
       "      <td>84513.875000</td>\n",
       "      <td>83674.781250</td>\n",
       "      <td>83832.484375</td>\n",
       "      <td>9863214091</td>\n",
       "      <td>0.0</td>\n",
       "      <td>0.0</td>\n",
       "    </tr>\n",
       "    <tr>\n",
       "      <th>2025-03-23 00:00:00+00:00</th>\n",
       "      <td>83831.898438</td>\n",
       "      <td>86094.781250</td>\n",
       "      <td>83794.914062</td>\n",
       "      <td>86054.375000</td>\n",
       "      <td>12594615537</td>\n",
       "      <td>0.0</td>\n",
       "      <td>0.0</td>\n",
       "    </tr>\n",
       "    <tr>\n",
       "      <th>2025-03-24 00:00:00+00:00</th>\n",
       "      <td>86070.929688</td>\n",
       "      <td>88758.726562</td>\n",
       "      <td>85541.195312</td>\n",
       "      <td>87498.914062</td>\n",
       "      <td>34582604933</td>\n",
       "      <td>0.0</td>\n",
       "      <td>0.0</td>\n",
       "    </tr>\n",
       "  </tbody>\n",
       "</table>\n",
       "<p>300 rows × 7 columns</p>\n",
       "</div>"
      ],
      "text/plain": [
       "                                   Open          High           Low  \\\n",
       "Date                                                                  \n",
       "2024-05-29 00:00:00+00:00  68296.351562  68852.460938  67101.492188   \n",
       "2024-05-30 00:00:00+00:00  67576.085938  69500.539062  67118.078125   \n",
       "2024-05-31 00:00:00+00:00  68362.515625  68999.562500  66633.421875   \n",
       "2024-06-01 00:00:00+00:00  67489.609375  67839.765625  67386.195312   \n",
       "2024-06-02 00:00:00+00:00  67710.273438  68409.164062  67315.523438   \n",
       "...                                 ...           ...           ...   \n",
       "2025-03-20 00:00:00+00:00  86872.953125  87443.265625  83647.195312   \n",
       "2025-03-21 00:00:00+00:00  84164.539062  84782.273438  83171.070312   \n",
       "2025-03-22 00:00:00+00:00  84046.257812  84513.875000  83674.781250   \n",
       "2025-03-23 00:00:00+00:00  83831.898438  86094.781250  83794.914062   \n",
       "2025-03-24 00:00:00+00:00  86070.929688  88758.726562  85541.195312   \n",
       "\n",
       "                                  Close       Volume  Dividends  Stock Splits  \n",
       "Date                                                                           \n",
       "2024-05-29 00:00:00+00:00  67578.093750  26707072906        0.0           0.0  \n",
       "2024-05-30 00:00:00+00:00  68364.992188  29509712534        0.0           0.0  \n",
       "2024-05-31 00:00:00+00:00  67491.414062  27387283769        0.0           0.0  \n",
       "2024-06-01 00:00:00+00:00  67706.937500  11641495604        0.0           0.0  \n",
       "2024-06-02 00:00:00+00:00  67751.601562  17110588415        0.0           0.0  \n",
       "...                                 ...          ...        ...           ...  \n",
       "2025-03-20 00:00:00+00:00  84167.195312  29028988961        0.0           0.0  \n",
       "2025-03-21 00:00:00+00:00  84043.242188  19030452299        0.0           0.0  \n",
       "2025-03-22 00:00:00+00:00  83832.484375   9863214091        0.0           0.0  \n",
       "2025-03-23 00:00:00+00:00  86054.375000  12594615537        0.0           0.0  \n",
       "2025-03-24 00:00:00+00:00  87498.914062  34582604933        0.0           0.0  \n",
       "\n",
       "[300 rows x 7 columns]"
      ]
     },
     "execution_count": 4,
     "metadata": {},
     "output_type": "execute_result"
    }
   ],
   "source": [
    "hist_df"
   ]
  },
  {
   "cell_type": "markdown",
   "metadata": {},
   "source": [
    "# Retrieve News Headline\n",
    "### Open File From SET_News_.csv"
   ]
  },
  {
   "cell_type": "code",
   "execution_count": 5,
   "metadata": {},
   "outputs": [
    {
     "data": {
      "text/html": [
       "<div>\n",
       "<style scoped>\n",
       "    .dataframe tbody tr th:only-of-type {\n",
       "        vertical-align: middle;\n",
       "    }\n",
       "\n",
       "    .dataframe tbody tr th {\n",
       "        vertical-align: top;\n",
       "    }\n",
       "\n",
       "    .dataframe thead th {\n",
       "        text-align: right;\n",
       "    }\n",
       "</style>\n",
       "<table border=\"1\" class=\"dataframe\">\n",
       "  <thead>\n",
       "    <tr style=\"text-align: right;\">\n",
       "      <th></th>\n",
       "      <th>Unnamed: 0</th>\n",
       "      <th>versionCreated</th>\n",
       "      <th>headline</th>\n",
       "      <th>storyId</th>\n",
       "      <th>sourceCode</th>\n",
       "    </tr>\n",
       "  </thead>\n",
       "  <tbody>\n",
       "    <tr>\n",
       "      <th>0</th>\n",
       "      <td>0</td>\n",
       "      <td>2025-03-18 23:54:08.068</td>\n",
       "      <td>Congressman Nick Begich signals growing support for The Bitcoin Act to acquire 1 million BTC</td>\n",
       "      <td>urn:link:webnews:20250318:nNRAvri2k4:0</td>\n",
       "      <td>NS:WNCOMA</td>\n",
       "    </tr>\n",
       "    <tr>\n",
       "      <th>1</th>\n",
       "      <td>1</td>\n",
       "      <td>2025-03-18 23:53:09.131</td>\n",
       "      <td>Current sentiment analysis for BNB, Chainlink, Wrapped Bitcoin, Solana. Bitcoin in only slightly positive territory</td>\n",
       "      <td>urn:newsml:newsroom:20250318:nNRAvri2jd:0</td>\n",
       "      <td>NS:CRYPEE</td>\n",
       "    </tr>\n",
       "    <tr>\n",
       "      <th>2</th>\n",
       "      <td>2</td>\n",
       "      <td>2025-03-18 23:53:06.832</td>\n",
       "      <td>Report: North Korea Quietly Becomes the Worlds 3rd-Largest Bitcoin Superpower</td>\n",
       "      <td>urn:link:webnews:20250318:nNRAvri2wu:0</td>\n",
       "      <td>NS:MSNUKA</td>\n",
       "    </tr>\n",
       "    <tr>\n",
       "      <th>3</th>\n",
       "      <td>3</td>\n",
       "      <td>2025-03-18 23:27:43.875</td>\n",
       "      <td>Congressman Nick Begich signals growing support for The Bitcoin Act to acquire 1 million BTC</td>\n",
       "      <td>urn:newsml:newsroom:20250318:nNRAvrhxuf:0</td>\n",
       "      <td>NS:CRYPTT</td>\n",
       "    </tr>\n",
       "    <tr>\n",
       "      <th>4</th>\n",
       "      <td>4</td>\n",
       "      <td>2025-03-18 23:25:06.448</td>\n",
       "      <td>Bitcoin UTXO P/L Ratio Hits 50.2 – A 30-Point Drop Could Signal the End Of This Correction</td>\n",
       "      <td>urn:link:webnews:20250318:nNRAvrhwdb:0</td>\n",
       "      <td>NS:BITCOI</td>\n",
       "    </tr>\n",
       "  </tbody>\n",
       "</table>\n",
       "</div>"
      ],
      "text/plain": [
       "   Unnamed: 0           versionCreated  \\\n",
       "0           0  2025-03-18 23:54:08.068   \n",
       "1           1  2025-03-18 23:53:09.131   \n",
       "2           2  2025-03-18 23:53:06.832   \n",
       "3           3  2025-03-18 23:27:43.875   \n",
       "4           4  2025-03-18 23:25:06.448   \n",
       "\n",
       "                                                                                                              headline  \\\n",
       "0                         Congressman Nick Begich signals growing support for The Bitcoin Act to acquire 1 million BTC   \n",
       "1  Current sentiment analysis for BNB, Chainlink, Wrapped Bitcoin, Solana. Bitcoin in only slightly positive territory   \n",
       "2                                        Report: North Korea Quietly Becomes the Worlds 3rd-Largest Bitcoin Superpower   \n",
       "3                         Congressman Nick Begich signals growing support for The Bitcoin Act to acquire 1 million BTC   \n",
       "4                           Bitcoin UTXO P/L Ratio Hits 50.2 – A 30-Point Drop Could Signal the End Of This Correction   \n",
       "\n",
       "                                     storyId sourceCode  \n",
       "0     urn:link:webnews:20250318:nNRAvri2k4:0  NS:WNCOMA  \n",
       "1  urn:newsml:newsroom:20250318:nNRAvri2jd:0  NS:CRYPEE  \n",
       "2     urn:link:webnews:20250318:nNRAvri2wu:0  NS:MSNUKA  \n",
       "3  urn:newsml:newsroom:20250318:nNRAvrhxuf:0  NS:CRYPTT  \n",
       "4     urn:link:webnews:20250318:nNRAvrhwdb:0  NS:BITCOI  "
      ]
     },
     "execution_count": 5,
     "metadata": {},
     "output_type": "execute_result"
    }
   ],
   "source": [
    "news_df = pd.read_csv(\"BTC_News_.csv\")\n",
    "news_df.head()"
   ]
  },
  {
   "cell_type": "markdown",
   "metadata": {},
   "source": [
    "# Data Preparation"
   ]
  },
  {
   "cell_type": "code",
   "execution_count": 6,
   "metadata": {},
   "outputs": [
    {
     "data": {
      "text/html": [
       "<div>\n",
       "<style scoped>\n",
       "    .dataframe tbody tr th:only-of-type {\n",
       "        vertical-align: middle;\n",
       "    }\n",
       "\n",
       "    .dataframe tbody tr th {\n",
       "        vertical-align: top;\n",
       "    }\n",
       "\n",
       "    .dataframe thead th {\n",
       "        text-align: right;\n",
       "    }\n",
       "</style>\n",
       "<table border=\"1\" class=\"dataframe\">\n",
       "  <thead>\n",
       "    <tr style=\"text-align: right;\">\n",
       "      <th></th>\n",
       "      <th>Unnamed: 0</th>\n",
       "      <th>versionCreated</th>\n",
       "      <th>headline</th>\n",
       "      <th>storyId</th>\n",
       "      <th>sourceCode</th>\n",
       "    </tr>\n",
       "  </thead>\n",
       "  <tbody>\n",
       "    <tr>\n",
       "      <th>0</th>\n",
       "      <td>0</td>\n",
       "      <td>2025-03-18 23:54:08.068</td>\n",
       "      <td>Congressman Nick Begich signals growing support for The Bitcoin Act to acquire 1 million BTC</td>\n",
       "      <td>urn:link:webnews:20250318:nNRAvri2k4:0</td>\n",
       "      <td>NS:WNCOMA</td>\n",
       "    </tr>\n",
       "    <tr>\n",
       "      <th>1</th>\n",
       "      <td>1</td>\n",
       "      <td>2025-03-18 23:53:09.131</td>\n",
       "      <td>Current sentiment analysis for BNB, Chainlink, Wrapped Bitcoin, Solana. Bitcoin in only slightly positive territory</td>\n",
       "      <td>urn:newsml:newsroom:20250318:nNRAvri2jd:0</td>\n",
       "      <td>NS:CRYPEE</td>\n",
       "    </tr>\n",
       "    <tr>\n",
       "      <th>2</th>\n",
       "      <td>2</td>\n",
       "      <td>2025-03-18 23:53:06.832</td>\n",
       "      <td>Report: North Korea Quietly Becomes the Worlds 3rd-Largest Bitcoin Superpower</td>\n",
       "      <td>urn:link:webnews:20250318:nNRAvri2wu:0</td>\n",
       "      <td>NS:MSNUKA</td>\n",
       "    </tr>\n",
       "    <tr>\n",
       "      <th>3</th>\n",
       "      <td>3</td>\n",
       "      <td>2025-03-18 23:27:43.875</td>\n",
       "      <td>Congressman Nick Begich signals growing support for The Bitcoin Act to acquire 1 million BTC</td>\n",
       "      <td>urn:newsml:newsroom:20250318:nNRAvrhxuf:0</td>\n",
       "      <td>NS:CRYPTT</td>\n",
       "    </tr>\n",
       "    <tr>\n",
       "      <th>4</th>\n",
       "      <td>4</td>\n",
       "      <td>2025-03-18 23:25:06.448</td>\n",
       "      <td>Bitcoin UTXO P/L Ratio Hits 50.2 – A 30-Point Drop Could Signal the End Of This Correction</td>\n",
       "      <td>urn:link:webnews:20250318:nNRAvrhwdb:0</td>\n",
       "      <td>NS:BITCOI</td>\n",
       "    </tr>\n",
       "  </tbody>\n",
       "</table>\n",
       "</div>"
      ],
      "text/plain": [
       "   Unnamed: 0          versionCreated  \\\n",
       "0           0 2025-03-18 23:54:08.068   \n",
       "1           1 2025-03-18 23:53:09.131   \n",
       "2           2 2025-03-18 23:53:06.832   \n",
       "3           3 2025-03-18 23:27:43.875   \n",
       "4           4 2025-03-18 23:25:06.448   \n",
       "\n",
       "                                                                                                              headline  \\\n",
       "0                         Congressman Nick Begich signals growing support for The Bitcoin Act to acquire 1 million BTC   \n",
       "1  Current sentiment analysis for BNB, Chainlink, Wrapped Bitcoin, Solana. Bitcoin in only slightly positive territory   \n",
       "2                                        Report: North Korea Quietly Becomes the Worlds 3rd-Largest Bitcoin Superpower   \n",
       "3                         Congressman Nick Begich signals growing support for The Bitcoin Act to acquire 1 million BTC   \n",
       "4                           Bitcoin UTXO P/L Ratio Hits 50.2 – A 30-Point Drop Could Signal the End Of This Correction   \n",
       "\n",
       "                                     storyId sourceCode  \n",
       "0     urn:link:webnews:20250318:nNRAvri2k4:0  NS:WNCOMA  \n",
       "1  urn:newsml:newsroom:20250318:nNRAvri2jd:0  NS:CRYPEE  \n",
       "2     urn:link:webnews:20250318:nNRAvri2wu:0  NS:MSNUKA  \n",
       "3  urn:newsml:newsroom:20250318:nNRAvrhxuf:0  NS:CRYPTT  \n",
       "4     urn:link:webnews:20250318:nNRAvrhwdb:0  NS:BITCOI  "
      ]
     },
     "execution_count": 6,
     "metadata": {},
     "output_type": "execute_result"
    }
   ],
   "source": [
    "news_df['versionCreated'] = pd.to_datetime(news_df['versionCreated'])\n",
    "\n",
    "start_date = pd.to_datetime(start_date)\n",
    "end_date = pd.to_datetime(end_date)\n",
    "\n",
    "# Filter the DataFrame\n",
    "filtered_news = news_df[(news_df['versionCreated'] >= start_date) & (news_df['versionCreated'] <= end_date)]\n",
    "filtered_news.head()"
   ]
  },
  {
   "cell_type": "code",
   "execution_count": 7,
   "metadata": {},
   "outputs": [
    {
     "data": {
      "text/plain": [
       "Index(['Unnamed: 0', 'versionCreated', 'headline', 'storyId', 'sourceCode'], dtype='object')"
      ]
     },
     "execution_count": 7,
     "metadata": {},
     "output_type": "execute_result"
    }
   ],
   "source": [
    "filtered_news.columns"
   ]
  },
  {
   "cell_type": "code",
   "execution_count": 8,
   "metadata": {},
   "outputs": [
    {
     "data": {
      "text/html": [
       "<div>\n",
       "<style scoped>\n",
       "    .dataframe tbody tr th:only-of-type {\n",
       "        vertical-align: middle;\n",
       "    }\n",
       "\n",
       "    .dataframe tbody tr th {\n",
       "        vertical-align: top;\n",
       "    }\n",
       "\n",
       "    .dataframe thead th {\n",
       "        text-align: right;\n",
       "    }\n",
       "</style>\n",
       "<table border=\"1\" class=\"dataframe\">\n",
       "  <thead>\n",
       "    <tr style=\"text-align: right;\">\n",
       "      <th></th>\n",
       "      <th>versionCreated</th>\n",
       "      <th>headline</th>\n",
       "    </tr>\n",
       "  </thead>\n",
       "  <tbody>\n",
       "    <tr>\n",
       "      <th>0</th>\n",
       "      <td>2025-03-18 23:54:08.068</td>\n",
       "      <td>Congressman Nick Begich signals growing support for The Bitcoin Act to acquire 1 million BTC</td>\n",
       "    </tr>\n",
       "    <tr>\n",
       "      <th>1</th>\n",
       "      <td>2025-03-18 23:53:09.131</td>\n",
       "      <td>Current sentiment analysis for BNB, Chainlink, Wrapped Bitcoin, Solana. Bitcoin in only slightly positive territory</td>\n",
       "    </tr>\n",
       "    <tr>\n",
       "      <th>2</th>\n",
       "      <td>2025-03-18 23:53:06.832</td>\n",
       "      <td>Report: North Korea Quietly Becomes the Worlds 3rd-Largest Bitcoin Superpower</td>\n",
       "    </tr>\n",
       "    <tr>\n",
       "      <th>3</th>\n",
       "      <td>2025-03-18 23:27:43.875</td>\n",
       "      <td>Congressman Nick Begich signals growing support for The Bitcoin Act to acquire 1 million BTC</td>\n",
       "    </tr>\n",
       "    <tr>\n",
       "      <th>4</th>\n",
       "      <td>2025-03-18 23:25:06.448</td>\n",
       "      <td>Bitcoin UTXO P/L Ratio Hits 50.2 – A 30-Point Drop Could Signal the End Of This Correction</td>\n",
       "    </tr>\n",
       "  </tbody>\n",
       "</table>\n",
       "</div>"
      ],
      "text/plain": [
       "           versionCreated  \\\n",
       "0 2025-03-18 23:54:08.068   \n",
       "1 2025-03-18 23:53:09.131   \n",
       "2 2025-03-18 23:53:06.832   \n",
       "3 2025-03-18 23:27:43.875   \n",
       "4 2025-03-18 23:25:06.448   \n",
       "\n",
       "                                                                                                              headline  \n",
       "0                         Congressman Nick Begich signals growing support for The Bitcoin Act to acquire 1 million BTC  \n",
       "1  Current sentiment analysis for BNB, Chainlink, Wrapped Bitcoin, Solana. Bitcoin in only slightly positive territory  \n",
       "2                                        Report: North Korea Quietly Becomes the Worlds 3rd-Largest Bitcoin Superpower  \n",
       "3                         Congressman Nick Begich signals growing support for The Bitcoin Act to acquire 1 million BTC  \n",
       "4                           Bitcoin UTXO P/L Ratio Hits 50.2 – A 30-Point Drop Could Signal the End Of This Correction  "
      ]
     },
     "execution_count": 8,
     "metadata": {},
     "output_type": "execute_result"
    }
   ],
   "source": [
    "filtered_news = filtered_news.drop(columns=['Unnamed: 0', 'storyId', 'sourceCode'])\n",
    "filtered_news.head()\n"
   ]
  },
  {
   "cell_type": "code",
   "execution_count": 9,
   "metadata": {},
   "outputs": [
    {
     "data": {
      "text/html": [
       "<div>\n",
       "<style scoped>\n",
       "    .dataframe tbody tr th:only-of-type {\n",
       "        vertical-align: middle;\n",
       "    }\n",
       "\n",
       "    .dataframe tbody tr th {\n",
       "        vertical-align: top;\n",
       "    }\n",
       "\n",
       "    .dataframe thead th {\n",
       "        text-align: right;\n",
       "    }\n",
       "</style>\n",
       "<table border=\"1\" class=\"dataframe\">\n",
       "  <thead>\n",
       "    <tr style=\"text-align: right;\">\n",
       "      <th></th>\n",
       "      <th>headline</th>\n",
       "      <th>date</th>\n",
       "    </tr>\n",
       "    <tr>\n",
       "      <th>versionCreated</th>\n",
       "      <th></th>\n",
       "      <th></th>\n",
       "    </tr>\n",
       "  </thead>\n",
       "  <tbody>\n",
       "    <tr>\n",
       "      <th>2025-03-18 23:54:08.068</th>\n",
       "      <td>Congressman Nick Begich signals growing support for The Bitcoin Act to acquire 1 million BTC</td>\n",
       "      <td>2025-03-18</td>\n",
       "    </tr>\n",
       "    <tr>\n",
       "      <th>2025-03-18 23:53:09.131</th>\n",
       "      <td>Current sentiment analysis for BNB, Chainlink, Wrapped Bitcoin, Solana. Bitcoin in only slightly positive territory</td>\n",
       "      <td>2025-03-18</td>\n",
       "    </tr>\n",
       "    <tr>\n",
       "      <th>2025-03-18 23:53:06.832</th>\n",
       "      <td>Report: North Korea Quietly Becomes the Worlds 3rd-Largest Bitcoin Superpower</td>\n",
       "      <td>2025-03-18</td>\n",
       "    </tr>\n",
       "    <tr>\n",
       "      <th>2025-03-18 23:27:43.875</th>\n",
       "      <td>Congressman Nick Begich signals growing support for The Bitcoin Act to acquire 1 million BTC</td>\n",
       "      <td>2025-03-18</td>\n",
       "    </tr>\n",
       "    <tr>\n",
       "      <th>2025-03-18 23:25:06.448</th>\n",
       "      <td>Bitcoin UTXO P/L Ratio Hits 50.2 – A 30-Point Drop Could Signal the End Of This Correction</td>\n",
       "      <td>2025-03-18</td>\n",
       "    </tr>\n",
       "  </tbody>\n",
       "</table>\n",
       "</div>"
      ],
      "text/plain": [
       "                                                                                                                                    headline  \\\n",
       "versionCreated                                                                                                                                 \n",
       "2025-03-18 23:54:08.068                         Congressman Nick Begich signals growing support for The Bitcoin Act to acquire 1 million BTC   \n",
       "2025-03-18 23:53:09.131  Current sentiment analysis for BNB, Chainlink, Wrapped Bitcoin, Solana. Bitcoin in only slightly positive territory   \n",
       "2025-03-18 23:53:06.832                                        Report: North Korea Quietly Becomes the Worlds 3rd-Largest Bitcoin Superpower   \n",
       "2025-03-18 23:27:43.875                         Congressman Nick Begich signals growing support for The Bitcoin Act to acquire 1 million BTC   \n",
       "2025-03-18 23:25:06.448                           Bitcoin UTXO P/L Ratio Hits 50.2 – A 30-Point Drop Could Signal the End Of This Correction   \n",
       "\n",
       "                               date  \n",
       "versionCreated                       \n",
       "2025-03-18 23:54:08.068  2025-03-18  \n",
       "2025-03-18 23:53:09.131  2025-03-18  \n",
       "2025-03-18 23:53:06.832  2025-03-18  \n",
       "2025-03-18 23:27:43.875  2025-03-18  \n",
       "2025-03-18 23:25:06.448  2025-03-18  "
      ]
     },
     "execution_count": 9,
     "metadata": {},
     "output_type": "execute_result"
    }
   ],
   "source": [
    "filtered_news.loc[:, 'date'] = pd.to_datetime(filtered_news.versionCreated, format=\"%Y-%m-%d %H:%M:%S.%f\").dt.date\n",
    "filtered_news.index = filtered_news['versionCreated']\n",
    "filtered_news = filtered_news.drop(columns=['versionCreated'])\n",
    "filtered_news.head()\n",
    "\n"
   ]
  },
  {
   "cell_type": "code",
   "execution_count": 10,
   "metadata": {},
   "outputs": [],
   "source": [
    "hist_df.to_csv('dataset/historical_pricing.csv')\n",
    "filtered_news.to_csv('dataset/news_headline.csv')"
   ]
  },
  {
   "cell_type": "markdown",
   "metadata": {},
   "source": [
    "## Select only first news each day"
   ]
  },
  {
   "cell_type": "code",
   "execution_count": 11,
   "metadata": {},
   "outputs": [
    {
     "data": {
      "text/html": [
       "<div>\n",
       "<style scoped>\n",
       "    .dataframe tbody tr th:only-of-type {\n",
       "        vertical-align: middle;\n",
       "    }\n",
       "\n",
       "    .dataframe tbody tr th {\n",
       "        vertical-align: top;\n",
       "    }\n",
       "\n",
       "    .dataframe thead th {\n",
       "        text-align: right;\n",
       "    }\n",
       "</style>\n",
       "<table border=\"1\" class=\"dataframe\">\n",
       "  <thead>\n",
       "    <tr style=\"text-align: right;\">\n",
       "      <th></th>\n",
       "      <th>headline</th>\n",
       "      <th>date</th>\n",
       "    </tr>\n",
       "    <tr>\n",
       "      <th>versionCreated</th>\n",
       "      <th></th>\n",
       "      <th></th>\n",
       "    </tr>\n",
       "  </thead>\n",
       "  <tbody>\n",
       "    <tr>\n",
       "      <th>2025-03-18 23:54:08.068</th>\n",
       "      <td>Congressman Nick Begich signals growing support for The Bitcoin Act to acquire 1 million BTC</td>\n",
       "      <td>2025-03-18</td>\n",
       "    </tr>\n",
       "    <tr>\n",
       "      <th>2025-03-17 23:38:06.756</th>\n",
       "      <td>Sentiment analysis for important coins. Bitcoin currently in negative territory</td>\n",
       "      <td>2025-03-17</td>\n",
       "    </tr>\n",
       "    <tr>\n",
       "      <th>2025-03-16 23:36:08.366</th>\n",
       "      <td>South Korean Central Bank 'Negative' About Launching Strategic Bitcoin Reserve</td>\n",
       "      <td>2025-03-16</td>\n",
       "    </tr>\n",
       "    <tr>\n",
       "      <th>2025-03-15 23:51:58.464</th>\n",
       "      <td>Elon Musk's Favorite Dogecoin Sees Massive Sell-Off-Miners Dump 65M DOGE in 48 Hours</td>\n",
       "      <td>2025-03-15</td>\n",
       "    </tr>\n",
       "    <tr>\n",
       "      <th>2025-03-14 23:37:06.978</th>\n",
       "      <td>Weekly: The Hour Glass (AGS: SGD1.58) decreases 0.6% on weak volume; -1c [0.6%]</td>\n",
       "      <td>2025-03-14</td>\n",
       "    </tr>\n",
       "    <tr>\n",
       "      <th>2025-03-13 23:58:14.660</th>\n",
       "      <td>B.C. court grants production order to man defrauded out of $26 million in bitcoin</td>\n",
       "      <td>2025-03-13</td>\n",
       "    </tr>\n",
       "    <tr>\n",
       "      <th>2025-03-12 23:46:59.468</th>\n",
       "      <td>State-backed Bolivian energy firm YPFB turns to crypto amid painful dollar shortage</td>\n",
       "      <td>2025-03-12</td>\n",
       "    </tr>\n",
       "    <tr>\n",
       "      <th>2025-03-11 23:58:40.075</th>\n",
       "      <td>Why Are Bitcoin, XRP, Dogecoin, and Cardano Prices Going Up Today?</td>\n",
       "      <td>2025-03-11</td>\n",
       "    </tr>\n",
       "    <tr>\n",
       "      <th>2025-03-10 23:56:06.291</th>\n",
       "      <td>Recession risks roil markets as investors dump stocks, bitcoin</td>\n",
       "      <td>2025-03-10</td>\n",
       "    </tr>\n",
       "    <tr>\n",
       "      <th>2025-03-09 23:49:37.903</th>\n",
       "      <td>Bitcoin Dips Again As The Market Takes Hectic Rollercoaster Ride</td>\n",
       "      <td>2025-03-09</td>\n",
       "    </tr>\n",
       "    <tr>\n",
       "      <th>2025-03-08 23:57:02.585</th>\n",
       "      <td>Mexican Billionaire Salinas Says He Has 70% Bitcoin-Related Exposure</td>\n",
       "      <td>2025-03-08</td>\n",
       "    </tr>\n",
       "    <tr>\n",
       "      <th>2025-03-07 23:56:13.410</th>\n",
       "      <td>VanEck Reveals Budget Neutral Ways for US to Expand Its Bitcoin Reserve</td>\n",
       "      <td>2025-03-07</td>\n",
       "    </tr>\n",
       "    <tr>\n",
       "      <th>2025-03-06 23:57:11.432</th>\n",
       "      <td>iShares Bitcoin Trust (NASDAQ:IBIT) Shares Gap Up - Time to Buy?</td>\n",
       "      <td>2025-03-06</td>\n",
       "    </tr>\n",
       "    <tr>\n",
       "      <th>2025-03-05 23:59:15.010</th>\n",
       "      <td>Bitcoin and the Importance of Consistent Price Analysis for Investors</td>\n",
       "      <td>2025-03-05</td>\n",
       "    </tr>\n",
       "    <tr>\n",
       "      <th>2025-03-04 23:53:10.640</th>\n",
       "      <td>Backlash to crypto-reserve plan raises doubts on its prospects</td>\n",
       "      <td>2025-03-04</td>\n",
       "    </tr>\n",
       "    <tr>\n",
       "      <th>2025-03-03 23:50:11.595</th>\n",
       "      <td>Saylor predicts Bitcoin's monumental rise under Trump's crypto initiative</td>\n",
       "      <td>2025-03-03</td>\n",
       "    </tr>\n",
       "    <tr>\n",
       "      <th>2025-03-02 23:57:08.986</th>\n",
       "      <td>Trump Announces Crypto Reserve Plan as Bitcoin Dominance Falls Below 50%</td>\n",
       "      <td>2025-03-02</td>\n",
       "    </tr>\n",
       "    <tr>\n",
       "      <th>2025-03-01 23:37:04.385</th>\n",
       "      <td>Swiss Central Bank President Declares Bitcoin Not a Reliable Reserve Asset: Report</td>\n",
       "      <td>2025-03-01</td>\n",
       "    </tr>\n",
       "    <tr>\n",
       "      <th>2025-02-28 23:57:09.143</th>\n",
       "      <td>Promising New Crypto to Buy After Michael Saylor Says Don't Sell Bitcoin</td>\n",
       "      <td>2025-02-28</td>\n",
       "    </tr>\n",
       "    <tr>\n",
       "      <th>2025-02-27 23:58:08.462</th>\n",
       "      <td>Crypto Fear and Greed Index hits three-year low as sell-off from recent buyers weighs on Bitcoin</td>\n",
       "      <td>2025-02-27</td>\n",
       "    </tr>\n",
       "    <tr>\n",
       "      <th>2025-02-26 23:54:09.530</th>\n",
       "      <td>Stock Market: The End Of A Bullish Cycle?</td>\n",
       "      <td>2025-02-26</td>\n",
       "    </tr>\n",
       "    <tr>\n",
       "      <th>2025-02-25 23:49:09.855</th>\n",
       "      <td>BTCW Bitcoin Well 742,789 shares for debt</td>\n",
       "      <td>2025-02-25</td>\n",
       "    </tr>\n",
       "    <tr>\n",
       "      <th>2025-02-24 23:50:13.611</th>\n",
       "      <td>Bitcoin Slips Under $94K as Stocks Try to Shake Last Week's Jitters</td>\n",
       "      <td>2025-02-24</td>\n",
       "    </tr>\n",
       "    <tr>\n",
       "      <th>2025-02-23 23:48:14.072</th>\n",
       "      <td>Bitcoin Stocks To Follow Now – February 23rd</td>\n",
       "      <td>2025-02-23</td>\n",
       "    </tr>\n",
       "    <tr>\n",
       "      <th>2025-02-22 23:52:39.075</th>\n",
       "      <td>South Africa's Altvest Capital Seeks Regulatory Approval to Hold Bitcoin as Primary Treasury Asset</td>\n",
       "      <td>2025-02-22</td>\n",
       "    </tr>\n",
       "    <tr>\n",
       "      <th>2025-02-21 23:54:46.649</th>\n",
       "      <td>Bitcoin and digital asset bills filed in at least 31 states</td>\n",
       "      <td>2025-02-21</td>\n",
       "    </tr>\n",
       "    <tr>\n",
       "      <th>2025-02-20 23:42:10.050</th>\n",
       "      <td>Το Bitcoin οδεύει προς τα 120.000$ – Αξίζει να επενδύσετε σε altcoins στο dip?</td>\n",
       "      <td>2025-02-20</td>\n",
       "    </tr>\n",
       "    <tr>\n",
       "      <th>2025-02-19 23:46:55.110</th>\n",
       "      <td>Athena Bitcoin Global (ABIT: 6.28c) soars 10%; +0.58c [10.2%]</td>\n",
       "      <td>2025-02-19</td>\n",
       "    </tr>\n",
       "    <tr>\n",
       "      <th>2025-02-18 23:43:08.195</th>\n",
       "      <td>GENIUS Act Vs. Waters Bill: Competing Paths For U.S. Stablecoin Regulation</td>\n",
       "      <td>2025-02-18</td>\n",
       "    </tr>\n",
       "    <tr>\n",
       "      <th>2025-02-17 23:46:08.726</th>\n",
       "      <td>Should You Buy Bitcoin If There's a Dip Soon?</td>\n",
       "      <td>2025-02-17</td>\n",
       "    </tr>\n",
       "    <tr>\n",
       "      <th>2025-02-16 23:41:56.965</th>\n",
       "      <td>Elon Musk's D.O.G.E looks to update US gold reserves with Bitcoin after Fort Knox audit</td>\n",
       "      <td>2025-02-16</td>\n",
       "    </tr>\n",
       "    <tr>\n",
       "      <th>2025-02-15 23:51:19.299</th>\n",
       "      <td>Bitcoin (BTC) and Ethereum (ETH) Whales Rapidly Accumulate $0.006 Crypto with 18,333% Growth Potential</td>\n",
       "      <td>2025-02-15</td>\n",
       "    </tr>\n",
       "    <tr>\n",
       "      <th>2025-02-14 23:48:11.195</th>\n",
       "      <td>The $800 million Bitcoin hunt: Man's final bid to retrieve lost hard drive</td>\n",
       "      <td>2025-02-14</td>\n",
       "    </tr>\n",
       "    <tr>\n",
       "      <th>2025-02-13 23:50:10.351</th>\n",
       "      <td>Man in yearslong battle to retrieve lost Bitcoin hard drive worth around $800 million offers to buy landfill</td>\n",
       "      <td>2025-02-13</td>\n",
       "    </tr>\n",
       "    <tr>\n",
       "      <th>2025-02-12 23:53:09.953</th>\n",
       "      <td>Wyoming's WHPA becomes the first law enforcement association to hold Bitcoin in the U.S.</td>\n",
       "      <td>2025-02-12</td>\n",
       "    </tr>\n",
       "    <tr>\n",
       "      <th>2025-02-11 23:53:06.668</th>\n",
       "      <td>Bitcoin today by TradeCompass</td>\n",
       "      <td>2025-02-11</td>\n",
       "    </tr>\n",
       "    <tr>\n",
       "      <th>2025-02-10 23:48:00.102</th>\n",
       "      <td>Man pleads guilty to role in SEC social media account hack that led the price of bitcoin to spike</td>\n",
       "      <td>2025-02-10</td>\n",
       "    </tr>\n",
       "    <tr>\n",
       "      <th>2025-02-09 23:26:36.262</th>\n",
       "      <td>Man wants to buy tip where he lost Bitcoin fortune 1 hour ago David Grundy BBC News What is Bitcoin?</td>\n",
       "      <td>2025-02-09</td>\n",
       "    </tr>\n",
       "    <tr>\n",
       "      <th>2025-02-08 23:39:08.380</th>\n",
       "      <td>Bitcoin Hashrate Smashes Records With 852 EH/s Frenzy—Zettahash Era Inches Closer</td>\n",
       "      <td>2025-02-08</td>\n",
       "    </tr>\n",
       "    <tr>\n",
       "      <th>2025-02-07 23:27:21.415</th>\n",
       "      <td>Weekly: The Hour Glass (AGS: SGD1.55) keeps sliding: down 2.5% in 3 weeks; -2c [1.3%]</td>\n",
       "      <td>2025-02-07</td>\n",
       "    </tr>\n",
       "    <tr>\n",
       "      <th>2025-02-06 23:59:07.626</th>\n",
       "      <td>Brazil's Galipolo sees surge in crypto use, says 90% of flow tied to stablecoins</td>\n",
       "      <td>2025-02-06</td>\n",
       "    </tr>\n",
       "    <tr>\n",
       "      <th>2025-02-05 23:59:41.239</th>\n",
       "      <td>Bitcoin Faces Weak Retail Demand As Addresses Holding 0-1 BTC Decline – Expert Reports</td>\n",
       "      <td>2025-02-05</td>\n",
       "    </tr>\n",
       "    <tr>\n",
       "      <th>2025-02-04 23:53:21.451</th>\n",
       "      <td>Semler Scientific (NASDAQ:SMLR) Announces Updates on Bitcoin Holdings and BTC Yield Performance</td>\n",
       "      <td>2025-02-04</td>\n",
       "    </tr>\n",
       "    <tr>\n",
       "      <th>2025-02-03 23:45:37.109</th>\n",
       "      <td>Bitcoin Bounces Above $100K, XRP Surges 40% as Trade War Tensions Suddenly Ease</td>\n",
       "      <td>2025-02-03</td>\n",
       "    </tr>\n",
       "    <tr>\n",
       "      <th>2025-02-02 23:59:36.952</th>\n",
       "      <td>Bitcoin slides below $100,000 as tariffs rattle markets</td>\n",
       "      <td>2025-02-02</td>\n",
       "    </tr>\n",
       "    <tr>\n",
       "      <th>2025-02-01 23:58:02.430</th>\n",
       "      <td>Bitcoin Sinks to $100K as Trump Imposes Tariffs on Canada, Mexico, China</td>\n",
       "      <td>2025-02-01</td>\n",
       "    </tr>\n",
       "  </tbody>\n",
       "</table>\n",
       "</div>"
      ],
      "text/plain": [
       "                                                                                                                             headline  \\\n",
       "versionCreated                                                                                                                          \n",
       "2025-03-18 23:54:08.068                  Congressman Nick Begich signals growing support for The Bitcoin Act to acquire 1 million BTC   \n",
       "2025-03-17 23:38:06.756                               Sentiment analysis for important coins. Bitcoin currently in negative territory   \n",
       "2025-03-16 23:36:08.366                                South Korean Central Bank 'Negative' About Launching Strategic Bitcoin Reserve   \n",
       "2025-03-15 23:51:58.464                          Elon Musk's Favorite Dogecoin Sees Massive Sell-Off-Miners Dump 65M DOGE in 48 Hours   \n",
       "2025-03-14 23:37:06.978                               Weekly: The Hour Glass (AGS: SGD1.58) decreases 0.6% on weak volume; -1c [0.6%]   \n",
       "2025-03-13 23:58:14.660                             B.C. court grants production order to man defrauded out of $26 million in bitcoin   \n",
       "2025-03-12 23:46:59.468                           State-backed Bolivian energy firm YPFB turns to crypto amid painful dollar shortage   \n",
       "2025-03-11 23:58:40.075                                            Why Are Bitcoin, XRP, Dogecoin, and Cardano Prices Going Up Today?   \n",
       "2025-03-10 23:56:06.291                                                Recession risks roil markets as investors dump stocks, bitcoin   \n",
       "2025-03-09 23:49:37.903                                              Bitcoin Dips Again As The Market Takes Hectic Rollercoaster Ride   \n",
       "2025-03-08 23:57:02.585                                          Mexican Billionaire Salinas Says He Has 70% Bitcoin-Related Exposure   \n",
       "2025-03-07 23:56:13.410                                       VanEck Reveals Budget Neutral Ways for US to Expand Its Bitcoin Reserve   \n",
       "2025-03-06 23:57:11.432                                              iShares Bitcoin Trust (NASDAQ:IBIT) Shares Gap Up - Time to Buy?   \n",
       "2025-03-05 23:59:15.010                                         Bitcoin and the Importance of Consistent Price Analysis for Investors   \n",
       "2025-03-04 23:53:10.640                                                Backlash to crypto-reserve plan raises doubts on its prospects   \n",
       "2025-03-03 23:50:11.595                                     Saylor predicts Bitcoin's monumental rise under Trump's crypto initiative   \n",
       "2025-03-02 23:57:08.986                                      Trump Announces Crypto Reserve Plan as Bitcoin Dominance Falls Below 50%   \n",
       "2025-03-01 23:37:04.385                            Swiss Central Bank President Declares Bitcoin Not a Reliable Reserve Asset: Report   \n",
       "2025-02-28 23:57:09.143                                      Promising New Crypto to Buy After Michael Saylor Says Don't Sell Bitcoin   \n",
       "2025-02-27 23:58:08.462              Crypto Fear and Greed Index hits three-year low as sell-off from recent buyers weighs on Bitcoin   \n",
       "2025-02-26 23:54:09.530                                                                     Stock Market: The End Of A Bullish Cycle?   \n",
       "2025-02-25 23:49:09.855                                                                     BTCW Bitcoin Well 742,789 shares for debt   \n",
       "2025-02-24 23:50:13.611                                           Bitcoin Slips Under $94K as Stocks Try to Shake Last Week's Jitters   \n",
       "2025-02-23 23:48:14.072                                                                  Bitcoin Stocks To Follow Now – February 23rd   \n",
       "2025-02-22 23:52:39.075            South Africa's Altvest Capital Seeks Regulatory Approval to Hold Bitcoin as Primary Treasury Asset   \n",
       "2025-02-21 23:54:46.649                                                   Bitcoin and digital asset bills filed in at least 31 states   \n",
       "2025-02-20 23:42:10.050                                Το Bitcoin οδεύει προς τα 120.000$ – Αξίζει να επενδύσετε σε altcoins στο dip?   \n",
       "2025-02-19 23:46:55.110                                                 Athena Bitcoin Global (ABIT: 6.28c) soars 10%; +0.58c [10.2%]   \n",
       "2025-02-18 23:43:08.195                                    GENIUS Act Vs. Waters Bill: Competing Paths For U.S. Stablecoin Regulation   \n",
       "2025-02-17 23:46:08.726                                                                 Should You Buy Bitcoin If There's a Dip Soon?   \n",
       "2025-02-16 23:41:56.965                       Elon Musk's D.O.G.E looks to update US gold reserves with Bitcoin after Fort Knox audit   \n",
       "2025-02-15 23:51:19.299        Bitcoin (BTC) and Ethereum (ETH) Whales Rapidly Accumulate $0.006 Crypto with 18,333% Growth Potential   \n",
       "2025-02-14 23:48:11.195                                    The $800 million Bitcoin hunt: Man's final bid to retrieve lost hard drive   \n",
       "2025-02-13 23:50:10.351  Man in yearslong battle to retrieve lost Bitcoin hard drive worth around $800 million offers to buy landfill   \n",
       "2025-02-12 23:53:09.953                      Wyoming's WHPA becomes the first law enforcement association to hold Bitcoin in the U.S.   \n",
       "2025-02-11 23:53:06.668                                                                                 Bitcoin today by TradeCompass   \n",
       "2025-02-10 23:48:00.102             Man pleads guilty to role in SEC social media account hack that led the price of bitcoin to spike   \n",
       "2025-02-09 23:26:36.262          Man wants to buy tip where he lost Bitcoin fortune 1 hour ago David Grundy BBC News What is Bitcoin?   \n",
       "2025-02-08 23:39:08.380                             Bitcoin Hashrate Smashes Records With 852 EH/s Frenzy—Zettahash Era Inches Closer   \n",
       "2025-02-07 23:27:21.415                         Weekly: The Hour Glass (AGS: SGD1.55) keeps sliding: down 2.5% in 3 weeks; -2c [1.3%]   \n",
       "2025-02-06 23:59:07.626                              Brazil's Galipolo sees surge in crypto use, says 90% of flow tied to stablecoins   \n",
       "2025-02-05 23:59:41.239                        Bitcoin Faces Weak Retail Demand As Addresses Holding 0-1 BTC Decline – Expert Reports   \n",
       "2025-02-04 23:53:21.451               Semler Scientific (NASDAQ:SMLR) Announces Updates on Bitcoin Holdings and BTC Yield Performance   \n",
       "2025-02-03 23:45:37.109                               Bitcoin Bounces Above $100K, XRP Surges 40% as Trade War Tensions Suddenly Ease   \n",
       "2025-02-02 23:59:36.952                                                       Bitcoin slides below $100,000 as tariffs rattle markets   \n",
       "2025-02-01 23:58:02.430                                      Bitcoin Sinks to $100K as Trump Imposes Tariffs on Canada, Mexico, China   \n",
       "\n",
       "                               date  \n",
       "versionCreated                       \n",
       "2025-03-18 23:54:08.068  2025-03-18  \n",
       "2025-03-17 23:38:06.756  2025-03-17  \n",
       "2025-03-16 23:36:08.366  2025-03-16  \n",
       "2025-03-15 23:51:58.464  2025-03-15  \n",
       "2025-03-14 23:37:06.978  2025-03-14  \n",
       "2025-03-13 23:58:14.660  2025-03-13  \n",
       "2025-03-12 23:46:59.468  2025-03-12  \n",
       "2025-03-11 23:58:40.075  2025-03-11  \n",
       "2025-03-10 23:56:06.291  2025-03-10  \n",
       "2025-03-09 23:49:37.903  2025-03-09  \n",
       "2025-03-08 23:57:02.585  2025-03-08  \n",
       "2025-03-07 23:56:13.410  2025-03-07  \n",
       "2025-03-06 23:57:11.432  2025-03-06  \n",
       "2025-03-05 23:59:15.010  2025-03-05  \n",
       "2025-03-04 23:53:10.640  2025-03-04  \n",
       "2025-03-03 23:50:11.595  2025-03-03  \n",
       "2025-03-02 23:57:08.986  2025-03-02  \n",
       "2025-03-01 23:37:04.385  2025-03-01  \n",
       "2025-02-28 23:57:09.143  2025-02-28  \n",
       "2025-02-27 23:58:08.462  2025-02-27  \n",
       "2025-02-26 23:54:09.530  2025-02-26  \n",
       "2025-02-25 23:49:09.855  2025-02-25  \n",
       "2025-02-24 23:50:13.611  2025-02-24  \n",
       "2025-02-23 23:48:14.072  2025-02-23  \n",
       "2025-02-22 23:52:39.075  2025-02-22  \n",
       "2025-02-21 23:54:46.649  2025-02-21  \n",
       "2025-02-20 23:42:10.050  2025-02-20  \n",
       "2025-02-19 23:46:55.110  2025-02-19  \n",
       "2025-02-18 23:43:08.195  2025-02-18  \n",
       "2025-02-17 23:46:08.726  2025-02-17  \n",
       "2025-02-16 23:41:56.965  2025-02-16  \n",
       "2025-02-15 23:51:19.299  2025-02-15  \n",
       "2025-02-14 23:48:11.195  2025-02-14  \n",
       "2025-02-13 23:50:10.351  2025-02-13  \n",
       "2025-02-12 23:53:09.953  2025-02-12  \n",
       "2025-02-11 23:53:06.668  2025-02-11  \n",
       "2025-02-10 23:48:00.102  2025-02-10  \n",
       "2025-02-09 23:26:36.262  2025-02-09  \n",
       "2025-02-08 23:39:08.380  2025-02-08  \n",
       "2025-02-07 23:27:21.415  2025-02-07  \n",
       "2025-02-06 23:59:07.626  2025-02-06  \n",
       "2025-02-05 23:59:41.239  2025-02-05  \n",
       "2025-02-04 23:53:21.451  2025-02-04  \n",
       "2025-02-03 23:45:37.109  2025-02-03  \n",
       "2025-02-02 23:59:36.952  2025-02-02  \n",
       "2025-02-01 23:58:02.430  2025-02-01  "
      ]
     },
     "execution_count": 11,
     "metadata": {},
     "output_type": "execute_result"
    }
   ],
   "source": [
    "filtered_news.drop_duplicates(subset=['date'], inplace=True)\n",
    "filtered_news"
   ]
  },
  {
   "cell_type": "markdown",
   "metadata": {},
   "source": [
    "# Sentiment Analysis using OpenAI chat completion"
   ]
  },
  {
   "cell_type": "code",
   "execution_count": 12,
   "metadata": {},
   "outputs": [
    {
     "name": "stdout",
     "output_type": "stream",
     "text": [
      "Execution time: 3.4469988346099854\n"
     ]
    }
   ],
   "source": [
    "pretrained_model = 'ahmedrachid/FinancialBERT-Sentiment-Analysis'\n",
    "model = BertForSequenceClassification.from_pretrained(pretrained_model,num_labels=3)\n",
    "tokenizer = BertTokenizer.from_pretrained(pretrained_model)\n",
    "\n",
    "nlp = pipeline(\"sentiment-analysis\", model=model, tokenizer=tokenizer)\n",
    "\n",
    "def sentiment_analysis(sentences):\n",
    "    return nlp(sentences)[0]['label']\n",
    "\n",
    "start_time = time.time()\n",
    "\n",
    "filtered_news['Good news'] = filtered_news['headline'].apply(sentiment_analysis)\n",
    "\n",
    "end_time = time.time()\n",
    "execution_time = end_time - start_time\n",
    "print(\"Execution time:\",execution_time)"
   ]
  },
  {
   "cell_type": "code",
   "execution_count": 13,
   "metadata": {},
   "outputs": [],
   "source": [
    "filtered_news['Good news'] = filtered_news['Good news'].map({'neutral': 'UNKNOWN', 'negative': 'NO', 'positive': 'YES'})"
   ]
  },
  {
   "cell_type": "code",
   "execution_count": 14,
   "metadata": {},
   "outputs": [
    {
     "data": {
      "text/html": [
       "<div>\n",
       "<style scoped>\n",
       "    .dataframe tbody tr th:only-of-type {\n",
       "        vertical-align: middle;\n",
       "    }\n",
       "\n",
       "    .dataframe tbody tr th {\n",
       "        vertical-align: top;\n",
       "    }\n",
       "\n",
       "    .dataframe thead th {\n",
       "        text-align: right;\n",
       "    }\n",
       "</style>\n",
       "<table border=\"1\" class=\"dataframe\">\n",
       "  <thead>\n",
       "    <tr style=\"text-align: right;\">\n",
       "      <th></th>\n",
       "      <th>headline</th>\n",
       "      <th>date</th>\n",
       "      <th>Good news</th>\n",
       "    </tr>\n",
       "    <tr>\n",
       "      <th>versionCreated</th>\n",
       "      <th></th>\n",
       "      <th></th>\n",
       "      <th></th>\n",
       "    </tr>\n",
       "  </thead>\n",
       "  <tbody>\n",
       "    <tr>\n",
       "      <th>2025-03-18 23:54:08.068</th>\n",
       "      <td>Congressman Nick Begich signals growing support for The Bitcoin Act to acquire 1 million BTC</td>\n",
       "      <td>2025-03-18</td>\n",
       "      <td>YES</td>\n",
       "    </tr>\n",
       "    <tr>\n",
       "      <th>2025-03-17 23:38:06.756</th>\n",
       "      <td>Sentiment analysis for important coins. Bitcoin currently in negative territory</td>\n",
       "      <td>2025-03-17</td>\n",
       "      <td>NO</td>\n",
       "    </tr>\n",
       "    <tr>\n",
       "      <th>2025-03-16 23:36:08.366</th>\n",
       "      <td>South Korean Central Bank 'Negative' About Launching Strategic Bitcoin Reserve</td>\n",
       "      <td>2025-03-16</td>\n",
       "      <td>UNKNOWN</td>\n",
       "    </tr>\n",
       "    <tr>\n",
       "      <th>2025-03-15 23:51:58.464</th>\n",
       "      <td>Elon Musk's Favorite Dogecoin Sees Massive Sell-Off-Miners Dump 65M DOGE in 48 Hours</td>\n",
       "      <td>2025-03-15</td>\n",
       "      <td>UNKNOWN</td>\n",
       "    </tr>\n",
       "    <tr>\n",
       "      <th>2025-03-14 23:37:06.978</th>\n",
       "      <td>Weekly: The Hour Glass (AGS: SGD1.58) decreases 0.6% on weak volume; -1c [0.6%]</td>\n",
       "      <td>2025-03-14</td>\n",
       "      <td>NO</td>\n",
       "    </tr>\n",
       "    <tr>\n",
       "      <th>2025-03-13 23:58:14.660</th>\n",
       "      <td>B.C. court grants production order to man defrauded out of $26 million in bitcoin</td>\n",
       "      <td>2025-03-13</td>\n",
       "      <td>NO</td>\n",
       "    </tr>\n",
       "    <tr>\n",
       "      <th>2025-03-12 23:46:59.468</th>\n",
       "      <td>State-backed Bolivian energy firm YPFB turns to crypto amid painful dollar shortage</td>\n",
       "      <td>2025-03-12</td>\n",
       "      <td>UNKNOWN</td>\n",
       "    </tr>\n",
       "    <tr>\n",
       "      <th>2025-03-11 23:58:40.075</th>\n",
       "      <td>Why Are Bitcoin, XRP, Dogecoin, and Cardano Prices Going Up Today?</td>\n",
       "      <td>2025-03-11</td>\n",
       "      <td>UNKNOWN</td>\n",
       "    </tr>\n",
       "    <tr>\n",
       "      <th>2025-03-10 23:56:06.291</th>\n",
       "      <td>Recession risks roil markets as investors dump stocks, bitcoin</td>\n",
       "      <td>2025-03-10</td>\n",
       "      <td>NO</td>\n",
       "    </tr>\n",
       "    <tr>\n",
       "      <th>2025-03-09 23:49:37.903</th>\n",
       "      <td>Bitcoin Dips Again As The Market Takes Hectic Rollercoaster Ride</td>\n",
       "      <td>2025-03-09</td>\n",
       "      <td>UNKNOWN</td>\n",
       "    </tr>\n",
       "    <tr>\n",
       "      <th>2025-03-08 23:57:02.585</th>\n",
       "      <td>Mexican Billionaire Salinas Says He Has 70% Bitcoin-Related Exposure</td>\n",
       "      <td>2025-03-08</td>\n",
       "      <td>UNKNOWN</td>\n",
       "    </tr>\n",
       "    <tr>\n",
       "      <th>2025-03-07 23:56:13.410</th>\n",
       "      <td>VanEck Reveals Budget Neutral Ways for US to Expand Its Bitcoin Reserve</td>\n",
       "      <td>2025-03-07</td>\n",
       "      <td>UNKNOWN</td>\n",
       "    </tr>\n",
       "    <tr>\n",
       "      <th>2025-03-06 23:57:11.432</th>\n",
       "      <td>iShares Bitcoin Trust (NASDAQ:IBIT) Shares Gap Up - Time to Buy?</td>\n",
       "      <td>2025-03-06</td>\n",
       "      <td>UNKNOWN</td>\n",
       "    </tr>\n",
       "    <tr>\n",
       "      <th>2025-03-05 23:59:15.010</th>\n",
       "      <td>Bitcoin and the Importance of Consistent Price Analysis for Investors</td>\n",
       "      <td>2025-03-05</td>\n",
       "      <td>UNKNOWN</td>\n",
       "    </tr>\n",
       "    <tr>\n",
       "      <th>2025-03-04 23:53:10.640</th>\n",
       "      <td>Backlash to crypto-reserve plan raises doubts on its prospects</td>\n",
       "      <td>2025-03-04</td>\n",
       "      <td>NO</td>\n",
       "    </tr>\n",
       "    <tr>\n",
       "      <th>2025-03-03 23:50:11.595</th>\n",
       "      <td>Saylor predicts Bitcoin's monumental rise under Trump's crypto initiative</td>\n",
       "      <td>2025-03-03</td>\n",
       "      <td>YES</td>\n",
       "    </tr>\n",
       "    <tr>\n",
       "      <th>2025-03-02 23:57:08.986</th>\n",
       "      <td>Trump Announces Crypto Reserve Plan as Bitcoin Dominance Falls Below 50%</td>\n",
       "      <td>2025-03-02</td>\n",
       "      <td>UNKNOWN</td>\n",
       "    </tr>\n",
       "    <tr>\n",
       "      <th>2025-03-01 23:37:04.385</th>\n",
       "      <td>Swiss Central Bank President Declares Bitcoin Not a Reliable Reserve Asset: Report</td>\n",
       "      <td>2025-03-01</td>\n",
       "      <td>UNKNOWN</td>\n",
       "    </tr>\n",
       "    <tr>\n",
       "      <th>2025-02-28 23:57:09.143</th>\n",
       "      <td>Promising New Crypto to Buy After Michael Saylor Says Don't Sell Bitcoin</td>\n",
       "      <td>2025-02-28</td>\n",
       "      <td>UNKNOWN</td>\n",
       "    </tr>\n",
       "    <tr>\n",
       "      <th>2025-02-27 23:58:08.462</th>\n",
       "      <td>Crypto Fear and Greed Index hits three-year low as sell-off from recent buyers weighs on Bitcoin</td>\n",
       "      <td>2025-02-27</td>\n",
       "      <td>NO</td>\n",
       "    </tr>\n",
       "    <tr>\n",
       "      <th>2025-02-26 23:54:09.530</th>\n",
       "      <td>Stock Market: The End Of A Bullish Cycle?</td>\n",
       "      <td>2025-02-26</td>\n",
       "      <td>UNKNOWN</td>\n",
       "    </tr>\n",
       "    <tr>\n",
       "      <th>2025-02-25 23:49:09.855</th>\n",
       "      <td>BTCW Bitcoin Well 742,789 shares for debt</td>\n",
       "      <td>2025-02-25</td>\n",
       "      <td>UNKNOWN</td>\n",
       "    </tr>\n",
       "    <tr>\n",
       "      <th>2025-02-24 23:50:13.611</th>\n",
       "      <td>Bitcoin Slips Under $94K as Stocks Try to Shake Last Week's Jitters</td>\n",
       "      <td>2025-02-24</td>\n",
       "      <td>UNKNOWN</td>\n",
       "    </tr>\n",
       "    <tr>\n",
       "      <th>2025-02-23 23:48:14.072</th>\n",
       "      <td>Bitcoin Stocks To Follow Now – February 23rd</td>\n",
       "      <td>2025-02-23</td>\n",
       "      <td>UNKNOWN</td>\n",
       "    </tr>\n",
       "    <tr>\n",
       "      <th>2025-02-22 23:52:39.075</th>\n",
       "      <td>South Africa's Altvest Capital Seeks Regulatory Approval to Hold Bitcoin as Primary Treasury Asset</td>\n",
       "      <td>2025-02-22</td>\n",
       "      <td>UNKNOWN</td>\n",
       "    </tr>\n",
       "    <tr>\n",
       "      <th>2025-02-21 23:54:46.649</th>\n",
       "      <td>Bitcoin and digital asset bills filed in at least 31 states</td>\n",
       "      <td>2025-02-21</td>\n",
       "      <td>UNKNOWN</td>\n",
       "    </tr>\n",
       "    <tr>\n",
       "      <th>2025-02-20 23:42:10.050</th>\n",
       "      <td>Το Bitcoin οδεύει προς τα 120.000$ – Αξίζει να επενδύσετε σε altcoins στο dip?</td>\n",
       "      <td>2025-02-20</td>\n",
       "      <td>UNKNOWN</td>\n",
       "    </tr>\n",
       "    <tr>\n",
       "      <th>2025-02-19 23:46:55.110</th>\n",
       "      <td>Athena Bitcoin Global (ABIT: 6.28c) soars 10%; +0.58c [10.2%]</td>\n",
       "      <td>2025-02-19</td>\n",
       "      <td>YES</td>\n",
       "    </tr>\n",
       "    <tr>\n",
       "      <th>2025-02-18 23:43:08.195</th>\n",
       "      <td>GENIUS Act Vs. Waters Bill: Competing Paths For U.S. Stablecoin Regulation</td>\n",
       "      <td>2025-02-18</td>\n",
       "      <td>UNKNOWN</td>\n",
       "    </tr>\n",
       "    <tr>\n",
       "      <th>2025-02-17 23:46:08.726</th>\n",
       "      <td>Should You Buy Bitcoin If There's a Dip Soon?</td>\n",
       "      <td>2025-02-17</td>\n",
       "      <td>UNKNOWN</td>\n",
       "    </tr>\n",
       "    <tr>\n",
       "      <th>2025-02-16 23:41:56.965</th>\n",
       "      <td>Elon Musk's D.O.G.E looks to update US gold reserves with Bitcoin after Fort Knox audit</td>\n",
       "      <td>2025-02-16</td>\n",
       "      <td>UNKNOWN</td>\n",
       "    </tr>\n",
       "    <tr>\n",
       "      <th>2025-02-15 23:51:19.299</th>\n",
       "      <td>Bitcoin (BTC) and Ethereum (ETH) Whales Rapidly Accumulate $0.006 Crypto with 18,333% Growth Potential</td>\n",
       "      <td>2025-02-15</td>\n",
       "      <td>UNKNOWN</td>\n",
       "    </tr>\n",
       "    <tr>\n",
       "      <th>2025-02-14 23:48:11.195</th>\n",
       "      <td>The $800 million Bitcoin hunt: Man's final bid to retrieve lost hard drive</td>\n",
       "      <td>2025-02-14</td>\n",
       "      <td>UNKNOWN</td>\n",
       "    </tr>\n",
       "    <tr>\n",
       "      <th>2025-02-13 23:50:10.351</th>\n",
       "      <td>Man in yearslong battle to retrieve lost Bitcoin hard drive worth around $800 million offers to buy landfill</td>\n",
       "      <td>2025-02-13</td>\n",
       "      <td>UNKNOWN</td>\n",
       "    </tr>\n",
       "    <tr>\n",
       "      <th>2025-02-12 23:53:09.953</th>\n",
       "      <td>Wyoming's WHPA becomes the first law enforcement association to hold Bitcoin in the U.S.</td>\n",
       "      <td>2025-02-12</td>\n",
       "      <td>UNKNOWN</td>\n",
       "    </tr>\n",
       "    <tr>\n",
       "      <th>2025-02-11 23:53:06.668</th>\n",
       "      <td>Bitcoin today by TradeCompass</td>\n",
       "      <td>2025-02-11</td>\n",
       "      <td>UNKNOWN</td>\n",
       "    </tr>\n",
       "    <tr>\n",
       "      <th>2025-02-10 23:48:00.102</th>\n",
       "      <td>Man pleads guilty to role in SEC social media account hack that led the price of bitcoin to spike</td>\n",
       "      <td>2025-02-10</td>\n",
       "      <td>NO</td>\n",
       "    </tr>\n",
       "    <tr>\n",
       "      <th>2025-02-09 23:26:36.262</th>\n",
       "      <td>Man wants to buy tip where he lost Bitcoin fortune 1 hour ago David Grundy BBC News What is Bitcoin?</td>\n",
       "      <td>2025-02-09</td>\n",
       "      <td>UNKNOWN</td>\n",
       "    </tr>\n",
       "    <tr>\n",
       "      <th>2025-02-08 23:39:08.380</th>\n",
       "      <td>Bitcoin Hashrate Smashes Records With 852 EH/s Frenzy—Zettahash Era Inches Closer</td>\n",
       "      <td>2025-02-08</td>\n",
       "      <td>UNKNOWN</td>\n",
       "    </tr>\n",
       "    <tr>\n",
       "      <th>2025-02-07 23:27:21.415</th>\n",
       "      <td>Weekly: The Hour Glass (AGS: SGD1.55) keeps sliding: down 2.5% in 3 weeks; -2c [1.3%]</td>\n",
       "      <td>2025-02-07</td>\n",
       "      <td>NO</td>\n",
       "    </tr>\n",
       "    <tr>\n",
       "      <th>2025-02-06 23:59:07.626</th>\n",
       "      <td>Brazil's Galipolo sees surge in crypto use, says 90% of flow tied to stablecoins</td>\n",
       "      <td>2025-02-06</td>\n",
       "      <td>YES</td>\n",
       "    </tr>\n",
       "    <tr>\n",
       "      <th>2025-02-05 23:59:41.239</th>\n",
       "      <td>Bitcoin Faces Weak Retail Demand As Addresses Holding 0-1 BTC Decline – Expert Reports</td>\n",
       "      <td>2025-02-05</td>\n",
       "      <td>UNKNOWN</td>\n",
       "    </tr>\n",
       "    <tr>\n",
       "      <th>2025-02-04 23:53:21.451</th>\n",
       "      <td>Semler Scientific (NASDAQ:SMLR) Announces Updates on Bitcoin Holdings and BTC Yield Performance</td>\n",
       "      <td>2025-02-04</td>\n",
       "      <td>UNKNOWN</td>\n",
       "    </tr>\n",
       "    <tr>\n",
       "      <th>2025-02-03 23:45:37.109</th>\n",
       "      <td>Bitcoin Bounces Above $100K, XRP Surges 40% as Trade War Tensions Suddenly Ease</td>\n",
       "      <td>2025-02-03</td>\n",
       "      <td>UNKNOWN</td>\n",
       "    </tr>\n",
       "    <tr>\n",
       "      <th>2025-02-02 23:59:36.952</th>\n",
       "      <td>Bitcoin slides below $100,000 as tariffs rattle markets</td>\n",
       "      <td>2025-02-02</td>\n",
       "      <td>UNKNOWN</td>\n",
       "    </tr>\n",
       "    <tr>\n",
       "      <th>2025-02-01 23:58:02.430</th>\n",
       "      <td>Bitcoin Sinks to $100K as Trump Imposes Tariffs on Canada, Mexico, China</td>\n",
       "      <td>2025-02-01</td>\n",
       "      <td>UNKNOWN</td>\n",
       "    </tr>\n",
       "  </tbody>\n",
       "</table>\n",
       "</div>"
      ],
      "text/plain": [
       "                                                                                                                             headline  \\\n",
       "versionCreated                                                                                                                          \n",
       "2025-03-18 23:54:08.068                  Congressman Nick Begich signals growing support for The Bitcoin Act to acquire 1 million BTC   \n",
       "2025-03-17 23:38:06.756                               Sentiment analysis for important coins. Bitcoin currently in negative territory   \n",
       "2025-03-16 23:36:08.366                                South Korean Central Bank 'Negative' About Launching Strategic Bitcoin Reserve   \n",
       "2025-03-15 23:51:58.464                          Elon Musk's Favorite Dogecoin Sees Massive Sell-Off-Miners Dump 65M DOGE in 48 Hours   \n",
       "2025-03-14 23:37:06.978                               Weekly: The Hour Glass (AGS: SGD1.58) decreases 0.6% on weak volume; -1c [0.6%]   \n",
       "2025-03-13 23:58:14.660                             B.C. court grants production order to man defrauded out of $26 million in bitcoin   \n",
       "2025-03-12 23:46:59.468                           State-backed Bolivian energy firm YPFB turns to crypto amid painful dollar shortage   \n",
       "2025-03-11 23:58:40.075                                            Why Are Bitcoin, XRP, Dogecoin, and Cardano Prices Going Up Today?   \n",
       "2025-03-10 23:56:06.291                                                Recession risks roil markets as investors dump stocks, bitcoin   \n",
       "2025-03-09 23:49:37.903                                              Bitcoin Dips Again As The Market Takes Hectic Rollercoaster Ride   \n",
       "2025-03-08 23:57:02.585                                          Mexican Billionaire Salinas Says He Has 70% Bitcoin-Related Exposure   \n",
       "2025-03-07 23:56:13.410                                       VanEck Reveals Budget Neutral Ways for US to Expand Its Bitcoin Reserve   \n",
       "2025-03-06 23:57:11.432                                              iShares Bitcoin Trust (NASDAQ:IBIT) Shares Gap Up - Time to Buy?   \n",
       "2025-03-05 23:59:15.010                                         Bitcoin and the Importance of Consistent Price Analysis for Investors   \n",
       "2025-03-04 23:53:10.640                                                Backlash to crypto-reserve plan raises doubts on its prospects   \n",
       "2025-03-03 23:50:11.595                                     Saylor predicts Bitcoin's monumental rise under Trump's crypto initiative   \n",
       "2025-03-02 23:57:08.986                                      Trump Announces Crypto Reserve Plan as Bitcoin Dominance Falls Below 50%   \n",
       "2025-03-01 23:37:04.385                            Swiss Central Bank President Declares Bitcoin Not a Reliable Reserve Asset: Report   \n",
       "2025-02-28 23:57:09.143                                      Promising New Crypto to Buy After Michael Saylor Says Don't Sell Bitcoin   \n",
       "2025-02-27 23:58:08.462              Crypto Fear and Greed Index hits three-year low as sell-off from recent buyers weighs on Bitcoin   \n",
       "2025-02-26 23:54:09.530                                                                     Stock Market: The End Of A Bullish Cycle?   \n",
       "2025-02-25 23:49:09.855                                                                     BTCW Bitcoin Well 742,789 shares for debt   \n",
       "2025-02-24 23:50:13.611                                           Bitcoin Slips Under $94K as Stocks Try to Shake Last Week's Jitters   \n",
       "2025-02-23 23:48:14.072                                                                  Bitcoin Stocks To Follow Now – February 23rd   \n",
       "2025-02-22 23:52:39.075            South Africa's Altvest Capital Seeks Regulatory Approval to Hold Bitcoin as Primary Treasury Asset   \n",
       "2025-02-21 23:54:46.649                                                   Bitcoin and digital asset bills filed in at least 31 states   \n",
       "2025-02-20 23:42:10.050                                Το Bitcoin οδεύει προς τα 120.000$ – Αξίζει να επενδύσετε σε altcoins στο dip?   \n",
       "2025-02-19 23:46:55.110                                                 Athena Bitcoin Global (ABIT: 6.28c) soars 10%; +0.58c [10.2%]   \n",
       "2025-02-18 23:43:08.195                                    GENIUS Act Vs. Waters Bill: Competing Paths For U.S. Stablecoin Regulation   \n",
       "2025-02-17 23:46:08.726                                                                 Should You Buy Bitcoin If There's a Dip Soon?   \n",
       "2025-02-16 23:41:56.965                       Elon Musk's D.O.G.E looks to update US gold reserves with Bitcoin after Fort Knox audit   \n",
       "2025-02-15 23:51:19.299        Bitcoin (BTC) and Ethereum (ETH) Whales Rapidly Accumulate $0.006 Crypto with 18,333% Growth Potential   \n",
       "2025-02-14 23:48:11.195                                    The $800 million Bitcoin hunt: Man's final bid to retrieve lost hard drive   \n",
       "2025-02-13 23:50:10.351  Man in yearslong battle to retrieve lost Bitcoin hard drive worth around $800 million offers to buy landfill   \n",
       "2025-02-12 23:53:09.953                      Wyoming's WHPA becomes the first law enforcement association to hold Bitcoin in the U.S.   \n",
       "2025-02-11 23:53:06.668                                                                                 Bitcoin today by TradeCompass   \n",
       "2025-02-10 23:48:00.102             Man pleads guilty to role in SEC social media account hack that led the price of bitcoin to spike   \n",
       "2025-02-09 23:26:36.262          Man wants to buy tip where he lost Bitcoin fortune 1 hour ago David Grundy BBC News What is Bitcoin?   \n",
       "2025-02-08 23:39:08.380                             Bitcoin Hashrate Smashes Records With 852 EH/s Frenzy—Zettahash Era Inches Closer   \n",
       "2025-02-07 23:27:21.415                         Weekly: The Hour Glass (AGS: SGD1.55) keeps sliding: down 2.5% in 3 weeks; -2c [1.3%]   \n",
       "2025-02-06 23:59:07.626                              Brazil's Galipolo sees surge in crypto use, says 90% of flow tied to stablecoins   \n",
       "2025-02-05 23:59:41.239                        Bitcoin Faces Weak Retail Demand As Addresses Holding 0-1 BTC Decline – Expert Reports   \n",
       "2025-02-04 23:53:21.451               Semler Scientific (NASDAQ:SMLR) Announces Updates on Bitcoin Holdings and BTC Yield Performance   \n",
       "2025-02-03 23:45:37.109                               Bitcoin Bounces Above $100K, XRP Surges 40% as Trade War Tensions Suddenly Ease   \n",
       "2025-02-02 23:59:36.952                                                       Bitcoin slides below $100,000 as tariffs rattle markets   \n",
       "2025-02-01 23:58:02.430                                      Bitcoin Sinks to $100K as Trump Imposes Tariffs on Canada, Mexico, China   \n",
       "\n",
       "                               date Good news  \n",
       "versionCreated                                 \n",
       "2025-03-18 23:54:08.068  2025-03-18       YES  \n",
       "2025-03-17 23:38:06.756  2025-03-17        NO  \n",
       "2025-03-16 23:36:08.366  2025-03-16   UNKNOWN  \n",
       "2025-03-15 23:51:58.464  2025-03-15   UNKNOWN  \n",
       "2025-03-14 23:37:06.978  2025-03-14        NO  \n",
       "2025-03-13 23:58:14.660  2025-03-13        NO  \n",
       "2025-03-12 23:46:59.468  2025-03-12   UNKNOWN  \n",
       "2025-03-11 23:58:40.075  2025-03-11   UNKNOWN  \n",
       "2025-03-10 23:56:06.291  2025-03-10        NO  \n",
       "2025-03-09 23:49:37.903  2025-03-09   UNKNOWN  \n",
       "2025-03-08 23:57:02.585  2025-03-08   UNKNOWN  \n",
       "2025-03-07 23:56:13.410  2025-03-07   UNKNOWN  \n",
       "2025-03-06 23:57:11.432  2025-03-06   UNKNOWN  \n",
       "2025-03-05 23:59:15.010  2025-03-05   UNKNOWN  \n",
       "2025-03-04 23:53:10.640  2025-03-04        NO  \n",
       "2025-03-03 23:50:11.595  2025-03-03       YES  \n",
       "2025-03-02 23:57:08.986  2025-03-02   UNKNOWN  \n",
       "2025-03-01 23:37:04.385  2025-03-01   UNKNOWN  \n",
       "2025-02-28 23:57:09.143  2025-02-28   UNKNOWN  \n",
       "2025-02-27 23:58:08.462  2025-02-27        NO  \n",
       "2025-02-26 23:54:09.530  2025-02-26   UNKNOWN  \n",
       "2025-02-25 23:49:09.855  2025-02-25   UNKNOWN  \n",
       "2025-02-24 23:50:13.611  2025-02-24   UNKNOWN  \n",
       "2025-02-23 23:48:14.072  2025-02-23   UNKNOWN  \n",
       "2025-02-22 23:52:39.075  2025-02-22   UNKNOWN  \n",
       "2025-02-21 23:54:46.649  2025-02-21   UNKNOWN  \n",
       "2025-02-20 23:42:10.050  2025-02-20   UNKNOWN  \n",
       "2025-02-19 23:46:55.110  2025-02-19       YES  \n",
       "2025-02-18 23:43:08.195  2025-02-18   UNKNOWN  \n",
       "2025-02-17 23:46:08.726  2025-02-17   UNKNOWN  \n",
       "2025-02-16 23:41:56.965  2025-02-16   UNKNOWN  \n",
       "2025-02-15 23:51:19.299  2025-02-15   UNKNOWN  \n",
       "2025-02-14 23:48:11.195  2025-02-14   UNKNOWN  \n",
       "2025-02-13 23:50:10.351  2025-02-13   UNKNOWN  \n",
       "2025-02-12 23:53:09.953  2025-02-12   UNKNOWN  \n",
       "2025-02-11 23:53:06.668  2025-02-11   UNKNOWN  \n",
       "2025-02-10 23:48:00.102  2025-02-10        NO  \n",
       "2025-02-09 23:26:36.262  2025-02-09   UNKNOWN  \n",
       "2025-02-08 23:39:08.380  2025-02-08   UNKNOWN  \n",
       "2025-02-07 23:27:21.415  2025-02-07        NO  \n",
       "2025-02-06 23:59:07.626  2025-02-06       YES  \n",
       "2025-02-05 23:59:41.239  2025-02-05   UNKNOWN  \n",
       "2025-02-04 23:53:21.451  2025-02-04   UNKNOWN  \n",
       "2025-02-03 23:45:37.109  2025-02-03   UNKNOWN  \n",
       "2025-02-02 23:59:36.952  2025-02-02   UNKNOWN  \n",
       "2025-02-01 23:58:02.430  2025-02-01   UNKNOWN  "
      ]
     },
     "execution_count": 14,
     "metadata": {},
     "output_type": "execute_result"
    }
   ],
   "source": [
    "pd.set_option('display.max_rows', None)\n",
    "filtered_news"
   ]
  },
  {
   "cell_type": "markdown",
   "metadata": {},
   "source": [
    "# Visualization"
   ]
  },
  {
   "cell_type": "code",
   "execution_count": 15,
   "metadata": {},
   "outputs": [
    {
     "data": {
      "text/plain": [
       "<Axes: title={'center': 'Good news vs Bad news'}, xlabel='Good news'>"
      ]
     },
     "execution_count": 15,
     "metadata": {},
     "output_type": "execute_result"
    },
    {
     "data": {
      "image/png": "[encoded data removed]",
      "text/plain": [
       "<Figure size 640x480 with 1 Axes>"
      ]
     },
     "metadata": {},
     "output_type": "display_data"
    }
   ],
   "source": [
    "filtered_news['Good news'].value_counts().plot.bar(title='Good news vs Bad news')"
   ]
  },
  {
   "cell_type": "code",
   "execution_count": 16,
   "metadata": {},
   "outputs": [],
   "source": [
    "filtered_news.to_csv('dataset/news_headline_sentiment.csv', index=False)"
   ]
  },
  {
   "cell_type": "code",
   "execution_count": 17,
   "metadata": {},
   "outputs": [
    {
     "data": {
      "text/html": [
       "<div>\n",
       "<style scoped>\n",
       "    .dataframe tbody tr th:only-of-type {\n",
       "        vertical-align: middle;\n",
       "    }\n",
       "\n",
       "    .dataframe tbody tr th {\n",
       "        vertical-align: top;\n",
       "    }\n",
       "\n",
       "    .dataframe thead th {\n",
       "        text-align: right;\n",
       "    }\n",
       "</style>\n",
       "<table border=\"1\" class=\"dataframe\">\n",
       "  <thead>\n",
       "    <tr style=\"text-align: right;\">\n",
       "      <th></th>\n",
       "      <th>headline</th>\n",
       "      <th>date</th>\n",
       "      <th>Good news</th>\n",
       "    </tr>\n",
       "  </thead>\n",
       "  <tbody>\n",
       "    <tr>\n",
       "      <th>0</th>\n",
       "      <td>Congressman Nick Begich signals growing support for The Bitcoin Act to acquire 1 million BTC</td>\n",
       "      <td>2025-03-18</td>\n",
       "      <td>YES</td>\n",
       "    </tr>\n",
       "    <tr>\n",
       "      <th>1</th>\n",
       "      <td>Sentiment analysis for important coins. Bitcoin currently in negative territory</td>\n",
       "      <td>2025-03-17</td>\n",
       "      <td>NO</td>\n",
       "    </tr>\n",
       "    <tr>\n",
       "      <th>2</th>\n",
       "      <td>South Korean Central Bank 'Negative' About Launching Strategic Bitcoin Reserve</td>\n",
       "      <td>2025-03-16</td>\n",
       "      <td>UNKNOWN</td>\n",
       "    </tr>\n",
       "    <tr>\n",
       "      <th>3</th>\n",
       "      <td>Elon Musk's Favorite Dogecoin Sees Massive Sell-Off-Miners Dump 65M DOGE in 48 Hours</td>\n",
       "      <td>2025-03-15</td>\n",
       "      <td>UNKNOWN</td>\n",
       "    </tr>\n",
       "    <tr>\n",
       "      <th>4</th>\n",
       "      <td>Weekly: The Hour Glass (AGS: SGD1.58) decreases 0.6% on weak volume; -1c [0.6%]</td>\n",
       "      <td>2025-03-14</td>\n",
       "      <td>NO</td>\n",
       "    </tr>\n",
       "    <tr>\n",
       "      <th>5</th>\n",
       "      <td>B.C. court grants production order to man defrauded out of $26 million in bitcoin</td>\n",
       "      <td>2025-03-13</td>\n",
       "      <td>NO</td>\n",
       "    </tr>\n",
       "    <tr>\n",
       "      <th>6</th>\n",
       "      <td>State-backed Bolivian energy firm YPFB turns to crypto amid painful dollar shortage</td>\n",
       "      <td>2025-03-12</td>\n",
       "      <td>UNKNOWN</td>\n",
       "    </tr>\n",
       "    <tr>\n",
       "      <th>7</th>\n",
       "      <td>Why Are Bitcoin, XRP, Dogecoin, and Cardano Prices Going Up Today?</td>\n",
       "      <td>2025-03-11</td>\n",
       "      <td>UNKNOWN</td>\n",
       "    </tr>\n",
       "    <tr>\n",
       "      <th>8</th>\n",
       "      <td>Recession risks roil markets as investors dump stocks, bitcoin</td>\n",
       "      <td>2025-03-10</td>\n",
       "      <td>NO</td>\n",
       "    </tr>\n",
       "    <tr>\n",
       "      <th>9</th>\n",
       "      <td>Bitcoin Dips Again As The Market Takes Hectic Rollercoaster Ride</td>\n",
       "      <td>2025-03-09</td>\n",
       "      <td>UNKNOWN</td>\n",
       "    </tr>\n",
       "    <tr>\n",
       "      <th>10</th>\n",
       "      <td>Mexican Billionaire Salinas Says He Has 70% Bitcoin-Related Exposure</td>\n",
       "      <td>2025-03-08</td>\n",
       "      <td>UNKNOWN</td>\n",
       "    </tr>\n",
       "    <tr>\n",
       "      <th>11</th>\n",
       "      <td>VanEck Reveals Budget Neutral Ways for US to Expand Its Bitcoin Reserve</td>\n",
       "      <td>2025-03-07</td>\n",
       "      <td>UNKNOWN</td>\n",
       "    </tr>\n",
       "    <tr>\n",
       "      <th>12</th>\n",
       "      <td>iShares Bitcoin Trust (NASDAQ:IBIT) Shares Gap Up - Time to Buy?</td>\n",
       "      <td>2025-03-06</td>\n",
       "      <td>UNKNOWN</td>\n",
       "    </tr>\n",
       "    <tr>\n",
       "      <th>13</th>\n",
       "      <td>Bitcoin and the Importance of Consistent Price Analysis for Investors</td>\n",
       "      <td>2025-03-05</td>\n",
       "      <td>UNKNOWN</td>\n",
       "    </tr>\n",
       "    <tr>\n",
       "      <th>14</th>\n",
       "      <td>Backlash to crypto-reserve plan raises doubts on its prospects</td>\n",
       "      <td>2025-03-04</td>\n",
       "      <td>NO</td>\n",
       "    </tr>\n",
       "    <tr>\n",
       "      <th>15</th>\n",
       "      <td>Saylor predicts Bitcoin's monumental rise under Trump's crypto initiative</td>\n",
       "      <td>2025-03-03</td>\n",
       "      <td>YES</td>\n",
       "    </tr>\n",
       "    <tr>\n",
       "      <th>16</th>\n",
       "      <td>Trump Announces Crypto Reserve Plan as Bitcoin Dominance Falls Below 50%</td>\n",
       "      <td>2025-03-02</td>\n",
       "      <td>UNKNOWN</td>\n",
       "    </tr>\n",
       "    <tr>\n",
       "      <th>17</th>\n",
       "      <td>Swiss Central Bank President Declares Bitcoin Not a Reliable Reserve Asset: Report</td>\n",
       "      <td>2025-03-01</td>\n",
       "      <td>UNKNOWN</td>\n",
       "    </tr>\n",
       "    <tr>\n",
       "      <th>18</th>\n",
       "      <td>Promising New Crypto to Buy After Michael Saylor Says Don't Sell Bitcoin</td>\n",
       "      <td>2025-02-28</td>\n",
       "      <td>UNKNOWN</td>\n",
       "    </tr>\n",
       "    <tr>\n",
       "      <th>19</th>\n",
       "      <td>Crypto Fear and Greed Index hits three-year low as sell-off from recent buyers weighs on Bitcoin</td>\n",
       "      <td>2025-02-27</td>\n",
       "      <td>NO</td>\n",
       "    </tr>\n",
       "    <tr>\n",
       "      <th>20</th>\n",
       "      <td>Stock Market: The End Of A Bullish Cycle?</td>\n",
       "      <td>2025-02-26</td>\n",
       "      <td>UNKNOWN</td>\n",
       "    </tr>\n",
       "    <tr>\n",
       "      <th>21</th>\n",
       "      <td>BTCW Bitcoin Well 742,789 shares for debt</td>\n",
       "      <td>2025-02-25</td>\n",
       "      <td>UNKNOWN</td>\n",
       "    </tr>\n",
       "    <tr>\n",
       "      <th>22</th>\n",
       "      <td>Bitcoin Slips Under $94K as Stocks Try to Shake Last Week's Jitters</td>\n",
       "      <td>2025-02-24</td>\n",
       "      <td>UNKNOWN</td>\n",
       "    </tr>\n",
       "    <tr>\n",
       "      <th>23</th>\n",
       "      <td>Bitcoin Stocks To Follow Now – February 23rd</td>\n",
       "      <td>2025-02-23</td>\n",
       "      <td>UNKNOWN</td>\n",
       "    </tr>\n",
       "    <tr>\n",
       "      <th>24</th>\n",
       "      <td>South Africa's Altvest Capital Seeks Regulatory Approval to Hold Bitcoin as Primary Treasury Asset</td>\n",
       "      <td>2025-02-22</td>\n",
       "      <td>UNKNOWN</td>\n",
       "    </tr>\n",
       "    <tr>\n",
       "      <th>25</th>\n",
       "      <td>Bitcoin and digital asset bills filed in at least 31 states</td>\n",
       "      <td>2025-02-21</td>\n",
       "      <td>UNKNOWN</td>\n",
       "    </tr>\n",
       "    <tr>\n",
       "      <th>26</th>\n",
       "      <td>Το Bitcoin οδεύει προς τα 120.000$ – Αξίζει να επενδύσετε σε altcoins στο dip?</td>\n",
       "      <td>2025-02-20</td>\n",
       "      <td>UNKNOWN</td>\n",
       "    </tr>\n",
       "    <tr>\n",
       "      <th>27</th>\n",
       "      <td>Athena Bitcoin Global (ABIT: 6.28c) soars 10%; +0.58c [10.2%]</td>\n",
       "      <td>2025-02-19</td>\n",
       "      <td>YES</td>\n",
       "    </tr>\n",
       "    <tr>\n",
       "      <th>28</th>\n",
       "      <td>GENIUS Act Vs. Waters Bill: Competing Paths For U.S. Stablecoin Regulation</td>\n",
       "      <td>2025-02-18</td>\n",
       "      <td>UNKNOWN</td>\n",
       "    </tr>\n",
       "    <tr>\n",
       "      <th>29</th>\n",
       "      <td>Should You Buy Bitcoin If There's a Dip Soon?</td>\n",
       "      <td>2025-02-17</td>\n",
       "      <td>UNKNOWN</td>\n",
       "    </tr>\n",
       "    <tr>\n",
       "      <th>30</th>\n",
       "      <td>Elon Musk's D.O.G.E looks to update US gold reserves with Bitcoin after Fort Knox audit</td>\n",
       "      <td>2025-02-16</td>\n",
       "      <td>UNKNOWN</td>\n",
       "    </tr>\n",
       "    <tr>\n",
       "      <th>31</th>\n",
       "      <td>Bitcoin (BTC) and Ethereum (ETH) Whales Rapidly Accumulate $0.006 Crypto with 18,333% Growth Potential</td>\n",
       "      <td>2025-02-15</td>\n",
       "      <td>UNKNOWN</td>\n",
       "    </tr>\n",
       "    <tr>\n",
       "      <th>32</th>\n",
       "      <td>The $800 million Bitcoin hunt: Man's final bid to retrieve lost hard drive</td>\n",
       "      <td>2025-02-14</td>\n",
       "      <td>UNKNOWN</td>\n",
       "    </tr>\n",
       "    <tr>\n",
       "      <th>33</th>\n",
       "      <td>Man in yearslong battle to retrieve lost Bitcoin hard drive worth around $800 million offers to buy landfill</td>\n",
       "      <td>2025-02-13</td>\n",
       "      <td>UNKNOWN</td>\n",
       "    </tr>\n",
       "    <tr>\n",
       "      <th>34</th>\n",
       "      <td>Wyoming's WHPA becomes the first law enforcement association to hold Bitcoin in the U.S.</td>\n",
       "      <td>2025-02-12</td>\n",
       "      <td>UNKNOWN</td>\n",
       "    </tr>\n",
       "    <tr>\n",
       "      <th>35</th>\n",
       "      <td>Bitcoin today by TradeCompass</td>\n",
       "      <td>2025-02-11</td>\n",
       "      <td>UNKNOWN</td>\n",
       "    </tr>\n",
       "    <tr>\n",
       "      <th>36</th>\n",
       "      <td>Man pleads guilty to role in SEC social media account hack that led the price of bitcoin to spike</td>\n",
       "      <td>2025-02-10</td>\n",
       "      <td>NO</td>\n",
       "    </tr>\n",
       "    <tr>\n",
       "      <th>37</th>\n",
       "      <td>Man wants to buy tip where he lost Bitcoin fortune 1 hour ago David Grundy BBC News What is Bitcoin?</td>\n",
       "      <td>2025-02-09</td>\n",
       "      <td>UNKNOWN</td>\n",
       "    </tr>\n",
       "    <tr>\n",
       "      <th>38</th>\n",
       "      <td>Bitcoin Hashrate Smashes Records With 852 EH/s Frenzy—Zettahash Era Inches Closer</td>\n",
       "      <td>2025-02-08</td>\n",
       "      <td>UNKNOWN</td>\n",
       "    </tr>\n",
       "    <tr>\n",
       "      <th>39</th>\n",
       "      <td>Weekly: The Hour Glass (AGS: SGD1.55) keeps sliding: down 2.5% in 3 weeks; -2c [1.3%]</td>\n",
       "      <td>2025-02-07</td>\n",
       "      <td>NO</td>\n",
       "    </tr>\n",
       "    <tr>\n",
       "      <th>40</th>\n",
       "      <td>Brazil's Galipolo sees surge in crypto use, says 90% of flow tied to stablecoins</td>\n",
       "      <td>2025-02-06</td>\n",
       "      <td>YES</td>\n",
       "    </tr>\n",
       "    <tr>\n",
       "      <th>41</th>\n",
       "      <td>Bitcoin Faces Weak Retail Demand As Addresses Holding 0-1 BTC Decline – Expert Reports</td>\n",
       "      <td>2025-02-05</td>\n",
       "      <td>UNKNOWN</td>\n",
       "    </tr>\n",
       "    <tr>\n",
       "      <th>42</th>\n",
       "      <td>Semler Scientific (NASDAQ:SMLR) Announces Updates on Bitcoin Holdings and BTC Yield Performance</td>\n",
       "      <td>2025-02-04</td>\n",
       "      <td>UNKNOWN</td>\n",
       "    </tr>\n",
       "    <tr>\n",
       "      <th>43</th>\n",
       "      <td>Bitcoin Bounces Above $100K, XRP Surges 40% as Trade War Tensions Suddenly Ease</td>\n",
       "      <td>2025-02-03</td>\n",
       "      <td>UNKNOWN</td>\n",
       "    </tr>\n",
       "    <tr>\n",
       "      <th>44</th>\n",
       "      <td>Bitcoin slides below $100,000 as tariffs rattle markets</td>\n",
       "      <td>2025-02-02</td>\n",
       "      <td>UNKNOWN</td>\n",
       "    </tr>\n",
       "    <tr>\n",
       "      <th>45</th>\n",
       "      <td>Bitcoin Sinks to $100K as Trump Imposes Tariffs on Canada, Mexico, China</td>\n",
       "      <td>2025-02-01</td>\n",
       "      <td>UNKNOWN</td>\n",
       "    </tr>\n",
       "  </tbody>\n",
       "</table>\n",
       "</div>"
      ],
      "text/plain": [
       "                                                                                                        headline  \\\n",
       "0                   Congressman Nick Begich signals growing support for The Bitcoin Act to acquire 1 million BTC   \n",
       "1                                Sentiment analysis for important coins. Bitcoin currently in negative territory   \n",
       "2                                 South Korean Central Bank 'Negative' About Launching Strategic Bitcoin Reserve   \n",
       "3                           Elon Musk's Favorite Dogecoin Sees Massive Sell-Off-Miners Dump 65M DOGE in 48 Hours   \n",
       "4                                Weekly: The Hour Glass (AGS: SGD1.58) decreases 0.6% on weak volume; -1c [0.6%]   \n",
       "5                              B.C. court grants production order to man defrauded out of $26 million in bitcoin   \n",
       "6                            State-backed Bolivian energy firm YPFB turns to crypto amid painful dollar shortage   \n",
       "7                                             Why Are Bitcoin, XRP, Dogecoin, and Cardano Prices Going Up Today?   \n",
       "8                                                 Recession risks roil markets as investors dump stocks, bitcoin   \n",
       "9                                               Bitcoin Dips Again As The Market Takes Hectic Rollercoaster Ride   \n",
       "10                                          Mexican Billionaire Salinas Says He Has 70% Bitcoin-Related Exposure   \n",
       "11                                       VanEck Reveals Budget Neutral Ways for US to Expand Its Bitcoin Reserve   \n",
       "12                                              iShares Bitcoin Trust (NASDAQ:IBIT) Shares Gap Up - Time to Buy?   \n",
       "13                                         Bitcoin and the Importance of Consistent Price Analysis for Investors   \n",
       "14                                                Backlash to crypto-reserve plan raises doubts on its prospects   \n",
       "15                                     Saylor predicts Bitcoin's monumental rise under Trump's crypto initiative   \n",
       "16                                      Trump Announces Crypto Reserve Plan as Bitcoin Dominance Falls Below 50%   \n",
       "17                            Swiss Central Bank President Declares Bitcoin Not a Reliable Reserve Asset: Report   \n",
       "18                                      Promising New Crypto to Buy After Michael Saylor Says Don't Sell Bitcoin   \n",
       "19              Crypto Fear and Greed Index hits three-year low as sell-off from recent buyers weighs on Bitcoin   \n",
       "20                                                                     Stock Market: The End Of A Bullish Cycle?   \n",
       "21                                                                     BTCW Bitcoin Well 742,789 shares for debt   \n",
       "22                                           Bitcoin Slips Under $94K as Stocks Try to Shake Last Week's Jitters   \n",
       "23                                                                  Bitcoin Stocks To Follow Now – February 23rd   \n",
       "24            South Africa's Altvest Capital Seeks Regulatory Approval to Hold Bitcoin as Primary Treasury Asset   \n",
       "25                                                   Bitcoin and digital asset bills filed in at least 31 states   \n",
       "26                                Το Bitcoin οδεύει προς τα 120.000$ – Αξίζει να επενδύσετε σε altcoins στο dip?   \n",
       "27                                                 Athena Bitcoin Global (ABIT: 6.28c) soars 10%; +0.58c [10.2%]   \n",
       "28                                    GENIUS Act Vs. Waters Bill: Competing Paths For U.S. Stablecoin Regulation   \n",
       "29                                                                 Should You Buy Bitcoin If There's a Dip Soon?   \n",
       "30                       Elon Musk's D.O.G.E looks to update US gold reserves with Bitcoin after Fort Knox audit   \n",
       "31        Bitcoin (BTC) and Ethereum (ETH) Whales Rapidly Accumulate $0.006 Crypto with 18,333% Growth Potential   \n",
       "32                                    The $800 million Bitcoin hunt: Man's final bid to retrieve lost hard drive   \n",
       "33  Man in yearslong battle to retrieve lost Bitcoin hard drive worth around $800 million offers to buy landfill   \n",
       "34                      Wyoming's WHPA becomes the first law enforcement association to hold Bitcoin in the U.S.   \n",
       "35                                                                                 Bitcoin today by TradeCompass   \n",
       "36             Man pleads guilty to role in SEC social media account hack that led the price of bitcoin to spike   \n",
       "37          Man wants to buy tip where he lost Bitcoin fortune 1 hour ago David Grundy BBC News What is Bitcoin?   \n",
       "38                             Bitcoin Hashrate Smashes Records With 852 EH/s Frenzy—Zettahash Era Inches Closer   \n",
       "39                         Weekly: The Hour Glass (AGS: SGD1.55) keeps sliding: down 2.5% in 3 weeks; -2c [1.3%]   \n",
       "40                              Brazil's Galipolo sees surge in crypto use, says 90% of flow tied to stablecoins   \n",
       "41                        Bitcoin Faces Weak Retail Demand As Addresses Holding 0-1 BTC Decline – Expert Reports   \n",
       "42               Semler Scientific (NASDAQ:SMLR) Announces Updates on Bitcoin Holdings and BTC Yield Performance   \n",
       "43                               Bitcoin Bounces Above $100K, XRP Surges 40% as Trade War Tensions Suddenly Ease   \n",
       "44                                                       Bitcoin slides below $100,000 as tariffs rattle markets   \n",
       "45                                      Bitcoin Sinks to $100K as Trump Imposes Tariffs on Canada, Mexico, China   \n",
       "\n",
       "         date Good news  \n",
       "0  2025-03-18       YES  \n",
       "1  2025-03-17        NO  \n",
       "2  2025-03-16   UNKNOWN  \n",
       "3  2025-03-15   UNKNOWN  \n",
       "4  2025-03-14        NO  \n",
       "5  2025-03-13        NO  \n",
       "6  2025-03-12   UNKNOWN  \n",
       "7  2025-03-11   UNKNOWN  \n",
       "8  2025-03-10        NO  \n",
       "9  2025-03-09   UNKNOWN  \n",
       "10 2025-03-08   UNKNOWN  \n",
       "11 2025-03-07   UNKNOWN  \n",
       "12 2025-03-06   UNKNOWN  \n",
       "13 2025-03-05   UNKNOWN  \n",
       "14 2025-03-04        NO  \n",
       "15 2025-03-03       YES  \n",
       "16 2025-03-02   UNKNOWN  \n",
       "17 2025-03-01   UNKNOWN  \n",
       "18 2025-02-28   UNKNOWN  \n",
       "19 2025-02-27        NO  \n",
       "20 2025-02-26   UNKNOWN  \n",
       "21 2025-02-25   UNKNOWN  \n",
       "22 2025-02-24   UNKNOWN  \n",
       "23 2025-02-23   UNKNOWN  \n",
       "24 2025-02-22   UNKNOWN  \n",
       "25 2025-02-21   UNKNOWN  \n",
       "26 2025-02-20   UNKNOWN  \n",
       "27 2025-02-19       YES  \n",
       "28 2025-02-18   UNKNOWN  \n",
       "29 2025-02-17   UNKNOWN  \n",
       "30 2025-02-16   UNKNOWN  \n",
       "31 2025-02-15   UNKNOWN  \n",
       "32 2025-02-14   UNKNOWN  \n",
       "33 2025-02-13   UNKNOWN  \n",
       "34 2025-02-12   UNKNOWN  \n",
       "35 2025-02-11   UNKNOWN  \n",
       "36 2025-02-10        NO  \n",
       "37 2025-02-09   UNKNOWN  \n",
       "38 2025-02-08   UNKNOWN  \n",
       "39 2025-02-07        NO  \n",
       "40 2025-02-06       YES  \n",
       "41 2025-02-05   UNKNOWN  \n",
       "42 2025-02-04   UNKNOWN  \n",
       "43 2025-02-03   UNKNOWN  \n",
       "44 2025-02-02   UNKNOWN  \n",
       "45 2025-02-01   UNKNOWN  "
      ]
     },
     "execution_count": 17,
     "metadata": {},
     "output_type": "execute_result"
    }
   ],
   "source": [
    "news_headlines_df = pd.read_csv('dataset/news_headline_sentiment.csv', parse_dates=['date'])\n",
    "news_headlines_df"
   ]
  },
  {
   "cell_type": "code",
   "execution_count": 18,
   "metadata": {},
   "outputs": [
    {
     "data": {
      "text/html": [
       "<div>\n",
       "<style scoped>\n",
       "    .dataframe tbody tr th:only-of-type {\n",
       "        vertical-align: middle;\n",
       "    }\n",
       "\n",
       "    .dataframe tbody tr th {\n",
       "        vertical-align: top;\n",
       "    }\n",
       "\n",
       "    .dataframe thead th {\n",
       "        text-align: right;\n",
       "    }\n",
       "</style>\n",
       "<table border=\"1\" class=\"dataframe\">\n",
       "  <thead>\n",
       "    <tr style=\"text-align: right;\">\n",
       "      <th></th>\n",
       "      <th>Date</th>\n",
       "      <th>Open</th>\n",
       "      <th>High</th>\n",
       "      <th>Low</th>\n",
       "      <th>Close</th>\n",
       "      <th>Volume</th>\n",
       "      <th>Dividends</th>\n",
       "      <th>Stock Splits</th>\n",
       "    </tr>\n",
       "  </thead>\n",
       "  <tbody>\n",
       "    <tr>\n",
       "      <th>0</th>\n",
       "      <td>2024-05-29 00:00:00+00:00</td>\n",
       "      <td>68296.351562</td>\n",
       "      <td>68852.460938</td>\n",
       "      <td>67101.492188</td>\n",
       "      <td>67578.093750</td>\n",
       "      <td>26707072906</td>\n",
       "      <td>0.0</td>\n",
       "      <td>0.0</td>\n",
       "    </tr>\n",
       "    <tr>\n",
       "      <th>1</th>\n",
       "      <td>2024-05-30 00:00:00+00:00</td>\n",
       "      <td>67576.085938</td>\n",
       "      <td>69500.539062</td>\n",
       "      <td>67118.078125</td>\n",
       "      <td>68364.992188</td>\n",
       "      <td>29509712534</td>\n",
       "      <td>0.0</td>\n",
       "      <td>0.0</td>\n",
       "    </tr>\n",
       "    <tr>\n",
       "      <th>2</th>\n",
       "      <td>2024-05-31 00:00:00+00:00</td>\n",
       "      <td>68362.515625</td>\n",
       "      <td>68999.562500</td>\n",
       "      <td>66633.421875</td>\n",
       "      <td>67491.414062</td>\n",
       "      <td>27387283769</td>\n",
       "      <td>0.0</td>\n",
       "      <td>0.0</td>\n",
       "    </tr>\n",
       "    <tr>\n",
       "      <th>3</th>\n",
       "      <td>2024-06-01 00:00:00+00:00</td>\n",
       "      <td>67489.609375</td>\n",
       "      <td>67839.765625</td>\n",
       "      <td>67386.195312</td>\n",
       "      <td>67706.937500</td>\n",
       "      <td>11641495604</td>\n",
       "      <td>0.0</td>\n",
       "      <td>0.0</td>\n",
       "    </tr>\n",
       "    <tr>\n",
       "      <th>4</th>\n",
       "      <td>2024-06-02 00:00:00+00:00</td>\n",
       "      <td>67710.273438</td>\n",
       "      <td>68409.164062</td>\n",
       "      <td>67315.523438</td>\n",
       "      <td>67751.601562</td>\n",
       "      <td>17110588415</td>\n",
       "      <td>0.0</td>\n",
       "      <td>0.0</td>\n",
       "    </tr>\n",
       "    <tr>\n",
       "      <th>5</th>\n",
       "      <td>2024-06-03 00:00:00+00:00</td>\n",
       "      <td>67753.898438</td>\n",
       "      <td>70230.820312</td>\n",
       "      <td>67589.835938</td>\n",
       "      <td>68804.781250</td>\n",
       "      <td>32401285324</td>\n",
       "      <td>0.0</td>\n",
       "      <td>0.0</td>\n",
       "    </tr>\n",
       "    <tr>\n",
       "      <th>6</th>\n",
       "      <td>2024-06-04 00:00:00+00:00</td>\n",
       "      <td>68804.570312</td>\n",
       "      <td>71047.406250</td>\n",
       "      <td>68564.640625</td>\n",
       "      <td>70567.765625</td>\n",
       "      <td>33149696545</td>\n",
       "      <td>0.0</td>\n",
       "      <td>0.0</td>\n",
       "    </tr>\n",
       "    <tr>\n",
       "      <th>7</th>\n",
       "      <td>2024-06-05 00:00:00+00:00</td>\n",
       "      <td>70568.351562</td>\n",
       "      <td>71735.414062</td>\n",
       "      <td>70390.710938</td>\n",
       "      <td>71082.820312</td>\n",
       "      <td>32810771409</td>\n",
       "      <td>0.0</td>\n",
       "      <td>0.0</td>\n",
       "    </tr>\n",
       "    <tr>\n",
       "      <th>8</th>\n",
       "      <td>2024-06-06 00:00:00+00:00</td>\n",
       "      <td>71082.843750</td>\n",
       "      <td>71625.734375</td>\n",
       "      <td>70119.125000</td>\n",
       "      <td>70757.164062</td>\n",
       "      <td>25223152007</td>\n",
       "      <td>0.0</td>\n",
       "      <td>0.0</td>\n",
       "    </tr>\n",
       "    <tr>\n",
       "      <th>9</th>\n",
       "      <td>2024-06-07 00:00:00+00:00</td>\n",
       "      <td>70759.187500</td>\n",
       "      <td>71907.851562</td>\n",
       "      <td>68507.257812</td>\n",
       "      <td>69342.585938</td>\n",
       "      <td>36188381096</td>\n",
       "      <td>0.0</td>\n",
       "      <td>0.0</td>\n",
       "    </tr>\n",
       "    <tr>\n",
       "      <th>10</th>\n",
       "      <td>2024-06-08 00:00:00+00:00</td>\n",
       "      <td>69324.179688</td>\n",
       "      <td>69533.320312</td>\n",
       "      <td>69210.742188</td>\n",
       "      <td>69305.773438</td>\n",
       "      <td>14262185861</td>\n",
       "      <td>0.0</td>\n",
       "      <td>0.0</td>\n",
       "    </tr>\n",
       "    <tr>\n",
       "      <th>11</th>\n",
       "      <td>2024-06-09 00:00:00+00:00</td>\n",
       "      <td>69297.492188</td>\n",
       "      <td>69817.523438</td>\n",
       "      <td>69160.843750</td>\n",
       "      <td>69647.992188</td>\n",
       "      <td>13534028500</td>\n",
       "      <td>0.0</td>\n",
       "      <td>0.0</td>\n",
       "    </tr>\n",
       "    <tr>\n",
       "      <th>12</th>\n",
       "      <td>2024-06-10 00:00:00+00:00</td>\n",
       "      <td>69644.312500</td>\n",
       "      <td>70146.070312</td>\n",
       "      <td>69232.421875</td>\n",
       "      <td>69512.281250</td>\n",
       "      <td>20597699541</td>\n",
       "      <td>0.0</td>\n",
       "      <td>0.0</td>\n",
       "    </tr>\n",
       "    <tr>\n",
       "      <th>13</th>\n",
       "      <td>2024-06-11 00:00:00+00:00</td>\n",
       "      <td>69508.078125</td>\n",
       "      <td>69549.414062</td>\n",
       "      <td>66123.601562</td>\n",
       "      <td>67332.031250</td>\n",
       "      <td>37116136345</td>\n",
       "      <td>0.0</td>\n",
       "      <td>0.0</td>\n",
       "    </tr>\n",
       "    <tr>\n",
       "      <th>14</th>\n",
       "      <td>2024-06-12 00:00:00+00:00</td>\n",
       "      <td>67321.375000</td>\n",
       "      <td>69977.890625</td>\n",
       "      <td>66902.453125</td>\n",
       "      <td>68241.187500</td>\n",
       "      <td>34497940694</td>\n",
       "      <td>0.0</td>\n",
       "      <td>0.0</td>\n",
       "    </tr>\n",
       "    <tr>\n",
       "      <th>15</th>\n",
       "      <td>2024-06-13 00:00:00+00:00</td>\n",
       "      <td>68243.101562</td>\n",
       "      <td>68365.781250</td>\n",
       "      <td>66304.562500</td>\n",
       "      <td>66756.398438</td>\n",
       "      <td>28955204146</td>\n",
       "      <td>0.0</td>\n",
       "      <td>0.0</td>\n",
       "    </tr>\n",
       "    <tr>\n",
       "      <th>16</th>\n",
       "      <td>2024-06-14 00:00:00+00:00</td>\n",
       "      <td>66747.570312</td>\n",
       "      <td>67294.648438</td>\n",
       "      <td>65056.894531</td>\n",
       "      <td>66011.093750</td>\n",
       "      <td>27403884779</td>\n",
       "      <td>0.0</td>\n",
       "      <td>0.0</td>\n",
       "    </tr>\n",
       "    <tr>\n",
       "      <th>17</th>\n",
       "      <td>2024-06-15 00:00:00+00:00</td>\n",
       "      <td>66006.742188</td>\n",
       "      <td>66402.187500</td>\n",
       "      <td>65871.773438</td>\n",
       "      <td>66191.000000</td>\n",
       "      <td>14121265576</td>\n",
       "      <td>0.0</td>\n",
       "      <td>0.0</td>\n",
       "    </tr>\n",
       "    <tr>\n",
       "      <th>18</th>\n",
       "      <td>2024-06-16 00:00:00+00:00</td>\n",
       "      <td>66189.359375</td>\n",
       "      <td>66894.843750</td>\n",
       "      <td>66018.250000</td>\n",
       "      <td>66639.046875</td>\n",
       "      <td>13281140541</td>\n",
       "      <td>0.0</td>\n",
       "      <td>0.0</td>\n",
       "    </tr>\n",
       "    <tr>\n",
       "      <th>19</th>\n",
       "      <td>2024-06-17 00:00:00+00:00</td>\n",
       "      <td>66636.515625</td>\n",
       "      <td>67188.320312</td>\n",
       "      <td>65094.964844</td>\n",
       "      <td>66490.296875</td>\n",
       "      <td>30006354476</td>\n",
       "      <td>0.0</td>\n",
       "      <td>0.0</td>\n",
       "    </tr>\n",
       "    <tr>\n",
       "      <th>20</th>\n",
       "      <td>2024-06-18 00:00:00+00:00</td>\n",
       "      <td>66490.976562</td>\n",
       "      <td>66556.703125</td>\n",
       "      <td>64066.957031</td>\n",
       "      <td>65140.746094</td>\n",
       "      <td>39481285950</td>\n",
       "      <td>0.0</td>\n",
       "      <td>0.0</td>\n",
       "    </tr>\n",
       "    <tr>\n",
       "      <th>21</th>\n",
       "      <td>2024-06-19 00:00:00+00:00</td>\n",
       "      <td>65146.660156</td>\n",
       "      <td>65695.351562</td>\n",
       "      <td>64693.300781</td>\n",
       "      <td>64960.296875</td>\n",
       "      <td>21103423504</td>\n",
       "      <td>0.0</td>\n",
       "      <td>0.0</td>\n",
       "    </tr>\n",
       "    <tr>\n",
       "      <th>22</th>\n",
       "      <td>2024-06-20 00:00:00+00:00</td>\n",
       "      <td>64960.296875</td>\n",
       "      <td>66438.960938</td>\n",
       "      <td>64547.847656</td>\n",
       "      <td>64828.656250</td>\n",
       "      <td>25641109124</td>\n",
       "      <td>0.0</td>\n",
       "      <td>0.0</td>\n",
       "    </tr>\n",
       "    <tr>\n",
       "      <th>23</th>\n",
       "      <td>2024-06-21 00:00:00+00:00</td>\n",
       "      <td>64837.988281</td>\n",
       "      <td>65007.546875</td>\n",
       "      <td>63378.894531</td>\n",
       "      <td>64096.199219</td>\n",
       "      <td>26188171739</td>\n",
       "      <td>0.0</td>\n",
       "      <td>0.0</td>\n",
       "    </tr>\n",
       "    <tr>\n",
       "      <th>24</th>\n",
       "      <td>2024-06-22 00:00:00+00:00</td>\n",
       "      <td>64113.863281</td>\n",
       "      <td>64475.468750</td>\n",
       "      <td>63929.757812</td>\n",
       "      <td>64252.578125</td>\n",
       "      <td>9858198793</td>\n",
       "      <td>0.0</td>\n",
       "      <td>0.0</td>\n",
       "    </tr>\n",
       "    <tr>\n",
       "      <th>25</th>\n",
       "      <td>2024-06-23 00:00:00+00:00</td>\n",
       "      <td>64248.964844</td>\n",
       "      <td>64491.703125</td>\n",
       "      <td>63180.796875</td>\n",
       "      <td>63180.796875</td>\n",
       "      <td>11170471802</td>\n",
       "      <td>0.0</td>\n",
       "      <td>0.0</td>\n",
       "    </tr>\n",
       "    <tr>\n",
       "      <th>26</th>\n",
       "      <td>2024-06-24 00:00:00+00:00</td>\n",
       "      <td>63173.351562</td>\n",
       "      <td>63292.527344</td>\n",
       "      <td>58601.699219</td>\n",
       "      <td>60277.414062</td>\n",
       "      <td>43152133651</td>\n",
       "      <td>0.0</td>\n",
       "      <td>0.0</td>\n",
       "    </tr>\n",
       "    <tr>\n",
       "      <th>27</th>\n",
       "      <td>2024-06-25 00:00:00+00:00</td>\n",
       "      <td>60266.281250</td>\n",
       "      <td>62258.261719</td>\n",
       "      <td>60239.750000</td>\n",
       "      <td>61804.640625</td>\n",
       "      <td>29201215431</td>\n",
       "      <td>0.0</td>\n",
       "      <td>0.0</td>\n",
       "    </tr>\n",
       "    <tr>\n",
       "      <th>28</th>\n",
       "      <td>2024-06-26 00:00:00+00:00</td>\n",
       "      <td>61789.675781</td>\n",
       "      <td>62434.136719</td>\n",
       "      <td>60695.187500</td>\n",
       "      <td>60811.277344</td>\n",
       "      <td>22506003064</td>\n",
       "      <td>0.0</td>\n",
       "      <td>0.0</td>\n",
       "    </tr>\n",
       "    <tr>\n",
       "      <th>29</th>\n",
       "      <td>2024-06-27 00:00:00+00:00</td>\n",
       "      <td>60811.226562</td>\n",
       "      <td>62293.863281</td>\n",
       "      <td>60585.332031</td>\n",
       "      <td>61604.800781</td>\n",
       "      <td>21231745045</td>\n",
       "      <td>0.0</td>\n",
       "      <td>0.0</td>\n",
       "    </tr>\n",
       "    <tr>\n",
       "      <th>30</th>\n",
       "      <td>2024-06-28 00:00:00+00:00</td>\n",
       "      <td>61612.804688</td>\n",
       "      <td>62126.097656</td>\n",
       "      <td>59985.402344</td>\n",
       "      <td>60320.136719</td>\n",
       "      <td>24952866877</td>\n",
       "      <td>0.0</td>\n",
       "      <td>0.0</td>\n",
       "    </tr>\n",
       "    <tr>\n",
       "      <th>31</th>\n",
       "      <td>2024-06-29 00:00:00+00:00</td>\n",
       "      <td>60319.875000</td>\n",
       "      <td>61097.621094</td>\n",
       "      <td>60300.964844</td>\n",
       "      <td>60887.378906</td>\n",
       "      <td>12652903396</td>\n",
       "      <td>0.0</td>\n",
       "      <td>0.0</td>\n",
       "    </tr>\n",
       "    <tr>\n",
       "      <th>32</th>\n",
       "      <td>2024-06-30 00:00:00+00:00</td>\n",
       "      <td>60888.445312</td>\n",
       "      <td>62892.828125</td>\n",
       "      <td>60632.949219</td>\n",
       "      <td>62678.292969</td>\n",
       "      <td>17333226409</td>\n",
       "      <td>0.0</td>\n",
       "      <td>0.0</td>\n",
       "    </tr>\n",
       "    <tr>\n",
       "      <th>33</th>\n",
       "      <td>2024-07-01 00:00:00+00:00</td>\n",
       "      <td>62673.605469</td>\n",
       "      <td>63777.226562</td>\n",
       "      <td>62495.511719</td>\n",
       "      <td>62851.980469</td>\n",
       "      <td>25468379421</td>\n",
       "      <td>0.0</td>\n",
       "      <td>0.0</td>\n",
       "    </tr>\n",
       "    <tr>\n",
       "      <th>34</th>\n",
       "      <td>2024-07-02 00:00:00+00:00</td>\n",
       "      <td>62844.410156</td>\n",
       "      <td>63203.359375</td>\n",
       "      <td>61752.746094</td>\n",
       "      <td>62029.015625</td>\n",
       "      <td>20151616992</td>\n",
       "      <td>0.0</td>\n",
       "      <td>0.0</td>\n",
       "    </tr>\n",
       "    <tr>\n",
       "      <th>35</th>\n",
       "      <td>2024-07-03 00:00:00+00:00</td>\n",
       "      <td>62034.332031</td>\n",
       "      <td>62187.703125</td>\n",
       "      <td>59419.386719</td>\n",
       "      <td>60173.921875</td>\n",
       "      <td>29756701685</td>\n",
       "      <td>0.0</td>\n",
       "      <td>0.0</td>\n",
       "    </tr>\n",
       "    <tr>\n",
       "      <th>36</th>\n",
       "      <td>2024-07-04 00:00:00+00:00</td>\n",
       "      <td>60147.136719</td>\n",
       "      <td>60399.675781</td>\n",
       "      <td>56777.804688</td>\n",
       "      <td>56977.703125</td>\n",
       "      <td>41149609230</td>\n",
       "      <td>0.0</td>\n",
       "      <td>0.0</td>\n",
       "    </tr>\n",
       "    <tr>\n",
       "      <th>37</th>\n",
       "      <td>2024-07-05 00:00:00+00:00</td>\n",
       "      <td>57022.808594</td>\n",
       "      <td>57497.152344</td>\n",
       "      <td>53717.375000</td>\n",
       "      <td>56662.375000</td>\n",
       "      <td>55417544033</td>\n",
       "      <td>0.0</td>\n",
       "      <td>0.0</td>\n",
       "    </tr>\n",
       "    <tr>\n",
       "      <th>38</th>\n",
       "      <td>2024-07-06 00:00:00+00:00</td>\n",
       "      <td>56659.074219</td>\n",
       "      <td>58472.546875</td>\n",
       "      <td>56038.960938</td>\n",
       "      <td>58303.539062</td>\n",
       "      <td>20610320577</td>\n",
       "      <td>0.0</td>\n",
       "      <td>0.0</td>\n",
       "    </tr>\n",
       "    <tr>\n",
       "      <th>39</th>\n",
       "      <td>2024-07-07 00:00:00+00:00</td>\n",
       "      <td>58239.429688</td>\n",
       "      <td>58371.121094</td>\n",
       "      <td>55793.324219</td>\n",
       "      <td>55849.109375</td>\n",
       "      <td>20553359505</td>\n",
       "      <td>0.0</td>\n",
       "      <td>0.0</td>\n",
       "    </tr>\n",
       "    <tr>\n",
       "      <th>40</th>\n",
       "      <td>2024-07-08 00:00:00+00:00</td>\n",
       "      <td>55849.574219</td>\n",
       "      <td>58131.335938</td>\n",
       "      <td>54321.019531</td>\n",
       "      <td>56705.097656</td>\n",
       "      <td>39766159899</td>\n",
       "      <td>0.0</td>\n",
       "      <td>0.0</td>\n",
       "    </tr>\n",
       "    <tr>\n",
       "      <th>41</th>\n",
       "      <td>2024-07-09 00:00:00+00:00</td>\n",
       "      <td>56704.597656</td>\n",
       "      <td>58239.195312</td>\n",
       "      <td>56316.875000</td>\n",
       "      <td>58009.226562</td>\n",
       "      <td>27849512607</td>\n",
       "      <td>0.0</td>\n",
       "      <td>0.0</td>\n",
       "    </tr>\n",
       "    <tr>\n",
       "      <th>42</th>\n",
       "      <td>2024-07-10 00:00:00+00:00</td>\n",
       "      <td>58033.882812</td>\n",
       "      <td>59359.433594</td>\n",
       "      <td>57178.414062</td>\n",
       "      <td>57742.496094</td>\n",
       "      <td>26175260526</td>\n",
       "      <td>0.0</td>\n",
       "      <td>0.0</td>\n",
       "    </tr>\n",
       "    <tr>\n",
       "      <th>43</th>\n",
       "      <td>2024-07-11 00:00:00+00:00</td>\n",
       "      <td>57729.890625</td>\n",
       "      <td>59299.433594</td>\n",
       "      <td>57120.378906</td>\n",
       "      <td>57344.914062</td>\n",
       "      <td>28707803842</td>\n",
       "      <td>0.0</td>\n",
       "      <td>0.0</td>\n",
       "    </tr>\n",
       "    <tr>\n",
       "      <th>44</th>\n",
       "      <td>2024-07-12 00:00:00+00:00</td>\n",
       "      <td>57341.195312</td>\n",
       "      <td>58532.554688</td>\n",
       "      <td>56590.175781</td>\n",
       "      <td>57899.464844</td>\n",
       "      <td>25604805221</td>\n",
       "      <td>0.0</td>\n",
       "      <td>0.0</td>\n",
       "    </tr>\n",
       "    <tr>\n",
       "      <th>45</th>\n",
       "      <td>2024-07-13 00:00:00+00:00</td>\n",
       "      <td>57908.738281</td>\n",
       "      <td>59787.078125</td>\n",
       "      <td>57796.441406</td>\n",
       "      <td>59231.953125</td>\n",
       "      <td>17080061806</td>\n",
       "      <td>0.0</td>\n",
       "      <td>0.0</td>\n",
       "    </tr>\n",
       "    <tr>\n",
       "      <th>46</th>\n",
       "      <td>2024-07-14 00:00:00+00:00</td>\n",
       "      <td>59225.250000</td>\n",
       "      <td>61329.527344</td>\n",
       "      <td>59225.250000</td>\n",
       "      <td>60787.792969</td>\n",
       "      <td>22223416061</td>\n",
       "      <td>0.0</td>\n",
       "      <td>0.0</td>\n",
       "    </tr>\n",
       "    <tr>\n",
       "      <th>47</th>\n",
       "      <td>2024-07-15 00:00:00+00:00</td>\n",
       "      <td>60815.457031</td>\n",
       "      <td>64870.152344</td>\n",
       "      <td>60704.929688</td>\n",
       "      <td>64870.152344</td>\n",
       "      <td>38094526099</td>\n",
       "      <td>0.0</td>\n",
       "      <td>0.0</td>\n",
       "    </tr>\n",
       "    <tr>\n",
       "      <th>48</th>\n",
       "      <td>2024-07-16 00:00:00+00:00</td>\n",
       "      <td>64784.417969</td>\n",
       "      <td>65354.339844</td>\n",
       "      <td>62487.968750</td>\n",
       "      <td>65097.148438</td>\n",
       "      <td>41617346768</td>\n",
       "      <td>0.0</td>\n",
       "      <td>0.0</td>\n",
       "    </tr>\n",
       "    <tr>\n",
       "      <th>49</th>\n",
       "      <td>2024-07-17 00:00:00+00:00</td>\n",
       "      <td>65091.832031</td>\n",
       "      <td>66066.734375</td>\n",
       "      <td>63896.085938</td>\n",
       "      <td>64118.792969</td>\n",
       "      <td>32525071311</td>\n",
       "      <td>0.0</td>\n",
       "      <td>0.0</td>\n",
       "    </tr>\n",
       "    <tr>\n",
       "      <th>50</th>\n",
       "      <td>2024-07-18 00:00:00+00:00</td>\n",
       "      <td>64104.738281</td>\n",
       "      <td>65104.660156</td>\n",
       "      <td>63246.164062</td>\n",
       "      <td>63974.066406</td>\n",
       "      <td>27239305337</td>\n",
       "      <td>0.0</td>\n",
       "      <td>0.0</td>\n",
       "    </tr>\n",
       "    <tr>\n",
       "      <th>51</th>\n",
       "      <td>2024-07-19 00:00:00+00:00</td>\n",
       "      <td>63972.324219</td>\n",
       "      <td>67442.640625</td>\n",
       "      <td>63329.343750</td>\n",
       "      <td>66710.156250</td>\n",
       "      <td>37003855410</td>\n",
       "      <td>0.0</td>\n",
       "      <td>0.0</td>\n",
       "    </tr>\n",
       "    <tr>\n",
       "      <th>52</th>\n",
       "      <td>2024-07-20 00:00:00+00:00</td>\n",
       "      <td>66709.921875</td>\n",
       "      <td>67610.734375</td>\n",
       "      <td>66299.617188</td>\n",
       "      <td>67163.648438</td>\n",
       "      <td>19029581250</td>\n",
       "      <td>0.0</td>\n",
       "      <td>0.0</td>\n",
       "    </tr>\n",
       "    <tr>\n",
       "      <th>53</th>\n",
       "      <td>2024-07-21 00:00:00+00:00</td>\n",
       "      <td>67164.914062</td>\n",
       "      <td>68372.906250</td>\n",
       "      <td>65842.296875</td>\n",
       "      <td>68154.523438</td>\n",
       "      <td>26652190004</td>\n",
       "      <td>0.0</td>\n",
       "      <td>0.0</td>\n",
       "    </tr>\n",
       "    <tr>\n",
       "      <th>54</th>\n",
       "      <td>2024-07-22 00:00:00+00:00</td>\n",
       "      <td>68152.976562</td>\n",
       "      <td>68480.062500</td>\n",
       "      <td>66611.296875</td>\n",
       "      <td>67585.250000</td>\n",
       "      <td>42649109453</td>\n",
       "      <td>0.0</td>\n",
       "      <td>0.0</td>\n",
       "    </tr>\n",
       "    <tr>\n",
       "      <th>55</th>\n",
       "      <td>2024-07-23 00:00:00+00:00</td>\n",
       "      <td>67584.804688</td>\n",
       "      <td>67779.015625</td>\n",
       "      <td>65484.460938</td>\n",
       "      <td>65927.671875</td>\n",
       "      <td>35605668666</td>\n",
       "      <td>0.0</td>\n",
       "      <td>0.0</td>\n",
       "    </tr>\n",
       "    <tr>\n",
       "      <th>56</th>\n",
       "      <td>2024-07-24 00:00:00+00:00</td>\n",
       "      <td>65927.859375</td>\n",
       "      <td>67113.984375</td>\n",
       "      <td>65146.996094</td>\n",
       "      <td>65372.132812</td>\n",
       "      <td>27470942309</td>\n",
       "      <td>0.0</td>\n",
       "      <td>0.0</td>\n",
       "    </tr>\n",
       "    <tr>\n",
       "      <th>57</th>\n",
       "      <td>2024-07-25 00:00:00+00:00</td>\n",
       "      <td>65375.875000</td>\n",
       "      <td>66112.421875</td>\n",
       "      <td>63473.472656</td>\n",
       "      <td>65777.226562</td>\n",
       "      <td>38315761670</td>\n",
       "      <td>0.0</td>\n",
       "      <td>0.0</td>\n",
       "    </tr>\n",
       "    <tr>\n",
       "      <th>58</th>\n",
       "      <td>2024-07-26 00:00:00+00:00</td>\n",
       "      <td>65771.812500</td>\n",
       "      <td>68207.601562</td>\n",
       "      <td>65743.765625</td>\n",
       "      <td>67912.062500</td>\n",
       "      <td>30488630457</td>\n",
       "      <td>0.0</td>\n",
       "      <td>0.0</td>\n",
       "    </tr>\n",
       "    <tr>\n",
       "      <th>59</th>\n",
       "      <td>2024-07-27 00:00:00+00:00</td>\n",
       "      <td>67911.812500</td>\n",
       "      <td>69398.507812</td>\n",
       "      <td>66705.218750</td>\n",
       "      <td>67813.335938</td>\n",
       "      <td>34691905492</td>\n",
       "      <td>0.0</td>\n",
       "      <td>0.0</td>\n",
       "    </tr>\n",
       "    <tr>\n",
       "      <th>60</th>\n",
       "      <td>2024-07-28 00:00:00+00:00</td>\n",
       "      <td>67808.656250</td>\n",
       "      <td>68301.851562</td>\n",
       "      <td>67085.828125</td>\n",
       "      <td>68255.867188</td>\n",
       "      <td>18043166945</td>\n",
       "      <td>0.0</td>\n",
       "      <td>0.0</td>\n",
       "    </tr>\n",
       "    <tr>\n",
       "      <th>61</th>\n",
       "      <td>2024-07-29 00:00:00+00:00</td>\n",
       "      <td>68259.054688</td>\n",
       "      <td>69987.539062</td>\n",
       "      <td>66532.593750</td>\n",
       "      <td>66819.914062</td>\n",
       "      <td>40780682628</td>\n",
       "      <td>0.0</td>\n",
       "      <td>0.0</td>\n",
       "    </tr>\n",
       "    <tr>\n",
       "      <th>62</th>\n",
       "      <td>2024-07-30 00:00:00+00:00</td>\n",
       "      <td>66819.054688</td>\n",
       "      <td>66987.671875</td>\n",
       "      <td>65323.191406</td>\n",
       "      <td>66201.015625</td>\n",
       "      <td>31380492109</td>\n",
       "      <td>0.0</td>\n",
       "      <td>0.0</td>\n",
       "    </tr>\n",
       "    <tr>\n",
       "      <th>63</th>\n",
       "      <td>2024-07-31 00:00:00+00:00</td>\n",
       "      <td>66201.273438</td>\n",
       "      <td>66810.210938</td>\n",
       "      <td>64532.046875</td>\n",
       "      <td>64619.250000</td>\n",
       "      <td>31292785994</td>\n",
       "      <td>0.0</td>\n",
       "      <td>0.0</td>\n",
       "    </tr>\n",
       "    <tr>\n",
       "      <th>64</th>\n",
       "      <td>2024-08-01 00:00:00+00:00</td>\n",
       "      <td>64625.839844</td>\n",
       "      <td>65593.242188</td>\n",
       "      <td>62248.941406</td>\n",
       "      <td>65357.500000</td>\n",
       "      <td>40975554494</td>\n",
       "      <td>0.0</td>\n",
       "      <td>0.0</td>\n",
       "    </tr>\n",
       "    <tr>\n",
       "      <th>65</th>\n",
       "      <td>2024-08-02 00:00:00+00:00</td>\n",
       "      <td>65353.500000</td>\n",
       "      <td>65523.222656</td>\n",
       "      <td>61184.894531</td>\n",
       "      <td>61415.066406</td>\n",
       "      <td>43060875727</td>\n",
       "      <td>0.0</td>\n",
       "      <td>0.0</td>\n",
       "    </tr>\n",
       "    <tr>\n",
       "      <th>66</th>\n",
       "      <td>2024-08-03 00:00:00+00:00</td>\n",
       "      <td>61414.808594</td>\n",
       "      <td>62148.371094</td>\n",
       "      <td>59836.527344</td>\n",
       "      <td>60680.093750</td>\n",
       "      <td>31753030589</td>\n",
       "      <td>0.0</td>\n",
       "      <td>0.0</td>\n",
       "    </tr>\n",
       "    <tr>\n",
       "      <th>67</th>\n",
       "      <td>2024-08-04 00:00:00+00:00</td>\n",
       "      <td>60676.093750</td>\n",
       "      <td>61062.988281</td>\n",
       "      <td>57210.804688</td>\n",
       "      <td>58116.976562</td>\n",
       "      <td>31758917219</td>\n",
       "      <td>0.0</td>\n",
       "      <td>0.0</td>\n",
       "    </tr>\n",
       "    <tr>\n",
       "      <th>68</th>\n",
       "      <td>2024-08-05 00:00:00+00:00</td>\n",
       "      <td>58110.296875</td>\n",
       "      <td>58268.828125</td>\n",
       "      <td>49121.238281</td>\n",
       "      <td>53991.457031</td>\n",
       "      <td>108991085584</td>\n",
       "      <td>0.0</td>\n",
       "      <td>0.0</td>\n",
       "    </tr>\n",
       "    <tr>\n",
       "      <th>69</th>\n",
       "      <td>2024-08-06 00:00:00+00:00</td>\n",
       "      <td>53991.347656</td>\n",
       "      <td>57059.917969</td>\n",
       "      <td>53973.273438</td>\n",
       "      <td>56034.316406</td>\n",
       "      <td>49300484106</td>\n",
       "      <td>0.0</td>\n",
       "      <td>0.0</td>\n",
       "    </tr>\n",
       "    <tr>\n",
       "      <th>70</th>\n",
       "      <td>2024-08-07 00:00:00+00:00</td>\n",
       "      <td>56040.632812</td>\n",
       "      <td>57726.882812</td>\n",
       "      <td>54620.507812</td>\n",
       "      <td>55027.460938</td>\n",
       "      <td>41637562185</td>\n",
       "      <td>0.0</td>\n",
       "      <td>0.0</td>\n",
       "    </tr>\n",
       "    <tr>\n",
       "      <th>71</th>\n",
       "      <td>2024-08-08 00:00:00+00:00</td>\n",
       "      <td>55030.027344</td>\n",
       "      <td>62673.765625</td>\n",
       "      <td>54766.726562</td>\n",
       "      <td>61710.136719</td>\n",
       "      <td>45298472567</td>\n",
       "      <td>0.0</td>\n",
       "      <td>0.0</td>\n",
       "    </tr>\n",
       "    <tr>\n",
       "      <th>72</th>\n",
       "      <td>2024-08-09 00:00:00+00:00</td>\n",
       "      <td>61728.207031</td>\n",
       "      <td>61751.863281</td>\n",
       "      <td>59587.859375</td>\n",
       "      <td>60880.113281</td>\n",
       "      <td>33425553115</td>\n",
       "      <td>0.0</td>\n",
       "      <td>0.0</td>\n",
       "    </tr>\n",
       "    <tr>\n",
       "      <th>73</th>\n",
       "      <td>2024-08-10 00:00:00+00:00</td>\n",
       "      <td>60881.230469</td>\n",
       "      <td>61464.511719</td>\n",
       "      <td>60287.566406</td>\n",
       "      <td>60945.812500</td>\n",
       "      <td>15745822278</td>\n",
       "      <td>0.0</td>\n",
       "      <td>0.0</td>\n",
       "    </tr>\n",
       "    <tr>\n",
       "      <th>74</th>\n",
       "      <td>2024-08-11 00:00:00+00:00</td>\n",
       "      <td>60944.890625</td>\n",
       "      <td>61778.660156</td>\n",
       "      <td>58348.824219</td>\n",
       "      <td>58719.484375</td>\n",
       "      <td>22759754812</td>\n",
       "      <td>0.0</td>\n",
       "      <td>0.0</td>\n",
       "    </tr>\n",
       "    <tr>\n",
       "      <th>75</th>\n",
       "      <td>2024-08-12 00:00:00+00:00</td>\n",
       "      <td>58719.394531</td>\n",
       "      <td>60680.332031</td>\n",
       "      <td>57688.898438</td>\n",
       "      <td>59354.515625</td>\n",
       "      <td>37078637820</td>\n",
       "      <td>0.0</td>\n",
       "      <td>0.0</td>\n",
       "    </tr>\n",
       "    <tr>\n",
       "      <th>76</th>\n",
       "      <td>2024-08-13 00:00:00+00:00</td>\n",
       "      <td>59356.207031</td>\n",
       "      <td>61572.398438</td>\n",
       "      <td>58506.253906</td>\n",
       "      <td>60609.566406</td>\n",
       "      <td>30327698167</td>\n",
       "      <td>0.0</td>\n",
       "      <td>0.0</td>\n",
       "    </tr>\n",
       "    <tr>\n",
       "      <th>77</th>\n",
       "      <td>2024-08-14 00:00:00+00:00</td>\n",
       "      <td>60611.050781</td>\n",
       "      <td>61687.757812</td>\n",
       "      <td>58472.875000</td>\n",
       "      <td>58737.269531</td>\n",
       "      <td>29961696180</td>\n",
       "      <td>0.0</td>\n",
       "      <td>0.0</td>\n",
       "    </tr>\n",
       "    <tr>\n",
       "      <th>78</th>\n",
       "      <td>2024-08-15 00:00:00+00:00</td>\n",
       "      <td>58733.261719</td>\n",
       "      <td>59838.648438</td>\n",
       "      <td>56161.593750</td>\n",
       "      <td>57560.097656</td>\n",
       "      <td>35682112440</td>\n",
       "      <td>0.0</td>\n",
       "      <td>0.0</td>\n",
       "    </tr>\n",
       "    <tr>\n",
       "      <th>79</th>\n",
       "      <td>2024-08-16 00:00:00+00:00</td>\n",
       "      <td>57560.273438</td>\n",
       "      <td>59847.359375</td>\n",
       "      <td>57110.019531</td>\n",
       "      <td>58894.105469</td>\n",
       "      <td>29350938673</td>\n",
       "      <td>0.0</td>\n",
       "      <td>0.0</td>\n",
       "    </tr>\n",
       "    <tr>\n",
       "      <th>80</th>\n",
       "      <td>2024-08-17 00:00:00+00:00</td>\n",
       "      <td>58893.531250</td>\n",
       "      <td>59694.667969</td>\n",
       "      <td>58814.832031</td>\n",
       "      <td>59478.972656</td>\n",
       "      <td>13589684021</td>\n",
       "      <td>0.0</td>\n",
       "      <td>0.0</td>\n",
       "    </tr>\n",
       "    <tr>\n",
       "      <th>81</th>\n",
       "      <td>2024-08-18 00:00:00+00:00</td>\n",
       "      <td>59468.132812</td>\n",
       "      <td>60262.718750</td>\n",
       "      <td>58445.402344</td>\n",
       "      <td>58483.964844</td>\n",
       "      <td>17740625837</td>\n",
       "      <td>0.0</td>\n",
       "      <td>0.0</td>\n",
       "    </tr>\n",
       "    <tr>\n",
       "      <th>82</th>\n",
       "      <td>2024-08-19 00:00:00+00:00</td>\n",
       "      <td>58480.710938</td>\n",
       "      <td>59612.660156</td>\n",
       "      <td>57864.710938</td>\n",
       "      <td>59493.453125</td>\n",
       "      <td>25911207712</td>\n",
       "      <td>0.0</td>\n",
       "      <td>0.0</td>\n",
       "    </tr>\n",
       "    <tr>\n",
       "      <th>83</th>\n",
       "      <td>2024-08-20 00:00:00+00:00</td>\n",
       "      <td>59493.453125</td>\n",
       "      <td>61396.328125</td>\n",
       "      <td>58610.882812</td>\n",
       "      <td>59012.792969</td>\n",
       "      <td>31613400008</td>\n",
       "      <td>0.0</td>\n",
       "      <td>0.0</td>\n",
       "    </tr>\n",
       "    <tr>\n",
       "      <th>84</th>\n",
       "      <td>2024-08-21 00:00:00+00:00</td>\n",
       "      <td>59014.988281</td>\n",
       "      <td>61834.351562</td>\n",
       "      <td>58823.445312</td>\n",
       "      <td>61175.191406</td>\n",
       "      <td>32731154072</td>\n",
       "      <td>0.0</td>\n",
       "      <td>0.0</td>\n",
       "    </tr>\n",
       "    <tr>\n",
       "      <th>85</th>\n",
       "      <td>2024-08-22 00:00:00+00:00</td>\n",
       "      <td>61168.316406</td>\n",
       "      <td>61408.109375</td>\n",
       "      <td>59815.253906</td>\n",
       "      <td>60381.914062</td>\n",
       "      <td>27625734377</td>\n",
       "      <td>0.0</td>\n",
       "      <td>0.0</td>\n",
       "    </tr>\n",
       "    <tr>\n",
       "      <th>86</th>\n",
       "      <td>2024-08-23 00:00:00+00:00</td>\n",
       "      <td>60380.953125</td>\n",
       "      <td>64947.062500</td>\n",
       "      <td>60372.050781</td>\n",
       "      <td>64094.355469</td>\n",
       "      <td>42530509233</td>\n",
       "      <td>0.0</td>\n",
       "      <td>0.0</td>\n",
       "    </tr>\n",
       "    <tr>\n",
       "      <th>87</th>\n",
       "      <td>2024-08-24 00:00:00+00:00</td>\n",
       "      <td>64103.871094</td>\n",
       "      <td>64513.789062</td>\n",
       "      <td>63619.917969</td>\n",
       "      <td>64178.992188</td>\n",
       "      <td>21430585163</td>\n",
       "      <td>0.0</td>\n",
       "      <td>0.0</td>\n",
       "    </tr>\n",
       "    <tr>\n",
       "      <th>88</th>\n",
       "      <td>2024-08-25 00:00:00+00:00</td>\n",
       "      <td>64176.367188</td>\n",
       "      <td>64996.421875</td>\n",
       "      <td>63833.519531</td>\n",
       "      <td>64333.542969</td>\n",
       "      <td>18827683555</td>\n",
       "      <td>0.0</td>\n",
       "      <td>0.0</td>\n",
       "    </tr>\n",
       "    <tr>\n",
       "      <th>89</th>\n",
       "      <td>2024-08-26 00:00:00+00:00</td>\n",
       "      <td>64342.226562</td>\n",
       "      <td>64489.707031</td>\n",
       "      <td>62849.558594</td>\n",
       "      <td>62880.660156</td>\n",
       "      <td>27682040631</td>\n",
       "      <td>0.0</td>\n",
       "      <td>0.0</td>\n",
       "    </tr>\n",
       "    <tr>\n",
       "      <th>90</th>\n",
       "      <td>2024-08-27 00:00:00+00:00</td>\n",
       "      <td>62879.707031</td>\n",
       "      <td>63210.796875</td>\n",
       "      <td>58116.750000</td>\n",
       "      <td>59504.132812</td>\n",
       "      <td>39103882198</td>\n",
       "      <td>0.0</td>\n",
       "      <td>0.0</td>\n",
       "    </tr>\n",
       "    <tr>\n",
       "      <th>91</th>\n",
       "      <td>2024-08-28 00:00:00+00:00</td>\n",
       "      <td>59507.925781</td>\n",
       "      <td>60236.449219</td>\n",
       "      <td>57890.675781</td>\n",
       "      <td>59027.625000</td>\n",
       "      <td>40289564698</td>\n",
       "      <td>0.0</td>\n",
       "      <td>0.0</td>\n",
       "    </tr>\n",
       "    <tr>\n",
       "      <th>92</th>\n",
       "      <td>2024-08-29 00:00:00+00:00</td>\n",
       "      <td>59027.468750</td>\n",
       "      <td>61184.082031</td>\n",
       "      <td>58786.226562</td>\n",
       "      <td>59388.179688</td>\n",
       "      <td>32224990582</td>\n",
       "      <td>0.0</td>\n",
       "      <td>0.0</td>\n",
       "    </tr>\n",
       "    <tr>\n",
       "      <th>93</th>\n",
       "      <td>2024-08-30 00:00:00+00:00</td>\n",
       "      <td>59388.601562</td>\n",
       "      <td>59896.886719</td>\n",
       "      <td>57768.531250</td>\n",
       "      <td>59119.476562</td>\n",
       "      <td>32292756405</td>\n",
       "      <td>0.0</td>\n",
       "      <td>0.0</td>\n",
       "    </tr>\n",
       "    <tr>\n",
       "      <th>94</th>\n",
       "      <td>2024-08-31 00:00:00+00:00</td>\n",
       "      <td>59117.480469</td>\n",
       "      <td>59432.593750</td>\n",
       "      <td>58768.785156</td>\n",
       "      <td>58969.898438</td>\n",
       "      <td>12403470760</td>\n",
       "      <td>0.0</td>\n",
       "      <td>0.0</td>\n",
       "    </tr>\n",
       "    <tr>\n",
       "      <th>95</th>\n",
       "      <td>2024-09-01 00:00:00+00:00</td>\n",
       "      <td>58969.800781</td>\n",
       "      <td>59062.070312</td>\n",
       "      <td>57217.824219</td>\n",
       "      <td>57325.488281</td>\n",
       "      <td>24592449997</td>\n",
       "      <td>0.0</td>\n",
       "      <td>0.0</td>\n",
       "    </tr>\n",
       "    <tr>\n",
       "      <th>96</th>\n",
       "      <td>2024-09-02 00:00:00+00:00</td>\n",
       "      <td>57326.968750</td>\n",
       "      <td>59403.070312</td>\n",
       "      <td>57136.027344</td>\n",
       "      <td>59112.480469</td>\n",
       "      <td>27036454524</td>\n",
       "      <td>0.0</td>\n",
       "      <td>0.0</td>\n",
       "    </tr>\n",
       "    <tr>\n",
       "      <th>97</th>\n",
       "      <td>2024-09-03 00:00:00+00:00</td>\n",
       "      <td>59106.191406</td>\n",
       "      <td>59815.058594</td>\n",
       "      <td>57425.167969</td>\n",
       "      <td>57431.023438</td>\n",
       "      <td>26666961053</td>\n",
       "      <td>0.0</td>\n",
       "      <td>0.0</td>\n",
       "    </tr>\n",
       "    <tr>\n",
       "      <th>98</th>\n",
       "      <td>2024-09-04 00:00:00+00:00</td>\n",
       "      <td>57430.347656</td>\n",
       "      <td>58511.570312</td>\n",
       "      <td>55673.164062</td>\n",
       "      <td>57971.539062</td>\n",
       "      <td>35627680312</td>\n",
       "      <td>0.0</td>\n",
       "      <td>0.0</td>\n",
       "    </tr>\n",
       "    <tr>\n",
       "      <th>99</th>\n",
       "      <td>2024-09-05 00:00:00+00:00</td>\n",
       "      <td>57971.703125</td>\n",
       "      <td>58300.582031</td>\n",
       "      <td>55712.453125</td>\n",
       "      <td>56160.488281</td>\n",
       "      <td>31030280656</td>\n",
       "      <td>0.0</td>\n",
       "      <td>0.0</td>\n",
       "    </tr>\n",
       "    <tr>\n",
       "      <th>100</th>\n",
       "      <td>2024-09-06 00:00:00+00:00</td>\n",
       "      <td>56160.191406</td>\n",
       "      <td>56976.109375</td>\n",
       "      <td>52598.699219</td>\n",
       "      <td>53948.753906</td>\n",
       "      <td>49361693566</td>\n",
       "      <td>0.0</td>\n",
       "      <td>0.0</td>\n",
       "    </tr>\n",
       "    <tr>\n",
       "      <th>101</th>\n",
       "      <td>2024-09-07 00:00:00+00:00</td>\n",
       "      <td>53949.085938</td>\n",
       "      <td>54838.144531</td>\n",
       "      <td>53740.070312</td>\n",
       "      <td>54139.687500</td>\n",
       "      <td>19061486526</td>\n",
       "      <td>0.0</td>\n",
       "      <td>0.0</td>\n",
       "    </tr>\n",
       "    <tr>\n",
       "      <th>102</th>\n",
       "      <td>2024-09-08 00:00:00+00:00</td>\n",
       "      <td>54147.933594</td>\n",
       "      <td>55300.859375</td>\n",
       "      <td>53653.757812</td>\n",
       "      <td>54841.566406</td>\n",
       "      <td>18268287531</td>\n",
       "      <td>0.0</td>\n",
       "      <td>0.0</td>\n",
       "    </tr>\n",
       "    <tr>\n",
       "      <th>103</th>\n",
       "      <td>2024-09-09 00:00:00+00:00</td>\n",
       "      <td>54851.886719</td>\n",
       "      <td>58041.125000</td>\n",
       "      <td>54598.433594</td>\n",
       "      <td>57019.535156</td>\n",
       "      <td>34618096173</td>\n",
       "      <td>0.0</td>\n",
       "      <td>0.0</td>\n",
       "    </tr>\n",
       "    <tr>\n",
       "      <th>104</th>\n",
       "      <td>2024-09-10 00:00:00+00:00</td>\n",
       "      <td>57020.097656</td>\n",
       "      <td>58029.976562</td>\n",
       "      <td>56419.414062</td>\n",
       "      <td>57648.710938</td>\n",
       "      <td>28857630507</td>\n",
       "      <td>0.0</td>\n",
       "      <td>0.0</td>\n",
       "    </tr>\n",
       "    <tr>\n",
       "      <th>105</th>\n",
       "      <td>2024-09-11 00:00:00+00:00</td>\n",
       "      <td>57650.289062</td>\n",
       "      <td>57991.320312</td>\n",
       "      <td>55567.339844</td>\n",
       "      <td>57343.171875</td>\n",
       "      <td>37049062672</td>\n",
       "      <td>0.0</td>\n",
       "      <td>0.0</td>\n",
       "    </tr>\n",
       "    <tr>\n",
       "      <th>106</th>\n",
       "      <td>2024-09-12 00:00:00+00:00</td>\n",
       "      <td>57343.171875</td>\n",
       "      <td>58534.359375</td>\n",
       "      <td>57330.101562</td>\n",
       "      <td>58127.011719</td>\n",
       "      <td>33835707949</td>\n",
       "      <td>0.0</td>\n",
       "      <td>0.0</td>\n",
       "    </tr>\n",
       "    <tr>\n",
       "      <th>107</th>\n",
       "      <td>2024-09-13 00:00:00+00:00</td>\n",
       "      <td>58130.324219</td>\n",
       "      <td>60648.023438</td>\n",
       "      <td>57650.113281</td>\n",
       "      <td>60571.300781</td>\n",
       "      <td>32490528356</td>\n",
       "      <td>0.0</td>\n",
       "      <td>0.0</td>\n",
       "    </tr>\n",
       "    <tr>\n",
       "      <th>108</th>\n",
       "      <td>2024-09-14 00:00:00+00:00</td>\n",
       "      <td>60569.117188</td>\n",
       "      <td>60656.722656</td>\n",
       "      <td>59517.882812</td>\n",
       "      <td>60005.121094</td>\n",
       "      <td>16428405496</td>\n",
       "      <td>0.0</td>\n",
       "      <td>0.0</td>\n",
       "    </tr>\n",
       "    <tr>\n",
       "      <th>109</th>\n",
       "      <td>2024-09-15 00:00:00+00:00</td>\n",
       "      <td>60000.726562</td>\n",
       "      <td>60381.917969</td>\n",
       "      <td>58696.308594</td>\n",
       "      <td>59182.835938</td>\n",
       "      <td>18120960867</td>\n",
       "      <td>0.0</td>\n",
       "      <td>0.0</td>\n",
       "    </tr>\n",
       "    <tr>\n",
       "      <th>110</th>\n",
       "      <td>2024-09-16 00:00:00+00:00</td>\n",
       "      <td>59185.226562</td>\n",
       "      <td>59205.511719</td>\n",
       "      <td>57501.339844</td>\n",
       "      <td>58192.507812</td>\n",
       "      <td>32032822113</td>\n",
       "      <td>0.0</td>\n",
       "      <td>0.0</td>\n",
       "    </tr>\n",
       "    <tr>\n",
       "      <th>111</th>\n",
       "      <td>2024-09-17 00:00:00+00:00</td>\n",
       "      <td>58192.507812</td>\n",
       "      <td>61316.089844</td>\n",
       "      <td>57628.070312</td>\n",
       "      <td>60308.539062</td>\n",
       "      <td>38075570118</td>\n",
       "      <td>0.0</td>\n",
       "      <td>0.0</td>\n",
       "    </tr>\n",
       "    <tr>\n",
       "      <th>112</th>\n",
       "      <td>2024-09-18 00:00:00+00:00</td>\n",
       "      <td>60309.000000</td>\n",
       "      <td>61664.066406</td>\n",
       "      <td>59218.253906</td>\n",
       "      <td>61649.679688</td>\n",
       "      <td>40990702891</td>\n",
       "      <td>0.0</td>\n",
       "      <td>0.0</td>\n",
       "    </tr>\n",
       "    <tr>\n",
       "      <th>113</th>\n",
       "      <td>2024-09-19 00:00:00+00:00</td>\n",
       "      <td>61651.156250</td>\n",
       "      <td>63872.441406</td>\n",
       "      <td>61609.867188</td>\n",
       "      <td>62940.457031</td>\n",
       "      <td>42710252573</td>\n",
       "      <td>0.0</td>\n",
       "      <td>0.0</td>\n",
       "    </tr>\n",
       "    <tr>\n",
       "      <th>114</th>\n",
       "      <td>2024-09-20 00:00:00+00:00</td>\n",
       "      <td>62941.425781</td>\n",
       "      <td>64119.531250</td>\n",
       "      <td>62364.605469</td>\n",
       "      <td>63192.976562</td>\n",
       "      <td>35177164222</td>\n",
       "      <td>0.0</td>\n",
       "      <td>0.0</td>\n",
       "    </tr>\n",
       "    <tr>\n",
       "      <th>115</th>\n",
       "      <td>2024-09-21 00:00:00+00:00</td>\n",
       "      <td>63184.339844</td>\n",
       "      <td>63543.359375</td>\n",
       "      <td>62783.105469</td>\n",
       "      <td>63394.839844</td>\n",
       "      <td>14408616220</td>\n",
       "      <td>0.0</td>\n",
       "      <td>0.0</td>\n",
       "    </tr>\n",
       "    <tr>\n",
       "      <th>116</th>\n",
       "      <td>2024-09-22 00:00:00+00:00</td>\n",
       "      <td>63396.804688</td>\n",
       "      <td>63993.421875</td>\n",
       "      <td>62440.726562</td>\n",
       "      <td>63648.710938</td>\n",
       "      <td>20183348802</td>\n",
       "      <td>0.0</td>\n",
       "      <td>0.0</td>\n",
       "    </tr>\n",
       "    <tr>\n",
       "      <th>117</th>\n",
       "      <td>2024-09-23 00:00:00+00:00</td>\n",
       "      <td>63643.101562</td>\n",
       "      <td>64733.558594</td>\n",
       "      <td>62628.078125</td>\n",
       "      <td>63329.800781</td>\n",
       "      <td>31400285425</td>\n",
       "      <td>0.0</td>\n",
       "      <td>0.0</td>\n",
       "    </tr>\n",
       "    <tr>\n",
       "      <th>118</th>\n",
       "      <td>2024-09-24 00:00:00+00:00</td>\n",
       "      <td>63326.839844</td>\n",
       "      <td>64695.214844</td>\n",
       "      <td>62737.417969</td>\n",
       "      <td>64301.968750</td>\n",
       "      <td>29938335243</td>\n",
       "      <td>0.0</td>\n",
       "      <td>0.0</td>\n",
       "    </tr>\n",
       "    <tr>\n",
       "      <th>119</th>\n",
       "      <td>2024-09-25 00:00:00+00:00</td>\n",
       "      <td>64302.589844</td>\n",
       "      <td>64804.503906</td>\n",
       "      <td>62945.375000</td>\n",
       "      <td>63143.144531</td>\n",
       "      <td>25078377700</td>\n",
       "      <td>0.0</td>\n",
       "      <td>0.0</td>\n",
       "    </tr>\n",
       "    <tr>\n",
       "      <th>120</th>\n",
       "      <td>2024-09-26 00:00:00+00:00</td>\n",
       "      <td>63138.546875</td>\n",
       "      <td>65790.796875</td>\n",
       "      <td>62669.269531</td>\n",
       "      <td>65181.019531</td>\n",
       "      <td>36873129847</td>\n",
       "      <td>0.0</td>\n",
       "      <td>0.0</td>\n",
       "    </tr>\n",
       "    <tr>\n",
       "      <th>121</th>\n",
       "      <td>2024-09-27 00:00:00+00:00</td>\n",
       "      <td>65180.664062</td>\n",
       "      <td>66480.695312</td>\n",
       "      <td>64852.992188</td>\n",
       "      <td>65790.664062</td>\n",
       "      <td>32058813449</td>\n",
       "      <td>0.0</td>\n",
       "      <td>0.0</td>\n",
       "    </tr>\n",
       "    <tr>\n",
       "      <th>122</th>\n",
       "      <td>2024-09-28 00:00:00+00:00</td>\n",
       "      <td>65792.179688</td>\n",
       "      <td>66255.531250</td>\n",
       "      <td>65458.035156</td>\n",
       "      <td>65887.648438</td>\n",
       "      <td>15243637984</td>\n",
       "      <td>0.0</td>\n",
       "      <td>0.0</td>\n",
       "    </tr>\n",
       "    <tr>\n",
       "      <th>123</th>\n",
       "      <td>2024-09-29 00:00:00+00:00</td>\n",
       "      <td>65888.898438</td>\n",
       "      <td>66069.343750</td>\n",
       "      <td>65450.015625</td>\n",
       "      <td>65635.304688</td>\n",
       "      <td>14788214575</td>\n",
       "      <td>0.0</td>\n",
       "      <td>0.0</td>\n",
       "    </tr>\n",
       "    <tr>\n",
       "      <th>124</th>\n",
       "      <td>2024-09-30 00:00:00+00:00</td>\n",
       "      <td>65634.656250</td>\n",
       "      <td>65635.054688</td>\n",
       "      <td>62873.617188</td>\n",
       "      <td>63329.500000</td>\n",
       "      <td>37112957475</td>\n",
       "      <td>0.0</td>\n",
       "      <td>0.0</td>\n",
       "    </tr>\n",
       "    <tr>\n",
       "      <th>125</th>\n",
       "      <td>2024-10-01 00:00:00+00:00</td>\n",
       "      <td>63335.605469</td>\n",
       "      <td>64110.980469</td>\n",
       "      <td>60189.277344</td>\n",
       "      <td>60837.007812</td>\n",
       "      <td>50220923500</td>\n",
       "      <td>0.0</td>\n",
       "      <td>0.0</td>\n",
       "    </tr>\n",
       "    <tr>\n",
       "      <th>126</th>\n",
       "      <td>2024-10-02 00:00:00+00:00</td>\n",
       "      <td>60836.324219</td>\n",
       "      <td>62357.687500</td>\n",
       "      <td>59996.949219</td>\n",
       "      <td>60632.785156</td>\n",
       "      <td>40762722398</td>\n",
       "      <td>0.0</td>\n",
       "      <td>0.0</td>\n",
       "    </tr>\n",
       "    <tr>\n",
       "      <th>127</th>\n",
       "      <td>2024-10-03 00:00:00+00:00</td>\n",
       "      <td>60632.484375</td>\n",
       "      <td>61469.039062</td>\n",
       "      <td>59878.804688</td>\n",
       "      <td>60759.402344</td>\n",
       "      <td>36106447279</td>\n",
       "      <td>0.0</td>\n",
       "      <td>0.0</td>\n",
       "    </tr>\n",
       "    <tr>\n",
       "      <th>128</th>\n",
       "      <td>2024-10-04 00:00:00+00:00</td>\n",
       "      <td>60754.625000</td>\n",
       "      <td>62465.992188</td>\n",
       "      <td>60459.941406</td>\n",
       "      <td>62067.476562</td>\n",
       "      <td>29585472513</td>\n",
       "      <td>0.0</td>\n",
       "      <td>0.0</td>\n",
       "    </tr>\n",
       "    <tr>\n",
       "      <th>129</th>\n",
       "      <td>2024-10-05 00:00:00+00:00</td>\n",
       "      <td>62067.609375</td>\n",
       "      <td>62371.023438</td>\n",
       "      <td>61689.582031</td>\n",
       "      <td>62089.949219</td>\n",
       "      <td>13305410749</td>\n",
       "      <td>0.0</td>\n",
       "      <td>0.0</td>\n",
       "    </tr>\n",
       "    <tr>\n",
       "      <th>130</th>\n",
       "      <td>2024-10-06 00:00:00+00:00</td>\n",
       "      <td>62084.988281</td>\n",
       "      <td>62959.570312</td>\n",
       "      <td>61833.148438</td>\n",
       "      <td>62818.953125</td>\n",
       "      <td>14776233667</td>\n",
       "      <td>0.0</td>\n",
       "      <td>0.0</td>\n",
       "    </tr>\n",
       "    <tr>\n",
       "      <th>131</th>\n",
       "      <td>2024-10-07 00:00:00+00:00</td>\n",
       "      <td>62819.109375</td>\n",
       "      <td>64443.707031</td>\n",
       "      <td>62152.550781</td>\n",
       "      <td>62236.660156</td>\n",
       "      <td>34253562610</td>\n",
       "      <td>0.0</td>\n",
       "      <td>0.0</td>\n",
       "    </tr>\n",
       "    <tr>\n",
       "      <th>132</th>\n",
       "      <td>2024-10-08 00:00:00+00:00</td>\n",
       "      <td>62221.644531</td>\n",
       "      <td>63174.304688</td>\n",
       "      <td>61843.562500</td>\n",
       "      <td>62131.968750</td>\n",
       "      <td>28134475157</td>\n",
       "      <td>0.0</td>\n",
       "      <td>0.0</td>\n",
       "    </tr>\n",
       "    <tr>\n",
       "      <th>133</th>\n",
       "      <td>2024-10-09 00:00:00+00:00</td>\n",
       "      <td>62131.726562</td>\n",
       "      <td>62508.835938</td>\n",
       "      <td>60314.613281</td>\n",
       "      <td>60582.101562</td>\n",
       "      <td>27670982363</td>\n",
       "      <td>0.0</td>\n",
       "      <td>0.0</td>\n",
       "    </tr>\n",
       "    <tr>\n",
       "      <th>134</th>\n",
       "      <td>2024-10-10 00:00:00+00:00</td>\n",
       "      <td>60581.929688</td>\n",
       "      <td>61236.722656</td>\n",
       "      <td>58895.207031</td>\n",
       "      <td>60274.500000</td>\n",
       "      <td>30452813570</td>\n",
       "      <td>0.0</td>\n",
       "      <td>0.0</td>\n",
       "    </tr>\n",
       "    <tr>\n",
       "      <th>135</th>\n",
       "      <td>2024-10-11 00:00:00+00:00</td>\n",
       "      <td>60275.460938</td>\n",
       "      <td>63400.871094</td>\n",
       "      <td>60046.125000</td>\n",
       "      <td>62445.089844</td>\n",
       "      <td>30327141594</td>\n",
       "      <td>0.0</td>\n",
       "      <td>0.0</td>\n",
       "    </tr>\n",
       "    <tr>\n",
       "      <th>136</th>\n",
       "      <td>2024-10-12 00:00:00+00:00</td>\n",
       "      <td>62444.617188</td>\n",
       "      <td>63448.785156</td>\n",
       "      <td>62443.269531</td>\n",
       "      <td>63193.023438</td>\n",
       "      <td>16744110886</td>\n",
       "      <td>0.0</td>\n",
       "      <td>0.0</td>\n",
       "    </tr>\n",
       "    <tr>\n",
       "      <th>137</th>\n",
       "      <td>2024-10-13 00:00:00+00:00</td>\n",
       "      <td>63192.945312</td>\n",
       "      <td>63272.652344</td>\n",
       "      <td>62035.636719</td>\n",
       "      <td>62851.375000</td>\n",
       "      <td>18177529690</td>\n",
       "      <td>0.0</td>\n",
       "      <td>0.0</td>\n",
       "    </tr>\n",
       "    <tr>\n",
       "      <th>138</th>\n",
       "      <td>2024-10-14 00:00:00+00:00</td>\n",
       "      <td>62848.398438</td>\n",
       "      <td>66482.492188</td>\n",
       "      <td>62442.152344</td>\n",
       "      <td>66046.125000</td>\n",
       "      <td>43706958056</td>\n",
       "      <td>0.0</td>\n",
       "      <td>0.0</td>\n",
       "    </tr>\n",
       "    <tr>\n",
       "      <th>139</th>\n",
       "      <td>2024-10-15 00:00:00+00:00</td>\n",
       "      <td>66050.367188</td>\n",
       "      <td>67881.679688</td>\n",
       "      <td>64809.195312</td>\n",
       "      <td>67041.109375</td>\n",
       "      <td>48863870879</td>\n",
       "      <td>0.0</td>\n",
       "      <td>0.0</td>\n",
       "    </tr>\n",
       "    <tr>\n",
       "      <th>140</th>\n",
       "      <td>2024-10-16 00:00:00+00:00</td>\n",
       "      <td>67042.460938</td>\n",
       "      <td>68375.289062</td>\n",
       "      <td>66758.726562</td>\n",
       "      <td>67612.718750</td>\n",
       "      <td>38195189534</td>\n",
       "      <td>0.0</td>\n",
       "      <td>0.0</td>\n",
       "    </tr>\n",
       "    <tr>\n",
       "      <th>141</th>\n",
       "      <td>2024-10-17 00:00:00+00:00</td>\n",
       "      <td>67617.078125</td>\n",
       "      <td>67912.210938</td>\n",
       "      <td>66647.390625</td>\n",
       "      <td>67399.835938</td>\n",
       "      <td>32790898511</td>\n",
       "      <td>0.0</td>\n",
       "      <td>0.0</td>\n",
       "    </tr>\n",
       "    <tr>\n",
       "      <th>142</th>\n",
       "      <td>2024-10-18 00:00:00+00:00</td>\n",
       "      <td>67419.109375</td>\n",
       "      <td>68969.750000</td>\n",
       "      <td>67177.820312</td>\n",
       "      <td>68418.789062</td>\n",
       "      <td>36857165014</td>\n",
       "      <td>0.0</td>\n",
       "      <td>0.0</td>\n",
       "    </tr>\n",
       "    <tr>\n",
       "      <th>143</th>\n",
       "      <td>2024-10-19 00:00:00+00:00</td>\n",
       "      <td>68418.976562</td>\n",
       "      <td>68668.007812</td>\n",
       "      <td>68024.640625</td>\n",
       "      <td>68362.734375</td>\n",
       "      <td>14443497908</td>\n",
       "      <td>0.0</td>\n",
       "      <td>0.0</td>\n",
       "    </tr>\n",
       "    <tr>\n",
       "      <th>144</th>\n",
       "      <td>2024-10-20 00:00:00+00:00</td>\n",
       "      <td>68364.179688</td>\n",
       "      <td>69359.007812</td>\n",
       "      <td>68105.718750</td>\n",
       "      <td>69001.703125</td>\n",
       "      <td>18975847518</td>\n",
       "      <td>0.0</td>\n",
       "      <td>0.0</td>\n",
       "    </tr>\n",
       "    <tr>\n",
       "      <th>145</th>\n",
       "      <td>2024-10-21 00:00:00+00:00</td>\n",
       "      <td>69002.000000</td>\n",
       "      <td>69462.734375</td>\n",
       "      <td>66829.851562</td>\n",
       "      <td>67367.851562</td>\n",
       "      <td>37498611780</td>\n",
       "      <td>0.0</td>\n",
       "      <td>0.0</td>\n",
       "    </tr>\n",
       "    <tr>\n",
       "      <th>146</th>\n",
       "      <td>2024-10-22 00:00:00+00:00</td>\n",
       "      <td>67360.703125</td>\n",
       "      <td>67801.578125</td>\n",
       "      <td>66581.367188</td>\n",
       "      <td>67361.406250</td>\n",
       "      <td>31808472566</td>\n",
       "      <td>0.0</td>\n",
       "      <td>0.0</td>\n",
       "    </tr>\n",
       "    <tr>\n",
       "      <th>147</th>\n",
       "      <td>2024-10-23 00:00:00+00:00</td>\n",
       "      <td>67362.375000</td>\n",
       "      <td>67402.742188</td>\n",
       "      <td>65188.035156</td>\n",
       "      <td>66432.195312</td>\n",
       "      <td>32263980353</td>\n",
       "      <td>0.0</td>\n",
       "      <td>0.0</td>\n",
       "    </tr>\n",
       "    <tr>\n",
       "      <th>148</th>\n",
       "      <td>2024-10-24 00:00:00+00:00</td>\n",
       "      <td>66653.703125</td>\n",
       "      <td>68798.960938</td>\n",
       "      <td>66454.101562</td>\n",
       "      <td>68161.054688</td>\n",
       "      <td>31414428647</td>\n",
       "      <td>0.0</td>\n",
       "      <td>0.0</td>\n",
       "    </tr>\n",
       "    <tr>\n",
       "      <th>149</th>\n",
       "      <td>2024-10-25 00:00:00+00:00</td>\n",
       "      <td>68165.296875</td>\n",
       "      <td>68722.156250</td>\n",
       "      <td>65521.792969</td>\n",
       "      <td>66642.414062</td>\n",
       "      <td>41469984306</td>\n",
       "      <td>0.0</td>\n",
       "      <td>0.0</td>\n",
       "    </tr>\n",
       "    <tr>\n",
       "      <th>150</th>\n",
       "      <td>2024-10-26 00:00:00+00:00</td>\n",
       "      <td>66628.734375</td>\n",
       "      <td>67317.921875</td>\n",
       "      <td>66360.593750</td>\n",
       "      <td>67014.695312</td>\n",
       "      <td>19588098156</td>\n",
       "      <td>0.0</td>\n",
       "      <td>0.0</td>\n",
       "    </tr>\n",
       "    <tr>\n",
       "      <th>151</th>\n",
       "      <td>2024-10-27 00:00:00+00:00</td>\n",
       "      <td>67023.476562</td>\n",
       "      <td>68221.312500</td>\n",
       "      <td>66847.226562</td>\n",
       "      <td>67929.296875</td>\n",
       "      <td>16721307878</td>\n",
       "      <td>0.0</td>\n",
       "      <td>0.0</td>\n",
       "    </tr>\n",
       "    <tr>\n",
       "      <th>152</th>\n",
       "      <td>2024-10-28 00:00:00+00:00</td>\n",
       "      <td>67922.671875</td>\n",
       "      <td>70212.265625</td>\n",
       "      <td>67535.132812</td>\n",
       "      <td>69907.757812</td>\n",
       "      <td>38799856657</td>\n",
       "      <td>0.0</td>\n",
       "      <td>0.0</td>\n",
       "    </tr>\n",
       "    <tr>\n",
       "      <th>153</th>\n",
       "      <td>2024-10-29 00:00:00+00:00</td>\n",
       "      <td>69910.046875</td>\n",
       "      <td>73577.210938</td>\n",
       "      <td>69729.914062</td>\n",
       "      <td>72720.492188</td>\n",
       "      <td>58541874402</td>\n",
       "      <td>0.0</td>\n",
       "      <td>0.0</td>\n",
       "    </tr>\n",
       "    <tr>\n",
       "      <th>154</th>\n",
       "      <td>2024-10-30 00:00:00+00:00</td>\n",
       "      <td>72715.367188</td>\n",
       "      <td>72905.296875</td>\n",
       "      <td>71411.734375</td>\n",
       "      <td>72339.539062</td>\n",
       "      <td>40646637831</td>\n",
       "      <td>0.0</td>\n",
       "      <td>0.0</td>\n",
       "    </tr>\n",
       "    <tr>\n",
       "      <th>155</th>\n",
       "      <td>2024-10-31 00:00:00+00:00</td>\n",
       "      <td>72335.046875</td>\n",
       "      <td>72662.312500</td>\n",
       "      <td>69590.500000</td>\n",
       "      <td>70215.187500</td>\n",
       "      <td>40627912076</td>\n",
       "      <td>0.0</td>\n",
       "      <td>0.0</td>\n",
       "    </tr>\n",
       "    <tr>\n",
       "      <th>156</th>\n",
       "      <td>2024-11-01 00:00:00+00:00</td>\n",
       "      <td>70216.898438</td>\n",
       "      <td>71559.015625</td>\n",
       "      <td>68779.703125</td>\n",
       "      <td>69482.468750</td>\n",
       "      <td>49989795365</td>\n",
       "      <td>0.0</td>\n",
       "      <td>0.0</td>\n",
       "    </tr>\n",
       "    <tr>\n",
       "      <th>157</th>\n",
       "      <td>2024-11-02 00:00:00+00:00</td>\n",
       "      <td>69486.023438</td>\n",
       "      <td>69867.351562</td>\n",
       "      <td>69033.718750</td>\n",
       "      <td>69289.273438</td>\n",
       "      <td>18184612091</td>\n",
       "      <td>0.0</td>\n",
       "      <td>0.0</td>\n",
       "    </tr>\n",
       "    <tr>\n",
       "      <th>158</th>\n",
       "      <td>2024-11-03 00:00:00+00:00</td>\n",
       "      <td>69296.382812</td>\n",
       "      <td>69361.656250</td>\n",
       "      <td>67482.523438</td>\n",
       "      <td>68741.117188</td>\n",
       "      <td>34868307655</td>\n",
       "      <td>0.0</td>\n",
       "      <td>0.0</td>\n",
       "    </tr>\n",
       "    <tr>\n",
       "      <th>159</th>\n",
       "      <td>2024-11-04 00:00:00+00:00</td>\n",
       "      <td>68742.132812</td>\n",
       "      <td>69433.179688</td>\n",
       "      <td>66803.648438</td>\n",
       "      <td>67811.507812</td>\n",
       "      <td>41184819348</td>\n",
       "      <td>0.0</td>\n",
       "      <td>0.0</td>\n",
       "    </tr>\n",
       "    <tr>\n",
       "      <th>160</th>\n",
       "      <td>2024-11-05 00:00:00+00:00</td>\n",
       "      <td>67811.171875</td>\n",
       "      <td>70522.789062</td>\n",
       "      <td>67458.867188</td>\n",
       "      <td>69359.562500</td>\n",
       "      <td>46046889204</td>\n",
       "      <td>0.0</td>\n",
       "      <td>0.0</td>\n",
       "    </tr>\n",
       "    <tr>\n",
       "      <th>161</th>\n",
       "      <td>2024-11-06 00:00:00+00:00</td>\n",
       "      <td>69358.500000</td>\n",
       "      <td>76460.156250</td>\n",
       "      <td>69322.031250</td>\n",
       "      <td>75639.078125</td>\n",
       "      <td>118592653963</td>\n",
       "      <td>0.0</td>\n",
       "      <td>0.0</td>\n",
       "    </tr>\n",
       "    <tr>\n",
       "      <th>162</th>\n",
       "      <td>2024-11-07 00:00:00+00:00</td>\n",
       "      <td>75637.085938</td>\n",
       "      <td>76943.117188</td>\n",
       "      <td>74480.421875</td>\n",
       "      <td>75904.859375</td>\n",
       "      <td>63467654989</td>\n",
       "      <td>0.0</td>\n",
       "      <td>0.0</td>\n",
       "    </tr>\n",
       "    <tr>\n",
       "      <th>163</th>\n",
       "      <td>2024-11-08 00:00:00+00:00</td>\n",
       "      <td>75902.835938</td>\n",
       "      <td>77252.750000</td>\n",
       "      <td>75648.742188</td>\n",
       "      <td>76545.476562</td>\n",
       "      <td>55176858003</td>\n",
       "      <td>0.0</td>\n",
       "      <td>0.0</td>\n",
       "    </tr>\n",
       "    <tr>\n",
       "      <th>164</th>\n",
       "      <td>2024-11-09 00:00:00+00:00</td>\n",
       "      <td>76556.187500</td>\n",
       "      <td>76932.765625</td>\n",
       "      <td>75773.789062</td>\n",
       "      <td>76778.867188</td>\n",
       "      <td>29009480361</td>\n",
       "      <td>0.0</td>\n",
       "      <td>0.0</td>\n",
       "    </tr>\n",
       "    <tr>\n",
       "      <th>165</th>\n",
       "      <td>2024-11-10 00:00:00+00:00</td>\n",
       "      <td>76775.546875</td>\n",
       "      <td>81474.421875</td>\n",
       "      <td>76565.429688</td>\n",
       "      <td>80474.187500</td>\n",
       "      <td>82570594495</td>\n",
       "      <td>0.0</td>\n",
       "      <td>0.0</td>\n",
       "    </tr>\n",
       "    <tr>\n",
       "      <th>166</th>\n",
       "      <td>2024-11-11 00:00:00+00:00</td>\n",
       "      <td>80471.414062</td>\n",
       "      <td>89604.500000</td>\n",
       "      <td>80283.250000</td>\n",
       "      <td>88701.484375</td>\n",
       "      <td>117966845037</td>\n",
       "      <td>0.0</td>\n",
       "      <td>0.0</td>\n",
       "    </tr>\n",
       "    <tr>\n",
       "      <th>167</th>\n",
       "      <td>2024-11-12 00:00:00+00:00</td>\n",
       "      <td>88705.562500</td>\n",
       "      <td>89956.882812</td>\n",
       "      <td>85155.109375</td>\n",
       "      <td>87955.812500</td>\n",
       "      <td>133673285375</td>\n",
       "      <td>0.0</td>\n",
       "      <td>0.0</td>\n",
       "    </tr>\n",
       "    <tr>\n",
       "      <th>168</th>\n",
       "      <td>2024-11-13 00:00:00+00:00</td>\n",
       "      <td>87929.968750</td>\n",
       "      <td>93434.351562</td>\n",
       "      <td>86256.929688</td>\n",
       "      <td>90584.164062</td>\n",
       "      <td>123559027869</td>\n",
       "      <td>0.0</td>\n",
       "      <td>0.0</td>\n",
       "    </tr>\n",
       "    <tr>\n",
       "      <th>169</th>\n",
       "      <td>2024-11-14 00:00:00+00:00</td>\n",
       "      <td>90574.882812</td>\n",
       "      <td>91765.218750</td>\n",
       "      <td>86682.812500</td>\n",
       "      <td>87250.429688</td>\n",
       "      <td>87616705248</td>\n",
       "      <td>0.0</td>\n",
       "      <td>0.0</td>\n",
       "    </tr>\n",
       "    <tr>\n",
       "      <th>170</th>\n",
       "      <td>2024-11-15 00:00:00+00:00</td>\n",
       "      <td>87284.179688</td>\n",
       "      <td>91868.742188</td>\n",
       "      <td>87124.898438</td>\n",
       "      <td>91066.007812</td>\n",
       "      <td>78243109518</td>\n",
       "      <td>0.0</td>\n",
       "      <td>0.0</td>\n",
       "    </tr>\n",
       "    <tr>\n",
       "      <th>171</th>\n",
       "      <td>2024-11-16 00:00:00+00:00</td>\n",
       "      <td>91064.367188</td>\n",
       "      <td>91763.945312</td>\n",
       "      <td>90094.226562</td>\n",
       "      <td>90558.476562</td>\n",
       "      <td>44333192814</td>\n",
       "      <td>0.0</td>\n",
       "      <td>0.0</td>\n",
       "    </tr>\n",
       "    <tr>\n",
       "      <th>172</th>\n",
       "      <td>2024-11-17 00:00:00+00:00</td>\n",
       "      <td>90558.460938</td>\n",
       "      <td>91433.039062</td>\n",
       "      <td>88741.664062</td>\n",
       "      <td>89845.851562</td>\n",
       "      <td>46350159305</td>\n",
       "      <td>0.0</td>\n",
       "      <td>0.0</td>\n",
       "    </tr>\n",
       "    <tr>\n",
       "      <th>173</th>\n",
       "      <td>2024-11-18 00:00:00+00:00</td>\n",
       "      <td>89843.718750</td>\n",
       "      <td>92596.789062</td>\n",
       "      <td>89393.593750</td>\n",
       "      <td>90542.640625</td>\n",
       "      <td>75535775084</td>\n",
       "      <td>0.0</td>\n",
       "      <td>0.0</td>\n",
       "    </tr>\n",
       "    <tr>\n",
       "      <th>174</th>\n",
       "      <td>2024-11-19 00:00:00+00:00</td>\n",
       "      <td>90536.812500</td>\n",
       "      <td>94002.867188</td>\n",
       "      <td>90426.984375</td>\n",
       "      <td>92343.789062</td>\n",
       "      <td>74521048295</td>\n",
       "      <td>0.0</td>\n",
       "      <td>0.0</td>\n",
       "    </tr>\n",
       "    <tr>\n",
       "      <th>175</th>\n",
       "      <td>2024-11-20 00:00:00+00:00</td>\n",
       "      <td>92341.890625</td>\n",
       "      <td>94902.023438</td>\n",
       "      <td>91619.500000</td>\n",
       "      <td>94339.492188</td>\n",
       "      <td>71730956426</td>\n",
       "      <td>0.0</td>\n",
       "      <td>0.0</td>\n",
       "    </tr>\n",
       "    <tr>\n",
       "      <th>176</th>\n",
       "      <td>2024-11-21 00:00:00+00:00</td>\n",
       "      <td>94334.640625</td>\n",
       "      <td>99014.218750</td>\n",
       "      <td>94132.601562</td>\n",
       "      <td>98504.726562</td>\n",
       "      <td>106024505582</td>\n",
       "      <td>0.0</td>\n",
       "      <td>0.0</td>\n",
       "    </tr>\n",
       "    <tr>\n",
       "      <th>177</th>\n",
       "      <td>2024-11-22 00:00:00+00:00</td>\n",
       "      <td>98496.429688</td>\n",
       "      <td>99655.500000</td>\n",
       "      <td>97222.664062</td>\n",
       "      <td>98997.664062</td>\n",
       "      <td>78473580551</td>\n",
       "      <td>0.0</td>\n",
       "      <td>0.0</td>\n",
       "    </tr>\n",
       "    <tr>\n",
       "      <th>178</th>\n",
       "      <td>2024-11-23 00:00:00+00:00</td>\n",
       "      <td>99006.742188</td>\n",
       "      <td>99014.679688</td>\n",
       "      <td>97232.890625</td>\n",
       "      <td>97777.281250</td>\n",
       "      <td>44414644677</td>\n",
       "      <td>0.0</td>\n",
       "      <td>0.0</td>\n",
       "    </tr>\n",
       "    <tr>\n",
       "      <th>179</th>\n",
       "      <td>2024-11-24 00:00:00+00:00</td>\n",
       "      <td>97778.093750</td>\n",
       "      <td>98647.179688</td>\n",
       "      <td>95788.078125</td>\n",
       "      <td>98013.820312</td>\n",
       "      <td>51712020623</td>\n",
       "      <td>0.0</td>\n",
       "      <td>0.0</td>\n",
       "    </tr>\n",
       "    <tr>\n",
       "      <th>180</th>\n",
       "      <td>2024-11-25 00:00:00+00:00</td>\n",
       "      <td>98033.445312</td>\n",
       "      <td>98935.031250</td>\n",
       "      <td>92642.914062</td>\n",
       "      <td>93102.296875</td>\n",
       "      <td>80909462490</td>\n",
       "      <td>0.0</td>\n",
       "      <td>0.0</td>\n",
       "    </tr>\n",
       "    <tr>\n",
       "      <th>181</th>\n",
       "      <td>2024-11-26 00:00:00+00:00</td>\n",
       "      <td>93087.281250</td>\n",
       "      <td>94991.750000</td>\n",
       "      <td>90770.812500</td>\n",
       "      <td>91985.320312</td>\n",
       "      <td>91656519855</td>\n",
       "      <td>0.0</td>\n",
       "      <td>0.0</td>\n",
       "    </tr>\n",
       "    <tr>\n",
       "      <th>182</th>\n",
       "      <td>2024-11-27 00:00:00+00:00</td>\n",
       "      <td>91978.140625</td>\n",
       "      <td>97361.179688</td>\n",
       "      <td>91778.664062</td>\n",
       "      <td>95962.531250</td>\n",
       "      <td>71133452438</td>\n",
       "      <td>0.0</td>\n",
       "      <td>0.0</td>\n",
       "    </tr>\n",
       "    <tr>\n",
       "      <th>183</th>\n",
       "      <td>2024-11-28 00:00:00+00:00</td>\n",
       "      <td>95954.945312</td>\n",
       "      <td>96650.203125</td>\n",
       "      <td>94677.351562</td>\n",
       "      <td>95652.468750</td>\n",
       "      <td>52260008261</td>\n",
       "      <td>0.0</td>\n",
       "      <td>0.0</td>\n",
       "    </tr>\n",
       "    <tr>\n",
       "      <th>184</th>\n",
       "      <td>2024-11-29 00:00:00+00:00</td>\n",
       "      <td>95653.953125</td>\n",
       "      <td>98693.171875</td>\n",
       "      <td>95407.882812</td>\n",
       "      <td>97461.523438</td>\n",
       "      <td>54968682476</td>\n",
       "      <td>0.0</td>\n",
       "      <td>0.0</td>\n",
       "    </tr>\n",
       "    <tr>\n",
       "      <th>185</th>\n",
       "      <td>2024-11-30 00:00:00+00:00</td>\n",
       "      <td>97468.812500</td>\n",
       "      <td>97499.343750</td>\n",
       "      <td>96144.218750</td>\n",
       "      <td>96449.054688</td>\n",
       "      <td>31634227866</td>\n",
       "      <td>0.0</td>\n",
       "      <td>0.0</td>\n",
       "    </tr>\n",
       "    <tr>\n",
       "      <th>186</th>\n",
       "      <td>2024-12-01 00:00:00+00:00</td>\n",
       "      <td>96461.335938</td>\n",
       "      <td>97888.125000</td>\n",
       "      <td>95770.187500</td>\n",
       "      <td>97279.789062</td>\n",
       "      <td>36590695296</td>\n",
       "      <td>0.0</td>\n",
       "      <td>0.0</td>\n",
       "    </tr>\n",
       "    <tr>\n",
       "      <th>187</th>\n",
       "      <td>2024-12-02 00:00:00+00:00</td>\n",
       "      <td>97276.007812</td>\n",
       "      <td>98152.601562</td>\n",
       "      <td>94482.867188</td>\n",
       "      <td>95865.304688</td>\n",
       "      <td>72680784305</td>\n",
       "      <td>0.0</td>\n",
       "      <td>0.0</td>\n",
       "    </tr>\n",
       "    <tr>\n",
       "      <th>188</th>\n",
       "      <td>2024-12-03 00:00:00+00:00</td>\n",
       "      <td>95854.593750</td>\n",
       "      <td>96297.203125</td>\n",
       "      <td>93629.562500</td>\n",
       "      <td>96002.164062</td>\n",
       "      <td>67067810961</td>\n",
       "      <td>0.0</td>\n",
       "      <td>0.0</td>\n",
       "    </tr>\n",
       "    <tr>\n",
       "      <th>189</th>\n",
       "      <td>2024-12-04 00:00:00+00:00</td>\n",
       "      <td>95988.531250</td>\n",
       "      <td>99207.328125</td>\n",
       "      <td>94660.523438</td>\n",
       "      <td>98768.531250</td>\n",
       "      <td>77199817112</td>\n",
       "      <td>0.0</td>\n",
       "      <td>0.0</td>\n",
       "    </tr>\n",
       "    <tr>\n",
       "      <th>190</th>\n",
       "      <td>2024-12-05 00:00:00+00:00</td>\n",
       "      <td>98741.539062</td>\n",
       "      <td>103900.468750</td>\n",
       "      <td>91998.781250</td>\n",
       "      <td>96593.570312</td>\n",
       "      <td>149218945580</td>\n",
       "      <td>0.0</td>\n",
       "      <td>0.0</td>\n",
       "    </tr>\n",
       "    <tr>\n",
       "      <th>191</th>\n",
       "      <td>2024-12-06 00:00:00+00:00</td>\n",
       "      <td>97074.226562</td>\n",
       "      <td>102039.882812</td>\n",
       "      <td>96514.875000</td>\n",
       "      <td>99920.710938</td>\n",
       "      <td>94534772658</td>\n",
       "      <td>0.0</td>\n",
       "      <td>0.0</td>\n",
       "    </tr>\n",
       "    <tr>\n",
       "      <th>192</th>\n",
       "      <td>2024-12-07 00:00:00+00:00</td>\n",
       "      <td>99916.710938</td>\n",
       "      <td>100563.382812</td>\n",
       "      <td>99030.882812</td>\n",
       "      <td>99923.335938</td>\n",
       "      <td>44177510897</td>\n",
       "      <td>0.0</td>\n",
       "      <td>0.0</td>\n",
       "    </tr>\n",
       "    <tr>\n",
       "      <th>193</th>\n",
       "      <td>2024-12-08 00:00:00+00:00</td>\n",
       "      <td>99921.914062</td>\n",
       "      <td>101399.992188</td>\n",
       "      <td>98771.515625</td>\n",
       "      <td>101236.015625</td>\n",
       "      <td>44125751925</td>\n",
       "      <td>0.0</td>\n",
       "      <td>0.0</td>\n",
       "    </tr>\n",
       "    <tr>\n",
       "      <th>194</th>\n",
       "      <td>2024-12-09 00:00:00+00:00</td>\n",
       "      <td>101237.062500</td>\n",
       "      <td>101272.507812</td>\n",
       "      <td>94355.914062</td>\n",
       "      <td>97432.718750</td>\n",
       "      <td>110676473908</td>\n",
       "      <td>0.0</td>\n",
       "      <td>0.0</td>\n",
       "    </tr>\n",
       "    <tr>\n",
       "      <th>195</th>\n",
       "      <td>2024-12-10 00:00:00+00:00</td>\n",
       "      <td>97441.234375</td>\n",
       "      <td>98270.156250</td>\n",
       "      <td>94321.257812</td>\n",
       "      <td>96675.429688</td>\n",
       "      <td>104823780634</td>\n",
       "      <td>0.0</td>\n",
       "      <td>0.0</td>\n",
       "    </tr>\n",
       "    <tr>\n",
       "      <th>196</th>\n",
       "      <td>2024-12-11 00:00:00+00:00</td>\n",
       "      <td>96656.062500</td>\n",
       "      <td>101913.359375</td>\n",
       "      <td>95747.226562</td>\n",
       "      <td>101173.031250</td>\n",
       "      <td>85391409936</td>\n",
       "      <td>0.0</td>\n",
       "      <td>0.0</td>\n",
       "    </tr>\n",
       "    <tr>\n",
       "      <th>197</th>\n",
       "      <td>2024-12-12 00:00:00+00:00</td>\n",
       "      <td>101167.804688</td>\n",
       "      <td>102524.914062</td>\n",
       "      <td>99339.953125</td>\n",
       "      <td>100043.000000</td>\n",
       "      <td>72073983533</td>\n",
       "      <td>0.0</td>\n",
       "      <td>0.0</td>\n",
       "    </tr>\n",
       "    <tr>\n",
       "      <th>198</th>\n",
       "      <td>2024-12-13 00:00:00+00:00</td>\n",
       "      <td>100046.648438</td>\n",
       "      <td>101888.804688</td>\n",
       "      <td>99233.281250</td>\n",
       "      <td>101459.257812</td>\n",
       "      <td>56894751583</td>\n",
       "      <td>0.0</td>\n",
       "      <td>0.0</td>\n",
       "    </tr>\n",
       "    <tr>\n",
       "      <th>199</th>\n",
       "      <td>2024-12-14 00:00:00+00:00</td>\n",
       "      <td>101451.437500</td>\n",
       "      <td>102618.882812</td>\n",
       "      <td>100634.054688</td>\n",
       "      <td>101372.968750</td>\n",
       "      <td>40422968793</td>\n",
       "      <td>0.0</td>\n",
       "      <td>0.0</td>\n",
       "    </tr>\n",
       "    <tr>\n",
       "      <th>200</th>\n",
       "      <td>2024-12-15 00:00:00+00:00</td>\n",
       "      <td>101373.531250</td>\n",
       "      <td>105047.539062</td>\n",
       "      <td>101227.031250</td>\n",
       "      <td>104298.695312</td>\n",
       "      <td>51145914137</td>\n",
       "      <td>0.0</td>\n",
       "      <td>0.0</td>\n",
       "    </tr>\n",
       "    <tr>\n",
       "      <th>201</th>\n",
       "      <td>2024-12-16 00:00:00+00:00</td>\n",
       "      <td>104293.578125</td>\n",
       "      <td>107780.578125</td>\n",
       "      <td>103322.984375</td>\n",
       "      <td>106029.718750</td>\n",
       "      <td>91020417816</td>\n",
       "      <td>0.0</td>\n",
       "      <td>0.0</td>\n",
       "    </tr>\n",
       "    <tr>\n",
       "      <th>202</th>\n",
       "      <td>2024-12-17 00:00:00+00:00</td>\n",
       "      <td>106030.687500</td>\n",
       "      <td>108268.445312</td>\n",
       "      <td>105291.734375</td>\n",
       "      <td>106140.601562</td>\n",
       "      <td>68589364868</td>\n",
       "      <td>0.0</td>\n",
       "      <td>0.0</td>\n",
       "    </tr>\n",
       "    <tr>\n",
       "      <th>203</th>\n",
       "      <td>2024-12-18 00:00:00+00:00</td>\n",
       "      <td>106147.296875</td>\n",
       "      <td>106470.609375</td>\n",
       "      <td>100041.539062</td>\n",
       "      <td>100041.539062</td>\n",
       "      <td>93865656139</td>\n",
       "      <td>0.0</td>\n",
       "      <td>0.0</td>\n",
       "    </tr>\n",
       "    <tr>\n",
       "      <th>204</th>\n",
       "      <td>2024-12-19 00:00:00+00:00</td>\n",
       "      <td>100070.687500</td>\n",
       "      <td>102748.148438</td>\n",
       "      <td>95587.679688</td>\n",
       "      <td>97490.953125</td>\n",
       "      <td>97221662392</td>\n",
       "      <td>0.0</td>\n",
       "      <td>0.0</td>\n",
       "    </tr>\n",
       "    <tr>\n",
       "      <th>205</th>\n",
       "      <td>2024-12-20 00:00:00+00:00</td>\n",
       "      <td>97484.695312</td>\n",
       "      <td>98098.914062</td>\n",
       "      <td>92175.179688</td>\n",
       "      <td>97755.929688</td>\n",
       "      <td>105634083408</td>\n",
       "      <td>0.0</td>\n",
       "      <td>0.0</td>\n",
       "    </tr>\n",
       "    <tr>\n",
       "      <th>206</th>\n",
       "      <td>2024-12-21 00:00:00+00:00</td>\n",
       "      <td>97756.195312</td>\n",
       "      <td>99507.101562</td>\n",
       "      <td>96426.523438</td>\n",
       "      <td>97224.726562</td>\n",
       "      <td>51765334294</td>\n",
       "      <td>0.0</td>\n",
       "      <td>0.0</td>\n",
       "    </tr>\n",
       "    <tr>\n",
       "      <th>207</th>\n",
       "      <td>2024-12-22 00:00:00+00:00</td>\n",
       "      <td>97218.320312</td>\n",
       "      <td>97360.265625</td>\n",
       "      <td>94202.187500</td>\n",
       "      <td>95104.937500</td>\n",
       "      <td>43147981314</td>\n",
       "      <td>0.0</td>\n",
       "      <td>0.0</td>\n",
       "    </tr>\n",
       "    <tr>\n",
       "      <th>208</th>\n",
       "      <td>2024-12-23 00:00:00+00:00</td>\n",
       "      <td>95099.390625</td>\n",
       "      <td>96416.210938</td>\n",
       "      <td>92403.132812</td>\n",
       "      <td>94686.242188</td>\n",
       "      <td>65239002919</td>\n",
       "      <td>0.0</td>\n",
       "      <td>0.0</td>\n",
       "    </tr>\n",
       "    <tr>\n",
       "      <th>209</th>\n",
       "      <td>2024-12-24 00:00:00+00:00</td>\n",
       "      <td>94684.343750</td>\n",
       "      <td>99404.062500</td>\n",
       "      <td>93448.015625</td>\n",
       "      <td>98676.093750</td>\n",
       "      <td>47114953674</td>\n",
       "      <td>0.0</td>\n",
       "      <td>0.0</td>\n",
       "    </tr>\n",
       "    <tr>\n",
       "      <th>210</th>\n",
       "      <td>2024-12-25 00:00:00+00:00</td>\n",
       "      <td>98675.914062</td>\n",
       "      <td>99478.750000</td>\n",
       "      <td>97593.468750</td>\n",
       "      <td>99299.195312</td>\n",
       "      <td>33700394629</td>\n",
       "      <td>0.0</td>\n",
       "      <td>0.0</td>\n",
       "    </tr>\n",
       "    <tr>\n",
       "      <th>211</th>\n",
       "      <td>2024-12-26 00:00:00+00:00</td>\n",
       "      <td>99297.695312</td>\n",
       "      <td>99884.570312</td>\n",
       "      <td>95137.882812</td>\n",
       "      <td>95795.515625</td>\n",
       "      <td>47054980873</td>\n",
       "      <td>0.0</td>\n",
       "      <td>0.0</td>\n",
       "    </tr>\n",
       "    <tr>\n",
       "      <th>212</th>\n",
       "      <td>2024-12-27 00:00:00+00:00</td>\n",
       "      <td>95704.976562</td>\n",
       "      <td>97294.843750</td>\n",
       "      <td>93310.742188</td>\n",
       "      <td>94164.859375</td>\n",
       "      <td>52419934565</td>\n",
       "      <td>0.0</td>\n",
       "      <td>0.0</td>\n",
       "    </tr>\n",
       "    <tr>\n",
       "      <th>213</th>\n",
       "      <td>2024-12-28 00:00:00+00:00</td>\n",
       "      <td>94160.187500</td>\n",
       "      <td>95525.898438</td>\n",
       "      <td>94014.289062</td>\n",
       "      <td>95163.929688</td>\n",
       "      <td>24107436185</td>\n",
       "      <td>0.0</td>\n",
       "      <td>0.0</td>\n",
       "    </tr>\n",
       "    <tr>\n",
       "      <th>214</th>\n",
       "      <td>2024-12-29 00:00:00+00:00</td>\n",
       "      <td>95174.054688</td>\n",
       "      <td>95174.875000</td>\n",
       "      <td>92881.789062</td>\n",
       "      <td>93530.226562</td>\n",
       "      <td>29635885267</td>\n",
       "      <td>0.0</td>\n",
       "      <td>0.0</td>\n",
       "    </tr>\n",
       "    <tr>\n",
       "      <th>215</th>\n",
       "      <td>2024-12-30 00:00:00+00:00</td>\n",
       "      <td>93527.195312</td>\n",
       "      <td>94903.320312</td>\n",
       "      <td>91317.132812</td>\n",
       "      <td>92643.210938</td>\n",
       "      <td>56188003691</td>\n",
       "      <td>0.0</td>\n",
       "      <td>0.0</td>\n",
       "    </tr>\n",
       "    <tr>\n",
       "      <th>216</th>\n",
       "      <td>2024-12-31 00:00:00+00:00</td>\n",
       "      <td>92643.250000</td>\n",
       "      <td>96090.601562</td>\n",
       "      <td>91914.031250</td>\n",
       "      <td>93429.203125</td>\n",
       "      <td>43625106843</td>\n",
       "      <td>0.0</td>\n",
       "      <td>0.0</td>\n",
       "    </tr>\n",
       "    <tr>\n",
       "      <th>217</th>\n",
       "      <td>2025-01-01 00:00:00+00:00</td>\n",
       "      <td>93425.101562</td>\n",
       "      <td>94929.867188</td>\n",
       "      <td>92788.125000</td>\n",
       "      <td>94419.757812</td>\n",
       "      <td>24519888919</td>\n",
       "      <td>0.0</td>\n",
       "      <td>0.0</td>\n",
       "    </tr>\n",
       "    <tr>\n",
       "      <th>218</th>\n",
       "      <td>2025-01-02 00:00:00+00:00</td>\n",
       "      <td>94416.289062</td>\n",
       "      <td>97739.820312</td>\n",
       "      <td>94201.570312</td>\n",
       "      <td>96886.875000</td>\n",
       "      <td>46009564411</td>\n",
       "      <td>0.0</td>\n",
       "      <td>0.0</td>\n",
       "    </tr>\n",
       "    <tr>\n",
       "      <th>219</th>\n",
       "      <td>2025-01-03 00:00:00+00:00</td>\n",
       "      <td>96881.726562</td>\n",
       "      <td>98956.914062</td>\n",
       "      <td>96034.617188</td>\n",
       "      <td>98107.429688</td>\n",
       "      <td>35611391163</td>\n",
       "      <td>0.0</td>\n",
       "      <td>0.0</td>\n",
       "    </tr>\n",
       "    <tr>\n",
       "      <th>220</th>\n",
       "      <td>2025-01-04 00:00:00+00:00</td>\n",
       "      <td>98106.992188</td>\n",
       "      <td>98734.429688</td>\n",
       "      <td>97562.976562</td>\n",
       "      <td>98236.226562</td>\n",
       "      <td>22342608078</td>\n",
       "      <td>0.0</td>\n",
       "      <td>0.0</td>\n",
       "    </tr>\n",
       "    <tr>\n",
       "      <th>221</th>\n",
       "      <td>2025-01-05 00:00:00+00:00</td>\n",
       "      <td>98233.906250</td>\n",
       "      <td>98813.304688</td>\n",
       "      <td>97291.765625</td>\n",
       "      <td>98314.960938</td>\n",
       "      <td>20525254825</td>\n",
       "      <td>0.0</td>\n",
       "      <td>0.0</td>\n",
       "    </tr>\n",
       "    <tr>\n",
       "      <th>222</th>\n",
       "      <td>2025-01-06 00:00:00+00:00</td>\n",
       "      <td>98314.953125</td>\n",
       "      <td>102482.875000</td>\n",
       "      <td>97926.148438</td>\n",
       "      <td>102078.085938</td>\n",
       "      <td>51823432705</td>\n",
       "      <td>0.0</td>\n",
       "      <td>0.0</td>\n",
       "    </tr>\n",
       "    <tr>\n",
       "      <th>223</th>\n",
       "      <td>2025-01-07 00:00:00+00:00</td>\n",
       "      <td>102248.851562</td>\n",
       "      <td>102712.484375</td>\n",
       "      <td>96132.875000</td>\n",
       "      <td>96922.703125</td>\n",
       "      <td>58685738547</td>\n",
       "      <td>0.0</td>\n",
       "      <td>0.0</td>\n",
       "    </tr>\n",
       "    <tr>\n",
       "      <th>224</th>\n",
       "      <td>2025-01-08 00:00:00+00:00</td>\n",
       "      <td>96924.164062</td>\n",
       "      <td>97258.320312</td>\n",
       "      <td>92525.843750</td>\n",
       "      <td>95043.523438</td>\n",
       "      <td>63875859171</td>\n",
       "      <td>0.0</td>\n",
       "      <td>0.0</td>\n",
       "    </tr>\n",
       "    <tr>\n",
       "      <th>225</th>\n",
       "      <td>2025-01-09 00:00:00+00:00</td>\n",
       "      <td>95043.484375</td>\n",
       "      <td>95349.718750</td>\n",
       "      <td>91220.843750</td>\n",
       "      <td>92484.039062</td>\n",
       "      <td>62777261693</td>\n",
       "      <td>0.0</td>\n",
       "      <td>0.0</td>\n",
       "    </tr>\n",
       "    <tr>\n",
       "      <th>226</th>\n",
       "      <td>2025-01-10 00:00:00+00:00</td>\n",
       "      <td>92494.492188</td>\n",
       "      <td>95770.609375</td>\n",
       "      <td>92250.093750</td>\n",
       "      <td>94701.453125</td>\n",
       "      <td>62058693684</td>\n",
       "      <td>0.0</td>\n",
       "      <td>0.0</td>\n",
       "    </tr>\n",
       "    <tr>\n",
       "      <th>227</th>\n",
       "      <td>2025-01-11 00:00:00+00:00</td>\n",
       "      <td>94700.835938</td>\n",
       "      <td>94977.687500</td>\n",
       "      <td>93840.046875</td>\n",
       "      <td>94566.593750</td>\n",
       "      <td>18860894100</td>\n",
       "      <td>0.0</td>\n",
       "      <td>0.0</td>\n",
       "    </tr>\n",
       "    <tr>\n",
       "      <th>228</th>\n",
       "      <td>2025-01-12 00:00:00+00:00</td>\n",
       "      <td>94565.726562</td>\n",
       "      <td>95367.539062</td>\n",
       "      <td>93712.507812</td>\n",
       "      <td>94488.437500</td>\n",
       "      <td>20885130965</td>\n",
       "      <td>0.0</td>\n",
       "      <td>0.0</td>\n",
       "    </tr>\n",
       "    <tr>\n",
       "      <th>229</th>\n",
       "      <td>2025-01-13 00:00:00+00:00</td>\n",
       "      <td>94488.890625</td>\n",
       "      <td>95837.000000</td>\n",
       "      <td>89260.101562</td>\n",
       "      <td>94516.523438</td>\n",
       "      <td>72978998252</td>\n",
       "      <td>0.0</td>\n",
       "      <td>0.0</td>\n",
       "    </tr>\n",
       "    <tr>\n",
       "      <th>230</th>\n",
       "      <td>2025-01-14 00:00:00+00:00</td>\n",
       "      <td>94519.007812</td>\n",
       "      <td>97352.664062</td>\n",
       "      <td>94322.156250</td>\n",
       "      <td>96534.046875</td>\n",
       "      <td>53769675818</td>\n",
       "      <td>0.0</td>\n",
       "      <td>0.0</td>\n",
       "    </tr>\n",
       "    <tr>\n",
       "      <th>231</th>\n",
       "      <td>2025-01-15 00:00:00+00:00</td>\n",
       "      <td>96534.046875</td>\n",
       "      <td>100697.234375</td>\n",
       "      <td>96501.640625</td>\n",
       "      <td>100504.492188</td>\n",
       "      <td>57805923627</td>\n",
       "      <td>0.0</td>\n",
       "      <td>0.0</td>\n",
       "    </tr>\n",
       "    <tr>\n",
       "      <th>232</th>\n",
       "      <td>2025-01-16 00:00:00+00:00</td>\n",
       "      <td>100505.296875</td>\n",
       "      <td>100781.585938</td>\n",
       "      <td>97364.445312</td>\n",
       "      <td>99756.906250</td>\n",
       "      <td>54103781805</td>\n",
       "      <td>0.0</td>\n",
       "      <td>0.0</td>\n",
       "    </tr>\n",
       "    <tr>\n",
       "      <th>233</th>\n",
       "      <td>2025-01-17 00:00:00+00:00</td>\n",
       "      <td>100025.765625</td>\n",
       "      <td>105884.226562</td>\n",
       "      <td>99948.906250</td>\n",
       "      <td>104462.039062</td>\n",
       "      <td>71888972663</td>\n",
       "      <td>0.0</td>\n",
       "      <td>0.0</td>\n",
       "    </tr>\n",
       "    <tr>\n",
       "      <th>234</th>\n",
       "      <td>2025-01-18 00:00:00+00:00</td>\n",
       "      <td>104124.953125</td>\n",
       "      <td>104913.203125</td>\n",
       "      <td>102226.617188</td>\n",
       "      <td>104408.070312</td>\n",
       "      <td>50445655726</td>\n",
       "      <td>0.0</td>\n",
       "      <td>0.0</td>\n",
       "    </tr>\n",
       "    <tr>\n",
       "      <th>235</th>\n",
       "      <td>2025-01-19 00:00:00+00:00</td>\n",
       "      <td>104411.289062</td>\n",
       "      <td>106299.796875</td>\n",
       "      <td>99570.531250</td>\n",
       "      <td>101089.609375</td>\n",
       "      <td>76789928525</td>\n",
       "      <td>0.0</td>\n",
       "      <td>0.0</td>\n",
       "    </tr>\n",
       "    <tr>\n",
       "      <th>236</th>\n",
       "      <td>2025-01-20 00:00:00+00:00</td>\n",
       "      <td>101083.750000</td>\n",
       "      <td>109114.882812</td>\n",
       "      <td>99471.359375</td>\n",
       "      <td>102016.664062</td>\n",
       "      <td>126279678351</td>\n",
       "      <td>0.0</td>\n",
       "      <td>0.0</td>\n",
       "    </tr>\n",
       "    <tr>\n",
       "      <th>237</th>\n",
       "      <td>2025-01-21 00:00:00+00:00</td>\n",
       "      <td>102052.578125</td>\n",
       "      <td>107180.921875</td>\n",
       "      <td>100103.953125</td>\n",
       "      <td>106146.265625</td>\n",
       "      <td>88733878242</td>\n",
       "      <td>0.0</td>\n",
       "      <td>0.0</td>\n",
       "    </tr>\n",
       "    <tr>\n",
       "      <th>238</th>\n",
       "      <td>2025-01-22 00:00:00+00:00</td>\n",
       "      <td>106136.382812</td>\n",
       "      <td>106294.343750</td>\n",
       "      <td>103360.265625</td>\n",
       "      <td>103653.070312</td>\n",
       "      <td>53878181052</td>\n",
       "      <td>0.0</td>\n",
       "      <td>0.0</td>\n",
       "    </tr>\n",
       "    <tr>\n",
       "      <th>239</th>\n",
       "      <td>2025-01-23 00:00:00+00:00</td>\n",
       "      <td>103657.671875</td>\n",
       "      <td>106820.328125</td>\n",
       "      <td>101257.804688</td>\n",
       "      <td>103960.171875</td>\n",
       "      <td>104104515428</td>\n",
       "      <td>0.0</td>\n",
       "      <td>0.0</td>\n",
       "    </tr>\n",
       "    <tr>\n",
       "      <th>240</th>\n",
       "      <td>2025-01-24 00:00:00+00:00</td>\n",
       "      <td>103965.671875</td>\n",
       "      <td>107098.546875</td>\n",
       "      <td>102772.125000</td>\n",
       "      <td>104819.484375</td>\n",
       "      <td>52388229265</td>\n",
       "      <td>0.0</td>\n",
       "      <td>0.0</td>\n",
       "    </tr>\n",
       "    <tr>\n",
       "      <th>241</th>\n",
       "      <td>2025-01-25 00:00:00+00:00</td>\n",
       "      <td>104824.031250</td>\n",
       "      <td>105243.789062</td>\n",
       "      <td>104120.375000</td>\n",
       "      <td>104714.648438</td>\n",
       "      <td>23888996502</td>\n",
       "      <td>0.0</td>\n",
       "      <td>0.0</td>\n",
       "    </tr>\n",
       "    <tr>\n",
       "      <th>242</th>\n",
       "      <td>2025-01-26 00:00:00+00:00</td>\n",
       "      <td>104713.210938</td>\n",
       "      <td>105438.648438</td>\n",
       "      <td>102507.710938</td>\n",
       "      <td>102682.500000</td>\n",
       "      <td>22543395879</td>\n",
       "      <td>0.0</td>\n",
       "      <td>0.0</td>\n",
       "    </tr>\n",
       "    <tr>\n",
       "      <th>243</th>\n",
       "      <td>2025-01-27 00:00:00+00:00</td>\n",
       "      <td>102680.304688</td>\n",
       "      <td>103214.109375</td>\n",
       "      <td>97795.937500</td>\n",
       "      <td>102087.687500</td>\n",
       "      <td>89006608428</td>\n",
       "      <td>0.0</td>\n",
       "      <td>0.0</td>\n",
       "    </tr>\n",
       "    <tr>\n",
       "      <th>244</th>\n",
       "      <td>2025-01-28 00:00:00+00:00</td>\n",
       "      <td>102095.414062</td>\n",
       "      <td>103730.820312</td>\n",
       "      <td>100238.187500</td>\n",
       "      <td>101332.476562</td>\n",
       "      <td>47180685494</td>\n",
       "      <td>0.0</td>\n",
       "      <td>0.0</td>\n",
       "    </tr>\n",
       "    <tr>\n",
       "      <th>245</th>\n",
       "      <td>2025-01-29 00:00:00+00:00</td>\n",
       "      <td>101317.523438</td>\n",
       "      <td>104750.804688</td>\n",
       "      <td>101283.820312</td>\n",
       "      <td>103703.210938</td>\n",
       "      <td>47432049818</td>\n",
       "      <td>0.0</td>\n",
       "      <td>0.0</td>\n",
       "    </tr>\n",
       "    <tr>\n",
       "      <th>246</th>\n",
       "      <td>2025-01-30 00:00:00+00:00</td>\n",
       "      <td>103709.335938</td>\n",
       "      <td>106418.765625</td>\n",
       "      <td>103321.648438</td>\n",
       "      <td>104735.304688</td>\n",
       "      <td>41915744521</td>\n",
       "      <td>0.0</td>\n",
       "      <td>0.0</td>\n",
       "    </tr>\n",
       "    <tr>\n",
       "      <th>247</th>\n",
       "      <td>2025-01-31 00:00:00+00:00</td>\n",
       "      <td>104737.562500</td>\n",
       "      <td>106026.351562</td>\n",
       "      <td>101543.882812</td>\n",
       "      <td>102405.023438</td>\n",
       "      <td>45732764360</td>\n",
       "      <td>0.0</td>\n",
       "      <td>0.0</td>\n",
       "    </tr>\n",
       "    <tr>\n",
       "      <th>248</th>\n",
       "      <td>2025-02-01 00:00:00+00:00</td>\n",
       "      <td>102402.796875</td>\n",
       "      <td>102755.726562</td>\n",
       "      <td>100297.710938</td>\n",
       "      <td>100655.906250</td>\n",
       "      <td>27757944848</td>\n",
       "      <td>0.0</td>\n",
       "      <td>0.0</td>\n",
       "    </tr>\n",
       "    <tr>\n",
       "      <th>249</th>\n",
       "      <td>2025-02-02 00:00:00+00:00</td>\n",
       "      <td>100661.539062</td>\n",
       "      <td>101430.664062</td>\n",
       "      <td>96216.078125</td>\n",
       "      <td>97688.976562</td>\n",
       "      <td>63091816853</td>\n",
       "      <td>0.0</td>\n",
       "      <td>0.0</td>\n",
       "    </tr>\n",
       "    <tr>\n",
       "      <th>250</th>\n",
       "      <td>2025-02-03 00:00:00+00:00</td>\n",
       "      <td>97681.101562</td>\n",
       "      <td>102514.171875</td>\n",
       "      <td>91242.890625</td>\n",
       "      <td>101405.421875</td>\n",
       "      <td>115400897748</td>\n",
       "      <td>0.0</td>\n",
       "      <td>0.0</td>\n",
       "    </tr>\n",
       "    <tr>\n",
       "      <th>251</th>\n",
       "      <td>2025-02-04 00:00:00+00:00</td>\n",
       "      <td>101398.718750</td>\n",
       "      <td>101745.617188</td>\n",
       "      <td>96208.109375</td>\n",
       "      <td>97871.820312</td>\n",
       "      <td>73002130211</td>\n",
       "      <td>0.0</td>\n",
       "      <td>0.0</td>\n",
       "    </tr>\n",
       "    <tr>\n",
       "      <th>252</th>\n",
       "      <td>2025-02-05 00:00:00+00:00</td>\n",
       "      <td>97878.007812</td>\n",
       "      <td>99113.210938</td>\n",
       "      <td>96174.828125</td>\n",
       "      <td>96615.445312</td>\n",
       "      <td>49125911241</td>\n",
       "      <td>0.0</td>\n",
       "      <td>0.0</td>\n",
       "    </tr>\n",
       "    <tr>\n",
       "      <th>253</th>\n",
       "      <td>2025-02-06 00:00:00+00:00</td>\n",
       "      <td>96610.640625</td>\n",
       "      <td>99168.609375</td>\n",
       "      <td>95707.351562</td>\n",
       "      <td>96593.296875</td>\n",
       "      <td>45302471947</td>\n",
       "      <td>0.0</td>\n",
       "      <td>0.0</td>\n",
       "    </tr>\n",
       "    <tr>\n",
       "      <th>254</th>\n",
       "      <td>2025-02-07 00:00:00+00:00</td>\n",
       "      <td>96581.320312</td>\n",
       "      <td>100154.140625</td>\n",
       "      <td>95653.882812</td>\n",
       "      <td>96529.085938</td>\n",
       "      <td>55741290456</td>\n",
       "      <td>0.0</td>\n",
       "      <td>0.0</td>\n",
       "    </tr>\n",
       "    <tr>\n",
       "      <th>255</th>\n",
       "      <td>2025-02-08 00:00:00+00:00</td>\n",
       "      <td>96533.257812</td>\n",
       "      <td>96877.804688</td>\n",
       "      <td>95702.492188</td>\n",
       "      <td>96482.453125</td>\n",
       "      <td>22447526395</td>\n",
       "      <td>0.0</td>\n",
       "      <td>0.0</td>\n",
       "    </tr>\n",
       "    <tr>\n",
       "      <th>256</th>\n",
       "      <td>2025-02-09 00:00:00+00:00</td>\n",
       "      <td>96481.312500</td>\n",
       "      <td>97325.281250</td>\n",
       "      <td>94745.257812</td>\n",
       "      <td>96500.093750</td>\n",
       "      <td>27732901800</td>\n",
       "      <td>0.0</td>\n",
       "      <td>0.0</td>\n",
       "    </tr>\n",
       "    <tr>\n",
       "      <th>257</th>\n",
       "      <td>2025-02-10 00:00:00+00:00</td>\n",
       "      <td>96499.460938</td>\n",
       "      <td>98333.218750</td>\n",
       "      <td>95320.843750</td>\n",
       "      <td>97437.554688</td>\n",
       "      <td>40078962391</td>\n",
       "      <td>0.0</td>\n",
       "      <td>0.0</td>\n",
       "    </tr>\n",
       "    <tr>\n",
       "      <th>258</th>\n",
       "      <td>2025-02-11 00:00:00+00:00</td>\n",
       "      <td>97438.132812</td>\n",
       "      <td>98492.898438</td>\n",
       "      <td>94875.039062</td>\n",
       "      <td>95747.429688</td>\n",
       "      <td>37488783272</td>\n",
       "      <td>0.0</td>\n",
       "      <td>0.0</td>\n",
       "    </tr>\n",
       "    <tr>\n",
       "      <th>259</th>\n",
       "      <td>2025-02-12 00:00:00+00:00</td>\n",
       "      <td>95745.695312</td>\n",
       "      <td>98151.023438</td>\n",
       "      <td>94101.203125</td>\n",
       "      <td>97885.859375</td>\n",
       "      <td>49340445530</td>\n",
       "      <td>0.0</td>\n",
       "      <td>0.0</td>\n",
       "    </tr>\n",
       "    <tr>\n",
       "      <th>260</th>\n",
       "      <td>2025-02-13 00:00:00+00:00</td>\n",
       "      <td>97888.750000</td>\n",
       "      <td>98111.085938</td>\n",
       "      <td>95269.710938</td>\n",
       "      <td>96623.867188</td>\n",
       "      <td>37147280860</td>\n",
       "      <td>0.0</td>\n",
       "      <td>0.0</td>\n",
       "    </tr>\n",
       "    <tr>\n",
       "      <th>261</th>\n",
       "      <td>2025-02-14 00:00:00+00:00</td>\n",
       "      <td>96623.367188</td>\n",
       "      <td>98819.468750</td>\n",
       "      <td>96342.804688</td>\n",
       "      <td>97508.968750</td>\n",
       "      <td>32697987277</td>\n",
       "      <td>0.0</td>\n",
       "      <td>0.0</td>\n",
       "    </tr>\n",
       "    <tr>\n",
       "      <th>262</th>\n",
       "      <td>2025-02-15 00:00:00+00:00</td>\n",
       "      <td>97508.382812</td>\n",
       "      <td>97975.039062</td>\n",
       "      <td>97240.195312</td>\n",
       "      <td>97580.351562</td>\n",
       "      <td>17047266288</td>\n",
       "      <td>0.0</td>\n",
       "      <td>0.0</td>\n",
       "    </tr>\n",
       "    <tr>\n",
       "      <th>263</th>\n",
       "      <td>2025-02-16 00:00:00+00:00</td>\n",
       "      <td>97580.492188</td>\n",
       "      <td>97725.593750</td>\n",
       "      <td>96060.976562</td>\n",
       "      <td>96175.031250</td>\n",
       "      <td>16536755396</td>\n",
       "      <td>0.0</td>\n",
       "      <td>0.0</td>\n",
       "    </tr>\n",
       "    <tr>\n",
       "      <th>264</th>\n",
       "      <td>2025-02-17 00:00:00+00:00</td>\n",
       "      <td>96179.007812</td>\n",
       "      <td>97032.234375</td>\n",
       "      <td>95243.546875</td>\n",
       "      <td>95773.382812</td>\n",
       "      <td>27336550690</td>\n",
       "      <td>0.0</td>\n",
       "      <td>0.0</td>\n",
       "    </tr>\n",
       "    <tr>\n",
       "      <th>265</th>\n",
       "      <td>2025-02-18 00:00:00+00:00</td>\n",
       "      <td>95773.812500</td>\n",
       "      <td>96695.375000</td>\n",
       "      <td>93388.835938</td>\n",
       "      <td>95539.546875</td>\n",
       "      <td>37325720482</td>\n",
       "      <td>0.0</td>\n",
       "      <td>0.0</td>\n",
       "    </tr>\n",
       "    <tr>\n",
       "      <th>266</th>\n",
       "      <td>2025-02-19 00:00:00+00:00</td>\n",
       "      <td>95532.531250</td>\n",
       "      <td>96855.593750</td>\n",
       "      <td>95011.968750</td>\n",
       "      <td>96635.609375</td>\n",
       "      <td>28990872862</td>\n",
       "      <td>0.0</td>\n",
       "      <td>0.0</td>\n",
       "    </tr>\n",
       "    <tr>\n",
       "      <th>267</th>\n",
       "      <td>2025-02-20 00:00:00+00:00</td>\n",
       "      <td>96632.679688</td>\n",
       "      <td>98767.195312</td>\n",
       "      <td>96442.671875</td>\n",
       "      <td>98333.937500</td>\n",
       "      <td>31668022771</td>\n",
       "      <td>0.0</td>\n",
       "      <td>0.0</td>\n",
       "    </tr>\n",
       "    <tr>\n",
       "      <th>268</th>\n",
       "      <td>2025-02-21 00:00:00+00:00</td>\n",
       "      <td>98340.671875</td>\n",
       "      <td>99497.968750</td>\n",
       "      <td>94852.960938</td>\n",
       "      <td>96125.546875</td>\n",
       "      <td>49608706470</td>\n",
       "      <td>0.0</td>\n",
       "      <td>0.0</td>\n",
       "    </tr>\n",
       "    <tr>\n",
       "      <th>269</th>\n",
       "      <td>2025-02-22 00:00:00+00:00</td>\n",
       "      <td>96134.203125</td>\n",
       "      <td>96950.156250</td>\n",
       "      <td>95765.343750</td>\n",
       "      <td>96577.757812</td>\n",
       "      <td>18353824477</td>\n",
       "      <td>0.0</td>\n",
       "      <td>0.0</td>\n",
       "    </tr>\n",
       "    <tr>\n",
       "      <th>270</th>\n",
       "      <td>2025-02-23 00:00:00+00:00</td>\n",
       "      <td>96577.804688</td>\n",
       "      <td>96671.875000</td>\n",
       "      <td>95270.453125</td>\n",
       "      <td>96273.921875</td>\n",
       "      <td>16999478976</td>\n",
       "      <td>0.0</td>\n",
       "      <td>0.0</td>\n",
       "    </tr>\n",
       "    <tr>\n",
       "      <th>271</th>\n",
       "      <td>2025-02-24 00:00:00+00:00</td>\n",
       "      <td>96277.960938</td>\n",
       "      <td>96503.453125</td>\n",
       "      <td>91371.742188</td>\n",
       "      <td>91418.171875</td>\n",
       "      <td>44046480529</td>\n",
       "      <td>0.0</td>\n",
       "      <td>0.0</td>\n",
       "    </tr>\n",
       "    <tr>\n",
       "      <th>272</th>\n",
       "      <td>2025-02-25 00:00:00+00:00</td>\n",
       "      <td>91437.117188</td>\n",
       "      <td>92511.078125</td>\n",
       "      <td>86008.234375</td>\n",
       "      <td>88736.171875</td>\n",
       "      <td>92139104128</td>\n",
       "      <td>0.0</td>\n",
       "      <td>0.0</td>\n",
       "    </tr>\n",
       "    <tr>\n",
       "      <th>273</th>\n",
       "      <td>2025-02-26 00:00:00+00:00</td>\n",
       "      <td>88638.890625</td>\n",
       "      <td>89286.250000</td>\n",
       "      <td>82131.898438</td>\n",
       "      <td>84347.023438</td>\n",
       "      <td>64597492134</td>\n",
       "      <td>0.0</td>\n",
       "      <td>0.0</td>\n",
       "    </tr>\n",
       "    <tr>\n",
       "      <th>274</th>\n",
       "      <td>2025-02-27 00:00:00+00:00</td>\n",
       "      <td>84076.859375</td>\n",
       "      <td>87000.781250</td>\n",
       "      <td>83144.960938</td>\n",
       "      <td>84704.226562</td>\n",
       "      <td>52659591954</td>\n",
       "      <td>0.0</td>\n",
       "      <td>0.0</td>\n",
       "    </tr>\n",
       "    <tr>\n",
       "      <th>275</th>\n",
       "      <td>2025-02-28 00:00:00+00:00</td>\n",
       "      <td>84705.625000</td>\n",
       "      <td>85036.320312</td>\n",
       "      <td>78248.914062</td>\n",
       "      <td>84373.007812</td>\n",
       "      <td>83610570576</td>\n",
       "      <td>0.0</td>\n",
       "      <td>0.0</td>\n",
       "    </tr>\n",
       "    <tr>\n",
       "      <th>276</th>\n",
       "      <td>2025-03-01 00:00:00+00:00</td>\n",
       "      <td>84373.867188</td>\n",
       "      <td>86522.304688</td>\n",
       "      <td>83794.234375</td>\n",
       "      <td>86031.914062</td>\n",
       "      <td>29190628396</td>\n",
       "      <td>0.0</td>\n",
       "      <td>0.0</td>\n",
       "    </tr>\n",
       "    <tr>\n",
       "      <th>277</th>\n",
       "      <td>2025-03-02 00:00:00+00:00</td>\n",
       "      <td>86036.257812</td>\n",
       "      <td>95043.437500</td>\n",
       "      <td>85040.210938</td>\n",
       "      <td>94248.351562</td>\n",
       "      <td>58398341092</td>\n",
       "      <td>0.0</td>\n",
       "      <td>0.0</td>\n",
       "    </tr>\n",
       "    <tr>\n",
       "      <th>278</th>\n",
       "      <td>2025-03-03 00:00:00+00:00</td>\n",
       "      <td>94248.421875</td>\n",
       "      <td>94429.750000</td>\n",
       "      <td>85081.304688</td>\n",
       "      <td>86065.671875</td>\n",
       "      <td>70072228536</td>\n",
       "      <td>0.0</td>\n",
       "      <td>0.0</td>\n",
       "    </tr>\n",
       "    <tr>\n",
       "      <th>279</th>\n",
       "      <td>2025-03-04 00:00:00+00:00</td>\n",
       "      <td>86064.070312</td>\n",
       "      <td>88911.273438</td>\n",
       "      <td>81529.242188</td>\n",
       "      <td>87222.195312</td>\n",
       "      <td>68095241474</td>\n",
       "      <td>0.0</td>\n",
       "      <td>0.0</td>\n",
       "    </tr>\n",
       "    <tr>\n",
       "      <th>280</th>\n",
       "      <td>2025-03-05 00:00:00+00:00</td>\n",
       "      <td>87222.953125</td>\n",
       "      <td>90998.242188</td>\n",
       "      <td>86379.773438</td>\n",
       "      <td>90623.562500</td>\n",
       "      <td>50498988027</td>\n",
       "      <td>0.0</td>\n",
       "      <td>0.0</td>\n",
       "    </tr>\n",
       "    <tr>\n",
       "      <th>281</th>\n",
       "      <td>2025-03-06 00:00:00+00:00</td>\n",
       "      <td>90622.359375</td>\n",
       "      <td>92804.937500</td>\n",
       "      <td>87852.140625</td>\n",
       "      <td>89961.726562</td>\n",
       "      <td>47749810486</td>\n",
       "      <td>0.0</td>\n",
       "      <td>0.0</td>\n",
       "    </tr>\n",
       "    <tr>\n",
       "      <th>282</th>\n",
       "      <td>2025-03-07 00:00:00+00:00</td>\n",
       "      <td>89963.281250</td>\n",
       "      <td>91191.046875</td>\n",
       "      <td>84717.679688</td>\n",
       "      <td>86742.671875</td>\n",
       "      <td>65945677657</td>\n",
       "      <td>0.0</td>\n",
       "      <td>0.0</td>\n",
       "    </tr>\n",
       "    <tr>\n",
       "      <th>283</th>\n",
       "      <td>2025-03-08 00:00:00+00:00</td>\n",
       "      <td>86742.656250</td>\n",
       "      <td>86847.265625</td>\n",
       "      <td>85247.484375</td>\n",
       "      <td>86154.593750</td>\n",
       "      <td>18206118081</td>\n",
       "      <td>0.0</td>\n",
       "      <td>0.0</td>\n",
       "    </tr>\n",
       "    <tr>\n",
       "      <th>284</th>\n",
       "      <td>2025-03-09 00:00:00+00:00</td>\n",
       "      <td>86154.304688</td>\n",
       "      <td>86471.132812</td>\n",
       "      <td>80052.484375</td>\n",
       "      <td>80601.039062</td>\n",
       "      <td>30899345977</td>\n",
       "      <td>0.0</td>\n",
       "      <td>0.0</td>\n",
       "    </tr>\n",
       "    <tr>\n",
       "      <th>285</th>\n",
       "      <td>2025-03-10 00:00:00+00:00</td>\n",
       "      <td>80597.148438</td>\n",
       "      <td>83955.929688</td>\n",
       "      <td>77420.593750</td>\n",
       "      <td>78532.000000</td>\n",
       "      <td>54061099422</td>\n",
       "      <td>0.0</td>\n",
       "      <td>0.0</td>\n",
       "    </tr>\n",
       "    <tr>\n",
       "      <th>286</th>\n",
       "      <td>2025-03-11 00:00:00+00:00</td>\n",
       "      <td>78523.875000</td>\n",
       "      <td>83577.757812</td>\n",
       "      <td>76624.250000</td>\n",
       "      <td>82862.210938</td>\n",
       "      <td>54702837196</td>\n",
       "      <td>0.0</td>\n",
       "      <td>0.0</td>\n",
       "    </tr>\n",
       "    <tr>\n",
       "      <th>287</th>\n",
       "      <td>2025-03-12 00:00:00+00:00</td>\n",
       "      <td>82857.375000</td>\n",
       "      <td>84358.578125</td>\n",
       "      <td>80635.250000</td>\n",
       "      <td>83722.359375</td>\n",
       "      <td>40353484454</td>\n",
       "      <td>0.0</td>\n",
       "      <td>0.0</td>\n",
       "    </tr>\n",
       "    <tr>\n",
       "      <th>288</th>\n",
       "      <td>2025-03-13 00:00:00+00:00</td>\n",
       "      <td>83724.921875</td>\n",
       "      <td>84301.695312</td>\n",
       "      <td>79931.851562</td>\n",
       "      <td>81066.703125</td>\n",
       "      <td>31412940153</td>\n",
       "      <td>0.0</td>\n",
       "      <td>0.0</td>\n",
       "    </tr>\n",
       "    <tr>\n",
       "      <th>289</th>\n",
       "      <td>2025-03-14 00:00:00+00:00</td>\n",
       "      <td>81066.992188</td>\n",
       "      <td>85263.289062</td>\n",
       "      <td>80797.562500</td>\n",
       "      <td>83969.101562</td>\n",
       "      <td>29588112414</td>\n",
       "      <td>0.0</td>\n",
       "      <td>0.0</td>\n",
       "    </tr>\n",
       "    <tr>\n",
       "      <th>290</th>\n",
       "      <td>2025-03-15 00:00:00+00:00</td>\n",
       "      <td>83968.406250</td>\n",
       "      <td>84672.671875</td>\n",
       "      <td>83639.593750</td>\n",
       "      <td>84343.109375</td>\n",
       "      <td>13650491277</td>\n",
       "      <td>0.0</td>\n",
       "      <td>0.0</td>\n",
       "    </tr>\n",
       "    <tr>\n",
       "      <th>291</th>\n",
       "      <td>2025-03-16 00:00:00+00:00</td>\n",
       "      <td>84333.320312</td>\n",
       "      <td>85051.601562</td>\n",
       "      <td>82017.906250</td>\n",
       "      <td>82579.687500</td>\n",
       "      <td>21330270174</td>\n",
       "      <td>0.0</td>\n",
       "      <td>0.0</td>\n",
       "    </tr>\n",
       "    <tr>\n",
       "      <th>292</th>\n",
       "      <td>2025-03-17 00:00:00+00:00</td>\n",
       "      <td>82576.335938</td>\n",
       "      <td>84725.328125</td>\n",
       "      <td>82492.156250</td>\n",
       "      <td>84075.687500</td>\n",
       "      <td>25092785558</td>\n",
       "      <td>0.0</td>\n",
       "      <td>0.0</td>\n",
       "    </tr>\n",
       "    <tr>\n",
       "      <th>293</th>\n",
       "      <td>2025-03-18 00:00:00+00:00</td>\n",
       "      <td>84075.718750</td>\n",
       "      <td>84075.718750</td>\n",
       "      <td>81179.992188</td>\n",
       "      <td>82718.500000</td>\n",
       "      <td>24095774594</td>\n",
       "      <td>0.0</td>\n",
       "      <td>0.0</td>\n",
       "    </tr>\n",
       "    <tr>\n",
       "      <th>294</th>\n",
       "      <td>2025-03-19 00:00:00+00:00</td>\n",
       "      <td>82718.804688</td>\n",
       "      <td>87021.187500</td>\n",
       "      <td>82569.726562</td>\n",
       "      <td>86854.226562</td>\n",
       "      <td>34931960257</td>\n",
       "      <td>0.0</td>\n",
       "      <td>0.0</td>\n",
       "    </tr>\n",
       "    <tr>\n",
       "      <th>295</th>\n",
       "      <td>2025-03-20 00:00:00+00:00</td>\n",
       "      <td>86872.953125</td>\n",
       "      <td>87443.265625</td>\n",
       "      <td>83647.195312</td>\n",
       "      <td>84167.195312</td>\n",
       "      <td>29028988961</td>\n",
       "      <td>0.0</td>\n",
       "      <td>0.0</td>\n",
       "    </tr>\n",
       "    <tr>\n",
       "      <th>296</th>\n",
       "      <td>2025-03-21 00:00:00+00:00</td>\n",
       "      <td>84164.539062</td>\n",
       "      <td>84782.273438</td>\n",
       "      <td>83171.070312</td>\n",
       "      <td>84043.242188</td>\n",
       "      <td>19030452299</td>\n",
       "      <td>0.0</td>\n",
       "      <td>0.0</td>\n",
       "    </tr>\n",
       "    <tr>\n",
       "      <th>297</th>\n",
       "      <td>2025-03-22 00:00:00+00:00</td>\n",
       "      <td>84046.257812</td>\n",
       "      <td>84513.875000</td>\n",
       "      <td>83674.781250</td>\n",
       "      <td>83832.484375</td>\n",
       "      <td>9863214091</td>\n",
       "      <td>0.0</td>\n",
       "      <td>0.0</td>\n",
       "    </tr>\n",
       "    <tr>\n",
       "      <th>298</th>\n",
       "      <td>2025-03-23 00:00:00+00:00</td>\n",
       "      <td>83831.898438</td>\n",
       "      <td>86094.781250</td>\n",
       "      <td>83794.914062</td>\n",
       "      <td>86054.375000</td>\n",
       "      <td>12594615537</td>\n",
       "      <td>0.0</td>\n",
       "      <td>0.0</td>\n",
       "    </tr>\n",
       "    <tr>\n",
       "      <th>299</th>\n",
       "      <td>2025-03-24 00:00:00+00:00</td>\n",
       "      <td>86070.929688</td>\n",
       "      <td>88758.726562</td>\n",
       "      <td>85541.195312</td>\n",
       "      <td>87498.914062</td>\n",
       "      <td>34582604933</td>\n",
       "      <td>0.0</td>\n",
       "      <td>0.0</td>\n",
       "    </tr>\n",
       "  </tbody>\n",
       "</table>\n",
       "</div>"
      ],
      "text/plain": [
       "                         Date           Open           High            Low  \\\n",
       "0   2024-05-29 00:00:00+00:00   68296.351562   68852.460938   67101.492188   \n",
       "1   2024-05-30 00:00:00+00:00   67576.085938   69500.539062   67118.078125   \n",
       "2   2024-05-31 00:00:00+00:00   68362.515625   68999.562500   66633.421875   \n",
       "3   2024-06-01 00:00:00+00:00   67489.609375   67839.765625   67386.195312   \n",
       "4   2024-06-02 00:00:00+00:00   67710.273438   68409.164062   67315.523438   \n",
       "5   2024-06-03 00:00:00+00:00   67753.898438   70230.820312   67589.835938   \n",
       "6   2024-06-04 00:00:00+00:00   68804.570312   71047.406250   68564.640625   \n",
       "7   2024-06-05 00:00:00+00:00   70568.351562   71735.414062   70390.710938   \n",
       "8   2024-06-06 00:00:00+00:00   71082.843750   71625.734375   70119.125000   \n",
       "9   2024-06-07 00:00:00+00:00   70759.187500   71907.851562   68507.257812   \n",
       "10  2024-06-08 00:00:00+00:00   69324.179688   69533.320312   69210.742188   \n",
       "11  2024-06-09 00:00:00+00:00   69297.492188   69817.523438   69160.843750   \n",
       "12  2024-06-10 00:00:00+00:00   69644.312500   70146.070312   69232.421875   \n",
       "13  2024-06-11 00:00:00+00:00   69508.078125   69549.414062   66123.601562   \n",
       "14  2024-06-12 00:00:00+00:00   67321.375000   69977.890625   66902.453125   \n",
       "15  2024-06-13 00:00:00+00:00   68243.101562   68365.781250   66304.562500   \n",
       "16  2024-06-14 00:00:00+00:00   66747.570312   67294.648438   65056.894531   \n",
       "17  2024-06-15 00:00:00+00:00   66006.742188   66402.187500   65871.773438   \n",
       "18  2024-06-16 00:00:00+00:00   66189.359375   66894.843750   66018.250000   \n",
       "19  2024-06-17 00:00:00+00:00   66636.515625   67188.320312   65094.964844   \n",
       "20  2024-06-18 00:00:00+00:00   66490.976562   66556.703125   64066.957031   \n",
       "21  2024-06-19 00:00:00+00:00   65146.660156   65695.351562   64693.300781   \n",
       "22  2024-06-20 00:00:00+00:00   64960.296875   66438.960938   64547.847656   \n",
       "23  2024-06-21 00:00:00+00:00   64837.988281   65007.546875   63378.894531   \n",
       "24  2024-06-22 00:00:00+00:00   64113.863281   64475.468750   63929.757812   \n",
       "25  2024-06-23 00:00:00+00:00   64248.964844   64491.703125   63180.796875   \n",
       "26  2024-06-24 00:00:00+00:00   63173.351562   63292.527344   58601.699219   \n",
       "27  2024-06-25 00:00:00+00:00   60266.281250   62258.261719   60239.750000   \n",
       "28  2024-06-26 00:00:00+00:00   61789.675781   62434.136719   60695.187500   \n",
       "29  2024-06-27 00:00:00+00:00   60811.226562   62293.863281   60585.332031   \n",
       "30  2024-06-28 00:00:00+00:00   61612.804688   62126.097656   59985.402344   \n",
       "31  2024-06-29 00:00:00+00:00   60319.875000   61097.621094   60300.964844   \n",
       "32  2024-06-30 00:00:00+00:00   60888.445312   62892.828125   60632.949219   \n",
       "33  2024-07-01 00:00:00+00:00   62673.605469   63777.226562   62495.511719   \n",
       "34  2024-07-02 00:00:00+00:00   62844.410156   63203.359375   61752.746094   \n",
       "35  2024-07-03 00:00:00+00:00   62034.332031   62187.703125   59419.386719   \n",
       "36  2024-07-04 00:00:00+00:00   60147.136719   60399.675781   56777.804688   \n",
       "37  2024-07-05 00:00:00+00:00   57022.808594   57497.152344   53717.375000   \n",
       "38  2024-07-06 00:00:00+00:00   56659.074219   58472.546875   56038.960938   \n",
       "39  2024-07-07 00:00:00+00:00   58239.429688   58371.121094   55793.324219   \n",
       "40  2024-07-08 00:00:00+00:00   55849.574219   58131.335938   54321.019531   \n",
       "41  2024-07-09 00:00:00+00:00   56704.597656   58239.195312   56316.875000   \n",
       "42  2024-07-10 00:00:00+00:00   58033.882812   59359.433594   57178.414062   \n",
       "43  2024-07-11 00:00:00+00:00   57729.890625   59299.433594   57120.378906   \n",
       "44  2024-07-12 00:00:00+00:00   57341.195312   58532.554688   56590.175781   \n",
       "45  2024-07-13 00:00:00+00:00   57908.738281   59787.078125   57796.441406   \n",
       "46  2024-07-14 00:00:00+00:00   59225.250000   61329.527344   59225.250000   \n",
       "47  2024-07-15 00:00:00+00:00   60815.457031   64870.152344   60704.929688   \n",
       "48  2024-07-16 00:00:00+00:00   64784.417969   65354.339844   62487.968750   \n",
       "49  2024-07-17 00:00:00+00:00   65091.832031   66066.734375   63896.085938   \n",
       "50  2024-07-18 00:00:00+00:00   64104.738281   65104.660156   63246.164062   \n",
       "51  2024-07-19 00:00:00+00:00   63972.324219   67442.640625   63329.343750   \n",
       "52  2024-07-20 00:00:00+00:00   66709.921875   67610.734375   66299.617188   \n",
       "53  2024-07-21 00:00:00+00:00   67164.914062   68372.906250   65842.296875   \n",
       "54  2024-07-22 00:00:00+00:00   68152.976562   68480.062500   66611.296875   \n",
       "55  2024-07-23 00:00:00+00:00   67584.804688   67779.015625   65484.460938   \n",
       "56  2024-07-24 00:00:00+00:00   65927.859375   67113.984375   65146.996094   \n",
       "57  2024-07-25 00:00:00+00:00   65375.875000   66112.421875   63473.472656   \n",
       "58  2024-07-26 00:00:00+00:00   65771.812500   68207.601562   65743.765625   \n",
       "59  2024-07-27 00:00:00+00:00   67911.812500   69398.507812   66705.218750   \n",
       "60  2024-07-28 00:00:00+00:00   67808.656250   68301.851562   67085.828125   \n",
       "61  2024-07-29 00:00:00+00:00   68259.054688   69987.539062   66532.593750   \n",
       "62  2024-07-30 00:00:00+00:00   66819.054688   66987.671875   65323.191406   \n",
       "63  2024-07-31 00:00:00+00:00   66201.273438   66810.210938   64532.046875   \n",
       "64  2024-08-01 00:00:00+00:00   64625.839844   65593.242188   62248.941406   \n",
       "65  2024-08-02 00:00:00+00:00   65353.500000   65523.222656   61184.894531   \n",
       "66  2024-08-03 00:00:00+00:00   61414.808594   62148.371094   59836.527344   \n",
       "67  2024-08-04 00:00:00+00:00   60676.093750   61062.988281   57210.804688   \n",
       "68  2024-08-05 00:00:00+00:00   58110.296875   58268.828125   49121.238281   \n",
       "69  2024-08-06 00:00:00+00:00   53991.347656   57059.917969   53973.273438   \n",
       "70  2024-08-07 00:00:00+00:00   56040.632812   57726.882812   54620.507812   \n",
       "71  2024-08-08 00:00:00+00:00   55030.027344   62673.765625   54766.726562   \n",
       "72  2024-08-09 00:00:00+00:00   61728.207031   61751.863281   59587.859375   \n",
       "73  2024-08-10 00:00:00+00:00   60881.230469   61464.511719   60287.566406   \n",
       "74  2024-08-11 00:00:00+00:00   60944.890625   61778.660156   58348.824219   \n",
       "75  2024-08-12 00:00:00+00:00   58719.394531   60680.332031   57688.898438   \n",
       "76  2024-08-13 00:00:00+00:00   59356.207031   61572.398438   58506.253906   \n",
       "77  2024-08-14 00:00:00+00:00   60611.050781   61687.757812   58472.875000   \n",
       "78  2024-08-15 00:00:00+00:00   58733.261719   59838.648438   56161.593750   \n",
       "79  2024-08-16 00:00:00+00:00   57560.273438   59847.359375   57110.019531   \n",
       "80  2024-08-17 00:00:00+00:00   58893.531250   59694.667969   58814.832031   \n",
       "81  2024-08-18 00:00:00+00:00   59468.132812   60262.718750   58445.402344   \n",
       "82  2024-08-19 00:00:00+00:00   58480.710938   59612.660156   57864.710938   \n",
       "83  2024-08-20 00:00:00+00:00   59493.453125   61396.328125   58610.882812   \n",
       "84  2024-08-21 00:00:00+00:00   59014.988281   61834.351562   58823.445312   \n",
       "85  2024-08-22 00:00:00+00:00   61168.316406   61408.109375   59815.253906   \n",
       "86  2024-08-23 00:00:00+00:00   60380.953125   64947.062500   60372.050781   \n",
       "87  2024-08-24 00:00:00+00:00   64103.871094   64513.789062   63619.917969   \n",
       "88  2024-08-25 00:00:00+00:00   64176.367188   64996.421875   63833.519531   \n",
       "89  2024-08-26 00:00:00+00:00   64342.226562   64489.707031   62849.558594   \n",
       "90  2024-08-27 00:00:00+00:00   62879.707031   63210.796875   58116.750000   \n",
       "91  2024-08-28 00:00:00+00:00   59507.925781   60236.449219   57890.675781   \n",
       "92  2024-08-29 00:00:00+00:00   59027.468750   61184.082031   58786.226562   \n",
       "93  2024-08-30 00:00:00+00:00   59388.601562   59896.886719   57768.531250   \n",
       "94  2024-08-31 00:00:00+00:00   59117.480469   59432.593750   58768.785156   \n",
       "95  2024-09-01 00:00:00+00:00   58969.800781   59062.070312   57217.824219   \n",
       "96  2024-09-02 00:00:00+00:00   57326.968750   59403.070312   57136.027344   \n",
       "97  2024-09-03 00:00:00+00:00   59106.191406   59815.058594   57425.167969   \n",
       "98  2024-09-04 00:00:00+00:00   57430.347656   58511.570312   55673.164062   \n",
       "99  2024-09-05 00:00:00+00:00   57971.703125   58300.582031   55712.453125   \n",
       "100 2024-09-06 00:00:00+00:00   56160.191406   56976.109375   52598.699219   \n",
       "101 2024-09-07 00:00:00+00:00   53949.085938   54838.144531   53740.070312   \n",
       "102 2024-09-08 00:00:00+00:00   54147.933594   55300.859375   53653.757812   \n",
       "103 2024-09-09 00:00:00+00:00   54851.886719   58041.125000   54598.433594   \n",
       "104 2024-09-10 00:00:00+00:00   57020.097656   58029.976562   56419.414062   \n",
       "105 2024-09-11 00:00:00+00:00   57650.289062   57991.320312   55567.339844   \n",
       "106 2024-09-12 00:00:00+00:00   57343.171875   58534.359375   57330.101562   \n",
       "107 2024-09-13 00:00:00+00:00   58130.324219   60648.023438   57650.113281   \n",
       "108 2024-09-14 00:00:00+00:00   60569.117188   60656.722656   59517.882812   \n",
       "109 2024-09-15 00:00:00+00:00   60000.726562   60381.917969   58696.308594   \n",
       "110 2024-09-16 00:00:00+00:00   59185.226562   59205.511719   57501.339844   \n",
       "111 2024-09-17 00:00:00+00:00   58192.507812   61316.089844   57628.070312   \n",
       "112 2024-09-18 00:00:00+00:00   60309.000000   61664.066406   59218.253906   \n",
       "113 2024-09-19 00:00:00+00:00   61651.156250   63872.441406   61609.867188   \n",
       "114 2024-09-20 00:00:00+00:00   62941.425781   64119.531250   62364.605469   \n",
       "115 2024-09-21 00:00:00+00:00   63184.339844   63543.359375   62783.105469   \n",
       "116 2024-09-22 00:00:00+00:00   63396.804688   63993.421875   62440.726562   \n",
       "117 2024-09-23 00:00:00+00:00   63643.101562   64733.558594   62628.078125   \n",
       "118 2024-09-24 00:00:00+00:00   63326.839844   64695.214844   62737.417969   \n",
       "119 2024-09-25 00:00:00+00:00   64302.589844   64804.503906   62945.375000   \n",
       "120 2024-09-26 00:00:00+00:00   63138.546875   65790.796875   62669.269531   \n",
       "121 2024-09-27 00:00:00+00:00   65180.664062   66480.695312   64852.992188   \n",
       "122 2024-09-28 00:00:00+00:00   65792.179688   66255.531250   65458.035156   \n",
       "123 2024-09-29 00:00:00+00:00   65888.898438   66069.343750   65450.015625   \n",
       "124 2024-09-30 00:00:00+00:00   65634.656250   65635.054688   62873.617188   \n",
       "125 2024-10-01 00:00:00+00:00   63335.605469   64110.980469   60189.277344   \n",
       "126 2024-10-02 00:00:00+00:00   60836.324219   62357.687500   59996.949219   \n",
       "127 2024-10-03 00:00:00+00:00   60632.484375   61469.039062   59878.804688   \n",
       "128 2024-10-04 00:00:00+00:00   60754.625000   62465.992188   60459.941406   \n",
       "129 2024-10-05 00:00:00+00:00   62067.609375   62371.023438   61689.582031   \n",
       "130 2024-10-06 00:00:00+00:00   62084.988281   62959.570312   61833.148438   \n",
       "131 2024-10-07 00:00:00+00:00   62819.109375   64443.707031   62152.550781   \n",
       "132 2024-10-08 00:00:00+00:00   62221.644531   63174.304688   61843.562500   \n",
       "133 2024-10-09 00:00:00+00:00   62131.726562   62508.835938   60314.613281   \n",
       "134 2024-10-10 00:00:00+00:00   60581.929688   61236.722656   58895.207031   \n",
       "135 2024-10-11 00:00:00+00:00   60275.460938   63400.871094   60046.125000   \n",
       "136 2024-10-12 00:00:00+00:00   62444.617188   63448.785156   62443.269531   \n",
       "137 2024-10-13 00:00:00+00:00   63192.945312   63272.652344   62035.636719   \n",
       "138 2024-10-14 00:00:00+00:00   62848.398438   66482.492188   62442.152344   \n",
       "139 2024-10-15 00:00:00+00:00   66050.367188   67881.679688   64809.195312   \n",
       "140 2024-10-16 00:00:00+00:00   67042.460938   68375.289062   66758.726562   \n",
       "141 2024-10-17 00:00:00+00:00   67617.078125   67912.210938   66647.390625   \n",
       "142 2024-10-18 00:00:00+00:00   67419.109375   68969.750000   67177.820312   \n",
       "143 2024-10-19 00:00:00+00:00   68418.976562   68668.007812   68024.640625   \n",
       "144 2024-10-20 00:00:00+00:00   68364.179688   69359.007812   68105.718750   \n",
       "145 2024-10-21 00:00:00+00:00   69002.000000   69462.734375   66829.851562   \n",
       "146 2024-10-22 00:00:00+00:00   67360.703125   67801.578125   66581.367188   \n",
       "147 2024-10-23 00:00:00+00:00   67362.375000   67402.742188   65188.035156   \n",
       "148 2024-10-24 00:00:00+00:00   66653.703125   68798.960938   66454.101562   \n",
       "149 2024-10-25 00:00:00+00:00   68165.296875   68722.156250   65521.792969   \n",
       "150 2024-10-26 00:00:00+00:00   66628.734375   67317.921875   66360.593750   \n",
       "151 2024-10-27 00:00:00+00:00   67023.476562   68221.312500   66847.226562   \n",
       "152 2024-10-28 00:00:00+00:00   67922.671875   70212.265625   67535.132812   \n",
       "153 2024-10-29 00:00:00+00:00   69910.046875   73577.210938   69729.914062   \n",
       "154 2024-10-30 00:00:00+00:00   72715.367188   72905.296875   71411.734375   \n",
       "155 2024-10-31 00:00:00+00:00   72335.046875   72662.312500   69590.500000   \n",
       "156 2024-11-01 00:00:00+00:00   70216.898438   71559.015625   68779.703125   \n",
       "157 2024-11-02 00:00:00+00:00   69486.023438   69867.351562   69033.718750   \n",
       "158 2024-11-03 00:00:00+00:00   69296.382812   69361.656250   67482.523438   \n",
       "159 2024-11-04 00:00:00+00:00   68742.132812   69433.179688   66803.648438   \n",
       "160 2024-11-05 00:00:00+00:00   67811.171875   70522.789062   67458.867188   \n",
       "161 2024-11-06 00:00:00+00:00   69358.500000   76460.156250   69322.031250   \n",
       "162 2024-11-07 00:00:00+00:00   75637.085938   76943.117188   74480.421875   \n",
       "163 2024-11-08 00:00:00+00:00   75902.835938   77252.750000   75648.742188   \n",
       "164 2024-11-09 00:00:00+00:00   76556.187500   76932.765625   75773.789062   \n",
       "165 2024-11-10 00:00:00+00:00   76775.546875   81474.421875   76565.429688   \n",
       "166 2024-11-11 00:00:00+00:00   80471.414062   89604.500000   80283.250000   \n",
       "167 2024-11-12 00:00:00+00:00   88705.562500   89956.882812   85155.109375   \n",
       "168 2024-11-13 00:00:00+00:00   87929.968750   93434.351562   86256.929688   \n",
       "169 2024-11-14 00:00:00+00:00   90574.882812   91765.218750   86682.812500   \n",
       "170 2024-11-15 00:00:00+00:00   87284.179688   91868.742188   87124.898438   \n",
       "171 2024-11-16 00:00:00+00:00   91064.367188   91763.945312   90094.226562   \n",
       "172 2024-11-17 00:00:00+00:00   90558.460938   91433.039062   88741.664062   \n",
       "173 2024-11-18 00:00:00+00:00   89843.718750   92596.789062   89393.593750   \n",
       "174 2024-11-19 00:00:00+00:00   90536.812500   94002.867188   90426.984375   \n",
       "175 2024-11-20 00:00:00+00:00   92341.890625   94902.023438   91619.500000   \n",
       "176 2024-11-21 00:00:00+00:00   94334.640625   99014.218750   94132.601562   \n",
       "177 2024-11-22 00:00:00+00:00   98496.429688   99655.500000   97222.664062   \n",
       "178 2024-11-23 00:00:00+00:00   99006.742188   99014.679688   97232.890625   \n",
       "179 2024-11-24 00:00:00+00:00   97778.093750   98647.179688   95788.078125   \n",
       "180 2024-11-25 00:00:00+00:00   98033.445312   98935.031250   92642.914062   \n",
       "181 2024-11-26 00:00:00+00:00   93087.281250   94991.750000   90770.812500   \n",
       "182 2024-11-27 00:00:00+00:00   91978.140625   97361.179688   91778.664062   \n",
       "183 2024-11-28 00:00:00+00:00   95954.945312   96650.203125   94677.351562   \n",
       "184 2024-11-29 00:00:00+00:00   95653.953125   98693.171875   95407.882812   \n",
       "185 2024-11-30 00:00:00+00:00   97468.812500   97499.343750   96144.218750   \n",
       "186 2024-12-01 00:00:00+00:00   96461.335938   97888.125000   95770.187500   \n",
       "187 2024-12-02 00:00:00+00:00   97276.007812   98152.601562   94482.867188   \n",
       "188 2024-12-03 00:00:00+00:00   95854.593750   96297.203125   93629.562500   \n",
       "189 2024-12-04 00:00:00+00:00   95988.531250   99207.328125   94660.523438   \n",
       "190 2024-12-05 00:00:00+00:00   98741.539062  103900.468750   91998.781250   \n",
       "191 2024-12-06 00:00:00+00:00   97074.226562  102039.882812   96514.875000   \n",
       "192 2024-12-07 00:00:00+00:00   99916.710938  100563.382812   99030.882812   \n",
       "193 2024-12-08 00:00:00+00:00   99921.914062  101399.992188   98771.515625   \n",
       "194 2024-12-09 00:00:00+00:00  101237.062500  101272.507812   94355.914062   \n",
       "195 2024-12-10 00:00:00+00:00   97441.234375   98270.156250   94321.257812   \n",
       "196 2024-12-11 00:00:00+00:00   96656.062500  101913.359375   95747.226562   \n",
       "197 2024-12-12 00:00:00+00:00  101167.804688  102524.914062   99339.953125   \n",
       "198 2024-12-13 00:00:00+00:00  100046.648438  101888.804688   99233.281250   \n",
       "199 2024-12-14 00:00:00+00:00  101451.437500  102618.882812  100634.054688   \n",
       "200 2024-12-15 00:00:00+00:00  101373.531250  105047.539062  101227.031250   \n",
       "201 2024-12-16 00:00:00+00:00  104293.578125  107780.578125  103322.984375   \n",
       "202 2024-12-17 00:00:00+00:00  106030.687500  108268.445312  105291.734375   \n",
       "203 2024-12-18 00:00:00+00:00  106147.296875  106470.609375  100041.539062   \n",
       "204 2024-12-19 00:00:00+00:00  100070.687500  102748.148438   95587.679688   \n",
       "205 2024-12-20 00:00:00+00:00   97484.695312   98098.914062   92175.179688   \n",
       "206 2024-12-21 00:00:00+00:00   97756.195312   99507.101562   96426.523438   \n",
       "207 2024-12-22 00:00:00+00:00   97218.320312   97360.265625   94202.187500   \n",
       "208 2024-12-23 00:00:00+00:00   95099.390625   96416.210938   92403.132812   \n",
       "209 2024-12-24 00:00:00+00:00   94684.343750   99404.062500   93448.015625   \n",
       "210 2024-12-25 00:00:00+00:00   98675.914062   99478.750000   97593.468750   \n",
       "211 2024-12-26 00:00:00+00:00   99297.695312   99884.570312   95137.882812   \n",
       "212 2024-12-27 00:00:00+00:00   95704.976562   97294.843750   93310.742188   \n",
       "213 2024-12-28 00:00:00+00:00   94160.187500   95525.898438   94014.289062   \n",
       "214 2024-12-29 00:00:00+00:00   95174.054688   95174.875000   92881.789062   \n",
       "215 2024-12-30 00:00:00+00:00   93527.195312   94903.320312   91317.132812   \n",
       "216 2024-12-31 00:00:00+00:00   92643.250000   96090.601562   91914.031250   \n",
       "217 2025-01-01 00:00:00+00:00   93425.101562   94929.867188   92788.125000   \n",
       "218 2025-01-02 00:00:00+00:00   94416.289062   97739.820312   94201.570312   \n",
       "219 2025-01-03 00:00:00+00:00   96881.726562   98956.914062   96034.617188   \n",
       "220 2025-01-04 00:00:00+00:00   98106.992188   98734.429688   97562.976562   \n",
       "221 2025-01-05 00:00:00+00:00   98233.906250   98813.304688   97291.765625   \n",
       "222 2025-01-06 00:00:00+00:00   98314.953125  102482.875000   97926.148438   \n",
       "223 2025-01-07 00:00:00+00:00  102248.851562  102712.484375   96132.875000   \n",
       "224 2025-01-08 00:00:00+00:00   96924.164062   97258.320312   92525.843750   \n",
       "225 2025-01-09 00:00:00+00:00   95043.484375   95349.718750   91220.843750   \n",
       "226 2025-01-10 00:00:00+00:00   92494.492188   95770.609375   92250.093750   \n",
       "227 2025-01-11 00:00:00+00:00   94700.835938   94977.687500   93840.046875   \n",
       "228 2025-01-12 00:00:00+00:00   94565.726562   95367.539062   93712.507812   \n",
       "229 2025-01-13 00:00:00+00:00   94488.890625   95837.000000   89260.101562   \n",
       "230 2025-01-14 00:00:00+00:00   94519.007812   97352.664062   94322.156250   \n",
       "231 2025-01-15 00:00:00+00:00   96534.046875  100697.234375   96501.640625   \n",
       "232 2025-01-16 00:00:00+00:00  100505.296875  100781.585938   97364.445312   \n",
       "233 2025-01-17 00:00:00+00:00  100025.765625  105884.226562   99948.906250   \n",
       "234 2025-01-18 00:00:00+00:00  104124.953125  104913.203125  102226.617188   \n",
       "235 2025-01-19 00:00:00+00:00  104411.289062  106299.796875   99570.531250   \n",
       "236 2025-01-20 00:00:00+00:00  101083.750000  109114.882812   99471.359375   \n",
       "237 2025-01-21 00:00:00+00:00  102052.578125  107180.921875  100103.953125   \n",
       "238 2025-01-22 00:00:00+00:00  106136.382812  106294.343750  103360.265625   \n",
       "239 2025-01-23 00:00:00+00:00  103657.671875  106820.328125  101257.804688   \n",
       "240 2025-01-24 00:00:00+00:00  103965.671875  107098.546875  102772.125000   \n",
       "241 2025-01-25 00:00:00+00:00  104824.031250  105243.789062  104120.375000   \n",
       "242 2025-01-26 00:00:00+00:00  104713.210938  105438.648438  102507.710938   \n",
       "243 2025-01-27 00:00:00+00:00  102680.304688  103214.109375   97795.937500   \n",
       "244 2025-01-28 00:00:00+00:00  102095.414062  103730.820312  100238.187500   \n",
       "245 2025-01-29 00:00:00+00:00  101317.523438  104750.804688  101283.820312   \n",
       "246 2025-01-30 00:00:00+00:00  103709.335938  106418.765625  103321.648438   \n",
       "247 2025-01-31 00:00:00+00:00  104737.562500  106026.351562  101543.882812   \n",
       "248 2025-02-01 00:00:00+00:00  102402.796875  102755.726562  100297.710938   \n",
       "249 2025-02-02 00:00:00+00:00  100661.539062  101430.664062   96216.078125   \n",
       "250 2025-02-03 00:00:00+00:00   97681.101562  102514.171875   91242.890625   \n",
       "251 2025-02-04 00:00:00+00:00  101398.718750  101745.617188   96208.109375   \n",
       "252 2025-02-05 00:00:00+00:00   97878.007812   99113.210938   96174.828125   \n",
       "253 2025-02-06 00:00:00+00:00   96610.640625   99168.609375   95707.351562   \n",
       "254 2025-02-07 00:00:00+00:00   96581.320312  100154.140625   95653.882812   \n",
       "255 2025-02-08 00:00:00+00:00   96533.257812   96877.804688   95702.492188   \n",
       "256 2025-02-09 00:00:00+00:00   96481.312500   97325.281250   94745.257812   \n",
       "257 2025-02-10 00:00:00+00:00   96499.460938   98333.218750   95320.843750   \n",
       "258 2025-02-11 00:00:00+00:00   97438.132812   98492.898438   94875.039062   \n",
       "259 2025-02-12 00:00:00+00:00   95745.695312   98151.023438   94101.203125   \n",
       "260 2025-02-13 00:00:00+00:00   97888.750000   98111.085938   95269.710938   \n",
       "261 2025-02-14 00:00:00+00:00   96623.367188   98819.468750   96342.804688   \n",
       "262 2025-02-15 00:00:00+00:00   97508.382812   97975.039062   97240.195312   \n",
       "263 2025-02-16 00:00:00+00:00   97580.492188   97725.593750   96060.976562   \n",
       "264 2025-02-17 00:00:00+00:00   96179.007812   97032.234375   95243.546875   \n",
       "265 2025-02-18 00:00:00+00:00   95773.812500   96695.375000   93388.835938   \n",
       "266 2025-02-19 00:00:00+00:00   95532.531250   96855.593750   95011.968750   \n",
       "267 2025-02-20 00:00:00+00:00   96632.679688   98767.195312   96442.671875   \n",
       "268 2025-02-21 00:00:00+00:00   98340.671875   99497.968750   94852.960938   \n",
       "269 2025-02-22 00:00:00+00:00   96134.203125   96950.156250   95765.343750   \n",
       "270 2025-02-23 00:00:00+00:00   96577.804688   96671.875000   95270.453125   \n",
       "271 2025-02-24 00:00:00+00:00   96277.960938   96503.453125   91371.742188   \n",
       "272 2025-02-25 00:00:00+00:00   91437.117188   92511.078125   86008.234375   \n",
       "273 2025-02-26 00:00:00+00:00   88638.890625   89286.250000   82131.898438   \n",
       "274 2025-02-27 00:00:00+00:00   84076.859375   87000.781250   83144.960938   \n",
       "275 2025-02-28 00:00:00+00:00   84705.625000   85036.320312   78248.914062   \n",
       "276 2025-03-01 00:00:00+00:00   84373.867188   86522.304688   83794.234375   \n",
       "277 2025-03-02 00:00:00+00:00   86036.257812   95043.437500   85040.210938   \n",
       "278 2025-03-03 00:00:00+00:00   94248.421875   94429.750000   85081.304688   \n",
       "279 2025-03-04 00:00:00+00:00   86064.070312   88911.273438   81529.242188   \n",
       "280 2025-03-05 00:00:00+00:00   87222.953125   90998.242188   86379.773438   \n",
       "281 2025-03-06 00:00:00+00:00   90622.359375   92804.937500   87852.140625   \n",
       "282 2025-03-07 00:00:00+00:00   89963.281250   91191.046875   84717.679688   \n",
       "283 2025-03-08 00:00:00+00:00   86742.656250   86847.265625   85247.484375   \n",
       "284 2025-03-09 00:00:00+00:00   86154.304688   86471.132812   80052.484375   \n",
       "285 2025-03-10 00:00:00+00:00   80597.148438   83955.929688   77420.593750   \n",
       "286 2025-03-11 00:00:00+00:00   78523.875000   83577.757812   76624.250000   \n",
       "287 2025-03-12 00:00:00+00:00   82857.375000   84358.578125   80635.250000   \n",
       "288 2025-03-13 00:00:00+00:00   83724.921875   84301.695312   79931.851562   \n",
       "289 2025-03-14 00:00:00+00:00   81066.992188   85263.289062   80797.562500   \n",
       "290 2025-03-15 00:00:00+00:00   83968.406250   84672.671875   83639.593750   \n",
       "291 2025-03-16 00:00:00+00:00   84333.320312   85051.601562   82017.906250   \n",
       "292 2025-03-17 00:00:00+00:00   82576.335938   84725.328125   82492.156250   \n",
       "293 2025-03-18 00:00:00+00:00   84075.718750   84075.718750   81179.992188   \n",
       "294 2025-03-19 00:00:00+00:00   82718.804688   87021.187500   82569.726562   \n",
       "295 2025-03-20 00:00:00+00:00   86872.953125   87443.265625   83647.195312   \n",
       "296 2025-03-21 00:00:00+00:00   84164.539062   84782.273438   83171.070312   \n",
       "297 2025-03-22 00:00:00+00:00   84046.257812   84513.875000   83674.781250   \n",
       "298 2025-03-23 00:00:00+00:00   83831.898438   86094.781250   83794.914062   \n",
       "299 2025-03-24 00:00:00+00:00   86070.929688   88758.726562   85541.195312   \n",
       "\n",
       "             Close        Volume  Dividends  Stock Splits  \n",
       "0     67578.093750   26707072906        0.0           0.0  \n",
       "1     68364.992188   29509712534        0.0           0.0  \n",
       "2     67491.414062   27387283769        0.0           0.0  \n",
       "3     67706.937500   11641495604        0.0           0.0  \n",
       "4     67751.601562   17110588415        0.0           0.0  \n",
       "5     68804.781250   32401285324        0.0           0.0  \n",
       "6     70567.765625   33149696545        0.0           0.0  \n",
       "7     71082.820312   32810771409        0.0           0.0  \n",
       "8     70757.164062   25223152007        0.0           0.0  \n",
       "9     69342.585938   36188381096        0.0           0.0  \n",
       "10    69305.773438   14262185861        0.0           0.0  \n",
       "11    69647.992188   13534028500        0.0           0.0  \n",
       "12    69512.281250   20597699541        0.0           0.0  \n",
       "13    67332.031250   37116136345        0.0           0.0  \n",
       "14    68241.187500   34497940694        0.0           0.0  \n",
       "15    66756.398438   28955204146        0.0           0.0  \n",
       "16    66011.093750   27403884779        0.0           0.0  \n",
       "17    66191.000000   14121265576        0.0           0.0  \n",
       "18    66639.046875   13281140541        0.0           0.0  \n",
       "19    66490.296875   30006354476        0.0           0.0  \n",
       "20    65140.746094   39481285950        0.0           0.0  \n",
       "21    64960.296875   21103423504        0.0           0.0  \n",
       "22    64828.656250   25641109124        0.0           0.0  \n",
       "23    64096.199219   26188171739        0.0           0.0  \n",
       "24    64252.578125    9858198793        0.0           0.0  \n",
       "25    63180.796875   11170471802        0.0           0.0  \n",
       "26    60277.414062   43152133651        0.0           0.0  \n",
       "27    61804.640625   29201215431        0.0           0.0  \n",
       "28    60811.277344   22506003064        0.0           0.0  \n",
       "29    61604.800781   21231745045        0.0           0.0  \n",
       "30    60320.136719   24952866877        0.0           0.0  \n",
       "31    60887.378906   12652903396        0.0           0.0  \n",
       "32    62678.292969   17333226409        0.0           0.0  \n",
       "33    62851.980469   25468379421        0.0           0.0  \n",
       "34    62029.015625   20151616992        0.0           0.0  \n",
       "35    60173.921875   29756701685        0.0           0.0  \n",
       "36    56977.703125   41149609230        0.0           0.0  \n",
       "37    56662.375000   55417544033        0.0           0.0  \n",
       "38    58303.539062   20610320577        0.0           0.0  \n",
       "39    55849.109375   20553359505        0.0           0.0  \n",
       "40    56705.097656   39766159899        0.0           0.0  \n",
       "41    58009.226562   27849512607        0.0           0.0  \n",
       "42    57742.496094   26175260526        0.0           0.0  \n",
       "43    57344.914062   28707803842        0.0           0.0  \n",
       "44    57899.464844   25604805221        0.0           0.0  \n",
       "45    59231.953125   17080061806        0.0           0.0  \n",
       "46    60787.792969   22223416061        0.0           0.0  \n",
       "47    64870.152344   38094526099        0.0           0.0  \n",
       "48    65097.148438   41617346768        0.0           0.0  \n",
       "49    64118.792969   32525071311        0.0           0.0  \n",
       "50    63974.066406   27239305337        0.0           0.0  \n",
       "51    66710.156250   37003855410        0.0           0.0  \n",
       "52    67163.648438   19029581250        0.0           0.0  \n",
       "53    68154.523438   26652190004        0.0           0.0  \n",
       "54    67585.250000   42649109453        0.0           0.0  \n",
       "55    65927.671875   35605668666        0.0           0.0  \n",
       "56    65372.132812   27470942309        0.0           0.0  \n",
       "57    65777.226562   38315761670        0.0           0.0  \n",
       "58    67912.062500   30488630457        0.0           0.0  \n",
       "59    67813.335938   34691905492        0.0           0.0  \n",
       "60    68255.867188   18043166945        0.0           0.0  \n",
       "61    66819.914062   40780682628        0.0           0.0  \n",
       "62    66201.015625   31380492109        0.0           0.0  \n",
       "63    64619.250000   31292785994        0.0           0.0  \n",
       "64    65357.500000   40975554494        0.0           0.0  \n",
       "65    61415.066406   43060875727        0.0           0.0  \n",
       "66    60680.093750   31753030589        0.0           0.0  \n",
       "67    58116.976562   31758917219        0.0           0.0  \n",
       "68    53991.457031  108991085584        0.0           0.0  \n",
       "69    56034.316406   49300484106        0.0           0.0  \n",
       "70    55027.460938   41637562185        0.0           0.0  \n",
       "71    61710.136719   45298472567        0.0           0.0  \n",
       "72    60880.113281   33425553115        0.0           0.0  \n",
       "73    60945.812500   15745822278        0.0           0.0  \n",
       "74    58719.484375   22759754812        0.0           0.0  \n",
       "75    59354.515625   37078637820        0.0           0.0  \n",
       "76    60609.566406   30327698167        0.0           0.0  \n",
       "77    58737.269531   29961696180        0.0           0.0  \n",
       "78    57560.097656   35682112440        0.0           0.0  \n",
       "79    58894.105469   29350938673        0.0           0.0  \n",
       "80    59478.972656   13589684021        0.0           0.0  \n",
       "81    58483.964844   17740625837        0.0           0.0  \n",
       "82    59493.453125   25911207712        0.0           0.0  \n",
       "83    59012.792969   31613400008        0.0           0.0  \n",
       "84    61175.191406   32731154072        0.0           0.0  \n",
       "85    60381.914062   27625734377        0.0           0.0  \n",
       "86    64094.355469   42530509233        0.0           0.0  \n",
       "87    64178.992188   21430585163        0.0           0.0  \n",
       "88    64333.542969   18827683555        0.0           0.0  \n",
       "89    62880.660156   27682040631        0.0           0.0  \n",
       "90    59504.132812   39103882198        0.0           0.0  \n",
       "91    59027.625000   40289564698        0.0           0.0  \n",
       "92    59388.179688   32224990582        0.0           0.0  \n",
       "93    59119.476562   32292756405        0.0           0.0  \n",
       "94    58969.898438   12403470760        0.0           0.0  \n",
       "95    57325.488281   24592449997        0.0           0.0  \n",
       "96    59112.480469   27036454524        0.0           0.0  \n",
       "97    57431.023438   26666961053        0.0           0.0  \n",
       "98    57971.539062   35627680312        0.0           0.0  \n",
       "99    56160.488281   31030280656        0.0           0.0  \n",
       "100   53948.753906   49361693566        0.0           0.0  \n",
       "101   54139.687500   19061486526        0.0           0.0  \n",
       "102   54841.566406   18268287531        0.0           0.0  \n",
       "103   57019.535156   34618096173        0.0           0.0  \n",
       "104   57648.710938   28857630507        0.0           0.0  \n",
       "105   57343.171875   37049062672        0.0           0.0  \n",
       "106   58127.011719   33835707949        0.0           0.0  \n",
       "107   60571.300781   32490528356        0.0           0.0  \n",
       "108   60005.121094   16428405496        0.0           0.0  \n",
       "109   59182.835938   18120960867        0.0           0.0  \n",
       "110   58192.507812   32032822113        0.0           0.0  \n",
       "111   60308.539062   38075570118        0.0           0.0  \n",
       "112   61649.679688   40990702891        0.0           0.0  \n",
       "113   62940.457031   42710252573        0.0           0.0  \n",
       "114   63192.976562   35177164222        0.0           0.0  \n",
       "115   63394.839844   14408616220        0.0           0.0  \n",
       "116   63648.710938   20183348802        0.0           0.0  \n",
       "117   63329.800781   31400285425        0.0           0.0  \n",
       "118   64301.968750   29938335243        0.0           0.0  \n",
       "119   63143.144531   25078377700        0.0           0.0  \n",
       "120   65181.019531   36873129847        0.0           0.0  \n",
       "121   65790.664062   32058813449        0.0           0.0  \n",
       "122   65887.648438   15243637984        0.0           0.0  \n",
       "123   65635.304688   14788214575        0.0           0.0  \n",
       "124   63329.500000   37112957475        0.0           0.0  \n",
       "125   60837.007812   50220923500        0.0           0.0  \n",
       "126   60632.785156   40762722398        0.0           0.0  \n",
       "127   60759.402344   36106447279        0.0           0.0  \n",
       "128   62067.476562   29585472513        0.0           0.0  \n",
       "129   62089.949219   13305410749        0.0           0.0  \n",
       "130   62818.953125   14776233667        0.0           0.0  \n",
       "131   62236.660156   34253562610        0.0           0.0  \n",
       "132   62131.968750   28134475157        0.0           0.0  \n",
       "133   60582.101562   27670982363        0.0           0.0  \n",
       "134   60274.500000   30452813570        0.0           0.0  \n",
       "135   62445.089844   30327141594        0.0           0.0  \n",
       "136   63193.023438   16744110886        0.0           0.0  \n",
       "137   62851.375000   18177529690        0.0           0.0  \n",
       "138   66046.125000   43706958056        0.0           0.0  \n",
       "139   67041.109375   48863870879        0.0           0.0  \n",
       "140   67612.718750   38195189534        0.0           0.0  \n",
       "141   67399.835938   32790898511        0.0           0.0  \n",
       "142   68418.789062   36857165014        0.0           0.0  \n",
       "143   68362.734375   14443497908        0.0           0.0  \n",
       "144   69001.703125   18975847518        0.0           0.0  \n",
       "145   67367.851562   37498611780        0.0           0.0  \n",
       "146   67361.406250   31808472566        0.0           0.0  \n",
       "147   66432.195312   32263980353        0.0           0.0  \n",
       "148   68161.054688   31414428647        0.0           0.0  \n",
       "149   66642.414062   41469984306        0.0           0.0  \n",
       "150   67014.695312   19588098156        0.0           0.0  \n",
       "151   67929.296875   16721307878        0.0           0.0  \n",
       "152   69907.757812   38799856657        0.0           0.0  \n",
       "153   72720.492188   58541874402        0.0           0.0  \n",
       "154   72339.539062   40646637831        0.0           0.0  \n",
       "155   70215.187500   40627912076        0.0           0.0  \n",
       "156   69482.468750   49989795365        0.0           0.0  \n",
       "157   69289.273438   18184612091        0.0           0.0  \n",
       "158   68741.117188   34868307655        0.0           0.0  \n",
       "159   67811.507812   41184819348        0.0           0.0  \n",
       "160   69359.562500   46046889204        0.0           0.0  \n",
       "161   75639.078125  118592653963        0.0           0.0  \n",
       "162   75904.859375   63467654989        0.0           0.0  \n",
       "163   76545.476562   55176858003        0.0           0.0  \n",
       "164   76778.867188   29009480361        0.0           0.0  \n",
       "165   80474.187500   82570594495        0.0           0.0  \n",
       "166   88701.484375  117966845037        0.0           0.0  \n",
       "167   87955.812500  133673285375        0.0           0.0  \n",
       "168   90584.164062  123559027869        0.0           0.0  \n",
       "169   87250.429688   87616705248        0.0           0.0  \n",
       "170   91066.007812   78243109518        0.0           0.0  \n",
       "171   90558.476562   44333192814        0.0           0.0  \n",
       "172   89845.851562   46350159305        0.0           0.0  \n",
       "173   90542.640625   75535775084        0.0           0.0  \n",
       "174   92343.789062   74521048295        0.0           0.0  \n",
       "175   94339.492188   71730956426        0.0           0.0  \n",
       "176   98504.726562  106024505582        0.0           0.0  \n",
       "177   98997.664062   78473580551        0.0           0.0  \n",
       "178   97777.281250   44414644677        0.0           0.0  \n",
       "179   98013.820312   51712020623        0.0           0.0  \n",
       "180   93102.296875   80909462490        0.0           0.0  \n",
       "181   91985.320312   91656519855        0.0           0.0  \n",
       "182   95962.531250   71133452438        0.0           0.0  \n",
       "183   95652.468750   52260008261        0.0           0.0  \n",
       "184   97461.523438   54968682476        0.0           0.0  \n",
       "185   96449.054688   31634227866        0.0           0.0  \n",
       "186   97279.789062   36590695296        0.0           0.0  \n",
       "187   95865.304688   72680784305        0.0           0.0  \n",
       "188   96002.164062   67067810961        0.0           0.0  \n",
       "189   98768.531250   77199817112        0.0           0.0  \n",
       "190   96593.570312  149218945580        0.0           0.0  \n",
       "191   99920.710938   94534772658        0.0           0.0  \n",
       "192   99923.335938   44177510897        0.0           0.0  \n",
       "193  101236.015625   44125751925        0.0           0.0  \n",
       "194   97432.718750  110676473908        0.0           0.0  \n",
       "195   96675.429688  104823780634        0.0           0.0  \n",
       "196  101173.031250   85391409936        0.0           0.0  \n",
       "197  100043.000000   72073983533        0.0           0.0  \n",
       "198  101459.257812   56894751583        0.0           0.0  \n",
       "199  101372.968750   40422968793        0.0           0.0  \n",
       "200  104298.695312   51145914137        0.0           0.0  \n",
       "201  106029.718750   91020417816        0.0           0.0  \n",
       "202  106140.601562   68589364868        0.0           0.0  \n",
       "203  100041.539062   93865656139        0.0           0.0  \n",
       "204   97490.953125   97221662392        0.0           0.0  \n",
       "205   97755.929688  105634083408        0.0           0.0  \n",
       "206   97224.726562   51765334294        0.0           0.0  \n",
       "207   95104.937500   43147981314        0.0           0.0  \n",
       "208   94686.242188   65239002919        0.0           0.0  \n",
       "209   98676.093750   47114953674        0.0           0.0  \n",
       "210   99299.195312   33700394629        0.0           0.0  \n",
       "211   95795.515625   47054980873        0.0           0.0  \n",
       "212   94164.859375   52419934565        0.0           0.0  \n",
       "213   95163.929688   24107436185        0.0           0.0  \n",
       "214   93530.226562   29635885267        0.0           0.0  \n",
       "215   92643.210938   56188003691        0.0           0.0  \n",
       "216   93429.203125   43625106843        0.0           0.0  \n",
       "217   94419.757812   24519888919        0.0           0.0  \n",
       "218   96886.875000   46009564411        0.0           0.0  \n",
       "219   98107.429688   35611391163        0.0           0.0  \n",
       "220   98236.226562   22342608078        0.0           0.0  \n",
       "221   98314.960938   20525254825        0.0           0.0  \n",
       "222  102078.085938   51823432705        0.0           0.0  \n",
       "223   96922.703125   58685738547        0.0           0.0  \n",
       "224   95043.523438   63875859171        0.0           0.0  \n",
       "225   92484.039062   62777261693        0.0           0.0  \n",
       "226   94701.453125   62058693684        0.0           0.0  \n",
       "227   94566.593750   18860894100        0.0           0.0  \n",
       "228   94488.437500   20885130965        0.0           0.0  \n",
       "229   94516.523438   72978998252        0.0           0.0  \n",
       "230   96534.046875   53769675818        0.0           0.0  \n",
       "231  100504.492188   57805923627        0.0           0.0  \n",
       "232   99756.906250   54103781805        0.0           0.0  \n",
       "233  104462.039062   71888972663        0.0           0.0  \n",
       "234  104408.070312   50445655726        0.0           0.0  \n",
       "235  101089.609375   76789928525        0.0           0.0  \n",
       "236  102016.664062  126279678351        0.0           0.0  \n",
       "237  106146.265625   88733878242        0.0           0.0  \n",
       "238  103653.070312   53878181052        0.0           0.0  \n",
       "239  103960.171875  104104515428        0.0           0.0  \n",
       "240  104819.484375   52388229265        0.0           0.0  \n",
       "241  104714.648438   23888996502        0.0           0.0  \n",
       "242  102682.500000   22543395879        0.0           0.0  \n",
       "243  102087.687500   89006608428        0.0           0.0  \n",
       "244  101332.476562   47180685494        0.0           0.0  \n",
       "245  103703.210938   47432049818        0.0           0.0  \n",
       "246  104735.304688   41915744521        0.0           0.0  \n",
       "247  102405.023438   45732764360        0.0           0.0  \n",
       "248  100655.906250   27757944848        0.0           0.0  \n",
       "249   97688.976562   63091816853        0.0           0.0  \n",
       "250  101405.421875  115400897748        0.0           0.0  \n",
       "251   97871.820312   73002130211        0.0           0.0  \n",
       "252   96615.445312   49125911241        0.0           0.0  \n",
       "253   96593.296875   45302471947        0.0           0.0  \n",
       "254   96529.085938   55741290456        0.0           0.0  \n",
       "255   96482.453125   22447526395        0.0           0.0  \n",
       "256   96500.093750   27732901800        0.0           0.0  \n",
       "257   97437.554688   40078962391        0.0           0.0  \n",
       "258   95747.429688   37488783272        0.0           0.0  \n",
       "259   97885.859375   49340445530        0.0           0.0  \n",
       "260   96623.867188   37147280860        0.0           0.0  \n",
       "261   97508.968750   32697987277        0.0           0.0  \n",
       "262   97580.351562   17047266288        0.0           0.0  \n",
       "263   96175.031250   16536755396        0.0           0.0  \n",
       "264   95773.382812   27336550690        0.0           0.0  \n",
       "265   95539.546875   37325720482        0.0           0.0  \n",
       "266   96635.609375   28990872862        0.0           0.0  \n",
       "267   98333.937500   31668022771        0.0           0.0  \n",
       "268   96125.546875   49608706470        0.0           0.0  \n",
       "269   96577.757812   18353824477        0.0           0.0  \n",
       "270   96273.921875   16999478976        0.0           0.0  \n",
       "271   91418.171875   44046480529        0.0           0.0  \n",
       "272   88736.171875   92139104128        0.0           0.0  \n",
       "273   84347.023438   64597492134        0.0           0.0  \n",
       "274   84704.226562   52659591954        0.0           0.0  \n",
       "275   84373.007812   83610570576        0.0           0.0  \n",
       "276   86031.914062   29190628396        0.0           0.0  \n",
       "277   94248.351562   58398341092        0.0           0.0  \n",
       "278   86065.671875   70072228536        0.0           0.0  \n",
       "279   87222.195312   68095241474        0.0           0.0  \n",
       "280   90623.562500   50498988027        0.0           0.0  \n",
       "281   89961.726562   47749810486        0.0           0.0  \n",
       "282   86742.671875   65945677657        0.0           0.0  \n",
       "283   86154.593750   18206118081        0.0           0.0  \n",
       "284   80601.039062   30899345977        0.0           0.0  \n",
       "285   78532.000000   54061099422        0.0           0.0  \n",
       "286   82862.210938   54702837196        0.0           0.0  \n",
       "287   83722.359375   40353484454        0.0           0.0  \n",
       "288   81066.703125   31412940153        0.0           0.0  \n",
       "289   83969.101562   29588112414        0.0           0.0  \n",
       "290   84343.109375   13650491277        0.0           0.0  \n",
       "291   82579.687500   21330270174        0.0           0.0  \n",
       "292   84075.687500   25092785558        0.0           0.0  \n",
       "293   82718.500000   24095774594        0.0           0.0  \n",
       "294   86854.226562   34931960257        0.0           0.0  \n",
       "295   84167.195312   29028988961        0.0           0.0  \n",
       "296   84043.242188   19030452299        0.0           0.0  \n",
       "297   83832.484375    9863214091        0.0           0.0  \n",
       "298   86054.375000   12594615537        0.0           0.0  \n",
       "299   87498.914062   34582604933        0.0           0.0  "
      ]
     },
     "execution_count": 18,
     "metadata": {},
     "output_type": "execute_result"
    }
   ],
   "source": [
    "price_df = pd.read_csv('dataset/historical_pricing.csv', parse_dates=['Date'])\n",
    "price_df"
   ]
  },
  {
   "cell_type": "markdown",
   "metadata": {},
   "source": [
    "# Plot price with News sentiment"
   ]
  },
  {
   "cell_type": "code",
   "execution_count": 19,
   "metadata": {},
   "outputs": [
    {
     "data": {
      "application/vnd.plotly.v1+json": {
       "config": {
        "plotlyServerURL": "https://plot.ly"
       },
       "data": [
        {
         "hovertemplate": "Date=%{x}<br>Close=%{y}<extra></extra>",
         "legendgroup": "",
         "line": {
          "color": "#636efa",
          "dash": "solid"
         },
         "marker": {
          "symbol": "circle"
         },
         "mode": "lines",
         "name": "",
         "orientation": "v",
         "showlegend": false,
         "type": "scatter",
         "x": [
          "2024-05-29T00:00:00.000000000",
          "2024-05-30T00:00:00.000000000",
          "2024-05-31T00:00:00.000000000",
          "2024-06-01T00:00:00.000000000",
          "2024-06-02T00:00:00.000000000",
          "2024-06-03T00:00:00.000000000",
          "2024-06-04T00:00:00.000000000",
          "2024-06-05T00:00:00.000000000",
          "2024-06-06T00:00:00.000000000",
          "2024-06-07T00:00:00.000000000",
          "2024-06-08T00:00:00.000000000",
          "2024-06-09T00:00:00.000000000",
          "2024-06-10T00:00:00.000000000",
          "2024-06-11T00:00:00.000000000",
          "2024-06-12T00:00:00.000000000",
          "2024-06-13T00:00:00.000000000",
          "2024-06-14T00:00:00.000000000",
          "2024-06-15T00:00:00.000000000",
          "2024-06-16T00:00:00.000000000",
          "2024-06-17T00:00:00.000000000",
          "2024-06-18T00:00:00.000000000",
          "2024-06-19T00:00:00.000000000",
          "2024-06-20T00:00:00.000000000",
          "2024-06-21T00:00:00.000000000",
          "2024-06-22T00:00:00.000000000",
          "2024-06-23T00:00:00.000000000",
          "2024-06-24T00:00:00.000000000",
          "2024-06-25T00:00:00.000000000",
          "2024-06-26T00:00:00.000000000",
          "2024-06-27T00:00:00.000000000",
          "2024-06-28T00:00:00.000000000",
          "2024-06-29T00:00:00.000000000",
          "2024-06-30T00:00:00.000000000",
          "2024-07-01T00:00:00.000000000",
          "2024-07-02T00:00:00.000000000",
          "2024-07-03T00:00:00.000000000",
          "2024-07-04T00:00:00.000000000",
          "2024-07-05T00:00:00.000000000",
          "2024-07-06T00:00:00.000000000",
          "2024-07-07T00:00:00.000000000",
          "2024-07-08T00:00:00.000000000",
          "2024-07-09T00:00:00.000000000",
          "2024-07-10T00:00:00.000000000",
          "2024-07-11T00:00:00.000000000",
          "2024-07-12T00:00:00.000000000",
          "2024-07-13T00:00:00.000000000",
          "2024-07-14T00:00:00.000000000",
          "2024-07-15T00:00:00.000000000",
          "2024-07-16T00:00:00.000000000",
          "2024-07-17T00:00:00.000000000",
          "2024-07-18T00:00:00.000000000",
          "2024-07-19T00:00:00.000000000",
          "2024-07-20T00:00:00.000000000",
          "2024-07-21T00:00:00.000000000",
          "2024-07-22T00:00:00.000000000",
          "2024-07-23T00:00:00.000000000",
          "2024-07-24T00:00:00.000000000",
          "2024-07-25T00:00:00.000000000",
          "2024-07-26T00:00:00.000000000",
          "2024-07-27T00:00:00.000000000",
          "2024-07-28T00:00:00.000000000",
          "2024-07-29T00:00:00.000000000",
          "2024-07-30T00:00:00.000000000",
          "2024-07-31T00:00:00.000000000",
          "2024-08-01T00:00:00.000000000",
          "2024-08-02T00:00:00.000000000",
          "2024-08-03T00:00:00.000000000",
          "2024-08-04T00:00:00.000000000",
          "2024-08-05T00:00:00.000000000",
          "2024-08-06T00:00:00.000000000",
          "2024-08-07T00:00:00.000000000",
          "2024-08-08T00:00:00.000000000",
          "2024-08-09T00:00:00.000000000",
          "2024-08-10T00:00:00.000000000",
          "2024-08-11T00:00:00.000000000",
          "2024-08-12T00:00:00.000000000",
          "2024-08-13T00:00:00.000000000",
          "2024-08-14T00:00:00.000000000",
          "2024-08-15T00:00:00.000000000",
          "2024-08-16T00:00:00.000000000",
          "2024-08-17T00:00:00.000000000",
          "2024-08-18T00:00:00.000000000",
          "2024-08-19T00:00:00.000000000",
          "2024-08-20T00:00:00.000000000",
          "2024-08-21T00:00:00.000000000",
          "2024-08-22T00:00:00.000000000",
          "2024-08-23T00:00:00.000000000",
          "2024-08-24T00:00:00.000000000",
          "2024-08-25T00:00:00.000000000",
          "2024-08-26T00:00:00.000000000",
          "2024-08-27T00:00:00.000000000",
          "2024-08-28T00:00:00.000000000",
          "2024-08-29T00:00:00.000000000",
          "2024-08-30T00:00:00.000000000",
          "2024-08-31T00:00:00.000000000",
          "2024-09-01T00:00:00.000000000",
          "2024-09-02T00:00:00.000000000",
          "2024-09-03T00:00:00.000000000",
          "2024-09-04T00:00:00.000000000",
          "2024-09-05T00:00:00.000000000",
          "2024-09-06T00:00:00.000000000",
          "2024-09-07T00:00:00.000000000",
          "2024-09-08T00:00:00.000000000",
          "2024-09-09T00:00:00.000000000",
          "2024-09-10T00:00:00.000000000",
          "2024-09-11T00:00:00.000000000",
          "2024-09-12T00:00:00.000000000",
          "2024-09-13T00:00:00.000000000",
          "2024-09-14T00:00:00.000000000",
          "2024-09-15T00:00:00.000000000",
          "2024-09-16T00:00:00.000000000",
          "2024-09-17T00:00:00.000000000",
          "2024-09-18T00:00:00.000000000",
          "2024-09-19T00:00:00.000000000",
          "2024-09-20T00:00:00.000000000",
          "2024-09-21T00:00:00.000000000",
          "2024-09-22T00:00:00.000000000",
          "2024-09-23T00:00:00.000000000",
          "2024-09-24T00:00:00.000000000",
          "2024-09-25T00:00:00.000000000",
          "2024-09-26T00:00:00.000000000",
          "2024-09-27T00:00:00.000000000",
          "2024-09-28T00:00:00.000000000",
          "2024-09-29T00:00:00.000000000",
          "2024-09-30T00:00:00.000000000",
          "2024-10-01T00:00:00.000000000",
          "2024-10-02T00:00:00.000000000",
          "2024-10-03T00:00:00.000000000",
          "2024-10-04T00:00:00.000000000",
          "2024-10-05T00:00:00.000000000",
          "2024-10-06T00:00:00.000000000",
          "2024-10-07T00:00:00.000000000",
          "2024-10-08T00:00:00.000000000",
          "2024-10-09T00:00:00.000000000",
          "2024-10-10T00:00:00.000000000",
          "2024-10-11T00:00:00.000000000",
          "2024-10-12T00:00:00.000000000",
          "2024-10-13T00:00:00.000000000",
          "2024-10-14T00:00:00.000000000",
          "2024-10-15T00:00:00.000000000",
          "2024-10-16T00:00:00.000000000",
          "2024-10-17T00:00:00.000000000",
          "2024-10-18T00:00:00.000000000",
          "2024-10-19T00:00:00.000000000",
          "2024-10-20T00:00:00.000000000",
          "2024-10-21T00:00:00.000000000",
          "2024-10-22T00:00:00.000000000",
          "2024-10-23T00:00:00.000000000",
          "2024-10-24T00:00:00.000000000",
          "2024-10-25T00:00:00.000000000",
          "2024-10-26T00:00:00.000000000",
          "2024-10-27T00:00:00.000000000",
          "2024-10-28T00:00:00.000000000",
          "2024-10-29T00:00:00.000000000",
          "2024-10-30T00:00:00.000000000",
          "2024-10-31T00:00:00.000000000",
          "2024-11-01T00:00:00.000000000",
          "2024-11-02T00:00:00.000000000",
          "2024-11-03T00:00:00.000000000",
          "2024-11-04T00:00:00.000000000",
          "2024-11-05T00:00:00.000000000",
          "2024-11-06T00:00:00.000000000",
          "2024-11-07T00:00:00.000000000",
          "2024-11-08T00:00:00.000000000",
          "2024-11-09T00:00:00.000000000",
          "2024-11-10T00:00:00.000000000",
          "2024-11-11T00:00:00.000000000",
          "2024-11-12T00:00:00.000000000",
          "2024-11-13T00:00:00.000000000",
          "2024-11-14T00:00:00.000000000",
          "2024-11-15T00:00:00.000000000",
          "2024-11-16T00:00:00.000000000",
          "2024-11-17T00:00:00.000000000",
          "2024-11-18T00:00:00.000000000",
          "2024-11-19T00:00:00.000000000",
          "2024-11-20T00:00:00.000000000",
          "2024-11-21T00:00:00.000000000",
          "2024-11-22T00:00:00.000000000",
          "2024-11-23T00:00:00.000000000",
          "2024-11-24T00:00:00.000000000",
          "2024-11-25T00:00:00.000000000",
          "2024-11-26T00:00:00.000000000",
          "2024-11-27T00:00:00.000000000",
          "2024-11-28T00:00:00.000000000",
          "2024-11-29T00:00:00.000000000",
          "2024-11-30T00:00:00.000000000",
          "2024-12-01T00:00:00.000000000",
          "2024-12-02T00:00:00.000000000",
          "2024-12-03T00:00:00.000000000",
          "2024-12-04T00:00:00.000000000",
          "2024-12-05T00:00:00.000000000",
          "2024-12-06T00:00:00.000000000",
          "2024-12-07T00:00:00.000000000",
          "2024-12-08T00:00:00.000000000",
          "2024-12-09T00:00:00.000000000",
          "2024-12-10T00:00:00.000000000",
          "2024-12-11T00:00:00.000000000",
          "2024-12-12T00:00:00.000000000",
          "2024-12-13T00:00:00.000000000",
          "2024-12-14T00:00:00.000000000",
          "2024-12-15T00:00:00.000000000",
          "2024-12-16T00:00:00.000000000",
          "2024-12-17T00:00:00.000000000",
          "2024-12-18T00:00:00.000000000",
          "2024-12-19T00:00:00.000000000",
          "2024-12-20T00:00:00.000000000",
          "2024-12-21T00:00:00.000000000",
          "2024-12-22T00:00:00.000000000",
          "2024-12-23T00:00:00.000000000",
          "2024-12-24T00:00:00.000000000",
          "2024-12-25T00:00:00.000000000",
          "2024-12-26T00:00:00.000000000",
          "2024-12-27T00:00:00.000000000",
          "2024-12-28T00:00:00.000000000",
          "2024-12-29T00:00:00.000000000",
          "2024-12-30T00:00:00.000000000",
          "2024-12-31T00:00:00.000000000",
          "2025-01-01T00:00:00.000000000",
          "2025-01-02T00:00:00.000000000",
          "2025-01-03T00:00:00.000000000",
          "2025-01-04T00:00:00.000000000",
          "2025-01-05T00:00:00.000000000",
          "2025-01-06T00:00:00.000000000",
          "2025-01-07T00:00:00.000000000",
          "2025-01-08T00:00:00.000000000",
          "2025-01-09T00:00:00.000000000",
          "2025-01-10T00:00:00.000000000",
          "2025-01-11T00:00:00.000000000",
          "2025-01-12T00:00:00.000000000",
          "2025-01-13T00:00:00.000000000",
          "2025-01-14T00:00:00.000000000",
          "2025-01-15T00:00:00.000000000",
          "2025-01-16T00:00:00.000000000",
          "2025-01-17T00:00:00.000000000",
          "2025-01-18T00:00:00.000000000",
          "2025-01-19T00:00:00.000000000",
          "2025-01-20T00:00:00.000000000",
          "2025-01-21T00:00:00.000000000",
          "2025-01-22T00:00:00.000000000",
          "2025-01-23T00:00:00.000000000",
          "2025-01-24T00:00:00.000000000",
          "2025-01-25T00:00:00.000000000",
          "2025-01-26T00:00:00.000000000",
          "2025-01-27T00:00:00.000000000",
          "2025-01-28T00:00:00.000000000",
          "2025-01-29T00:00:00.000000000",
          "2025-01-30T00:00:00.000000000",
          "2025-01-31T00:00:00.000000000",
          "2025-02-01T00:00:00.000000000",
          "2025-02-02T00:00:00.000000000",
          "2025-02-03T00:00:00.000000000",
          "2025-02-04T00:00:00.000000000",
          "2025-02-05T00:00:00.000000000",
          "2025-02-06T00:00:00.000000000",
          "2025-02-07T00:00:00.000000000",
          "2025-02-08T00:00:00.000000000",
          "2025-02-09T00:00:00.000000000",
          "2025-02-10T00:00:00.000000000",
          "2025-02-11T00:00:00.000000000",
          "2025-02-12T00:00:00.000000000",
          "2025-02-13T00:00:00.000000000",
          "2025-02-14T00:00:00.000000000",
          "2025-02-15T00:00:00.000000000",
          "2025-02-16T00:00:00.000000000",
          "2025-02-17T00:00:00.000000000",
          "2025-02-18T00:00:00.000000000",
          "2025-02-19T00:00:00.000000000",
          "2025-02-20T00:00:00.000000000",
          "2025-02-21T00:00:00.000000000",
          "2025-02-22T00:00:00.000000000",
          "2025-02-23T00:00:00.000000000",
          "2025-02-24T00:00:00.000000000",
          "2025-02-25T00:00:00.000000000",
          "2025-02-26T00:00:00.000000000",
          "2025-02-27T00:00:00.000000000",
          "2025-02-28T00:00:00.000000000",
          "2025-03-01T00:00:00.000000000",
          "2025-03-02T00:00:00.000000000",
          "2025-03-03T00:00:00.000000000",
          "2025-03-04T00:00:00.000000000",
          "2025-03-05T00:00:00.000000000",
          "2025-03-06T00:00:00.000000000",
          "2025-03-07T00:00:00.000000000",
          "2025-03-08T00:00:00.000000000",
          "2025-03-09T00:00:00.000000000",
          "2025-03-10T00:00:00.000000000",
          "2025-03-11T00:00:00.000000000",
          "2025-03-12T00:00:00.000000000",
          "2025-03-13T00:00:00.000000000",
          "2025-03-14T00:00:00.000000000",
          "2025-03-15T00:00:00.000000000",
          "2025-03-16T00:00:00.000000000",
          "2025-03-17T00:00:00.000000000",
          "2025-03-18T00:00:00.000000000",
          "2025-03-19T00:00:00.000000000",
          "2025-03-20T00:00:00.000000000",
          "2025-03-21T00:00:00.000000000",
          "2025-03-22T00:00:00.000000000",
          "2025-03-23T00:00:00.000000000",
          "2025-03-24T00:00:00.000000000"
         ],
         "xaxis": "x",
         "y": {
          "bdata": "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",
          "dtype": "f8"
         },
         "yaxis": "y"
        }
       ],
       "layout": {
        "annotations": [
         {
          "align": "left",
          "arrowhead": 1,
          "bgcolor": "lightgreen",
          "hovertext": "Saylor predicts<br />Bitcoin's<br />monumental rise<br />under Trump's<br />crypto<br />initiative",
          "showarrow": true,
          "text": "Positive",
          "x": "2025-03-03T00:00:00",
          "xref": "x",
          "y": 1,
          "yref": "paper"
         },
         {
          "align": "left",
          "arrowhead": 1,
          "bgcolor": "pink",
          "hovertext": "Sentiment<br />analysis for<br />important coins.<br />Bitcoin<br />currently in<br />negative<br />territory",
          "showarrow": true,
          "text": "Negative",
          "x": "2025-03-17T00:00:00",
          "xref": "x",
          "y": 1,
          "yref": "paper"
         },
         {
          "align": "left",
          "arrowhead": 1,
          "bgcolor": "lightgreen",
          "hovertext": "Athena Bitcoin<br />Global (ABIT:<br />6.28c) soars<br />10%; +0.58c<br />[10.2%]",
          "showarrow": true,
          "text": "Positive",
          "x": "2025-02-19T00:00:00",
          "xref": "x",
          "y": 1,
          "yref": "paper"
         },
         {
          "align": "left",
          "arrowhead": 1,
          "bgcolor": "lightgreen",
          "hovertext": "Brazil's<br />Galipolo sees<br />surge in crypto<br />use, says 90% of<br />flow tied to<br />stablecoins",
          "showarrow": true,
          "text": "Positive",
          "x": "2025-02-06T00:00:00",
          "xref": "x",
          "y": 1,
          "yref": "paper"
         },
         {
          "align": "left",
          "arrowhead": 1,
          "bgcolor": "pink",
          "hovertext": "B.C. court<br />grants<br />production order<br />to man defrauded<br />out of $26<br />million in<br />bitcoin",
          "showarrow": true,
          "text": "Negative",
          "x": "2025-03-13T00:00:00",
          "xref": "x",
          "y": 1,
          "yref": "paper"
         }
        ],
        "legend": {
         "tracegroupgap": 0
        },
        "shapes": [
         {
          "line": {
           "color": "lightgrey"
          },
          "type": "line",
          "x0": "2025-03-03T00:00:00",
          "x1": "2025-03-03T00:00:00",
          "xref": "x",
          "y0": 0,
          "y1": 1,
          "yref": "y domain"
         },
         {
          "line": {
           "color": "lightgrey"
          },
          "type": "line",
          "x0": "2025-03-17T00:00:00",
          "x1": "2025-03-17T00:00:00",
          "xref": "x",
          "y0": 0,
          "y1": 1,
          "yref": "y domain"
         },
         {
          "line": {
           "color": "lightgrey"
          },
          "type": "line",
          "x0": "2025-02-19T00:00:00",
          "x1": "2025-02-19T00:00:00",
          "xref": "x",
          "y0": 0,
          "y1": 1,
          "yref": "y domain"
         },
         {
          "line": {
           "color": "lightgrey"
          },
          "type": "line",
          "x0": "2025-02-06T00:00:00",
          "x1": "2025-02-06T00:00:00",
          "xref": "x",
          "y0": 0,
          "y1": 1,
          "yref": "y domain"
         },
         {
          "line": {
           "color": "lightgrey"
          },
          "type": "line",
          "x0": "2025-03-13T00:00:00",
          "x1": "2025-03-13T00:00:00",
          "xref": "x",
          "y0": 0,
          "y1": 1,
          "yref": "y domain"
         }
        ],
        "template": {
         "data": {
          "bar": [
           {
            "error_x": {
             "color": "#2a3f5f"
            },
            "error_y": {
             "color": "#2a3f5f"
            },
            "marker": {
             "line": {
              "color": "#E5ECF6",
              "width": 0.5
             },
             "pattern": {
              "fillmode": "overlay",
              "size": 10,
              "solidity": 0.2
             }
            },
            "type": "bar"
           }
          ],
          "barpolar": [
           {
            "marker": {
             "line": {
              "color": "#E5ECF6",
              "width": 0.5
             },
             "pattern": {
              "fillmode": "overlay",
              "size": 10,
              "solidity": 0.2
             }
            },
            "type": "barpolar"
           }
          ],
          "carpet": [
           {
            "aaxis": {
             "endlinecolor": "#2a3f5f",
             "gridcolor": "white",
             "linecolor": "white",
             "minorgridcolor": "white",
             "startlinecolor": "#2a3f5f"
            },
            "baxis": {
             "endlinecolor": "#2a3f5f",
             "gridcolor": "white",
             "linecolor": "white",
             "minorgridcolor": "white",
             "startlinecolor": "#2a3f5f"
            },
            "type": "carpet"
           }
          ],
          "choropleth": [
           {
            "colorbar": {
             "outlinewidth": 0,
             "ticks": ""
            },
            "type": "choropleth"
           }
          ],
          "contour": [
           {
            "colorbar": {
             "outlinewidth": 0,
             "ticks": ""
            },
            "colorscale": [
             [
              0,
              "#0d0887"
             ],
             [
              0.1111111111111111,
              "#46039f"
             ],
             [
              0.2222222222222222,
              "#7201a8"
             ],
             [
              0.3333333333333333,
              "#9c179e"
             ],
             [
              0.4444444444444444,
              "#bd3786"
             ],
             [
              0.5555555555555556,
              "#d8576b"
             ],
             [
              0.6666666666666666,
              "#ed7953"
             ],
             [
              0.7777777777777778,
              "#fb9f3a"
             ],
             [
              0.8888888888888888,
              "#fdca26"
             ],
             [
              1,
              "#f0f921"
             ]
            ],
            "type": "contour"
           }
          ],
          "contourcarpet": [
           {
            "colorbar": {
             "outlinewidth": 0,
             "ticks": ""
            },
            "type": "contourcarpet"
           }
          ],
          "heatmap": [
           {
            "colorbar": {
             "outlinewidth": 0,
             "ticks": ""
            },
            "colorscale": [
             [
              0,
              "#0d0887"
             ],
             [
              0.1111111111111111,
              "#46039f"
             ],
             [
              0.2222222222222222,
              "#7201a8"
             ],
             [
              0.3333333333333333,
              "#9c179e"
             ],
             [
              0.4444444444444444,
              "#bd3786"
             ],
             [
              0.5555555555555556,
              "#d8576b"
             ],
             [
              0.6666666666666666,
              "#ed7953"
             ],
             [
              0.7777777777777778,
              "#fb9f3a"
             ],
             [
              0.8888888888888888,
              "#fdca26"
             ],
             [
              1,
              "#f0f921"
             ]
            ],
            "type": "heatmap"
           }
          ],
          "histogram": [
           {
            "marker": {
             "pattern": {
              "fillmode": "overlay",
              "size": 10,
              "solidity": 0.2
             }
            },
            "type": "histogram"
           }
          ],
          "histogram2d": [
           {
            "colorbar": {
             "outlinewidth": 0,
             "ticks": ""
            },
            "colorscale": [
             [
              0,
              "#0d0887"
             ],
             [
              0.1111111111111111,
              "#46039f"
             ],
             [
              0.2222222222222222,
              "#7201a8"
             ],
             [
              0.3333333333333333,
              "#9c179e"
             ],
             [
              0.4444444444444444,
              "#bd3786"
             ],
             [
              0.5555555555555556,
              "#d8576b"
             ],
             [
              0.6666666666666666,
              "#ed7953"
             ],
             [
              0.7777777777777778,
              "#fb9f3a"
             ],
             [
              0.8888888888888888,
              "#fdca26"
             ],
             [
              1,
              "#f0f921"
             ]
            ],
            "type": "histogram2d"
           }
          ],
          "histogram2dcontour": [
           {
            "colorbar": {
             "outlinewidth": 0,
             "ticks": ""
            },
            "colorscale": [
             [
              0,
              "#0d0887"
             ],
             [
              0.1111111111111111,
              "#46039f"
             ],
             [
              0.2222222222222222,
              "#7201a8"
             ],
             [
              0.3333333333333333,
              "#9c179e"
             ],
             [
              0.4444444444444444,
              "#bd3786"
             ],
             [
              0.5555555555555556,
              "#d8576b"
             ],
             [
              0.6666666666666666,
              "#ed7953"
             ],
             [
              0.7777777777777778,
              "#fb9f3a"
             ],
             [
              0.8888888888888888,
              "#fdca26"
             ],
             [
              1,
              "#f0f921"
             ]
            ],
            "type": "histogram2dcontour"
           }
          ],
          "mesh3d": [
           {
            "colorbar": {
             "outlinewidth": 0,
             "ticks": ""
            },
            "type": "mesh3d"
           }
          ],
          "parcoords": [
           {
            "line": {
             "colorbar": {
              "outlinewidth": 0,
              "ticks": ""
             }
            },
            "type": "parcoords"
           }
          ],
          "pie": [
           {
            "automargin": true,
            "type": "pie"
           }
          ],
          "scatter": [
           {
            "fillpattern": {
             "fillmode": "overlay",
             "size": 10,
             "solidity": 0.2
            },
            "type": "scatter"
           }
          ],
          "scatter3d": [
           {
            "line": {
             "colorbar": {
              "outlinewidth": 0,
              "ticks": ""
             }
            },
            "marker": {
             "colorbar": {
              "outlinewidth": 0,
              "ticks": ""
             }
            },
            "type": "scatter3d"
           }
          ],
          "scattercarpet": [
           {
            "marker": {
             "colorbar": {
              "outlinewidth": 0,
              "ticks": ""
             }
            },
            "type": "scattercarpet"
           }
          ],
          "scattergeo": [
           {
            "marker": {
             "colorbar": {
              "outlinewidth": 0,
              "ticks": ""
             }
            },
            "type": "scattergeo"
           }
          ],
          "scattergl": [
           {
            "marker": {
             "colorbar": {
              "outlinewidth": 0,
              "ticks": ""
             }
            },
            "type": "scattergl"
           }
          ],
          "scattermap": [
           {
            "marker": {
             "colorbar": {
              "outlinewidth": 0,
              "ticks": ""
             }
            },
            "type": "scattermap"
           }
          ],
          "scattermapbox": [
           {
            "marker": {
             "colorbar": {
              "outlinewidth": 0,
              "ticks": ""
             }
            },
            "type": "scattermapbox"
           }
          ],
          "scatterpolar": [
           {
            "marker": {
             "colorbar": {
              "outlinewidth": 0,
              "ticks": ""
             }
            },
            "type": "scatterpolar"
           }
          ],
          "scatterpolargl": [
           {
            "marker": {
             "colorbar": {
              "outlinewidth": 0,
              "ticks": ""
             }
            },
            "type": "scatterpolargl"
           }
          ],
          "scatterternary": [
           {
            "marker": {
             "colorbar": {
              "outlinewidth": 0,
              "ticks": ""
             }
            },
            "type": "scatterternary"
           }
          ],
          "surface": [
           {
            "colorbar": {
             "outlinewidth": 0,
             "ticks": ""
            },
            "colorscale": [
             [
              0,
              "#0d0887"
             ],
             [
              0.1111111111111111,
              "#46039f"
             ],
             [
              0.2222222222222222,
              "#7201a8"
             ],
             [
              0.3333333333333333,
              "#9c179e"
             ],
             [
              0.4444444444444444,
              "#bd3786"
             ],
             [
              0.5555555555555556,
              "#d8576b"
             ],
             [
              0.6666666666666666,
              "#ed7953"
             ],
             [
              0.7777777777777778,
              "#fb9f3a"
             ],
             [
              0.8888888888888888,
              "#fdca26"
             ],
             [
              1,
              "#f0f921"
             ]
            ],
            "type": "surface"
           }
          ],
          "table": [
           {
            "cells": {
             "fill": {
              "color": "#EBF0F8"
             },
             "line": {
              "color": "white"
             }
            },
            "header": {
             "fill": {
              "color": "#C8D4E3"
             },
             "line": {
              "color": "white"
             }
            },
            "type": "table"
           }
          ]
         },
         "layout": {
          "annotationdefaults": {
           "arrowcolor": "#2a3f5f",
           "arrowhead": 0,
           "arrowwidth": 1
          },
          "autotypenumbers": "strict",
          "coloraxis": {
           "colorbar": {
            "outlinewidth": 0,
            "ticks": ""
           }
          },
          "colorscale": {
           "diverging": [
            [
             0,
             "#8e0152"
            ],
            [
             0.1,
             "#c51b7d"
            ],
            [
             0.2,
             "#de77ae"
            ],
            [
             0.3,
             "#f1b6da"
            ],
            [
             0.4,
             "#fde0ef"
            ],
            [
             0.5,
             "#f7f7f7"
            ],
            [
             0.6,
             "#e6f5d0"
            ],
            [
             0.7,
             "#b8e186"
            ],
            [
             0.8,
             "#7fbc41"
            ],
            [
             0.9,
             "#4d9221"
            ],
            [
             1,
             "#276419"
            ]
           ],
           "sequential": [
            [
             0,
             "#0d0887"
            ],
            [
             0.1111111111111111,
             "#46039f"
            ],
            [
             0.2222222222222222,
             "#7201a8"
            ],
            [
             0.3333333333333333,
             "#9c179e"
            ],
            [
             0.4444444444444444,
             "#bd3786"
            ],
            [
             0.5555555555555556,
             "#d8576b"
            ],
            [
             0.6666666666666666,
             "#ed7953"
            ],
            [
             0.7777777777777778,
             "#fb9f3a"
            ],
            [
             0.8888888888888888,
             "#fdca26"
            ],
            [
             1,
             "#f0f921"
            ]
           ],
           "sequentialminus": [
            [
             0,
             "#0d0887"
            ],
            [
             0.1111111111111111,
             "#46039f"
            ],
            [
             0.2222222222222222,
             "#7201a8"
            ],
            [
             0.3333333333333333,
             "#9c179e"
            ],
            [
             0.4444444444444444,
             "#bd3786"
            ],
            [
             0.5555555555555556,
             "#d8576b"
            ],
            [
             0.6666666666666666,
             "#ed7953"
            ],
            [
             0.7777777777777778,
             "#fb9f3a"
            ],
            [
             0.8888888888888888,
             "#fdca26"
            ],
            [
             1,
             "#f0f921"
            ]
           ]
          },
          "colorway": [
           "#636efa",
           "#EF553B",
           "#00cc96",
           "#ab63fa",
           "#FFA15A",
           "#19d3f3",
           "#FF6692",
           "#B6E880",
           "#FF97FF",
           "#FECB52"
          ],
          "font": {
           "color": "#2a3f5f"
          },
          "geo": {
           "bgcolor": "white",
           "lakecolor": "white",
           "landcolor": "#E5ECF6",
           "showlakes": true,
           "showland": true,
           "subunitcolor": "white"
          },
          "hoverlabel": {
           "align": "left"
          },
          "hovermode": "closest",
          "mapbox": {
           "style": "light"
          },
          "paper_bgcolor": "white",
          "plot_bgcolor": "#E5ECF6",
          "polar": {
           "angularaxis": {
            "gridcolor": "white",
            "linecolor": "white",
            "ticks": ""
           },
           "bgcolor": "#E5ECF6",
           "radialaxis": {
            "gridcolor": "white",
            "linecolor": "white",
            "ticks": ""
           }
          },
          "scene": {
           "xaxis": {
            "backgroundcolor": "#E5ECF6",
            "gridcolor": "white",
            "gridwidth": 2,
            "linecolor": "white",
            "showbackground": true,
            "ticks": "",
            "zerolinecolor": "white"
           },
           "yaxis": {
            "backgroundcolor": "#E5ECF6",
            "gridcolor": "white",
            "gridwidth": 2,
            "linecolor": "white",
            "showbackground": true,
            "ticks": "",
            "zerolinecolor": "white"
           },
           "zaxis": {
            "backgroundcolor": "#E5ECF6",
            "gridcolor": "white",
            "gridwidth": 2,
            "linecolor": "white",
            "showbackground": true,
            "ticks": "",
            "zerolinecolor": "white"
           }
          },
          "shapedefaults": {
           "line": {
            "color": "#2a3f5f"
           }
          },
          "ternary": {
           "aaxis": {
            "gridcolor": "white",
            "linecolor": "white",
            "ticks": ""
           },
           "baxis": {
            "gridcolor": "white",
            "linecolor": "white",
            "ticks": ""
           },
           "bgcolor": "#E5ECF6",
           "caxis": {
            "gridcolor": "white",
            "linecolor": "white",
            "ticks": ""
           }
          },
          "title": {
           "x": 0.05
          },
          "xaxis": {
           "automargin": true,
           "gridcolor": "white",
           "linecolor": "white",
           "ticks": "",
           "title": {
            "standoff": 15
           },
           "zerolinecolor": "white",
           "zerolinewidth": 2
          },
          "yaxis": {
           "automargin": true,
           "gridcolor": "white",
           "linecolor": "white",
           "ticks": "",
           "title": {
            "standoff": 15
           },
           "zerolinecolor": "white",
           "zerolinewidth": 2
          }
         }
        },
        "title": {
         "text": "Stock price"
        },
        "width": 1200,
        "xaxis": {
         "anchor": "y",
         "domain": [
          0,
          1
         ],
         "title": {
          "text": "Date"
         }
        },
        "yaxis": {
         "anchor": "x",
         "domain": [
          0,
          1
         ],
         "title": {
          "text": "Close"
         }
        }
       }
      }
     },
     "metadata": {},
     "output_type": "display_data"
    }
   ],
   "source": [
    "from visualization import plot_price_with_news\n",
    "plot_price_with_news(price_df, news_headlines_df.sample(frac=0.5, random_state=7)).show()"
   ]
  },
  {
   "cell_type": "code",
   "execution_count": 20,
   "metadata": {},
   "outputs": [
    {
     "data": {
      "application/vnd.plotly.v1+json": {
       "config": {
        "plotlyServerURL": "https://plot.ly"
       },
       "data": [
        {
         "hovertemplate": "Date=%{x}<br>Close=%{y}<extra></extra>",
         "legendgroup": "",
         "line": {
          "color": "#636efa",
          "dash": "solid"
         },
         "marker": {
          "symbol": "circle"
         },
         "mode": "lines",
         "name": "",
         "orientation": "v",
         "showlegend": false,
         "type": "scatter",
         "x": [
          "2024-05-29T00:00:00.000000000",
          "2024-05-30T00:00:00.000000000",
          "2024-05-31T00:00:00.000000000",
          "2024-06-01T00:00:00.000000000",
          "2024-06-02T00:00:00.000000000",
          "2024-06-03T00:00:00.000000000",
          "2024-06-04T00:00:00.000000000",
          "2024-06-05T00:00:00.000000000",
          "2024-06-06T00:00:00.000000000",
          "2024-06-07T00:00:00.000000000",
          "2024-06-08T00:00:00.000000000",
          "2024-06-09T00:00:00.000000000",
          "2024-06-10T00:00:00.000000000",
          "2024-06-11T00:00:00.000000000",
          "2024-06-12T00:00:00.000000000",
          "2024-06-13T00:00:00.000000000",
          "2024-06-14T00:00:00.000000000",
          "2024-06-15T00:00:00.000000000",
          "2024-06-16T00:00:00.000000000",
          "2024-06-17T00:00:00.000000000",
          "2024-06-18T00:00:00.000000000",
          "2024-06-19T00:00:00.000000000",
          "2024-06-20T00:00:00.000000000",
          "2024-06-21T00:00:00.000000000",
          "2024-06-22T00:00:00.000000000",
          "2024-06-23T00:00:00.000000000",
          "2024-06-24T00:00:00.000000000",
          "2024-06-25T00:00:00.000000000",
          "2024-06-26T00:00:00.000000000",
          "2024-06-27T00:00:00.000000000",
          "2024-06-28T00:00:00.000000000",
          "2024-06-29T00:00:00.000000000",
          "2024-06-30T00:00:00.000000000",
          "2024-07-01T00:00:00.000000000",
          "2024-07-02T00:00:00.000000000",
          "2024-07-03T00:00:00.000000000",
          "2024-07-04T00:00:00.000000000",
          "2024-07-05T00:00:00.000000000",
          "2024-07-06T00:00:00.000000000",
          "2024-07-07T00:00:00.000000000",
          "2024-07-08T00:00:00.000000000",
          "2024-07-09T00:00:00.000000000",
          "2024-07-10T00:00:00.000000000",
          "2024-07-11T00:00:00.000000000",
          "2024-07-12T00:00:00.000000000",
          "2024-07-13T00:00:00.000000000",
          "2024-07-14T00:00:00.000000000",
          "2024-07-15T00:00:00.000000000",
          "2024-07-16T00:00:00.000000000",
          "2024-07-17T00:00:00.000000000",
          "2024-07-18T00:00:00.000000000",
          "2024-07-19T00:00:00.000000000",
          "2024-07-20T00:00:00.000000000",
          "2024-07-21T00:00:00.000000000",
          "2024-07-22T00:00:00.000000000",
          "2024-07-23T00:00:00.000000000",
          "2024-07-24T00:00:00.000000000",
          "2024-07-25T00:00:00.000000000",
          "2024-07-26T00:00:00.000000000",
          "2024-07-27T00:00:00.000000000",
          "2024-07-28T00:00:00.000000000",
          "2024-07-29T00:00:00.000000000",
          "2024-07-30T00:00:00.000000000",
          "2024-07-31T00:00:00.000000000",
          "2024-08-01T00:00:00.000000000",
          "2024-08-02T00:00:00.000000000",
          "2024-08-03T00:00:00.000000000",
          "2024-08-04T00:00:00.000000000",
          "2024-08-05T00:00:00.000000000",
          "2024-08-06T00:00:00.000000000",
          "2024-08-07T00:00:00.000000000",
          "2024-08-08T00:00:00.000000000",
          "2024-08-09T00:00:00.000000000",
          "2024-08-10T00:00:00.000000000",
          "2024-08-11T00:00:00.000000000",
          "2024-08-12T00:00:00.000000000",
          "2024-08-13T00:00:00.000000000",
          "2024-08-14T00:00:00.000000000",
          "2024-08-15T00:00:00.000000000",
          "2024-08-16T00:00:00.000000000",
          "2024-08-17T00:00:00.000000000",
          "2024-08-18T00:00:00.000000000",
          "2024-08-19T00:00:00.000000000",
          "2024-08-20T00:00:00.000000000",
          "2024-08-21T00:00:00.000000000",
          "2024-08-22T00:00:00.000000000",
          "2024-08-23T00:00:00.000000000",
          "2024-08-24T00:00:00.000000000",
          "2024-08-25T00:00:00.000000000",
          "2024-08-26T00:00:00.000000000",
          "2024-08-27T00:00:00.000000000",
          "2024-08-28T00:00:00.000000000",
          "2024-08-29T00:00:00.000000000",
          "2024-08-30T00:00:00.000000000",
          "2024-08-31T00:00:00.000000000",
          "2024-09-01T00:00:00.000000000",
          "2024-09-02T00:00:00.000000000",
          "2024-09-03T00:00:00.000000000",
          "2024-09-04T00:00:00.000000000",
          "2024-09-05T00:00:00.000000000",
          "2024-09-06T00:00:00.000000000",
          "2024-09-07T00:00:00.000000000",
          "2024-09-08T00:00:00.000000000",
          "2024-09-09T00:00:00.000000000",
          "2024-09-10T00:00:00.000000000",
          "2024-09-11T00:00:00.000000000",
          "2024-09-12T00:00:00.000000000",
          "2024-09-13T00:00:00.000000000",
          "2024-09-14T00:00:00.000000000",
          "2024-09-15T00:00:00.000000000",
          "2024-09-16T00:00:00.000000000",
          "2024-09-17T00:00:00.000000000",
          "2024-09-18T00:00:00.000000000",
          "2024-09-19T00:00:00.000000000",
          "2024-09-20T00:00:00.000000000",
          "2024-09-21T00:00:00.000000000",
          "2024-09-22T00:00:00.000000000",
          "2024-09-23T00:00:00.000000000",
          "2024-09-24T00:00:00.000000000",
          "2024-09-25T00:00:00.000000000",
          "2024-09-26T00:00:00.000000000",
          "2024-09-27T00:00:00.000000000",
          "2024-09-28T00:00:00.000000000",
          "2024-09-29T00:00:00.000000000",
          "2024-09-30T00:00:00.000000000",
          "2024-10-01T00:00:00.000000000",
          "2024-10-02T00:00:00.000000000",
          "2024-10-03T00:00:00.000000000",
          "2024-10-04T00:00:00.000000000",
          "2024-10-05T00:00:00.000000000",
          "2024-10-06T00:00:00.000000000",
          "2024-10-07T00:00:00.000000000",
          "2024-10-08T00:00:00.000000000",
          "2024-10-09T00:00:00.000000000",
          "2024-10-10T00:00:00.000000000",
          "2024-10-11T00:00:00.000000000",
          "2024-10-12T00:00:00.000000000",
          "2024-10-13T00:00:00.000000000",
          "2024-10-14T00:00:00.000000000",
          "2024-10-15T00:00:00.000000000",
          "2024-10-16T00:00:00.000000000",
          "2024-10-17T00:00:00.000000000",
          "2024-10-18T00:00:00.000000000",
          "2024-10-19T00:00:00.000000000",
          "2024-10-20T00:00:00.000000000",
          "2024-10-21T00:00:00.000000000",
          "2024-10-22T00:00:00.000000000",
          "2024-10-23T00:00:00.000000000",
          "2024-10-24T00:00:00.000000000",
          "2024-10-25T00:00:00.000000000",
          "2024-10-26T00:00:00.000000000",
          "2024-10-27T00:00:00.000000000",
          "2024-10-28T00:00:00.000000000",
          "2024-10-29T00:00:00.000000000",
          "2024-10-30T00:00:00.000000000",
          "2024-10-31T00:00:00.000000000",
          "2024-11-01T00:00:00.000000000",
          "2024-11-02T00:00:00.000000000",
          "2024-11-03T00:00:00.000000000",
          "2024-11-04T00:00:00.000000000",
          "2024-11-05T00:00:00.000000000",
          "2024-11-06T00:00:00.000000000",
          "2024-11-07T00:00:00.000000000",
          "2024-11-08T00:00:00.000000000",
          "2024-11-09T00:00:00.000000000",
          "2024-11-10T00:00:00.000000000",
          "2024-11-11T00:00:00.000000000",
          "2024-11-12T00:00:00.000000000",
          "2024-11-13T00:00:00.000000000",
          "2024-11-14T00:00:00.000000000",
          "2024-11-15T00:00:00.000000000",
          "2024-11-16T00:00:00.000000000",
          "2024-11-17T00:00:00.000000000",
          "2024-11-18T00:00:00.000000000",
          "2024-11-19T00:00:00.000000000",
          "2024-11-20T00:00:00.000000000",
          "2024-11-21T00:00:00.000000000",
          "2024-11-22T00:00:00.000000000",
          "2024-11-23T00:00:00.000000000",
          "2024-11-24T00:00:00.000000000",
          "2024-11-25T00:00:00.000000000",
          "2024-11-26T00:00:00.000000000",
          "2024-11-27T00:00:00.000000000",
          "2024-11-28T00:00:00.000000000",
          "2024-11-29T00:00:00.000000000",
          "2024-11-30T00:00:00.000000000",
          "2024-12-01T00:00:00.000000000",
          "2024-12-02T00:00:00.000000000",
          "2024-12-03T00:00:00.000000000",
          "2024-12-04T00:00:00.000000000",
          "2024-12-05T00:00:00.000000000",
          "2024-12-06T00:00:00.000000000",
          "2024-12-07T00:00:00.000000000",
          "2024-12-08T00:00:00.000000000",
          "2024-12-09T00:00:00.000000000",
          "2024-12-10T00:00:00.000000000",
          "2024-12-11T00:00:00.000000000",
          "2024-12-12T00:00:00.000000000",
          "2024-12-13T00:00:00.000000000",
          "2024-12-14T00:00:00.000000000",
          "2024-12-15T00:00:00.000000000",
          "2024-12-16T00:00:00.000000000",
          "2024-12-17T00:00:00.000000000",
          "2024-12-18T00:00:00.000000000",
          "2024-12-19T00:00:00.000000000",
          "2024-12-20T00:00:00.000000000",
          "2024-12-21T00:00:00.000000000",
          "2024-12-22T00:00:00.000000000",
          "2024-12-23T00:00:00.000000000",
          "2024-12-24T00:00:00.000000000",
          "2024-12-25T00:00:00.000000000",
          "2024-12-26T00:00:00.000000000",
          "2024-12-27T00:00:00.000000000",
          "2024-12-28T00:00:00.000000000",
          "2024-12-29T00:00:00.000000000",
          "2024-12-30T00:00:00.000000000",
          "2024-12-31T00:00:00.000000000",
          "2025-01-01T00:00:00.000000000",
          "2025-01-02T00:00:00.000000000",
          "2025-01-03T00:00:00.000000000",
          "2025-01-04T00:00:00.000000000",
          "2025-01-05T00:00:00.000000000",
          "2025-01-06T00:00:00.000000000",
          "2025-01-07T00:00:00.000000000",
          "2025-01-08T00:00:00.000000000",
          "2025-01-09T00:00:00.000000000",
          "2025-01-10T00:00:00.000000000",
          "2025-01-11T00:00:00.000000000",
          "2025-01-12T00:00:00.000000000",
          "2025-01-13T00:00:00.000000000",
          "2025-01-14T00:00:00.000000000",
          "2025-01-15T00:00:00.000000000",
          "2025-01-16T00:00:00.000000000",
          "2025-01-17T00:00:00.000000000",
          "2025-01-18T00:00:00.000000000",
          "2025-01-19T00:00:00.000000000",
          "2025-01-20T00:00:00.000000000",
          "2025-01-21T00:00:00.000000000",
          "2025-01-22T00:00:00.000000000",
          "2025-01-23T00:00:00.000000000",
          "2025-01-24T00:00:00.000000000",
          "2025-01-25T00:00:00.000000000",
          "2025-01-26T00:00:00.000000000",
          "2025-01-27T00:00:00.000000000",
          "2025-01-28T00:00:00.000000000",
          "2025-01-29T00:00:00.000000000",
          "2025-01-30T00:00:00.000000000",
          "2025-01-31T00:00:00.000000000",
          "2025-02-01T00:00:00.000000000",
          "2025-02-02T00:00:00.000000000",
          "2025-02-03T00:00:00.000000000",
          "2025-02-04T00:00:00.000000000",
          "2025-02-05T00:00:00.000000000",
          "2025-02-06T00:00:00.000000000",
          "2025-02-07T00:00:00.000000000",
          "2025-02-08T00:00:00.000000000",
          "2025-02-09T00:00:00.000000000",
          "2025-02-10T00:00:00.000000000",
          "2025-02-11T00:00:00.000000000",
          "2025-02-12T00:00:00.000000000",
          "2025-02-13T00:00:00.000000000",
          "2025-02-14T00:00:00.000000000",
          "2025-02-15T00:00:00.000000000",
          "2025-02-16T00:00:00.000000000",
          "2025-02-17T00:00:00.000000000",
          "2025-02-18T00:00:00.000000000",
          "2025-02-19T00:00:00.000000000",
          "2025-02-20T00:00:00.000000000",
          "2025-02-21T00:00:00.000000000",
          "2025-02-22T00:00:00.000000000",
          "2025-02-23T00:00:00.000000000",
          "2025-02-24T00:00:00.000000000",
          "2025-02-25T00:00:00.000000000",
          "2025-02-26T00:00:00.000000000",
          "2025-02-27T00:00:00.000000000",
          "2025-02-28T00:00:00.000000000",
          "2025-03-01T00:00:00.000000000",
          "2025-03-02T00:00:00.000000000",
          "2025-03-03T00:00:00.000000000",
          "2025-03-04T00:00:00.000000000",
          "2025-03-05T00:00:00.000000000",
          "2025-03-06T00:00:00.000000000",
          "2025-03-07T00:00:00.000000000",
          "2025-03-08T00:00:00.000000000",
          "2025-03-09T00:00:00.000000000",
          "2025-03-10T00:00:00.000000000",
          "2025-03-11T00:00:00.000000000",
          "2025-03-12T00:00:00.000000000",
          "2025-03-13T00:00:00.000000000",
          "2025-03-14T00:00:00.000000000",
          "2025-03-15T00:00:00.000000000",
          "2025-03-16T00:00:00.000000000",
          "2025-03-17T00:00:00.000000000",
          "2025-03-18T00:00:00.000000000",
          "2025-03-19T00:00:00.000000000",
          "2025-03-20T00:00:00.000000000",
          "2025-03-21T00:00:00.000000000",
          "2025-03-22T00:00:00.000000000",
          "2025-03-23T00:00:00.000000000",
          "2025-03-24T00:00:00.000000000"
         ],
         "xaxis": "x",
         "y": {
          "bdata": "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",
          "dtype": "f8"
         },
         "yaxis": "y"
        }
       ],
       "layout": {
        "annotations": [
         {
          "align": "left",
          "arrowhead": 1,
          "bgcolor": "lightgreen",
          "hovertext": "Saylor predicts<br />Bitcoin's<br />monumental rise<br />under Trump's<br />crypto<br />initiative",
          "showarrow": true,
          "text": "Positive",
          "x": "2025-03-03T00:00:00",
          "xref": "x",
          "y": 1,
          "yref": "paper"
         },
         {
          "align": "left",
          "arrowhead": 1,
          "bgcolor": "pink",
          "hovertext": "Sentiment<br />analysis for<br />important coins.<br />Bitcoin<br />currently in<br />negative<br />territory",
          "showarrow": true,
          "text": "Negative",
          "x": "2025-03-17T00:00:00",
          "xref": "x",
          "y": 1,
          "yref": "paper"
         }
        ],
        "legend": {
         "tracegroupgap": 0
        },
        "shapes": [
         {
          "line": {
           "color": "lightgrey"
          },
          "type": "line",
          "x0": "2025-03-03T00:00:00",
          "x1": "2025-03-03T00:00:00",
          "xref": "x",
          "y0": 0,
          "y1": 1,
          "yref": "y domain"
         },
         {
          "line": {
           "color": "lightgrey"
          },
          "type": "line",
          "x0": "2025-03-17T00:00:00",
          "x1": "2025-03-17T00:00:00",
          "xref": "x",
          "y0": 0,
          "y1": 1,
          "yref": "y domain"
         }
        ],
        "template": {
         "data": {
          "bar": [
           {
            "error_x": {
             "color": "#2a3f5f"
            },
            "error_y": {
             "color": "#2a3f5f"
            },
            "marker": {
             "line": {
              "color": "#E5ECF6",
              "width": 0.5
             },
             "pattern": {
              "fillmode": "overlay",
              "size": 10,
              "solidity": 0.2
             }
            },
            "type": "bar"
           }
          ],
          "barpolar": [
           {
            "marker": {
             "line": {
              "color": "#E5ECF6",
              "width": 0.5
             },
             "pattern": {
              "fillmode": "overlay",
              "size": 10,
              "solidity": 0.2
             }
            },
            "type": "barpolar"
           }
          ],
          "carpet": [
           {
            "aaxis": {
             "endlinecolor": "#2a3f5f",
             "gridcolor": "white",
             "linecolor": "white",
             "minorgridcolor": "white",
             "startlinecolor": "#2a3f5f"
            },
            "baxis": {
             "endlinecolor": "#2a3f5f",
             "gridcolor": "white",
             "linecolor": "white",
             "minorgridcolor": "white",
             "startlinecolor": "#2a3f5f"
            },
            "type": "carpet"
           }
          ],
          "choropleth": [
           {
            "colorbar": {
             "outlinewidth": 0,
             "ticks": ""
            },
            "type": "choropleth"
           }
          ],
          "contour": [
           {
            "colorbar": {
             "outlinewidth": 0,
             "ticks": ""
            },
            "colorscale": [
             [
              0,
              "#0d0887"
             ],
             [
              0.1111111111111111,
              "#46039f"
             ],
             [
              0.2222222222222222,
              "#7201a8"
             ],
             [
              0.3333333333333333,
              "#9c179e"
             ],
             [
              0.4444444444444444,
              "#bd3786"
             ],
             [
              0.5555555555555556,
              "#d8576b"
             ],
             [
              0.6666666666666666,
              "#ed7953"
             ],
             [
              0.7777777777777778,
              "#fb9f3a"
             ],
             [
              0.8888888888888888,
              "#fdca26"
             ],
             [
              1,
              "#f0f921"
             ]
            ],
            "type": "contour"
           }
          ],
          "contourcarpet": [
           {
            "colorbar": {
             "outlinewidth": 0,
             "ticks": ""
            },
            "type": "contourcarpet"
           }
          ],
          "heatmap": [
           {
            "colorbar": {
             "outlinewidth": 0,
             "ticks": ""
            },
            "colorscale": [
             [
              0,
              "#0d0887"
             ],
             [
              0.1111111111111111,
              "#46039f"
             ],
             [
              0.2222222222222222,
              "#7201a8"
             ],
             [
              0.3333333333333333,
              "#9c179e"
             ],
             [
              0.4444444444444444,
              "#bd3786"
             ],
             [
              0.5555555555555556,
              "#d8576b"
             ],
             [
              0.6666666666666666,
              "#ed7953"
             ],
             [
              0.7777777777777778,
              "#fb9f3a"
             ],
             [
              0.8888888888888888,
              "#fdca26"
             ],
             [
              1,
              "#f0f921"
             ]
            ],
            "type": "heatmap"
           }
          ],
          "histogram": [
           {
            "marker": {
             "pattern": {
              "fillmode": "overlay",
              "size": 10,
              "solidity": 0.2
             }
            },
            "type": "histogram"
           }
          ],
          "histogram2d": [
           {
            "colorbar": {
             "outlinewidth": 0,
             "ticks": ""
            },
            "colorscale": [
             [
              0,
              "#0d0887"
             ],
             [
              0.1111111111111111,
              "#46039f"
             ],
             [
              0.2222222222222222,
              "#7201a8"
             ],
             [
              0.3333333333333333,
              "#9c179e"
             ],
             [
              0.4444444444444444,
              "#bd3786"
             ],
             [
              0.5555555555555556,
              "#d8576b"
             ],
             [
              0.6666666666666666,
              "#ed7953"
             ],
             [
              0.7777777777777778,
              "#fb9f3a"
             ],
             [
              0.8888888888888888,
              "#fdca26"
             ],
             [
              1,
              "#f0f921"
             ]
            ],
            "type": "histogram2d"
           }
          ],
          "histogram2dcontour": [
           {
            "colorbar": {
             "outlinewidth": 0,
             "ticks": ""
            },
            "colorscale": [
             [
              0,
              "#0d0887"
             ],
             [
              0.1111111111111111,
              "#46039f"
             ],
             [
              0.2222222222222222,
              "#7201a8"
             ],
             [
              0.3333333333333333,
              "#9c179e"
             ],
             [
              0.4444444444444444,
              "#bd3786"
             ],
             [
              0.5555555555555556,
              "#d8576b"
             ],
             [
              0.6666666666666666,
              "#ed7953"
             ],
             [
              0.7777777777777778,
              "#fb9f3a"
             ],
             [
              0.8888888888888888,
              "#fdca26"
             ],
             [
              1,
              "#f0f921"
             ]
            ],
            "type": "histogram2dcontour"
           }
          ],
          "mesh3d": [
           {
            "colorbar": {
             "outlinewidth": 0,
             "ticks": ""
            },
            "type": "mesh3d"
           }
          ],
          "parcoords": [
           {
            "line": {
             "colorbar": {
              "outlinewidth": 0,
              "ticks": ""
             }
            },
            "type": "parcoords"
           }
          ],
          "pie": [
           {
            "automargin": true,
            "type": "pie"
           }
          ],
          "scatter": [
           {
            "fillpattern": {
             "fillmode": "overlay",
             "size": 10,
             "solidity": 0.2
            },
            "type": "scatter"
           }
          ],
          "scatter3d": [
           {
            "line": {
             "colorbar": {
              "outlinewidth": 0,
              "ticks": ""
             }
            },
            "marker": {
             "colorbar": {
              "outlinewidth": 0,
              "ticks": ""
             }
            },
            "type": "scatter3d"
           }
          ],
          "scattercarpet": [
           {
            "marker": {
             "colorbar": {
              "outlinewidth": 0,
              "ticks": ""
             }
            },
            "type": "scattercarpet"
           }
          ],
          "scattergeo": [
           {
            "marker": {
             "colorbar": {
              "outlinewidth": 0,
              "ticks": ""
             }
            },
            "type": "scattergeo"
           }
          ],
          "scattergl": [
           {
            "marker": {
             "colorbar": {
              "outlinewidth": 0,
              "ticks": ""
             }
            },
            "type": "scattergl"
           }
          ],
          "scattermap": [
           {
            "marker": {
             "colorbar": {
              "outlinewidth": 0,
              "ticks": ""
             }
            },
            "type": "scattermap"
           }
          ],
          "scattermapbox": [
           {
            "marker": {
             "colorbar": {
              "outlinewidth": 0,
              "ticks": ""
             }
            },
            "type": "scattermapbox"
           }
          ],
          "scatterpolar": [
           {
            "marker": {
             "colorbar": {
              "outlinewidth": 0,
              "ticks": ""
             }
            },
            "type": "scatterpolar"
           }
          ],
          "scatterpolargl": [
           {
            "marker": {
             "colorbar": {
              "outlinewidth": 0,
              "ticks": ""
             }
            },
            "type": "scatterpolargl"
           }
          ],
          "scatterternary": [
           {
            "marker": {
             "colorbar": {
              "outlinewidth": 0,
              "ticks": ""
             }
            },
            "type": "scatterternary"
           }
          ],
          "surface": [
           {
            "colorbar": {
             "outlinewidth": 0,
             "ticks": ""
            },
            "colorscale": [
             [
              0,
              "#0d0887"
             ],
             [
              0.1111111111111111,
              "#46039f"
             ],
             [
              0.2222222222222222,
              "#7201a8"
             ],
             [
              0.3333333333333333,
              "#9c179e"
             ],
             [
              0.4444444444444444,
              "#bd3786"
             ],
             [
              0.5555555555555556,
              "#d8576b"
             ],
             [
              0.6666666666666666,
              "#ed7953"
             ],
             [
              0.7777777777777778,
              "#fb9f3a"
             ],
             [
              0.8888888888888888,
              "#fdca26"
             ],
             [
              1,
              "#f0f921"
             ]
            ],
            "type": "surface"
           }
          ],
          "table": [
           {
            "cells": {
             "fill": {
              "color": "#EBF0F8"
             },
             "line": {
              "color": "white"
             }
            },
            "header": {
             "fill": {
              "color": "#C8D4E3"
             },
             "line": {
              "color": "white"
             }
            },
            "type": "table"
           }
          ]
         },
         "layout": {
          "annotationdefaults": {
           "arrowcolor": "#2a3f5f",
           "arrowhead": 0,
           "arrowwidth": 1
          },
          "autotypenumbers": "strict",
          "coloraxis": {
           "colorbar": {
            "outlinewidth": 0,
            "ticks": ""
           }
          },
          "colorscale": {
           "diverging": [
            [
             0,
             "#8e0152"
            ],
            [
             0.1,
             "#c51b7d"
            ],
            [
             0.2,
             "#de77ae"
            ],
            [
             0.3,
             "#f1b6da"
            ],
            [
             0.4,
             "#fde0ef"
            ],
            [
             0.5,
             "#f7f7f7"
            ],
            [
             0.6,
             "#e6f5d0"
            ],
            [
             0.7,
             "#b8e186"
            ],
            [
             0.8,
             "#7fbc41"
            ],
            [
             0.9,
             "#4d9221"
            ],
            [
             1,
             "#276419"
            ]
           ],
           "sequential": [
            [
             0,
             "#0d0887"
            ],
            [
             0.1111111111111111,
             "#46039f"
            ],
            [
             0.2222222222222222,
             "#7201a8"
            ],
            [
             0.3333333333333333,
             "#9c179e"
            ],
            [
             0.4444444444444444,
             "#bd3786"
            ],
            [
             0.5555555555555556,
             "#d8576b"
            ],
            [
             0.6666666666666666,
             "#ed7953"
            ],
            [
             0.7777777777777778,
             "#fb9f3a"
            ],
            [
             0.8888888888888888,
             "#fdca26"
            ],
            [
             1,
             "#f0f921"
            ]
           ],
           "sequentialminus": [
            [
             0,
             "#0d0887"
            ],
            [
             0.1111111111111111,
             "#46039f"
            ],
            [
             0.2222222222222222,
             "#7201a8"
            ],
            [
             0.3333333333333333,
             "#9c179e"
            ],
            [
             0.4444444444444444,
             "#bd3786"
            ],
            [
             0.5555555555555556,
             "#d8576b"
            ],
            [
             0.6666666666666666,
             "#ed7953"
            ],
            [
             0.7777777777777778,
             "#fb9f3a"
            ],
            [
             0.8888888888888888,
             "#fdca26"
            ],
            [
             1,
             "#f0f921"
            ]
           ]
          },
          "colorway": [
           "#636efa",
           "#EF553B",
           "#00cc96",
           "#ab63fa",
           "#FFA15A",
           "#19d3f3",
           "#FF6692",
           "#B6E880",
           "#FF97FF",
           "#FECB52"
          ],
          "font": {
           "color": "#2a3f5f"
          },
          "geo": {
           "bgcolor": "white",
           "lakecolor": "white",
           "landcolor": "#E5ECF6",
           "showlakes": true,
           "showland": true,
           "subunitcolor": "white"
          },
          "hoverlabel": {
           "align": "left"
          },
          "hovermode": "closest",
          "mapbox": {
           "style": "light"
          },
          "paper_bgcolor": "white",
          "plot_bgcolor": "#E5ECF6",
          "polar": {
           "angularaxis": {
            "gridcolor": "white",
            "linecolor": "white",
            "ticks": ""
           },
           "bgcolor": "#E5ECF6",
           "radialaxis": {
            "gridcolor": "white",
            "linecolor": "white",
            "ticks": ""
           }
          },
          "scene": {
           "xaxis": {
            "backgroundcolor": "#E5ECF6",
            "gridcolor": "white",
            "gridwidth": 2,
            "linecolor": "white",
            "showbackground": true,
            "ticks": "",
            "zerolinecolor": "white"
           },
           "yaxis": {
            "backgroundcolor": "#E5ECF6",
            "gridcolor": "white",
            "gridwidth": 2,
            "linecolor": "white",
            "showbackground": true,
            "ticks": "",
            "zerolinecolor": "white"
           },
           "zaxis": {
            "backgroundcolor": "#E5ECF6",
            "gridcolor": "white",
            "gridwidth": 2,
            "linecolor": "white",
            "showbackground": true,
            "ticks": "",
            "zerolinecolor": "white"
           }
          },
          "shapedefaults": {
           "line": {
            "color": "#2a3f5f"
           }
          },
          "ternary": {
           "aaxis": {
            "gridcolor": "white",
            "linecolor": "white",
            "ticks": ""
           },
           "baxis": {
            "gridcolor": "white",
            "linecolor": "white",
            "ticks": ""
           },
           "bgcolor": "#E5ECF6",
           "caxis": {
            "gridcolor": "white",
            "linecolor": "white",
            "ticks": ""
           }
          },
          "title": {
           "x": 0.05
          },
          "xaxis": {
           "automargin": true,
           "gridcolor": "white",
           "linecolor": "white",
           "ticks": "",
           "title": {
            "standoff": 15
           },
           "zerolinecolor": "white",
           "zerolinewidth": 2
          },
          "yaxis": {
           "automargin": true,
           "gridcolor": "white",
           "linecolor": "white",
           "ticks": "",
           "title": {
            "standoff": 15
           },
           "zerolinecolor": "white",
           "zerolinewidth": 2
          }
         }
        },
        "title": {
         "text": "Stock price"
        },
        "width": 1200,
        "xaxis": {
         "anchor": "y",
         "domain": [
          0,
          1
         ],
         "title": {
          "text": "Date"
         }
        },
        "yaxis": {
         "anchor": "x",
         "domain": [
          0,
          1
         ],
         "title": {
          "text": "Close"
         }
        }
       }
      }
     },
     "metadata": {},
     "output_type": "display_data"
    }
   ],
   "source": [
    "plot_price_with_news(price_df, news_headlines_df.sample(frac=0.2, random_state=7)).show()"
   ]
  },
  {
   "cell_type": "code",
   "execution_count": 21,
   "metadata": {},
   "outputs": [
    {
     "data": {
      "application/vnd.plotly.v1+json": {
       "config": {
        "plotlyServerURL": "https://plot.ly"
       },
       "data": [
        {
         "hovertemplate": "Date=%{x}<br>Close=%{y}<extra></extra>",
         "legendgroup": "",
         "line": {
          "color": "#636efa",
          "dash": "solid"
         },
         "marker": {
          "symbol": "circle"
         },
         "mode": "lines",
         "name": "",
         "orientation": "v",
         "showlegend": false,
         "type": "scatter",
         "x": [
          "2024-05-29T00:00:00.000000000",
          "2024-05-30T00:00:00.000000000",
          "2024-05-31T00:00:00.000000000",
          "2024-06-01T00:00:00.000000000",
          "2024-06-02T00:00:00.000000000",
          "2024-06-03T00:00:00.000000000",
          "2024-06-04T00:00:00.000000000",
          "2024-06-05T00:00:00.000000000",
          "2024-06-06T00:00:00.000000000",
          "2024-06-07T00:00:00.000000000",
          "2024-06-08T00:00:00.000000000",
          "2024-06-09T00:00:00.000000000",
          "2024-06-10T00:00:00.000000000",
          "2024-06-11T00:00:00.000000000",
          "2024-06-12T00:00:00.000000000",
          "2024-06-13T00:00:00.000000000",
          "2024-06-14T00:00:00.000000000",
          "2024-06-15T00:00:00.000000000",
          "2024-06-16T00:00:00.000000000",
          "2024-06-17T00:00:00.000000000",
          "2024-06-18T00:00:00.000000000",
          "2024-06-19T00:00:00.000000000",
          "2024-06-20T00:00:00.000000000",
          "2024-06-21T00:00:00.000000000",
          "2024-06-22T00:00:00.000000000",
          "2024-06-23T00:00:00.000000000",
          "2024-06-24T00:00:00.000000000",
          "2024-06-25T00:00:00.000000000",
          "2024-06-26T00:00:00.000000000",
          "2024-06-27T00:00:00.000000000",
          "2024-06-28T00:00:00.000000000",
          "2024-06-29T00:00:00.000000000",
          "2024-06-30T00:00:00.000000000",
          "2024-07-01T00:00:00.000000000",
          "2024-07-02T00:00:00.000000000",
          "2024-07-03T00:00:00.000000000",
          "2024-07-04T00:00:00.000000000",
          "2024-07-05T00:00:00.000000000",
          "2024-07-06T00:00:00.000000000",
          "2024-07-07T00:00:00.000000000",
          "2024-07-08T00:00:00.000000000",
          "2024-07-09T00:00:00.000000000",
          "2024-07-10T00:00:00.000000000",
          "2024-07-11T00:00:00.000000000",
          "2024-07-12T00:00:00.000000000",
          "2024-07-13T00:00:00.000000000",
          "2024-07-14T00:00:00.000000000",
          "2024-07-15T00:00:00.000000000",
          "2024-07-16T00:00:00.000000000",
          "2024-07-17T00:00:00.000000000",
          "2024-07-18T00:00:00.000000000",
          "2024-07-19T00:00:00.000000000",
          "2024-07-20T00:00:00.000000000",
          "2024-07-21T00:00:00.000000000",
          "2024-07-22T00:00:00.000000000",
          "2024-07-23T00:00:00.000000000",
          "2024-07-24T00:00:00.000000000",
          "2024-07-25T00:00:00.000000000",
          "2024-07-26T00:00:00.000000000",
          "2024-07-27T00:00:00.000000000",
          "2024-07-28T00:00:00.000000000",
          "2024-07-29T00:00:00.000000000",
          "2024-07-30T00:00:00.000000000",
          "2024-07-31T00:00:00.000000000",
          "2024-08-01T00:00:00.000000000",
          "2024-08-02T00:00:00.000000000",
          "2024-08-03T00:00:00.000000000",
          "2024-08-04T00:00:00.000000000",
          "2024-08-05T00:00:00.000000000",
          "2024-08-06T00:00:00.000000000",
          "2024-08-07T00:00:00.000000000",
          "2024-08-08T00:00:00.000000000",
          "2024-08-09T00:00:00.000000000",
          "2024-08-10T00:00:00.000000000",
          "2024-08-11T00:00:00.000000000",
          "2024-08-12T00:00:00.000000000",
          "2024-08-13T00:00:00.000000000",
          "2024-08-14T00:00:00.000000000",
          "2024-08-15T00:00:00.000000000",
          "2024-08-16T00:00:00.000000000",
          "2024-08-17T00:00:00.000000000",
          "2024-08-18T00:00:00.000000000",
          "2024-08-19T00:00:00.000000000",
          "2024-08-20T00:00:00.000000000",
          "2024-08-21T00:00:00.000000000",
          "2024-08-22T00:00:00.000000000",
          "2024-08-23T00:00:00.000000000",
          "2024-08-24T00:00:00.000000000",
          "2024-08-25T00:00:00.000000000",
          "2024-08-26T00:00:00.000000000",
          "2024-08-27T00:00:00.000000000",
          "2024-08-28T00:00:00.000000000",
          "2024-08-29T00:00:00.000000000",
          "2024-08-30T00:00:00.000000000",
          "2024-08-31T00:00:00.000000000",
          "2024-09-01T00:00:00.000000000",
          "2024-09-02T00:00:00.000000000",
          "2024-09-03T00:00:00.000000000",
          "2024-09-04T00:00:00.000000000",
          "2024-09-05T00:00:00.000000000",
          "2024-09-06T00:00:00.000000000",
          "2024-09-07T00:00:00.000000000",
          "2024-09-08T00:00:00.000000000",
          "2024-09-09T00:00:00.000000000",
          "2024-09-10T00:00:00.000000000",
          "2024-09-11T00:00:00.000000000",
          "2024-09-12T00:00:00.000000000",
          "2024-09-13T00:00:00.000000000",
          "2024-09-14T00:00:00.000000000",
          "2024-09-15T00:00:00.000000000",
          "2024-09-16T00:00:00.000000000",
          "2024-09-17T00:00:00.000000000",
          "2024-09-18T00:00:00.000000000",
          "2024-09-19T00:00:00.000000000",
          "2024-09-20T00:00:00.000000000",
          "2024-09-21T00:00:00.000000000",
          "2024-09-22T00:00:00.000000000",
          "2024-09-23T00:00:00.000000000",
          "2024-09-24T00:00:00.000000000",
          "2024-09-25T00:00:00.000000000",
          "2024-09-26T00:00:00.000000000",
          "2024-09-27T00:00:00.000000000",
          "2024-09-28T00:00:00.000000000",
          "2024-09-29T00:00:00.000000000",
          "2024-09-30T00:00:00.000000000",
          "2024-10-01T00:00:00.000000000",
          "2024-10-02T00:00:00.000000000",
          "2024-10-03T00:00:00.000000000",
          "2024-10-04T00:00:00.000000000",
          "2024-10-05T00:00:00.000000000",
          "2024-10-06T00:00:00.000000000",
          "2024-10-07T00:00:00.000000000",
          "2024-10-08T00:00:00.000000000",
          "2024-10-09T00:00:00.000000000",
          "2024-10-10T00:00:00.000000000",
          "2024-10-11T00:00:00.000000000",
          "2024-10-12T00:00:00.000000000",
          "2024-10-13T00:00:00.000000000",
          "2024-10-14T00:00:00.000000000",
          "2024-10-15T00:00:00.000000000",
          "2024-10-16T00:00:00.000000000",
          "2024-10-17T00:00:00.000000000",
          "2024-10-18T00:00:00.000000000",
          "2024-10-19T00:00:00.000000000",
          "2024-10-20T00:00:00.000000000",
          "2024-10-21T00:00:00.000000000",
          "2024-10-22T00:00:00.000000000",
          "2024-10-23T00:00:00.000000000",
          "2024-10-24T00:00:00.000000000",
          "2024-10-25T00:00:00.000000000",
          "2024-10-26T00:00:00.000000000",
          "2024-10-27T00:00:00.000000000",
          "2024-10-28T00:00:00.000000000",
          "2024-10-29T00:00:00.000000000",
          "2024-10-30T00:00:00.000000000",
          "2024-10-31T00:00:00.000000000",
          "2024-11-01T00:00:00.000000000",
          "2024-11-02T00:00:00.000000000",
          "2024-11-03T00:00:00.000000000",
          "2024-11-04T00:00:00.000000000",
          "2024-11-05T00:00:00.000000000",
          "2024-11-06T00:00:00.000000000",
          "2024-11-07T00:00:00.000000000",
          "2024-11-08T00:00:00.000000000",
          "2024-11-09T00:00:00.000000000",
          "2024-11-10T00:00:00.000000000",
          "2024-11-11T00:00:00.000000000",
          "2024-11-12T00:00:00.000000000",
          "2024-11-13T00:00:00.000000000",
          "2024-11-14T00:00:00.000000000",
          "2024-11-15T00:00:00.000000000",
          "2024-11-16T00:00:00.000000000",
          "2024-11-17T00:00:00.000000000",
          "2024-11-18T00:00:00.000000000",
          "2024-11-19T00:00:00.000000000",
          "2024-11-20T00:00:00.000000000",
          "2024-11-21T00:00:00.000000000",
          "2024-11-22T00:00:00.000000000",
          "2024-11-23T00:00:00.000000000",
          "2024-11-24T00:00:00.000000000",
          "2024-11-25T00:00:00.000000000",
          "2024-11-26T00:00:00.000000000",
          "2024-11-27T00:00:00.000000000",
          "2024-11-28T00:00:00.000000000",
          "2024-11-29T00:00:00.000000000",
          "2024-11-30T00:00:00.000000000",
          "2024-12-01T00:00:00.000000000",
          "2024-12-02T00:00:00.000000000",
          "2024-12-03T00:00:00.000000000",
          "2024-12-04T00:00:00.000000000",
          "2024-12-05T00:00:00.000000000",
          "2024-12-06T00:00:00.000000000",
          "2024-12-07T00:00:00.000000000",
          "2024-12-08T00:00:00.000000000",
          "2024-12-09T00:00:00.000000000",
          "2024-12-10T00:00:00.000000000",
          "2024-12-11T00:00:00.000000000",
          "2024-12-12T00:00:00.000000000",
          "2024-12-13T00:00:00.000000000",
          "2024-12-14T00:00:00.000000000",
          "2024-12-15T00:00:00.000000000",
          "2024-12-16T00:00:00.000000000",
          "2024-12-17T00:00:00.000000000",
          "2024-12-18T00:00:00.000000000",
          "2024-12-19T00:00:00.000000000",
          "2024-12-20T00:00:00.000000000",
          "2024-12-21T00:00:00.000000000",
          "2024-12-22T00:00:00.000000000",
          "2024-12-23T00:00:00.000000000",
          "2024-12-24T00:00:00.000000000",
          "2024-12-25T00:00:00.000000000",
          "2024-12-26T00:00:00.000000000",
          "2024-12-27T00:00:00.000000000",
          "2024-12-28T00:00:00.000000000",
          "2024-12-29T00:00:00.000000000",
          "2024-12-30T00:00:00.000000000",
          "2024-12-31T00:00:00.000000000",
          "2025-01-01T00:00:00.000000000",
          "2025-01-02T00:00:00.000000000",
          "2025-01-03T00:00:00.000000000",
          "2025-01-04T00:00:00.000000000",
          "2025-01-05T00:00:00.000000000",
          "2025-01-06T00:00:00.000000000",
          "2025-01-07T00:00:00.000000000",
          "2025-01-08T00:00:00.000000000",
          "2025-01-09T00:00:00.000000000",
          "2025-01-10T00:00:00.000000000",
          "2025-01-11T00:00:00.000000000",
          "2025-01-12T00:00:00.000000000",
          "2025-01-13T00:00:00.000000000",
          "2025-01-14T00:00:00.000000000",
          "2025-01-15T00:00:00.000000000",
          "2025-01-16T00:00:00.000000000",
          "2025-01-17T00:00:00.000000000",
          "2025-01-18T00:00:00.000000000",
          "2025-01-19T00:00:00.000000000",
          "2025-01-20T00:00:00.000000000",
          "2025-01-21T00:00:00.000000000",
          "2025-01-22T00:00:00.000000000",
          "2025-01-23T00:00:00.000000000",
          "2025-01-24T00:00:00.000000000",
          "2025-01-25T00:00:00.000000000",
          "2025-01-26T00:00:00.000000000",
          "2025-01-27T00:00:00.000000000",
          "2025-01-28T00:00:00.000000000",
          "2025-01-29T00:00:00.000000000",
          "2025-01-30T00:00:00.000000000",
          "2025-01-31T00:00:00.000000000",
          "2025-02-01T00:00:00.000000000",
          "2025-02-02T00:00:00.000000000",
          "2025-02-03T00:00:00.000000000",
          "2025-02-04T00:00:00.000000000",
          "2025-02-05T00:00:00.000000000",
          "2025-02-06T00:00:00.000000000",
          "2025-02-07T00:00:00.000000000",
          "2025-02-08T00:00:00.000000000",
          "2025-02-09T00:00:00.000000000",
          "2025-02-10T00:00:00.000000000",
          "2025-02-11T00:00:00.000000000",
          "2025-02-12T00:00:00.000000000",
          "2025-02-13T00:00:00.000000000",
          "2025-02-14T00:00:00.000000000",
          "2025-02-15T00:00:00.000000000",
          "2025-02-16T00:00:00.000000000",
          "2025-02-17T00:00:00.000000000",
          "2025-02-18T00:00:00.000000000",
          "2025-02-19T00:00:00.000000000",
          "2025-02-20T00:00:00.000000000",
          "2025-02-21T00:00:00.000000000",
          "2025-02-22T00:00:00.000000000",
          "2025-02-23T00:00:00.000000000",
          "2025-02-24T00:00:00.000000000",
          "2025-02-25T00:00:00.000000000",
          "2025-02-26T00:00:00.000000000",
          "2025-02-27T00:00:00.000000000",
          "2025-02-28T00:00:00.000000000",
          "2025-03-01T00:00:00.000000000",
          "2025-03-02T00:00:00.000000000",
          "2025-03-03T00:00:00.000000000",
          "2025-03-04T00:00:00.000000000",
          "2025-03-05T00:00:00.000000000",
          "2025-03-06T00:00:00.000000000",
          "2025-03-07T00:00:00.000000000",
          "2025-03-08T00:00:00.000000000",
          "2025-03-09T00:00:00.000000000",
          "2025-03-10T00:00:00.000000000",
          "2025-03-11T00:00:00.000000000",
          "2025-03-12T00:00:00.000000000",
          "2025-03-13T00:00:00.000000000",
          "2025-03-14T00:00:00.000000000",
          "2025-03-15T00:00:00.000000000",
          "2025-03-16T00:00:00.000000000",
          "2025-03-17T00:00:00.000000000",
          "2025-03-18T00:00:00.000000000",
          "2025-03-19T00:00:00.000000000",
          "2025-03-20T00:00:00.000000000",
          "2025-03-21T00:00:00.000000000",
          "2025-03-22T00:00:00.000000000",
          "2025-03-23T00:00:00.000000000",
          "2025-03-24T00:00:00.000000000"
         ],
         "xaxis": "x",
         "y": {
          "bdata": "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",
          "dtype": "f8"
         },
         "yaxis": "y"
        }
       ],
       "layout": {
        "annotations": [
         {
          "align": "left",
          "arrowhead": 1,
          "bgcolor": "lightgreen",
          "hovertext": "Saylor predicts<br />Bitcoin's<br />monumental rise<br />under Trump's<br />crypto<br />initiative",
          "showarrow": true,
          "text": "Positive",
          "x": "2025-03-03T00:00:00",
          "xref": "x",
          "y": 1,
          "yref": "paper"
         }
        ],
        "legend": {
         "tracegroupgap": 0
        },
        "shapes": [
         {
          "line": {
           "color": "lightgrey"
          },
          "type": "line",
          "x0": "2025-03-03T00:00:00",
          "x1": "2025-03-03T00:00:00",
          "xref": "x",
          "y0": 0,
          "y1": 1,
          "yref": "y domain"
         }
        ],
        "template": {
         "data": {
          "bar": [
           {
            "error_x": {
             "color": "#2a3f5f"
            },
            "error_y": {
             "color": "#2a3f5f"
            },
            "marker": {
             "line": {
              "color": "#E5ECF6",
              "width": 0.5
             },
             "pattern": {
              "fillmode": "overlay",
              "size": 10,
              "solidity": 0.2
             }
            },
            "type": "bar"
           }
          ],
          "barpolar": [
           {
            "marker": {
             "line": {
              "color": "#E5ECF6",
              "width": 0.5
             },
             "pattern": {
              "fillmode": "overlay",
              "size": 10,
              "solidity": 0.2
             }
            },
            "type": "barpolar"
           }
          ],
          "carpet": [
           {
            "aaxis": {
             "endlinecolor": "#2a3f5f",
             "gridcolor": "white",
             "linecolor": "white",
             "minorgridcolor": "white",
             "startlinecolor": "#2a3f5f"
            },
            "baxis": {
             "endlinecolor": "#2a3f5f",
             "gridcolor": "white",
             "linecolor": "white",
             "minorgridcolor": "white",
             "startlinecolor": "#2a3f5f"
            },
            "type": "carpet"
           }
          ],
          "choropleth": [
           {
            "colorbar": {
             "outlinewidth": 0,
             "ticks": ""
            },
            "type": "choropleth"
           }
          ],
          "contour": [
           {
            "colorbar": {
             "outlinewidth": 0,
             "ticks": ""
            },
            "colorscale": [
             [
              0,
              "#0d0887"
             ],
             [
              0.1111111111111111,
              "#46039f"
             ],
             [
              0.2222222222222222,
              "#7201a8"
             ],
             [
              0.3333333333333333,
              "#9c179e"
             ],
             [
              0.4444444444444444,
              "#bd3786"
             ],
             [
              0.5555555555555556,
              "#d8576b"
             ],
             [
              0.6666666666666666,
              "#ed7953"
             ],
             [
              0.7777777777777778,
              "#fb9f3a"
             ],
             [
              0.8888888888888888,
              "#fdca26"
             ],
             [
              1,
              "#f0f921"
             ]
            ],
            "type": "contour"
           }
          ],
          "contourcarpet": [
           {
            "colorbar": {
             "outlinewidth": 0,
             "ticks": ""
            },
            "type": "contourcarpet"
           }
          ],
          "heatmap": [
           {
            "colorbar": {
             "outlinewidth": 0,
             "ticks": ""
            },
            "colorscale": [
             [
              0,
              "#0d0887"
             ],
             [
              0.1111111111111111,
              "#46039f"
             ],
             [
              0.2222222222222222,
              "#7201a8"
             ],
             [
              0.3333333333333333,
              "#9c179e"
             ],
             [
              0.4444444444444444,
              "#bd3786"
             ],
             [
              0.5555555555555556,
              "#d8576b"
             ],
             [
              0.6666666666666666,
              "#ed7953"
             ],
             [
              0.7777777777777778,
              "#fb9f3a"
             ],
             [
              0.8888888888888888,
              "#fdca26"
             ],
             [
              1,
              "#f0f921"
             ]
            ],
            "type": "heatmap"
           }
          ],
          "histogram": [
           {
            "marker": {
             "pattern": {
              "fillmode": "overlay",
              "size": 10,
              "solidity": 0.2
             }
            },
            "type": "histogram"
           }
          ],
          "histogram2d": [
           {
            "colorbar": {
             "outlinewidth": 0,
             "ticks": ""
            },
            "colorscale": [
             [
              0,
              "#0d0887"
             ],
             [
              0.1111111111111111,
              "#46039f"
             ],
             [
              0.2222222222222222,
              "#7201a8"
             ],
             [
              0.3333333333333333,
              "#9c179e"
             ],
             [
              0.4444444444444444,
              "#bd3786"
             ],
             [
              0.5555555555555556,
              "#d8576b"
             ],
             [
              0.6666666666666666,
              "#ed7953"
             ],
             [
              0.7777777777777778,
              "#fb9f3a"
             ],
             [
              0.8888888888888888,
              "#fdca26"
             ],
             [
              1,
              "#f0f921"
             ]
            ],
            "type": "histogram2d"
           }
          ],
          "histogram2dcontour": [
           {
            "colorbar": {
             "outlinewidth": 0,
             "ticks": ""
            },
            "colorscale": [
             [
              0,
              "#0d0887"
             ],
             [
              0.1111111111111111,
              "#46039f"
             ],
             [
              0.2222222222222222,
              "#7201a8"
             ],
             [
              0.3333333333333333,
              "#9c179e"
             ],
             [
              0.4444444444444444,
              "#bd3786"
             ],
             [
              0.5555555555555556,
              "#d8576b"
             ],
             [
              0.6666666666666666,
              "#ed7953"
             ],
             [
              0.7777777777777778,
              "#fb9f3a"
             ],
             [
              0.8888888888888888,
              "#fdca26"
             ],
             [
              1,
              "#f0f921"
             ]
            ],
            "type": "histogram2dcontour"
           }
          ],
          "mesh3d": [
           {
            "colorbar": {
             "outlinewidth": 0,
             "ticks": ""
            },
            "type": "mesh3d"
           }
          ],
          "parcoords": [
           {
            "line": {
             "colorbar": {
              "outlinewidth": 0,
              "ticks": ""
             }
            },
            "type": "parcoords"
           }
          ],
          "pie": [
           {
            "automargin": true,
            "type": "pie"
           }
          ],
          "scatter": [
           {
            "fillpattern": {
             "fillmode": "overlay",
             "size": 10,
             "solidity": 0.2
            },
            "type": "scatter"
           }
          ],
          "scatter3d": [
           {
            "line": {
             "colorbar": {
              "outlinewidth": 0,
              "ticks": ""
             }
            },
            "marker": {
             "colorbar": {
              "outlinewidth": 0,
              "ticks": ""
             }
            },
            "type": "scatter3d"
           }
          ],
          "scattercarpet": [
           {
            "marker": {
             "colorbar": {
              "outlinewidth": 0,
              "ticks": ""
             }
            },
            "type": "scattercarpet"
           }
          ],
          "scattergeo": [
           {
            "marker": {
             "colorbar": {
              "outlinewidth": 0,
              "ticks": ""
             }
            },
            "type": "scattergeo"
           }
          ],
          "scattergl": [
           {
            "marker": {
             "colorbar": {
              "outlinewidth": 0,
              "ticks": ""
             }
            },
            "type": "scattergl"
           }
          ],
          "scattermap": [
           {
            "marker": {
             "colorbar": {
              "outlinewidth": 0,
              "ticks": ""
             }
            },
            "type": "scattermap"
           }
          ],
          "scattermapbox": [
           {
            "marker": {
             "colorbar": {
              "outlinewidth": 0,
              "ticks": ""
             }
            },
            "type": "scattermapbox"
           }
          ],
          "scatterpolar": [
           {
            "marker": {
             "colorbar": {
              "outlinewidth": 0,
              "ticks": ""
             }
            },
            "type": "scatterpolar"
           }
          ],
          "scatterpolargl": [
           {
            "marker": {
             "colorbar": {
              "outlinewidth": 0,
              "ticks": ""
             }
            },
            "type": "scatterpolargl"
           }
          ],
          "scatterternary": [
           {
            "marker": {
             "colorbar": {
              "outlinewidth": 0,
              "ticks": ""
             }
            },
            "type": "scatterternary"
           }
          ],
          "surface": [
           {
            "colorbar": {
             "outlinewidth": 0,
             "ticks": ""
            },
            "colorscale": [
             [
              0,
              "#0d0887"
             ],
             [
              0.1111111111111111,
              "#46039f"
             ],
             [
              0.2222222222222222,
              "#7201a8"
             ],
             [
              0.3333333333333333,
              "#9c179e"
             ],
             [
              0.4444444444444444,
              "#bd3786"
             ],
             [
              0.5555555555555556,
              "#d8576b"
             ],
             [
              0.6666666666666666,
              "#ed7953"
             ],
             [
              0.7777777777777778,
              "#fb9f3a"
             ],
             [
              0.8888888888888888,
              "#fdca26"
             ],
             [
              1,
              "#f0f921"
             ]
            ],
            "type": "surface"
           }
          ],
          "table": [
           {
            "cells": {
             "fill": {
              "color": "#EBF0F8"
             },
             "line": {
              "color": "white"
             }
            },
            "header": {
             "fill": {
              "color": "#C8D4E3"
             },
             "line": {
              "color": "white"
             }
            },
            "type": "table"
           }
          ]
         },
         "layout": {
          "annotationdefaults": {
           "arrowcolor": "#2a3f5f",
           "arrowhead": 0,
           "arrowwidth": 1
          },
          "autotypenumbers": "strict",
          "coloraxis": {
           "colorbar": {
            "outlinewidth": 0,
            "ticks": ""
           }
          },
          "colorscale": {
           "diverging": [
            [
             0,
             "#8e0152"
            ],
            [
             0.1,
             "#c51b7d"
            ],
            [
             0.2,
             "#de77ae"
            ],
            [
             0.3,
             "#f1b6da"
            ],
            [
             0.4,
             "#fde0ef"
            ],
            [
             0.5,
             "#f7f7f7"
            ],
            [
             0.6,
             "#e6f5d0"
            ],
            [
             0.7,
             "#b8e186"
            ],
            [
             0.8,
             "#7fbc41"
            ],
            [
             0.9,
             "#4d9221"
            ],
            [
             1,
             "#276419"
            ]
           ],
           "sequential": [
            [
             0,
             "#0d0887"
            ],
            [
             0.1111111111111111,
             "#46039f"
            ],
            [
             0.2222222222222222,
             "#7201a8"
            ],
            [
             0.3333333333333333,
             "#9c179e"
            ],
            [
             0.4444444444444444,
             "#bd3786"
            ],
            [
             0.5555555555555556,
             "#d8576b"
            ],
            [
             0.6666666666666666,
             "#ed7953"
            ],
            [
             0.7777777777777778,
             "#fb9f3a"
            ],
            [
             0.8888888888888888,
             "#fdca26"
            ],
            [
             1,
             "#f0f921"
            ]
           ],
           "sequentialminus": [
            [
             0,
             "#0d0887"
            ],
            [
             0.1111111111111111,
             "#46039f"
            ],
            [
             0.2222222222222222,
             "#7201a8"
            ],
            [
             0.3333333333333333,
             "#9c179e"
            ],
            [
             0.4444444444444444,
             "#bd3786"
            ],
            [
             0.5555555555555556,
             "#d8576b"
            ],
            [
             0.6666666666666666,
             "#ed7953"
            ],
            [
             0.7777777777777778,
             "#fb9f3a"
            ],
            [
             0.8888888888888888,
             "#fdca26"
            ],
            [
             1,
             "#f0f921"
            ]
           ]
          },
          "colorway": [
           "#636efa",
           "#EF553B",
           "#00cc96",
           "#ab63fa",
           "#FFA15A",
           "#19d3f3",
           "#FF6692",
           "#B6E880",
           "#FF97FF",
           "#FECB52"
          ],
          "font": {
           "color": "#2a3f5f"
          },
          "geo": {
           "bgcolor": "white",
           "lakecolor": "white",
           "landcolor": "#E5ECF6",
           "showlakes": true,
           "showland": true,
           "subunitcolor": "white"
          },
          "hoverlabel": {
           "align": "left"
          },
          "hovermode": "closest",
          "mapbox": {
           "style": "light"
          },
          "paper_bgcolor": "white",
          "plot_bgcolor": "#E5ECF6",
          "polar": {
           "angularaxis": {
            "gridcolor": "white",
            "linecolor": "white",
            "ticks": ""
           },
           "bgcolor": "#E5ECF6",
           "radialaxis": {
            "gridcolor": "white",
            "linecolor": "white",
            "ticks": ""
           }
          },
          "scene": {
           "xaxis": {
            "backgroundcolor": "#E5ECF6",
            "gridcolor": "white",
            "gridwidth": 2,
            "linecolor": "white",
            "showbackground": true,
            "ticks": "",
            "zerolinecolor": "white"
           },
           "yaxis": {
            "backgroundcolor": "#E5ECF6",
            "gridcolor": "white",
            "gridwidth": 2,
            "linecolor": "white",
            "showbackground": true,
            "ticks": "",
            "zerolinecolor": "white"
           },
           "zaxis": {
            "backgroundcolor": "#E5ECF6",
            "gridcolor": "white",
            "gridwidth": 2,
            "linecolor": "white",
            "showbackground": true,
            "ticks": "",
            "zerolinecolor": "white"
           }
          },
          "shapedefaults": {
           "line": {
            "color": "#2a3f5f"
           }
          },
          "ternary": {
           "aaxis": {
            "gridcolor": "white",
            "linecolor": "white",
            "ticks": ""
           },
           "baxis": {
            "gridcolor": "white",
            "linecolor": "white",
            "ticks": ""
           },
           "bgcolor": "#E5ECF6",
           "caxis": {
            "gridcolor": "white",
            "linecolor": "white",
            "ticks": ""
           }
          },
          "title": {
           "x": 0.05
          },
          "xaxis": {
           "automargin": true,
           "gridcolor": "white",
           "linecolor": "white",
           "ticks": "",
           "title": {
            "standoff": 15
           },
           "zerolinecolor": "white",
           "zerolinewidth": 2
          },
          "yaxis": {
           "automargin": true,
           "gridcolor": "white",
           "linecolor": "white",
           "ticks": "",
           "title": {
            "standoff": 15
           },
           "zerolinecolor": "white",
           "zerolinewidth": 2
          }
         }
        },
        "title": {
         "text": "Stock price"
        },
        "width": 1200,
        "xaxis": {
         "anchor": "y",
         "domain": [
          0,
          1
         ],
         "title": {
          "text": "Date"
         }
        },
        "yaxis": {
         "anchor": "x",
         "domain": [
          0,
          1
         ],
         "title": {
          "text": "Close"
         }
        }
       }
      }
     },
     "metadata": {},
     "output_type": "display_data"
    }
   ],
   "source": [
    "plot_price_with_news(price_df, news_headlines_df.sample(frac=0.1, random_state=7)).show()"
   ]
  },
  {
   "cell_type": "code",
   "execution_count": 23,
   "metadata": {},
   "outputs": [
    {
     "data": {
      "application/vnd.plotly.v1+json": {
       "config": {
        "plotlyServerURL": "https://plot.ly"
       },
       "data": [
        {
         "hovertemplate": "Date=%{x}<br>Close=%{y}<extra></extra>",
         "legendgroup": "",
         "line": {
          "color": "#636efa",
          "dash": "solid"
         },
         "marker": {
          "symbol": "circle"
         },
         "mode": "lines",
         "name": "",
         "orientation": "v",
         "showlegend": false,
         "type": "scatter",
         "x": [
          "2024-05-29T00:00:00.000000000",
          "2024-05-30T00:00:00.000000000",
          "2024-05-31T00:00:00.000000000",
          "2024-06-01T00:00:00.000000000",
          "2024-06-02T00:00:00.000000000",
          "2024-06-03T00:00:00.000000000",
          "2024-06-04T00:00:00.000000000",
          "2024-06-05T00:00:00.000000000",
          "2024-06-06T00:00:00.000000000",
          "2024-06-07T00:00:00.000000000",
          "2024-06-08T00:00:00.000000000",
          "2024-06-09T00:00:00.000000000",
          "2024-06-10T00:00:00.000000000",
          "2024-06-11T00:00:00.000000000",
          "2024-06-12T00:00:00.000000000",
          "2024-06-13T00:00:00.000000000",
          "2024-06-14T00:00:00.000000000",
          "2024-06-15T00:00:00.000000000",
          "2024-06-16T00:00:00.000000000",
          "2024-06-17T00:00:00.000000000",
          "2024-06-18T00:00:00.000000000",
          "2024-06-19T00:00:00.000000000",
          "2024-06-20T00:00:00.000000000",
          "2024-06-21T00:00:00.000000000",
          "2024-06-22T00:00:00.000000000",
          "2024-06-23T00:00:00.000000000",
          "2024-06-24T00:00:00.000000000",
          "2024-06-25T00:00:00.000000000",
          "2024-06-26T00:00:00.000000000",
          "2024-06-27T00:00:00.000000000",
          "2024-06-28T00:00:00.000000000",
          "2024-06-29T00:00:00.000000000",
          "2024-06-30T00:00:00.000000000",
          "2024-07-01T00:00:00.000000000",
          "2024-07-02T00:00:00.000000000",
          "2024-07-03T00:00:00.000000000",
          "2024-07-04T00:00:00.000000000",
          "2024-07-05T00:00:00.000000000",
          "2024-07-06T00:00:00.000000000",
          "2024-07-07T00:00:00.000000000",
          "2024-07-08T00:00:00.000000000",
          "2024-07-09T00:00:00.000000000",
          "2024-07-10T00:00:00.000000000",
          "2024-07-11T00:00:00.000000000",
          "2024-07-12T00:00:00.000000000",
          "2024-07-13T00:00:00.000000000",
          "2024-07-14T00:00:00.000000000",
          "2024-07-15T00:00:00.000000000",
          "2024-07-16T00:00:00.000000000",
          "2024-07-17T00:00:00.000000000",
          "2024-07-18T00:00:00.000000000",
          "2024-07-19T00:00:00.000000000",
          "2024-07-20T00:00:00.000000000",
          "2024-07-21T00:00:00.000000000",
          "2024-07-22T00:00:00.000000000",
          "2024-07-23T00:00:00.000000000",
          "2024-07-24T00:00:00.000000000",
          "2024-07-25T00:00:00.000000000",
          "2024-07-26T00:00:00.000000000",
          "2024-07-27T00:00:00.000000000",
          "2024-07-28T00:00:00.000000000",
          "2024-07-29T00:00:00.000000000",
          "2024-07-30T00:00:00.000000000",
          "2024-07-31T00:00:00.000000000",
          "2024-08-01T00:00:00.000000000",
          "2024-08-02T00:00:00.000000000",
          "2024-08-03T00:00:00.000000000",
          "2024-08-04T00:00:00.000000000",
          "2024-08-05T00:00:00.000000000",
          "2024-08-06T00:00:00.000000000",
          "2024-08-07T00:00:00.000000000",
          "2024-08-08T00:00:00.000000000",
          "2024-08-09T00:00:00.000000000",
          "2024-08-10T00:00:00.000000000",
          "2024-08-11T00:00:00.000000000",
          "2024-08-12T00:00:00.000000000",
          "2024-08-13T00:00:00.000000000",
          "2024-08-14T00:00:00.000000000",
          "2024-08-15T00:00:00.000000000",
          "2024-08-16T00:00:00.000000000",
          "2024-08-17T00:00:00.000000000",
          "2024-08-18T00:00:00.000000000",
          "2024-08-19T00:00:00.000000000",
          "2024-08-20T00:00:00.000000000",
          "2024-08-21T00:00:00.000000000",
          "2024-08-22T00:00:00.000000000",
          "2024-08-23T00:00:00.000000000",
          "2024-08-24T00:00:00.000000000",
          "2024-08-25T00:00:00.000000000",
          "2024-08-26T00:00:00.000000000",
          "2024-08-27T00:00:00.000000000",
          "2024-08-28T00:00:00.000000000",
          "2024-08-29T00:00:00.000000000",
          "2024-08-30T00:00:00.000000000",
          "2024-08-31T00:00:00.000000000",
          "2024-09-01T00:00:00.000000000",
          "2024-09-02T00:00:00.000000000",
          "2024-09-03T00:00:00.000000000",
          "2024-09-04T00:00:00.000000000",
          "2024-09-05T00:00:00.000000000",
          "2024-09-06T00:00:00.000000000",
          "2024-09-07T00:00:00.000000000",
          "2024-09-08T00:00:00.000000000",
          "2024-09-09T00:00:00.000000000",
          "2024-09-10T00:00:00.000000000",
          "2024-09-11T00:00:00.000000000",
          "2024-09-12T00:00:00.000000000",
          "2024-09-13T00:00:00.000000000",
          "2024-09-14T00:00:00.000000000",
          "2024-09-15T00:00:00.000000000",
          "2024-09-16T00:00:00.000000000",
          "2024-09-17T00:00:00.000000000",
          "2024-09-18T00:00:00.000000000",
          "2024-09-19T00:00:00.000000000",
          "2024-09-20T00:00:00.000000000",
          "2024-09-21T00:00:00.000000000",
          "2024-09-22T00:00:00.000000000",
          "2024-09-23T00:00:00.000000000",
          "2024-09-24T00:00:00.000000000",
          "2024-09-25T00:00:00.000000000",
          "2024-09-26T00:00:00.000000000",
          "2024-09-27T00:00:00.000000000",
          "2024-09-28T00:00:00.000000000",
          "2024-09-29T00:00:00.000000000",
          "2024-09-30T00:00:00.000000000",
          "2024-10-01T00:00:00.000000000",
          "2024-10-02T00:00:00.000000000",
          "2024-10-03T00:00:00.000000000",
          "2024-10-04T00:00:00.000000000",
          "2024-10-05T00:00:00.000000000",
          "2024-10-06T00:00:00.000000000",
          "2024-10-07T00:00:00.000000000",
          "2024-10-08T00:00:00.000000000",
          "2024-10-09T00:00:00.000000000",
          "2024-10-10T00:00:00.000000000",
          "2024-10-11T00:00:00.000000000",
          "2024-10-12T00:00:00.000000000",
          "2024-10-13T00:00:00.000000000",
          "2024-10-14T00:00:00.000000000",
          "2024-10-15T00:00:00.000000000",
          "2024-10-16T00:00:00.000000000",
          "2024-10-17T00:00:00.000000000",
          "2024-10-18T00:00:00.000000000",
          "2024-10-19T00:00:00.000000000",
          "2024-10-20T00:00:00.000000000",
          "2024-10-21T00:00:00.000000000",
          "2024-10-22T00:00:00.000000000",
          "2024-10-23T00:00:00.000000000",
          "2024-10-24T00:00:00.000000000",
          "2024-10-25T00:00:00.000000000",
          "2024-10-26T00:00:00.000000000",
          "2024-10-27T00:00:00.000000000",
          "2024-10-28T00:00:00.000000000",
          "2024-10-29T00:00:00.000000000",
          "2024-10-30T00:00:00.000000000",
          "2024-10-31T00:00:00.000000000",
          "2024-11-01T00:00:00.000000000",
          "2024-11-02T00:00:00.000000000",
          "2024-11-03T00:00:00.000000000",
          "2024-11-04T00:00:00.000000000",
          "2024-11-05T00:00:00.000000000",
          "2024-11-06T00:00:00.000000000",
          "2024-11-07T00:00:00.000000000",
          "2024-11-08T00:00:00.000000000",
          "2024-11-09T00:00:00.000000000",
          "2024-11-10T00:00:00.000000000",
          "2024-11-11T00:00:00.000000000",
          "2024-11-12T00:00:00.000000000",
          "2024-11-13T00:00:00.000000000",
          "2024-11-14T00:00:00.000000000",
          "2024-11-15T00:00:00.000000000",
          "2024-11-16T00:00:00.000000000",
          "2024-11-17T00:00:00.000000000",
          "2024-11-18T00:00:00.000000000",
          "2024-11-19T00:00:00.000000000",
          "2024-11-20T00:00:00.000000000",
          "2024-11-21T00:00:00.000000000",
          "2024-11-22T00:00:00.000000000",
          "2024-11-23T00:00:00.000000000",
          "2024-11-24T00:00:00.000000000",
          "2024-11-25T00:00:00.000000000",
          "2024-11-26T00:00:00.000000000",
          "2024-11-27T00:00:00.000000000",
          "2024-11-28T00:00:00.000000000",
          "2024-11-29T00:00:00.000000000",
          "2024-11-30T00:00:00.000000000",
          "2024-12-01T00:00:00.000000000",
          "2024-12-02T00:00:00.000000000",
          "2024-12-03T00:00:00.000000000",
          "2024-12-04T00:00:00.000000000",
          "2024-12-05T00:00:00.000000000",
          "2024-12-06T00:00:00.000000000",
          "2024-12-07T00:00:00.000000000",
          "2024-12-08T00:00:00.000000000",
          "2024-12-09T00:00:00.000000000",
          "2024-12-10T00:00:00.000000000",
          "2024-12-11T00:00:00.000000000",
          "2024-12-12T00:00:00.000000000",
          "2024-12-13T00:00:00.000000000",
          "2024-12-14T00:00:00.000000000",
          "2024-12-15T00:00:00.000000000",
          "2024-12-16T00:00:00.000000000",
          "2024-12-17T00:00:00.000000000",
          "2024-12-18T00:00:00.000000000",
          "2024-12-19T00:00:00.000000000",
          "2024-12-20T00:00:00.000000000",
          "2024-12-21T00:00:00.000000000",
          "2024-12-22T00:00:00.000000000",
          "2024-12-23T00:00:00.000000000",
          "2024-12-24T00:00:00.000000000",
          "2024-12-25T00:00:00.000000000",
          "2024-12-26T00:00:00.000000000",
          "2024-12-27T00:00:00.000000000",
          "2024-12-28T00:00:00.000000000",
          "2024-12-29T00:00:00.000000000",
          "2024-12-30T00:00:00.000000000",
          "2024-12-31T00:00:00.000000000",
          "2025-01-01T00:00:00.000000000",
          "2025-01-02T00:00:00.000000000",
          "2025-01-03T00:00:00.000000000",
          "2025-01-04T00:00:00.000000000",
          "2025-01-05T00:00:00.000000000",
          "2025-01-06T00:00:00.000000000",
          "2025-01-07T00:00:00.000000000",
          "2025-01-08T00:00:00.000000000",
          "2025-01-09T00:00:00.000000000",
          "2025-01-10T00:00:00.000000000",
          "2025-01-11T00:00:00.000000000",
          "2025-01-12T00:00:00.000000000",
          "2025-01-13T00:00:00.000000000",
          "2025-01-14T00:00:00.000000000",
          "2025-01-15T00:00:00.000000000",
          "2025-01-16T00:00:00.000000000",
          "2025-01-17T00:00:00.000000000",
          "2025-01-18T00:00:00.000000000",
          "2025-01-19T00:00:00.000000000",
          "2025-01-20T00:00:00.000000000",
          "2025-01-21T00:00:00.000000000",
          "2025-01-22T00:00:00.000000000",
          "2025-01-23T00:00:00.000000000",
          "2025-01-24T00:00:00.000000000",
          "2025-01-25T00:00:00.000000000",
          "2025-01-26T00:00:00.000000000",
          "2025-01-27T00:00:00.000000000",
          "2025-01-28T00:00:00.000000000",
          "2025-01-29T00:00:00.000000000",
          "2025-01-30T00:00:00.000000000",
          "2025-01-31T00:00:00.000000000",
          "2025-02-01T00:00:00.000000000",
          "2025-02-02T00:00:00.000000000",
          "2025-02-03T00:00:00.000000000",
          "2025-02-04T00:00:00.000000000",
          "2025-02-05T00:00:00.000000000",
          "2025-02-06T00:00:00.000000000",
          "2025-02-07T00:00:00.000000000",
          "2025-02-08T00:00:00.000000000",
          "2025-02-09T00:00:00.000000000",
          "2025-02-10T00:00:00.000000000",
          "2025-02-11T00:00:00.000000000",
          "2025-02-12T00:00:00.000000000",
          "2025-02-13T00:00:00.000000000",
          "2025-02-14T00:00:00.000000000",
          "2025-02-15T00:00:00.000000000",
          "2025-02-16T00:00:00.000000000",
          "2025-02-17T00:00:00.000000000",
          "2025-02-18T00:00:00.000000000",
          "2025-02-19T00:00:00.000000000",
          "2025-02-20T00:00:00.000000000",
          "2025-02-21T00:00:00.000000000",
          "2025-02-22T00:00:00.000000000",
          "2025-02-23T00:00:00.000000000",
          "2025-02-24T00:00:00.000000000",
          "2025-02-25T00:00:00.000000000",
          "2025-02-26T00:00:00.000000000",
          "2025-02-27T00:00:00.000000000",
          "2025-02-28T00:00:00.000000000",
          "2025-03-01T00:00:00.000000000",
          "2025-03-02T00:00:00.000000000",
          "2025-03-03T00:00:00.000000000",
          "2025-03-04T00:00:00.000000000",
          "2025-03-05T00:00:00.000000000",
          "2025-03-06T00:00:00.000000000",
          "2025-03-07T00:00:00.000000000",
          "2025-03-08T00:00:00.000000000",
          "2025-03-09T00:00:00.000000000",
          "2025-03-10T00:00:00.000000000",
          "2025-03-11T00:00:00.000000000",
          "2025-03-12T00:00:00.000000000",
          "2025-03-13T00:00:00.000000000",
          "2025-03-14T00:00:00.000000000",
          "2025-03-15T00:00:00.000000000",
          "2025-03-16T00:00:00.000000000",
          "2025-03-17T00:00:00.000000000",
          "2025-03-18T00:00:00.000000000",
          "2025-03-19T00:00:00.000000000",
          "2025-03-20T00:00:00.000000000",
          "2025-03-21T00:00:00.000000000",
          "2025-03-22T00:00:00.000000000",
          "2025-03-23T00:00:00.000000000",
          "2025-03-24T00:00:00.000000000"
         ],
         "xaxis": "x",
         "y": {
          "bdata": "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",
          "dtype": "f8"
         },
         "yaxis": "y"
        }
       ],
       "layout": {
        "annotations": [
         {
          "align": "left",
          "arrowhead": 1,
          "bgcolor": "lightgreen",
          "hovertext": "Congressman Nick<br />Begich signals<br />growing support<br />for The Bitcoin<br />Act to acquire 1<br />million BTC",
          "showarrow": true,
          "text": "Positive",
          "x": "2025-03-18T00:00:00",
          "xref": "x",
          "y": 1,
          "yref": "paper"
         },
         {
          "align": "left",
          "arrowhead": 1,
          "bgcolor": "pink",
          "hovertext": "Sentiment<br />analysis for<br />important coins.<br />Bitcoin<br />currently in<br />negative<br />territory",
          "showarrow": true,
          "text": "Negative",
          "x": "2025-03-17T00:00:00",
          "xref": "x",
          "y": 1,
          "yref": "paper"
         },
         {
          "align": "left",
          "arrowhead": 1,
          "bgcolor": "pink",
          "hovertext": "Weekly: The Hour<br />Glass (AGS:<br />SGD1.58)<br />decreases 0.6%<br />on weak volume;<br />-1c [0.6%]",
          "showarrow": true,
          "text": "Negative",
          "x": "2025-03-14T00:00:00",
          "xref": "x",
          "y": 1,
          "yref": "paper"
         },
         {
          "align": "left",
          "arrowhead": 1,
          "bgcolor": "pink",
          "hovertext": "B.C. court<br />grants<br />production order<br />to man defrauded<br />out of $26<br />million in<br />bitcoin",
          "showarrow": true,
          "text": "Negative",
          "x": "2025-03-13T00:00:00",
          "xref": "x",
          "y": 1,
          "yref": "paper"
         },
         {
          "align": "left",
          "arrowhead": 1,
          "bgcolor": "pink",
          "hovertext": "Recession risks<br />roil markets as<br />investors dump<br />stocks, bitcoin",
          "showarrow": true,
          "text": "Negative",
          "x": "2025-03-10T00:00:00",
          "xref": "x",
          "y": 1,
          "yref": "paper"
         },
         {
          "align": "left",
          "arrowhead": 1,
          "bgcolor": "pink",
          "hovertext": "Backlash to<br />crypto-reserve<br />plan raises<br />doubts on its<br />prospects",
          "showarrow": true,
          "text": "Negative",
          "x": "2025-03-04T00:00:00",
          "xref": "x",
          "y": 1,
          "yref": "paper"
         },
         {
          "align": "left",
          "arrowhead": 1,
          "bgcolor": "lightgreen",
          "hovertext": "Saylor predicts<br />Bitcoin's<br />monumental rise<br />under Trump's<br />crypto<br />initiative",
          "showarrow": true,
          "text": "Positive",
          "x": "2025-03-03T00:00:00",
          "xref": "x",
          "y": 1,
          "yref": "paper"
         },
         {
          "align": "left",
          "arrowhead": 1,
          "bgcolor": "pink",
          "hovertext": "Crypto Fear and<br />Greed Index hits<br />three-year low<br />as sell-off from<br />recent buyers<br />weighs on<br />Bitcoin",
          "showarrow": true,
          "text": "Negative",
          "x": "2025-02-27T00:00:00",
          "xref": "x",
          "y": 1,
          "yref": "paper"
         },
         {
          "align": "left",
          "arrowhead": 1,
          "bgcolor": "lightgreen",
          "hovertext": "Athena Bitcoin<br />Global (ABIT:<br />6.28c) soars<br />10%; +0.58c<br />[10.2%]",
          "showarrow": true,
          "text": "Positive",
          "x": "2025-02-19T00:00:00",
          "xref": "x",
          "y": 1,
          "yref": "paper"
         },
         {
          "align": "left",
          "arrowhead": 1,
          "bgcolor": "pink",
          "hovertext": "Man pleads<br />guilty to role<br />in SEC social<br />media account<br />hack that led<br />the price of<br />bitcoin to spike",
          "showarrow": true,
          "text": "Negative",
          "x": "2025-02-10T00:00:00",
          "xref": "x",
          "y": 1,
          "yref": "paper"
         },
         {
          "align": "left",
          "arrowhead": 1,
          "bgcolor": "pink",
          "hovertext": "Weekly: The Hour<br />Glass (AGS:<br />SGD1.55) keeps<br />sliding: down<br />2.5% in 3 weeks;<br />-2c [1.3%]",
          "showarrow": true,
          "text": "Negative",
          "x": "2025-02-07T00:00:00",
          "xref": "x",
          "y": 1,
          "yref": "paper"
         },
         {
          "align": "left",
          "arrowhead": 1,
          "bgcolor": "lightgreen",
          "hovertext": "Brazil's<br />Galipolo sees<br />surge in crypto<br />use, says 90% of<br />flow tied to<br />stablecoins",
          "showarrow": true,
          "text": "Positive",
          "x": "2025-02-06T00:00:00",
          "xref": "x",
          "y": 1,
          "yref": "paper"
         }
        ],
        "legend": {
         "tracegroupgap": 0
        },
        "shapes": [
         {
          "line": {
           "color": "lightgrey"
          },
          "type": "line",
          "x0": "2025-03-18T00:00:00",
          "x1": "2025-03-18T00:00:00",
          "xref": "x",
          "y0": 0,
          "y1": 1,
          "yref": "y domain"
         },
         {
          "line": {
           "color": "lightgrey"
          },
          "type": "line",
          "x0": "2025-03-17T00:00:00",
          "x1": "2025-03-17T00:00:00",
          "xref": "x",
          "y0": 0,
          "y1": 1,
          "yref": "y domain"
         },
         {
          "line": {
           "color": "lightgrey"
          },
          "type": "line",
          "x0": "2025-03-14T00:00:00",
          "x1": "2025-03-14T00:00:00",
          "xref": "x",
          "y0": 0,
          "y1": 1,
          "yref": "y domain"
         },
         {
          "line": {
           "color": "lightgrey"
          },
          "type": "line",
          "x0": "2025-03-13T00:00:00",
          "x1": "2025-03-13T00:00:00",
          "xref": "x",
          "y0": 0,
          "y1": 1,
          "yref": "y domain"
         },
         {
          "line": {
           "color": "lightgrey"
          },
          "type": "line",
          "x0": "2025-03-10T00:00:00",
          "x1": "2025-03-10T00:00:00",
          "xref": "x",
          "y0": 0,
          "y1": 1,
          "yref": "y domain"
         },
         {
          "line": {
           "color": "lightgrey"
          },
          "type": "line",
          "x0": "2025-03-04T00:00:00",
          "x1": "2025-03-04T00:00:00",
          "xref": "x",
          "y0": 0,
          "y1": 1,
          "yref": "y domain"
         },
         {
          "line": {
           "color": "lightgrey"
          },
          "type": "line",
          "x0": "2025-03-03T00:00:00",
          "x1": "2025-03-03T00:00:00",
          "xref": "x",
          "y0": 0,
          "y1": 1,
          "yref": "y domain"
         },
         {
          "line": {
           "color": "lightgrey"
          },
          "type": "line",
          "x0": "2025-02-27T00:00:00",
          "x1": "2025-02-27T00:00:00",
          "xref": "x",
          "y0": 0,
          "y1": 1,
          "yref": "y domain"
         },
         {
          "line": {
           "color": "lightgrey"
          },
          "type": "line",
          "x0": "2025-02-19T00:00:00",
          "x1": "2025-02-19T00:00:00",
          "xref": "x",
          "y0": 0,
          "y1": 1,
          "yref": "y domain"
         },
         {
          "line": {
           "color": "lightgrey"
          },
          "type": "line",
          "x0": "2025-02-10T00:00:00",
          "x1": "2025-02-10T00:00:00",
          "xref": "x",
          "y0": 0,
          "y1": 1,
          "yref": "y domain"
         },
         {
          "line": {
           "color": "lightgrey"
          },
          "type": "line",
          "x0": "2025-02-07T00:00:00",
          "x1": "2025-02-07T00:00:00",
          "xref": "x",
          "y0": 0,
          "y1": 1,
          "yref": "y domain"
         },
         {
          "line": {
           "color": "lightgrey"
          },
          "type": "line",
          "x0": "2025-02-06T00:00:00",
          "x1": "2025-02-06T00:00:00",
          "xref": "x",
          "y0": 0,
          "y1": 1,
          "yref": "y domain"
         }
        ],
        "template": {
         "data": {
          "bar": [
           {
            "error_x": {
             "color": "#2a3f5f"
            },
            "error_y": {
             "color": "#2a3f5f"
            },
            "marker": {
             "line": {
              "color": "#E5ECF6",
              "width": 0.5
             },
             "pattern": {
              "fillmode": "overlay",
              "size": 10,
              "solidity": 0.2
             }
            },
            "type": "bar"
           }
          ],
          "barpolar": [
           {
            "marker": {
             "line": {
              "color": "#E5ECF6",
              "width": 0.5
             },
             "pattern": {
              "fillmode": "overlay",
              "size": 10,
              "solidity": 0.2
             }
            },
            "type": "barpolar"
           }
          ],
          "carpet": [
           {
            "aaxis": {
             "endlinecolor": "#2a3f5f",
             "gridcolor": "white",
             "linecolor": "white",
             "minorgridcolor": "white",
             "startlinecolor": "#2a3f5f"
            },
            "baxis": {
             "endlinecolor": "#2a3f5f",
             "gridcolor": "white",
             "linecolor": "white",
             "minorgridcolor": "white",
             "startlinecolor": "#2a3f5f"
            },
            "type": "carpet"
           }
          ],
          "choropleth": [
           {
            "colorbar": {
             "outlinewidth": 0,
             "ticks": ""
            },
            "type": "choropleth"
           }
          ],
          "contour": [
           {
            "colorbar": {
             "outlinewidth": 0,
             "ticks": ""
            },
            "colorscale": [
             [
              0,
              "#0d0887"
             ],
             [
              0.1111111111111111,
              "#46039f"
             ],
             [
              0.2222222222222222,
              "#7201a8"
             ],
             [
              0.3333333333333333,
              "#9c179e"
             ],
             [
              0.4444444444444444,
              "#bd3786"
             ],
             [
              0.5555555555555556,
              "#d8576b"
             ],
             [
              0.6666666666666666,
              "#ed7953"
             ],
             [
              0.7777777777777778,
              "#fb9f3a"
             ],
             [
              0.8888888888888888,
              "#fdca26"
             ],
             [
              1,
              "#f0f921"
             ]
            ],
            "type": "contour"
           }
          ],
          "contourcarpet": [
           {
            "colorbar": {
             "outlinewidth": 0,
             "ticks": ""
            },
            "type": "contourcarpet"
           }
          ],
          "heatmap": [
           {
            "colorbar": {
             "outlinewidth": 0,
             "ticks": ""
            },
            "colorscale": [
             [
              0,
              "#0d0887"
             ],
             [
              0.1111111111111111,
              "#46039f"
             ],
             [
              0.2222222222222222,
              "#7201a8"
             ],
             [
              0.3333333333333333,
              "#9c179e"
             ],
             [
              0.4444444444444444,
              "#bd3786"
             ],
             [
              0.5555555555555556,
              "#d8576b"
             ],
             [
              0.6666666666666666,
              "#ed7953"
             ],
             [
              0.7777777777777778,
              "#fb9f3a"
             ],
             [
              0.8888888888888888,
              "#fdca26"
             ],
             [
              1,
              "#f0f921"
             ]
            ],
            "type": "heatmap"
           }
          ],
          "histogram": [
           {
            "marker": {
             "pattern": {
              "fillmode": "overlay",
              "size": 10,
              "solidity": 0.2
             }
            },
            "type": "histogram"
           }
          ],
          "histogram2d": [
           {
            "colorbar": {
             "outlinewidth": 0,
             "ticks": ""
            },
            "colorscale": [
             [
              0,
              "#0d0887"
             ],
             [
              0.1111111111111111,
              "#46039f"
             ],
             [
              0.2222222222222222,
              "#7201a8"
             ],
             [
              0.3333333333333333,
              "#9c179e"
             ],
             [
              0.4444444444444444,
              "#bd3786"
             ],
             [
              0.5555555555555556,
              "#d8576b"
             ],
             [
              0.6666666666666666,
              "#ed7953"
             ],
             [
              0.7777777777777778,
              "#fb9f3a"
             ],
             [
              0.8888888888888888,
              "#fdca26"
             ],
             [
              1,
              "#f0f921"
             ]
            ],
            "type": "histogram2d"
           }
          ],
          "histogram2dcontour": [
           {
            "colorbar": {
             "outlinewidth": 0,
             "ticks": ""
            },
            "colorscale": [
             [
              0,
              "#0d0887"
             ],
             [
              0.1111111111111111,
              "#46039f"
             ],
             [
              0.2222222222222222,
              "#7201a8"
             ],
             [
              0.3333333333333333,
              "#9c179e"
             ],
             [
              0.4444444444444444,
              "#bd3786"
             ],
             [
              0.5555555555555556,
              "#d8576b"
             ],
             [
              0.6666666666666666,
              "#ed7953"
             ],
             [
              0.7777777777777778,
              "#fb9f3a"
             ],
             [
              0.8888888888888888,
              "#fdca26"
             ],
             [
              1,
              "#f0f921"
             ]
            ],
            "type": "histogram2dcontour"
           }
          ],
          "mesh3d": [
           {
            "colorbar": {
             "outlinewidth": 0,
             "ticks": ""
            },
            "type": "mesh3d"
           }
          ],
          "parcoords": [
           {
            "line": {
             "colorbar": {
              "outlinewidth": 0,
              "ticks": ""
             }
            },
            "type": "parcoords"
           }
          ],
          "pie": [
           {
            "automargin": true,
            "type": "pie"
           }
          ],
          "scatter": [
           {
            "fillpattern": {
             "fillmode": "overlay",
             "size": 10,
             "solidity": 0.2
            },
            "type": "scatter"
           }
          ],
          "scatter3d": [
           {
            "line": {
             "colorbar": {
              "outlinewidth": 0,
              "ticks": ""
             }
            },
            "marker": {
             "colorbar": {
              "outlinewidth": 0,
              "ticks": ""
             }
            },
            "type": "scatter3d"
           }
          ],
          "scattercarpet": [
           {
            "marker": {
             "colorbar": {
              "outlinewidth": 0,
              "ticks": ""
             }
            },
            "type": "scattercarpet"
           }
          ],
          "scattergeo": [
           {
            "marker": {
             "colorbar": {
              "outlinewidth": 0,
              "ticks": ""
             }
            },
            "type": "scattergeo"
           }
          ],
          "scattergl": [
           {
            "marker": {
             "colorbar": {
              "outlinewidth": 0,
              "ticks": ""
             }
            },
            "type": "scattergl"
           }
          ],
          "scattermap": [
           {
            "marker": {
             "colorbar": {
              "outlinewidth": 0,
              "ticks": ""
             }
            },
            "type": "scattermap"
           }
          ],
          "scattermapbox": [
           {
            "marker": {
             "colorbar": {
              "outlinewidth": 0,
              "ticks": ""
             }
            },
            "type": "scattermapbox"
           }
          ],
          "scatterpolar": [
           {
            "marker": {
             "colorbar": {
              "outlinewidth": 0,
              "ticks": ""
             }
            },
            "type": "scatterpolar"
           }
          ],
          "scatterpolargl": [
           {
            "marker": {
             "colorbar": {
              "outlinewidth": 0,
              "ticks": ""
             }
            },
            "type": "scatterpolargl"
           }
          ],
          "scatterternary": [
           {
            "marker": {
             "colorbar": {
              "outlinewidth": 0,
              "ticks": ""
             }
            },
            "type": "scatterternary"
           }
          ],
          "surface": [
           {
            "colorbar": {
             "outlinewidth": 0,
             "ticks": ""
            },
            "colorscale": [
             [
              0,
              "#0d0887"
             ],
             [
              0.1111111111111111,
              "#46039f"
             ],
             [
              0.2222222222222222,
              "#7201a8"
             ],
             [
              0.3333333333333333,
              "#9c179e"
             ],
             [
              0.4444444444444444,
              "#bd3786"
             ],
             [
              0.5555555555555556,
              "#d8576b"
             ],
             [
              0.6666666666666666,
              "#ed7953"
             ],
             [
              0.7777777777777778,
              "#fb9f3a"
             ],
             [
              0.8888888888888888,
              "#fdca26"
             ],
             [
              1,
              "#f0f921"
             ]
            ],
            "type": "surface"
           }
          ],
          "table": [
           {
            "cells": {
             "fill": {
              "color": "#EBF0F8"
             },
             "line": {
              "color": "white"
             }
            },
            "header": {
             "fill": {
              "color": "#C8D4E3"
             },
             "line": {
              "color": "white"
             }
            },
            "type": "table"
           }
          ]
         },
         "layout": {
          "annotationdefaults": {
           "arrowcolor": "#2a3f5f",
           "arrowhead": 0,
           "arrowwidth": 1
          },
          "autotypenumbers": "strict",
          "coloraxis": {
           "colorbar": {
            "outlinewidth": 0,
            "ticks": ""
           }
          },
          "colorscale": {
           "diverging": [
            [
             0,
             "#8e0152"
            ],
            [
             0.1,
             "#c51b7d"
            ],
            [
             0.2,
             "#de77ae"
            ],
            [
             0.3,
             "#f1b6da"
            ],
            [
             0.4,
             "#fde0ef"
            ],
            [
             0.5,
             "#f7f7f7"
            ],
            [
             0.6,
             "#e6f5d0"
            ],
            [
             0.7,
             "#b8e186"
            ],
            [
             0.8,
             "#7fbc41"
            ],
            [
             0.9,
             "#4d9221"
            ],
            [
             1,
             "#276419"
            ]
           ],
           "sequential": [
            [
             0,
             "#0d0887"
            ],
            [
             0.1111111111111111,
             "#46039f"
            ],
            [
             0.2222222222222222,
             "#7201a8"
            ],
            [
             0.3333333333333333,
             "#9c179e"
            ],
            [
             0.4444444444444444,
             "#bd3786"
            ],
            [
             0.5555555555555556,
             "#d8576b"
            ],
            [
             0.6666666666666666,
             "#ed7953"
            ],
            [
             0.7777777777777778,
             "#fb9f3a"
            ],
            [
             0.8888888888888888,
             "#fdca26"
            ],
            [
             1,
             "#f0f921"
            ]
           ],
           "sequentialminus": [
            [
             0,
             "#0d0887"
            ],
            [
             0.1111111111111111,
             "#46039f"
            ],
            [
             0.2222222222222222,
             "#7201a8"
            ],
            [
             0.3333333333333333,
             "#9c179e"
            ],
            [
             0.4444444444444444,
             "#bd3786"
            ],
            [
             0.5555555555555556,
             "#d8576b"
            ],
            [
             0.6666666666666666,
             "#ed7953"
            ],
            [
             0.7777777777777778,
             "#fb9f3a"
            ],
            [
             0.8888888888888888,
             "#fdca26"
            ],
            [
             1,
             "#f0f921"
            ]
           ]
          },
          "colorway": [
           "#636efa",
           "#EF553B",
           "#00cc96",
           "#ab63fa",
           "#FFA15A",
           "#19d3f3",
           "#FF6692",
           "#B6E880",
           "#FF97FF",
           "#FECB52"
          ],
          "font": {
           "color": "#2a3f5f"
          },
          "geo": {
           "bgcolor": "white",
           "lakecolor": "white",
           "landcolor": "#E5ECF6",
           "showlakes": true,
           "showland": true,
           "subunitcolor": "white"
          },
          "hoverlabel": {
           "align": "left"
          },
          "hovermode": "closest",
          "mapbox": {
           "style": "light"
          },
          "paper_bgcolor": "white",
          "plot_bgcolor": "#E5ECF6",
          "polar": {
           "angularaxis": {
            "gridcolor": "white",
            "linecolor": "white",
            "ticks": ""
           },
           "bgcolor": "#E5ECF6",
           "radialaxis": {
            "gridcolor": "white",
            "linecolor": "white",
            "ticks": ""
           }
          },
          "scene": {
           "xaxis": {
            "backgroundcolor": "#E5ECF6",
            "gridcolor": "white",
            "gridwidth": 2,
            "linecolor": "white",
            "showbackground": true,
            "ticks": "",
            "zerolinecolor": "white"
           },
           "yaxis": {
            "backgroundcolor": "#E5ECF6",
            "gridcolor": "white",
            "gridwidth": 2,
            "linecolor": "white",
            "showbackground": true,
            "ticks": "",
            "zerolinecolor": "white"
           },
           "zaxis": {
            "backgroundcolor": "#E5ECF6",
            "gridcolor": "white",
            "gridwidth": 2,
            "linecolor": "white",
            "showbackground": true,
            "ticks": "",
            "zerolinecolor": "white"
           }
          },
          "shapedefaults": {
           "line": {
            "color": "#2a3f5f"
           }
          },
          "ternary": {
           "aaxis": {
            "gridcolor": "white",
            "linecolor": "white",
            "ticks": ""
           },
           "baxis": {
            "gridcolor": "white",
            "linecolor": "white",
            "ticks": ""
           },
           "bgcolor": "#E5ECF6",
           "caxis": {
            "gridcolor": "white",
            "linecolor": "white",
            "ticks": ""
           }
          },
          "title": {
           "x": 0.05
          },
          "xaxis": {
           "automargin": true,
           "gridcolor": "white",
           "linecolor": "white",
           "ticks": "",
           "title": {
            "standoff": 15
           },
           "zerolinecolor": "white",
           "zerolinewidth": 2
          },
          "yaxis": {
           "automargin": true,
           "gridcolor": "white",
           "linecolor": "white",
           "ticks": "",
           "title": {
            "standoff": 15
           },
           "zerolinecolor": "white",
           "zerolinewidth": 2
          }
         }
        },
        "title": {
         "text": "Stock price"
        },
        "width": 1200,
        "xaxis": {
         "anchor": "y",
         "domain": [
          0,
          1
         ],
         "title": {
          "text": "Date"
         }
        },
        "yaxis": {
         "anchor": "x",
         "domain": [
          0,
          1
         ],
         "title": {
          "text": "Close"
         }
        }
       }
      }
     },
     "metadata": {},
     "output_type": "display_data"
    }
   ],
   "source": [
    "plot_price_with_news(price_df, news_headlines_df).show()"
   ]
  }
 ],
 "metadata": {
  "colab": {
   "provenance": []
  },
  "kernelspec": {
   "display_name": "Python 3",
   "language": "python",
   "name": "python3"
  },
  "language_info": {
   "codemirror_mode": {
    "name": "ipython",
    "version": 3
   },
   "file_extension": ".py",
   "mimetype": "text/x-python",
   "name": "python",
   "nbconvert_exporter": "python",
   "pygments_lexer": "ipython3",
   "version": "3.10.6"
  }
 },
 "nbformat": 4,
 "nbformat_minor": 4
}
